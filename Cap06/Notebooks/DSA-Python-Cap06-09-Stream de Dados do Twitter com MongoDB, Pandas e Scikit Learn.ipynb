{
 "cells": [
  {
   "cell_type": "markdown",
   "metadata": {},
   "source": [
    "# <font color='blue'>Data Science Academy - Python Fundamentos - Capítulo 6</font>\n",
    "\n",
    "## Download: http://github.com/dsacademybr"
   ]
  },
  {
   "cell_type": "code",
   "execution_count": 1,
   "metadata": {},
   "outputs": [
    {
     "output_type": "stream",
     "name": "stdout",
     "text": [
      "Versão da Linguagem Python Usada Neste Jupyter Notebook: 3.8.5\n"
     ]
    }
   ],
   "source": [
    "# Versão da Linguagem Python\n",
    "from platform import python_version\n",
    "print('Versão da Linguagem Python Usada Neste Jupyter Notebook:', python_version())"
   ]
  },
  {
   "cell_type": "markdown",
   "metadata": {},
   "source": [
    "## Stream de Dados do Twitter com MongoDB, Pandas e Scikit Learn"
   ]
  },
  {
   "cell_type": "markdown",
   "metadata": {},
   "source": [
    "## Preparando a Conexão com o Twitter"
   ]
  },
  {
   "cell_type": "code",
   "execution_count": 2,
   "metadata": {},
   "outputs": [
    {
     "output_type": "stream",
     "name": "stdout",
     "text": [
      "Requirement already satisfied: tweepy in c:\\users\\anna.gouvea\\anaconda3\\lib\\site-packages (3.10.0)\nRequirement already satisfied: requests[socks]>=2.11.1 in c:\\users\\anna.gouvea\\anaconda3\\lib\\site-packages (from tweepy) (2.24.0)\nRequirement already satisfied: six>=1.10.0 in c:\\users\\anna.gouvea\\anaconda3\\lib\\site-packages (from tweepy) (1.15.0)\nRequirement already satisfied: requests-oauthlib>=0.7.0 in c:\\users\\anna.gouvea\\anaconda3\\lib\\site-packages (from tweepy) (1.3.0)\nRequirement already satisfied: chardet<4,>=3.0.2 in c:\\users\\anna.gouvea\\anaconda3\\lib\\site-packages (from requests[socks]>=2.11.1->tweepy) (3.0.4)\nRequirement already satisfied: idna<3,>=2.5 in c:\\users\\anna.gouvea\\anaconda3\\lib\\site-packages (from requests[socks]>=2.11.1->tweepy) (2.10)\nRequirement already satisfied: urllib3!=1.25.0,!=1.25.1,<1.26,>=1.21.1 in c:\\users\\anna.gouvea\\anaconda3\\lib\\site-packages (from requests[socks]>=2.11.1->tweepy) (1.25.11)\nRequirement already satisfied: certifi>=2017.4.17 in c:\\users\\anna.gouvea\\anaconda3\\lib\\site-packages (from requests[socks]>=2.11.1->tweepy) (2020.6.20)\nRequirement already satisfied: PySocks!=1.5.7,>=1.5.6; extra == \"socks\" in c:\\users\\anna.gouvea\\anaconda3\\lib\\site-packages (from requests[socks]>=2.11.1->tweepy) (1.7.1)\nRequirement already satisfied: oauthlib>=3.0.0 in c:\\users\\anna.gouvea\\anaconda3\\lib\\site-packages (from requests-oauthlib>=0.7.0->tweepy) (3.1.1)\n"
     ]
    }
   ],
   "source": [
    "# Instala o pacote tweepy\n",
    "!pip install tweepy"
   ]
  },
  {
   "cell_type": "code",
   "execution_count": 3,
   "metadata": {},
   "outputs": [],
   "source": [
    "# Importando os módulos Tweepy, Datetime e Json\n",
    "from tweepy.streaming import StreamListener\n",
    "from tweepy import OAuthHandler\n",
    "from tweepy import Stream\n",
    "from datetime import datetime\n",
    "import json"
   ]
  },
  {
   "cell_type": "markdown",
   "metadata": {},
   "source": [
    "Veja no manual em pdf como criar sua API no Twitter e configure as suas chaves abaixo."
   ]
  },
  {
   "cell_type": "code",
   "execution_count": 7,
   "metadata": {},
   "outputs": [
    {
     "output_type": "stream",
     "name": "stdout",
     "text": [
      "Collecting python-dotenv\n",
      "  Downloading python_dotenv-0.18.0-py2.py3-none-any.whl (18 kB)\n",
      "Installing collected packages: python-dotenv\n",
      "Successfully installed python-dotenv-0.18.0\n"
     ]
    }
   ],
   "source": [
    "!pip install python-dotenv"
   ]
  },
  {
   "cell_type": "code",
   "execution_count": 17,
   "metadata": {},
   "outputs": [],
   "source": [
    "from dotenv import dotenv_values\n",
    "\n",
    "config = dotenv_values(\".env\")  # config = {\"USER\": \"foo\", \"EMAIL\": \"foo@example.org\"}"
   ]
  },
  {
   "cell_type": "code",
   "execution_count": 4,
   "metadata": {},
   "outputs": [],
   "source": [
    "# Adicione aqui sua Consumer Key\n",
    "consumer_key = config['consumer_key']"
   ]
  },
  {
   "cell_type": "code",
   "execution_count": 5,
   "metadata": {},
   "outputs": [],
   "source": [
    "# Adicione aqui sua Consumer Secret \n",
    "consumer_secret = config['consumer_secret']"
   ]
  },
  {
   "cell_type": "code",
   "execution_count": 6,
   "metadata": {},
   "outputs": [],
   "source": [
    "# Adicione aqui seu Access Token\n",
    "access_token = config['access_token']"
   ]
  },
  {
   "cell_type": "code",
   "execution_count": 7,
   "metadata": {},
   "outputs": [],
   "source": [
    "# Adicione aqui seu Access Token Secret\n",
    "access_token_secret = config['access_token_secret']"
   ]
  },
  {
   "cell_type": "code",
   "execution_count": 8,
   "metadata": {},
   "outputs": [],
   "source": [
    "# Criando as chaves de autenticação\n",
    "auth = OAuthHandler(consumer_key, consumer_secret)"
   ]
  },
  {
   "cell_type": "code",
   "execution_count": 9,
   "metadata": {},
   "outputs": [],
   "source": [
    "auth.set_access_token(access_token, access_token_secret)"
   ]
  },
  {
   "cell_type": "code",
   "execution_count": 37,
   "metadata": {},
   "outputs": [],
   "source": [
    "# Criando uma classe para capturar os stream de dados do Twitter e \n",
    "# armazenar no MongoDB\n",
    "class MyListener(StreamListener):\n",
    "    def on_data(self, dados):\n",
    "        tweet = json.loads(dados)\n",
    "        created_at = tweet[\"created_at\"]\n",
    "        id_str = tweet[\"id_str\"]\n",
    "        text = tweet[\"text\"]\n",
    "        user = tweet[\"user\"][\"screen_name\"]\n",
    "#         print(tweet)\n",
    "#         print('-----------------------------------------------------------------------------------')\n",
    "        obj = {\"created_at\":created_at,\"id_str\":id_str,\"text\":text, \"user\":user}\n",
    "        tweetind = col.insert_one(obj).inserted_id\n",
    "        print (obj)\n",
    "        return True"
   ]
  },
  {
   "cell_type": "code",
   "execution_count": 38,
   "metadata": {},
   "outputs": [],
   "source": [
    "# Criando o objeto mylistener\n",
    "mylistener = MyListener()"
   ]
  },
  {
   "cell_type": "code",
   "execution_count": 39,
   "metadata": {},
   "outputs": [],
   "source": [
    "# Criando o objeto mystream\n",
    "mystream = Stream(auth, listener = mylistener)"
   ]
  },
  {
   "cell_type": "markdown",
   "metadata": {},
   "source": [
    "## Preparando a Conexão com o MongoDB"
   ]
  },
  {
   "cell_type": "code",
   "execution_count": 40,
   "metadata": {},
   "outputs": [],
   "source": [
    "# Importando do PyMongo o módulo MongoClient\n",
    "from pymongo import MongoClient   "
   ]
  },
  {
   "cell_type": "code",
   "execution_count": 41,
   "metadata": {},
   "outputs": [],
   "source": [
    "# Criando a conexão ao MongoDB\n",
    "client = MongoClient('localhost', 27017)"
   ]
  },
  {
   "cell_type": "code",
   "execution_count": 42,
   "metadata": {},
   "outputs": [],
   "source": [
    "# Criando o banco de dados twitterdb\n",
    "db = client.twitterdb"
   ]
  },
  {
   "cell_type": "code",
   "execution_count": 43,
   "metadata": {},
   "outputs": [],
   "source": [
    "# Criando a collection \"col\"\n",
    "col = db.tweets "
   ]
  },
  {
   "cell_type": "code",
   "execution_count": 44,
   "metadata": {},
   "outputs": [],
   "source": [
    "# Criando uma lista de palavras chave para buscar nos Tweets\n",
    "keywords = ['Big Data', 'Python', 'Data Mining', 'Data Science']"
   ]
  },
  {
   "cell_type": "markdown",
   "metadata": {},
   "source": [
    "## Coletando os Tweets"
   ]
  },
  {
   "cell_type": "code",
   "execution_count": 45,
   "metadata": {
    "scrolled": false
   },
   "outputs": [
    {
     "name": "stdout",
     "output_type": "stream",
     "text": [
      "{'created_at': 'Mon Jun 14 20:52:11 +0000 2021', 'id_str': '1404542206623506432', 'text': 'RT @Udemy_Coupons1: Economic Analysis of Sales – 2021 Oxford Diploma\\nhttps://t.co/Ri3IjQ8hvC\\n\\n#MachineLearning. #BigData #Analytics #DataSc…', 'user': 'CoderRetweet', '_id': ObjectId('60c7c181e367f723b03eb8ce')}\n",
      "{'created_at': 'Mon Jun 14 20:52:11 +0000 2021', 'id_str': '1404542207126740993', 'text': 'RT @MiriamAsensi: #HCLCompass 2.0.2 now integrates with Power Bi or #Tableau￼ 🚀💪\\n\\n#hclsofy #cloudnative #cybersecurity  #javascript #DEVCom…', 'user': 'TechieTalkiez', '_id': ObjectId('60c7c181e367f723b03eb8cf')}\n",
      "{'created_at': 'Mon Jun 14 20:52:13 +0000 2021', 'id_str': '1404542213430951949', 'text': 'RT @vishal7arya: Programming is like a “choose your adventure game” except every path leads you to a StackOverflow question from 2013 descr…', 'user': 'valadaoarthur', '_id': ObjectId('60c7c183e367f723b03eb8d0')}\n",
      "{'created_at': 'Mon Jun 14 20:52:17 +0000 2021', 'id_str': '1404542230950522881', 'text': 'RT @Onlinetu40: We deliver ;\\nessay\\nHomework\\nOnline classes\\npay someone write\\n#python\\nPhysics\\nPay essay\\nessay help\\nMaths\\nPay biology\\nNursing…', 'user': 'rosiaXbot', '_id': ObjectId('60c7c187e367f723b03eb8d1')}\n",
      "{'created_at': 'Mon Jun 14 20:52:18 +0000 2021', 'id_str': '1404542233307750402', 'text': 'hate art penis #CriticalRoleFanArt #designthinking #100DaysOfCode python #indiedevmuse moderne dont Victor Hugo éta… https://t.co/9iRTTm3qUc', 'user': 'NiPaix', '_id': ObjectId('60c7c187e367f723b03eb8d2')}\n",
      "{'created_at': 'Mon Jun 14 20:52:20 +0000 2021', 'id_str': '1404542242279366656', 'text': 'python https://t.co/Sc9NuwogYX', 'user': 'wolfiedragons', '_id': ObjectId('60c7c189e367f723b03eb8d3')}\n",
      "{'created_at': 'Mon Jun 14 20:52:22 +0000 2021', 'id_str': '1404542249283690496', 'text': 'RT @CoastData: Grimes: Artificial intelligence is the pathway to \"genuine equality\" \\n\\nhttps://t.co/uoqYSDk7xt…\\n\\n#MachineLearning #5G #DataS…', 'user': 'TechieTalkiez', '_id': ObjectId('60c7c18be367f723b03eb8d4')}\n",
      "{'created_at': 'Mon Jun 14 20:52:22 +0000 2021', 'id_str': '1404542249845673984', 'text': 'G検定の要点整理と問題集が一冊にまとまった参考書です｜https://t.co/2vbyAq7AkZ\\n#G検定 #ディープラーニング #AI #人工知能 #資格 #Python\\n2021-06-15 05:52:22.661571', 'user': '0g1iPOHDHaYBY67', '_id': ObjectId('60c7c18be367f723b03eb8d5')}\n",
      "{'created_at': 'Mon Jun 14 20:52:22 +0000 2021', 'id_str': '1404542251116683266', 'text': \"@anniemurphypaul Please less big meetings, more pairing.\\nWhile actually working together you'll also indirectly pas… https://t.co/ZyizCbBZw2\", 'user': 'steltenpower', '_id': ObjectId('60c7c18ce367f723b03eb8d6')}\n",
      "{'created_at': 'Mon Jun 14 20:52:24 +0000 2021', 'id_str': '1404542261157842944', 'text': 'RT @HarveyDear: Top 10 Skills Of #FullStack Developers\\n\\n1. HTML/CSS\\n2. #JavaScript\\n3. Git &amp; #GitHub\\n4. Backend Languages\\nRuby  #PHP\\n#Python…', 'user': 'galeotinacodes', '_id': ObjectId('60c7c18ee367f723b03eb8d7')}\n",
      "{'created_at': 'Mon Jun 14 20:52:28 +0000 2021', 'id_str': '1404542276659867651', 'text': 'hate art penis #CriticalRoleFanArt #designthinking #100DaysOfCode python #indiedevde ce meuble de bénédictin. Nous… https://t.co/hdEI4iaM2b', 'user': 'NiPaix', '_id': ObjectId('60c7c192e367f723b03eb8d8')}\n",
      "{'created_at': 'Mon Jun 14 20:52:31 +0000 2021', 'id_str': '1404542286986416131', 'text': 'why', 'user': 'Lipeunim_', '_id': ObjectId('60c7c194e367f723b03eb8d9')}\n",
      "{'created_at': 'Mon Jun 14 20:52:31 +0000 2021', 'id_str': '1404542287561072649', 'text': '🇫🇷que de la bonne🇫🇷💨\\nPour passer votre commande me contacter sur :\\n📲 Snapch : Patrick_plug20\\n#psg #paris #proverbe… https://t.co/M15TuHLckk', 'user': 'Reetweed1', '_id': ObjectId('60c7c194e367f723b03eb8da')}\n",
      "{'created_at': 'Mon Jun 14 20:52:32 +0000 2021', 'id_str': '1404542291969200128', 'text': '🇫🇷que de la bonne🇫🇷💨\\nPour passer votre commande me contacter sur :\\n📲 Snapch:Patrick_plug20\\n#psg #paris #proverbe… https://t.co/akKUl7rOqJ', 'user': 'Reetweed1', '_id': ObjectId('60c7c195e367f723b03eb8db')}\n",
      "{'created_at': 'Mon Jun 14 20:52:36 +0000 2021', 'id_str': '1404542311414042628', 'text': 'RT @Yann_LeGall: apollonian rotation and inversion. Inspired by the amazing animation from @smjtyazdi.\\n#blender #python #creativecoding #ma…', 'user': 'aiekick', '_id': ObjectId('60c7c19ae367f723b03eb8dc')}\n",
      "{'created_at': 'Mon Jun 14 20:52:38 +0000 2021', 'id_str': '1404542319970430981', 'text': 'hate art penis #CriticalRoleFanArt #designthinking #100DaysOfCode python #indiedevcolimaçon, le couloir qui circule… https://t.co/DXEpaiYbCw', 'user': 'NiPaix', '_id': ObjectId('60c7c19ce367f723b03eb8dd')}\n",
      "{'created_at': 'Mon Jun 14 20:52:39 +0000 2021', 'id_str': '1404542320704471041', 'text': 'RT @Reetweed1: 🇫🇷que de la bonne🇫🇷💨\\nPour passer votre commande me contacter sur :\\n📲 Snapch:Patrick_plug20\\n#psg #paris #proverbe #saintdenis…', 'user': 'RobOttoBots', '_id': ObjectId('60c7c19ce367f723b03eb8de')}\n",
      "{'created_at': 'Mon Jun 14 20:52:41 +0000 2021', 'id_str': '1404542329093042176', 'text': \"RT @freeCodeCamp: Bioinformatics develops software tools to help you understand complex sets of biological data.\\n\\nAnd it's a great way to u…\", 'user': 'Datascience__', '_id': ObjectId('60c7c19ee367f723b03eb8df')}\n",
      "{'created_at': 'Mon Jun 14 20:52:41 +0000 2021', 'id_str': '1404542331253137415', 'text': 'RT @healthinovatio1: Preparing #Hospitals for the Next #Pandemic\\nhttps://t.co/k2LgOvrcPs… #COVID19 #coronavirus #healthcare #HealthTech #Di…', 'user': 'sprint_code', '_id': ObjectId('60c7c19fe367f723b03eb8e0')}\n",
      "{'created_at': 'Mon Jun 14 20:52:42 +0000 2021', 'id_str': '1404542334851764230', 'text': '@FaztTech Con Python porque es fácil y si le entiende le va a gustar', 'user': 'marquitobb96', '_id': ObjectId('60c7c1a0e367f723b03eb8e1')}\n",
      "{'created_at': 'Mon Jun 14 20:52:46 +0000 2021', 'id_str': '1404542351045971974', 'text': 'RT @corizance: Cybersecurity #MachineLearning #cybersecurity #deeplearning #learning via https://t.co/zeb5hNqb8q https://t.co/08YKXYbO7m', 'user': 'grep_these_nutz', '_id': ObjectId('60c7c1a3e367f723b03eb8e2')}\n",
      "{'created_at': 'Mon Jun 14 20:52:46 +0000 2021', 'id_str': '1404542351935164417', 'text': 'Imre Adds Porter Novelli’s Data Science Pro - Sharma, who has more than 22 y https://t.co/ZweJS0pxu8 #datascience #intoAInews', 'user': 'into_AI', '_id': ObjectId('60c7c1a3e367f723b03eb8e3')}\n",
      "{'created_at': 'Mon Jun 14 20:52:47 +0000 2021', 'id_str': '1404542354825138183', 'text': 'RT @RegnerMJ: Interested in genomic data science, gene regulation and/or epigenetics in human breast cancer? We are looking for a creative…', 'user': 'ThennavanAatish', '_id': ObjectId('60c7c1a4e367f723b03eb8e4')}\n",
      "{'created_at': 'Mon Jun 14 20:52:49 +0000 2021', 'id_str': '1404542363175903234', 'text': 'hate art penis #CriticalRoleFanArt #designthinking #100DaysOfCode python #indiedevet fixée en vers magnifiques, et… https://t.co/7859SP6d3v', 'user': 'NiPaix', '_id': ObjectId('60c7c1a6e367f723b03eb8e5')}\n",
      "{'created_at': 'Mon Jun 14 20:52:49 +0000 2021', 'id_str': '1404542365851963397', 'text': 'RT @nzekiev: Before, I always want to see things via the detribalised Nigerian way until I came to Twitter &amp; see people justifying python d…', 'user': 'Bishy357', '_id': ObjectId('60c7c1a7e367f723b03eb8e6')}\n",
      "{'created_at': 'Mon Jun 14 20:52:49 +0000 2021', 'id_str': '1404542365767962634', 'text': '@supermarioelia @ASPphysician @zchagla @supermarioelia I can’t speak for anyone but me &amp; the science briefs I (co)a… https://t.co/8yXAykBO2Q', 'user': 'MPaiMD', '_id': ObjectId('60c7c1a7e367f723b03eb8e7')}\n",
      "{'created_at': 'Mon Jun 14 20:52:51 +0000 2021', 'id_str': '1404542373879767051', 'text': 'What is Python and What Can You Do with It? - The world of computer and data https://t.co/cg7jd2DzFH #datascience #intoAInews', 'user': 'into_AI', '_id': ObjectId('60c7c1a9e367f723b03eb8e8')}\n",
      "{'created_at': 'Mon Jun 14 20:52:52 +0000 2021', 'id_str': '1404542378774499328', 'text': 'RT @BotPoetsSociety: Take a break and listen to this #poem created with Machine Learning.\\n#takeabreak #machinelearning #datascience #bigdat…', 'user': 'BotPoetsSociety', '_id': ObjectId('60c7c1aae367f723b03eb8e9')}\n",
      "{'created_at': 'Mon Jun 14 20:52:53 +0000 2021', 'id_str': '1404542381136003075', 'text': 'RT @WajdiAlkayal: Selecting Security And Privacy \\n#CyberSecurity\\n#MachineLearning. #BigData #Analytics #DataScience #AI #IoT #IIoT #Python…', 'user': 'AlkayalWajdi', '_id': ObjectId('60c7c1aae367f723b03eb8ea')}\n"
     ]
    },
    {
     "name": "stdout",
     "output_type": "stream",
     "text": [
      "{'created_at': 'Mon Jun 14 20:52:53 +0000 2021', 'id_str': '1404542382498934785', 'text': \"RT @freeCodeCamp: Bioinformatics develops software tools to help you understand complex sets of biological data.\\n\\nAnd it's a great way to u…\", 'user': 'samadovaabditch', '_id': ObjectId('60c7c1abe367f723b03eb8eb')}\n",
      "{'created_at': 'Mon Jun 14 20:52:55 +0000 2021', 'id_str': '1404542391613333513', 'text': 'Top 5 things you need to know about data science - Tom Merritt breaks down a rece https://t.co/ub41gp89Ez #datascience #intoAInews', 'user': 'into_AI', '_id': ObjectId('60c7c1ade367f723b03eb8ec')}\n",
      "{'created_at': 'Mon Jun 14 20:52:56 +0000 2021', 'id_str': '1404542393593077761', 'text': 'RT @StephenAfamO: The last generation was obsessed with their children studying medicine, engineering, law and other \"professional courses\"…', 'user': '_Praiise', '_id': ObjectId('60c7c1ade367f723b03eb8ed')}\n",
      "{'created_at': 'Mon Jun 14 20:52:57 +0000 2021', 'id_str': '1404542396549898242', 'text': 'Day 6\\non polymorphism with classes and inheritance.\\n#100DaysOfCodes\\n#python https://t.co/wSj5G75e6S', 'user': '_Heptacode', '_id': ObjectId('60c7c1aee367f723b03eb8ee')}\n",
      "{'created_at': 'Mon Jun 14 20:52:58 +0000 2021', 'id_str': '1404542402279395334', 'text': 'RT @BotPoetsSociety: Take a break and listen to this #poem created with Machine Learning.\\n#takeabreak #machinelearning #datascience #bigdat…', 'user': 'hubofml', '_id': ObjectId('60c7c1afe367f723b03eb8ef')}\n",
      "{'created_at': 'Mon Jun 14 20:52:59 +0000 2021', 'id_str': '1404542405580406787', 'text': 'My prediction of big movers of the week.\\n$data\\n$ata\\n$dock.', 'user': 'chadmoneyman1', '_id': ObjectId('60c7c1b0e367f723b03eb8f0')}\n",
      "{'created_at': 'Mon Jun 14 20:52:59 +0000 2021', 'id_str': '1404542406436007936', 'text': 'hate art penis #CriticalRoleFanArt #designthinking #100DaysOfCode python #indiedevne gâte rien; les Anglais et les… https://t.co/fZpj3bz7BA', 'user': 'NiPaix', '_id': ObjectId('60c7c1b0e367f723b03eb8f1')}\n",
      "{'created_at': 'Mon Jun 14 20:53:02 +0000 2021', 'id_str': '1404542417014038530', 'text': 'https://t.co/agcwuhgOhc \\nWe must continue to wash our hands\\n#StayHome #Covid19 #Vaccine #Covid #StayHomeStaySafe… https://t.co/ShWbDwmjTd', 'user': 'jolasmanblog', '_id': ObjectId('60c7c1b3e367f723b03eb8f2')}\n",
      "{'created_at': 'Mon Jun 14 20:53:03 +0000 2021', 'id_str': '1404542422021980161', 'text': 'RT @Taymietopee: Knowing you have money for your next data is a big flex.', 'user': 'AfamBuAgene', '_id': ObjectId('60c7c1b4e367f723b03eb8f3')}\n",
      "{'created_at': 'Mon Jun 14 20:53:03 +0000 2021', 'id_str': '1404542423834009601', 'text': 'RT @HarveyDear: Top 10 Skills Of #FullStack Developers\\n\\n1. HTML/CSS\\n2. #JavaScript\\n3. Git &amp; #GitHub\\n4. Backend Languages\\nRuby  #PHP\\n#Python…', 'user': 'BotRaj1', '_id': ObjectId('60c7c1b5e367f723b03eb8f4')}\n",
      "{'created_at': 'Mon Jun 14 20:53:04 +0000 2021', 'id_str': '1404542426249891847', 'text': 'RT @WajdiAlkayal: Selecting Security And Privacy \\n#CyberSecurity\\n#MachineLearning. #BigData #Analytics #DataScience #AI #IoT #IIoT #Python…', 'user': 'BotFemale', '_id': ObjectId('60c7c1b5e367f723b03eb8f5')}\n",
      "{'created_at': 'Mon Jun 14 20:53:04 +0000 2021', 'id_str': '1404542428581818368', 'text': 'RT @TokiwaKrotzg: 某大手企業のプログラマー「これから皆さんがマスターしておくべき言語ってなんだと思いますか？Java！C#！C++！Python！HTML！ハッハッハ惜しいですね～正解は日本語です！」\\n\\n中学オレ「フッｗジョークだろ」\\n\\n今専門オレ「あれマジだ…', 'user': 'inkya_koukousei', '_id': ObjectId('60c7c1b6e367f723b03eb8f6')}\n",
      "{'created_at': 'Mon Jun 14 20:53:05 +0000 2021', 'id_str': '1404542431358504971', 'text': 'Let us do your assignments for;\\nPsychology\\nJavaScript\\nPython\\nLiterature\\nDiscussion\\nAccounting\\nEconomics\\nAlgebra\\nSum… https://t.co/WOHIKUncI2', 'user': 'Online_Klas', '_id': ObjectId('60c7c1b6e367f723b03eb8f7')}\n",
      "{'created_at': 'Mon Jun 14 20:53:05 +0000 2021', 'id_str': '1404542432910495747', 'text': 'RT @BotPoetsSociety: Take a break and listen to this #poem created with Machine Learning.\\n#takeabreak #machinelearning #datascience #bigdat…', 'user': 'BlkHwk0ps', '_id': ObjectId('60c7c1b7e367f723b03eb8f8')}\n",
      "{'created_at': 'Mon Jun 14 20:53:06 +0000 2021', 'id_str': '1404542435787624449', 'text': 'RT @TokiwaKrotzg: 某大手企業のプログラマー「これから皆さんがマスターしておくべき言語ってなんだと思いますか？Java！C#！C++！Python！HTML！ハッハッハ惜しいですね～正解は日本語です！」\\n\\n中学オレ「フッｗジョークだろ」\\n\\n今専門オレ「あれマジだ…', 'user': 'h34u8gi87PLgVhd', '_id': ObjectId('60c7c1b7e367f723b03eb8f9')}\n",
      "{'created_at': 'Mon Jun 14 20:53:06 +0000 2021', 'id_str': '1404542436517597187', 'text': 'Is automation of data science tasks the future?\\nhttps://t.co/SpYdSxFz07\\n\\n#automation #DataScience #data… https://t.co/EWI87GaMkz', 'user': 'Uniphi_it', '_id': ObjectId('60c7c1b8e367f723b03eb8fa')}\n",
      "{'created_at': 'Mon Jun 14 20:53:07 +0000 2021', 'id_str': '1404542438123974670', 'text': 'RT @process_x: \"...modifications to...HIPAA would invade your most personal and intimate health data...Individually, the changes are troubl…', 'user': 'process_x', '_id': ObjectId('60c7c1b8e367f723b03eb8fb')}\n",
      "{'created_at': 'Mon Jun 14 20:53:09 +0000 2021', 'id_str': '1404542446583812096', 'text': 'big data https://t.co/db1scpMadJ', 'user': 'wolfiedragons', '_id': ObjectId('60c7c1bae367f723b03eb8fc')}\n",
      "{'created_at': 'Mon Jun 14 20:53:09 +0000 2021', 'id_str': '1404542449641480195', 'text': 'hate art penis #CriticalRoleFanArt #designthinking #100DaysOfCode python #indiedevla décrépitude, les crinières aux… https://t.co/6XoW1x03va', 'user': 'NiPaix', '_id': ObjectId('60c7c1bbe367f723b03eb8fd')}\n",
      "{'created_at': 'Mon Jun 14 20:53:10 +0000 2021', 'id_str': '1404542450576723969', 'text': 'RT @dataworkout: Achieving Real-World Success with AI https://t.co/hei8iLRf4G… \\n\\n#AI #MachineLearning #DeepLearning #DataScience #IoT #flut…', 'user': 'cybersec_feeds', '_id': ObjectId('60c7c1bbe367f723b03eb8fe')}\n",
      "{'created_at': 'Mon Jun 14 20:53:10 +0000 2021', 'id_str': '1404542450807545856', 'text': '@zerohedge when ww3 few-weeks to dump #Bitcoin?\\n\\n❤️ #moonday #crypto #doge #football #nftartists #NFTs #bitcoin… https://t.co/Y8jNwEBBjf', 'user': 'moadhadak', '_id': ObjectId('60c7c1bbe367f723b03eb8ff')}\n",
      "{'created_at': 'Mon Jun 14 20:53:13 +0000 2021', 'id_str': '1404542463327543296', 'text': 'RT @Udemy_Coupons1: Professional Adobe Photoshop CC Course With Advance Training https://t.co/ZqJfEuCdWO\\n\\n#MachineLearning. #BigData #Analy…', 'user': 'CoderRetweet', '_id': ObjectId('60c7c1bee367f723b03eb900')}\n",
      "{'created_at': 'Mon Jun 14 20:53:13 +0000 2021', 'id_str': '1404542465349144580', 'text': '@BadAstronomer #science. the corrupted kind where data can be manipulated at will to form whatever reality it wants… https://t.co/42SksPexFY', 'user': 'KhephriThoth', '_id': ObjectId('60c7c1bfe367f723b03eb901')}\n",
      "{'created_at': 'Mon Jun 14 20:53:14 +0000 2021', 'id_str': '1404542467744092161', 'text': 'RT @_Heptacode: Day 6\\non polymorphism with classes and inheritance.\\n#100DaysOfCodes\\n#python https://t.co/wSj5G75e6S', 'user': 'Lovescience15', '_id': ObjectId('60c7c1bfe367f723b03eb902')}\n",
      "{'created_at': 'Mon Jun 14 20:53:14 +0000 2021', 'id_str': '1404542470587764737', 'text': 'Esta capa de #software no suele estar accesible para el usuario final, mejorando la seguridad de los sistemas de so… https://t.co/qhva3VktNY', 'user': 'ZendhaDev', '_id': ObjectId('60c7c1c0e367f723b03eb903')}\n",
      "{'created_at': 'Mon Jun 14 20:53:15 +0000 2021', 'id_str': '1404542472676691968', 'text': 'RT @dataworkout: Achieving Real-World Success with AI https://t.co/hei8iLRf4G… \\n\\n#AI #MachineLearning #DeepLearning #DataScience #IoT #flut…', 'user': 'fluttbot', '_id': ObjectId('60c7c1c0e367f723b03eb904')}\n",
      "{'created_at': 'Mon Jun 14 20:53:15 +0000 2021', 'id_str': '1404542473700003843', 'text': 'Analyze Box Office Data with Seaborn and Python #AugmentedReality via https://t.co/pwflzXGpiN https://t.co/HwtEBS7unI', 'user': 'jobinindia', '_id': ObjectId('60c7c1c1e367f723b03eb905')}\n",
      "{'created_at': 'Mon Jun 14 20:53:15 +0000 2021', 'id_str': '1404542474312466432', 'text': 'RT @dataworkout: Achieving Real-World Success with AI https://t.co/hei8iLRf4G… \\n\\n#AI #MachineLearning #DeepLearning #DataScience #IoT #flut…', 'user': 'hubofml', '_id': ObjectId('60c7c1c1e367f723b03eb906')}\n",
      "{'created_at': 'Mon Jun 14 20:53:18 +0000 2021', 'id_str': '1404542487201517570', 'text': 'RT @AsociacionEULAC: 🗝️  || A propósito de nuestro evento de #CienciaAbierta te presentamos 3 títulos sobre el #accesoabierto.\\n\\n📖 Edición a…', 'user': 'REUDEcuador', '_id': ObjectId('60c7c1c4e367f723b03eb907')}\n"
     ]
    },
    {
     "name": "stdout",
     "output_type": "stream",
     "text": [
      "{'created_at': 'Mon Jun 14 20:53:19 +0000 2021', 'id_str': '1404542489319645189', 'text': 'Summer classes\\nEssay due\\nBusiness\\nBiology\\nGeography\\nCase Study\\nPolitical science\\nWrite pay\\nMarketing\\nHomework\\nAlgeb… https://t.co/3pigjdm7Ki', 'user': 'HelpAmazone', '_id': ObjectId('60c7c1c4e367f723b03eb908')}\n",
      "{'created_at': 'Mon Jun 14 20:53:20 +0000 2021', 'id_str': '1404542492867956739', 'text': 'hate art penis #CriticalRoleFanArt #designthinking #100DaysOfCode python #indiedevsont jeunes, jolies et gracieuses… https://t.co/GzaBzhx5QT', 'user': 'NiPaix', '_id': ObjectId('60c7c1c5e367f723b03eb909')}\n",
      "{'created_at': 'Mon Jun 14 20:53:20 +0000 2021', 'id_str': '1404542494503694340', 'text': '#wpp #greenenergy #wppenergy \\nWPP is a very unique concept with positive idea a project aims to provide a centraliz… https://t.co/Dy43jN8rSS', 'user': 'Nick2khan', '_id': ObjectId('60c7c1c5e367f723b03eb90a')}\n",
      "{'created_at': 'Mon Jun 14 20:53:21 +0000 2021', 'id_str': '1404542500040216576', 'text': 'two days ago i was just working a shift and i was having a convo with a coworker and we were going on a about what… https://t.co/4RfihhV22y', 'user': 'Chromakaze', '_id': ObjectId('60c7c1c7e367f723b03eb90b')}\n"
     ]
    },
    {
     "ename": "KeyboardInterrupt",
     "evalue": "",
     "output_type": "error",
     "traceback": [
      "\u001b[1;31m---------------------------------------------------------------------------\u001b[0m",
      "\u001b[1;31mKeyboardInterrupt\u001b[0m                         Traceback (most recent call last)",
      "\u001b[1;32m<ipython-input-45-6a9070444200>\u001b[0m in \u001b[0;36m<module>\u001b[1;34m\u001b[0m\n\u001b[0;32m      1\u001b[0m \u001b[1;31m# Iniciando o filtro e gravando os tweets no MongoDB\u001b[0m\u001b[1;33m\u001b[0m\u001b[1;33m\u001b[0m\u001b[1;33m\u001b[0m\u001b[0m\n\u001b[1;32m----> 2\u001b[1;33m \u001b[0mmystream\u001b[0m\u001b[1;33m.\u001b[0m\u001b[0mfilter\u001b[0m\u001b[1;33m(\u001b[0m\u001b[0mtrack\u001b[0m\u001b[1;33m=\u001b[0m\u001b[0mkeywords\u001b[0m\u001b[1;33m)\u001b[0m\u001b[1;33m\u001b[0m\u001b[1;33m\u001b[0m\u001b[0m\n\u001b[0m",
      "\u001b[1;32m~\\Anaconda3\\lib\\site-packages\\tweepy\\streaming.py\u001b[0m in \u001b[0;36mfilter\u001b[1;34m(self, follow, track, is_async, locations, stall_warnings, languages, encoding, filter_level)\u001b[0m\n\u001b[0;32m    472\u001b[0m             \u001b[0mself\u001b[0m\u001b[1;33m.\u001b[0m\u001b[0mbody\u001b[0m\u001b[1;33m[\u001b[0m\u001b[1;34m'filter_level'\u001b[0m\u001b[1;33m]\u001b[0m \u001b[1;33m=\u001b[0m \u001b[0mfilter_level\u001b[0m\u001b[1;33m.\u001b[0m\u001b[0mencode\u001b[0m\u001b[1;33m(\u001b[0m\u001b[0mencoding\u001b[0m\u001b[1;33m)\u001b[0m\u001b[1;33m\u001b[0m\u001b[1;33m\u001b[0m\u001b[0m\n\u001b[0;32m    473\u001b[0m         \u001b[0mself\u001b[0m\u001b[1;33m.\u001b[0m\u001b[0msession\u001b[0m\u001b[1;33m.\u001b[0m\u001b[0mparams\u001b[0m \u001b[1;33m=\u001b[0m \u001b[1;33m{\u001b[0m\u001b[1;34m'delimited'\u001b[0m\u001b[1;33m:\u001b[0m \u001b[1;34m'length'\u001b[0m\u001b[1;33m}\u001b[0m\u001b[1;33m\u001b[0m\u001b[1;33m\u001b[0m\u001b[0m\n\u001b[1;32m--> 474\u001b[1;33m         \u001b[0mself\u001b[0m\u001b[1;33m.\u001b[0m\u001b[0m_start\u001b[0m\u001b[1;33m(\u001b[0m\u001b[0mis_async\u001b[0m\u001b[1;33m)\u001b[0m\u001b[1;33m\u001b[0m\u001b[1;33m\u001b[0m\u001b[0m\n\u001b[0m\u001b[0;32m    475\u001b[0m \u001b[1;33m\u001b[0m\u001b[0m\n\u001b[0;32m    476\u001b[0m     def sitestream(self, follow, stall_warnings=False,\n",
      "\u001b[1;32m~\\Anaconda3\\lib\\site-packages\\tweepy\\streaming.py\u001b[0m in \u001b[0;36m_start\u001b[1;34m(self, is_async)\u001b[0m\n\u001b[0;32m    387\u001b[0m             \u001b[0mself\u001b[0m\u001b[1;33m.\u001b[0m\u001b[0m_thread\u001b[0m\u001b[1;33m.\u001b[0m\u001b[0mstart\u001b[0m\u001b[1;33m(\u001b[0m\u001b[1;33m)\u001b[0m\u001b[1;33m\u001b[0m\u001b[1;33m\u001b[0m\u001b[0m\n\u001b[0;32m    388\u001b[0m         \u001b[1;32melse\u001b[0m\u001b[1;33m:\u001b[0m\u001b[1;33m\u001b[0m\u001b[1;33m\u001b[0m\u001b[0m\n\u001b[1;32m--> 389\u001b[1;33m             \u001b[0mself\u001b[0m\u001b[1;33m.\u001b[0m\u001b[0m_run\u001b[0m\u001b[1;33m(\u001b[0m\u001b[1;33m)\u001b[0m\u001b[1;33m\u001b[0m\u001b[1;33m\u001b[0m\u001b[0m\n\u001b[0m\u001b[0;32m    390\u001b[0m \u001b[1;33m\u001b[0m\u001b[0m\n\u001b[0;32m    391\u001b[0m     \u001b[1;32mdef\u001b[0m \u001b[0mon_closed\u001b[0m\u001b[1;33m(\u001b[0m\u001b[0mself\u001b[0m\u001b[1;33m,\u001b[0m \u001b[0mresp\u001b[0m\u001b[1;33m)\u001b[0m\u001b[1;33m:\u001b[0m\u001b[1;33m\u001b[0m\u001b[1;33m\u001b[0m\u001b[0m\n",
      "\u001b[1;32m~\\Anaconda3\\lib\\site-packages\\tweepy\\streaming.py\u001b[0m in \u001b[0;36m_run\u001b[1;34m(self)\u001b[0m\n\u001b[0;32m    287\u001b[0m                     \u001b[0mself\u001b[0m\u001b[1;33m.\u001b[0m\u001b[0msnooze_time\u001b[0m \u001b[1;33m=\u001b[0m \u001b[0mself\u001b[0m\u001b[1;33m.\u001b[0m\u001b[0msnooze_time_step\u001b[0m\u001b[1;33m\u001b[0m\u001b[1;33m\u001b[0m\u001b[0m\n\u001b[0;32m    288\u001b[0m                     \u001b[0mself\u001b[0m\u001b[1;33m.\u001b[0m\u001b[0mlistener\u001b[0m\u001b[1;33m.\u001b[0m\u001b[0mon_connect\u001b[0m\u001b[1;33m(\u001b[0m\u001b[1;33m)\u001b[0m\u001b[1;33m\u001b[0m\u001b[1;33m\u001b[0m\u001b[0m\n\u001b[1;32m--> 289\u001b[1;33m                     \u001b[0mself\u001b[0m\u001b[1;33m.\u001b[0m\u001b[0m_read_loop\u001b[0m\u001b[1;33m(\u001b[0m\u001b[0mresp\u001b[0m\u001b[1;33m)\u001b[0m\u001b[1;33m\u001b[0m\u001b[1;33m\u001b[0m\u001b[0m\n\u001b[0m\u001b[0;32m    290\u001b[0m             \u001b[1;32mexcept\u001b[0m \u001b[1;33m(\u001b[0m\u001b[0mTimeout\u001b[0m\u001b[1;33m,\u001b[0m \u001b[0mssl\u001b[0m\u001b[1;33m.\u001b[0m\u001b[0mSSLError\u001b[0m\u001b[1;33m)\u001b[0m \u001b[1;32mas\u001b[0m \u001b[0mexc\u001b[0m\u001b[1;33m:\u001b[0m\u001b[1;33m\u001b[0m\u001b[1;33m\u001b[0m\u001b[0m\n\u001b[0;32m    291\u001b[0m                 \u001b[1;31m# This is still necessary, as a SSLError can actually be\u001b[0m\u001b[1;33m\u001b[0m\u001b[1;33m\u001b[0m\u001b[1;33m\u001b[0m\u001b[0m\n",
      "\u001b[1;32m~\\Anaconda3\\lib\\site-packages\\tweepy\\streaming.py\u001b[0m in \u001b[0;36m_read_loop\u001b[1;34m(self, resp)\u001b[0m\n\u001b[0;32m    337\u001b[0m             \u001b[0mlength\u001b[0m \u001b[1;33m=\u001b[0m \u001b[1;36m0\u001b[0m\u001b[1;33m\u001b[0m\u001b[1;33m\u001b[0m\u001b[0m\n\u001b[0;32m    338\u001b[0m             \u001b[1;32mwhile\u001b[0m \u001b[1;32mnot\u001b[0m \u001b[0mresp\u001b[0m\u001b[1;33m.\u001b[0m\u001b[0mraw\u001b[0m\u001b[1;33m.\u001b[0m\u001b[0mclosed\u001b[0m\u001b[1;33m:\u001b[0m\u001b[1;33m\u001b[0m\u001b[1;33m\u001b[0m\u001b[0m\n\u001b[1;32m--> 339\u001b[1;33m                 \u001b[0mline\u001b[0m \u001b[1;33m=\u001b[0m \u001b[0mbuf\u001b[0m\u001b[1;33m.\u001b[0m\u001b[0mread_line\u001b[0m\u001b[1;33m(\u001b[0m\u001b[1;33m)\u001b[0m\u001b[1;33m\u001b[0m\u001b[1;33m\u001b[0m\u001b[0m\n\u001b[0m\u001b[0;32m    340\u001b[0m                 \u001b[0mstripped_line\u001b[0m \u001b[1;33m=\u001b[0m \u001b[0mline\u001b[0m\u001b[1;33m.\u001b[0m\u001b[0mstrip\u001b[0m\u001b[1;33m(\u001b[0m\u001b[1;33m)\u001b[0m \u001b[1;32mif\u001b[0m \u001b[0mline\u001b[0m \u001b[1;32melse\u001b[0m \u001b[0mline\u001b[0m \u001b[1;31m# line is sometimes None so we need to check here\u001b[0m\u001b[1;33m\u001b[0m\u001b[1;33m\u001b[0m\u001b[0m\n\u001b[0;32m    341\u001b[0m                 \u001b[1;32mif\u001b[0m \u001b[1;32mnot\u001b[0m \u001b[0mstripped_line\u001b[0m\u001b[1;33m:\u001b[0m\u001b[1;33m\u001b[0m\u001b[1;33m\u001b[0m\u001b[0m\n",
      "\u001b[1;32m~\\Anaconda3\\lib\\site-packages\\tweepy\\streaming.py\u001b[0m in \u001b[0;36mread_line\u001b[1;34m(self, sep)\u001b[0m\n\u001b[0;32m    198\u001b[0m             \u001b[1;32melse\u001b[0m\u001b[1;33m:\u001b[0m\u001b[1;33m\u001b[0m\u001b[1;33m\u001b[0m\u001b[0m\n\u001b[0;32m    199\u001b[0m                 \u001b[0mstart\u001b[0m \u001b[1;33m=\u001b[0m \u001b[0mlen\u001b[0m\u001b[1;33m(\u001b[0m\u001b[0mself\u001b[0m\u001b[1;33m.\u001b[0m\u001b[0m_buffer\u001b[0m\u001b[1;33m)\u001b[0m\u001b[1;33m\u001b[0m\u001b[1;33m\u001b[0m\u001b[0m\n\u001b[1;32m--> 200\u001b[1;33m             \u001b[0mself\u001b[0m\u001b[1;33m.\u001b[0m\u001b[0m_buffer\u001b[0m \u001b[1;33m+=\u001b[0m \u001b[0mself\u001b[0m\u001b[1;33m.\u001b[0m\u001b[0m_stream\u001b[0m\u001b[1;33m.\u001b[0m\u001b[0mread\u001b[0m\u001b[1;33m(\u001b[0m\u001b[0mself\u001b[0m\u001b[1;33m.\u001b[0m\u001b[0m_chunk_size\u001b[0m\u001b[1;33m)\u001b[0m\u001b[1;33m\u001b[0m\u001b[1;33m\u001b[0m\u001b[0m\n\u001b[0m\u001b[0;32m    201\u001b[0m         \u001b[1;32mreturn\u001b[0m \u001b[0msix\u001b[0m\u001b[1;33m.\u001b[0m\u001b[0mb\u001b[0m\u001b[1;33m(\u001b[0m\u001b[1;34m''\u001b[0m\u001b[1;33m)\u001b[0m\u001b[1;33m\u001b[0m\u001b[1;33m\u001b[0m\u001b[0m\n\u001b[0;32m    202\u001b[0m \u001b[1;33m\u001b[0m\u001b[0m\n",
      "\u001b[1;32m~\\Anaconda3\\lib\\site-packages\\urllib3\\response.py\u001b[0m in \u001b[0;36mread\u001b[1;34m(self, amt, decode_content, cache_content)\u001b[0m\n\u001b[0;32m    516\u001b[0m             \u001b[1;32melse\u001b[0m\u001b[1;33m:\u001b[0m\u001b[1;33m\u001b[0m\u001b[1;33m\u001b[0m\u001b[0m\n\u001b[0;32m    517\u001b[0m                 \u001b[0mcache_content\u001b[0m \u001b[1;33m=\u001b[0m \u001b[1;32mFalse\u001b[0m\u001b[1;33m\u001b[0m\u001b[1;33m\u001b[0m\u001b[0m\n\u001b[1;32m--> 518\u001b[1;33m                 \u001b[0mdata\u001b[0m \u001b[1;33m=\u001b[0m \u001b[0mself\u001b[0m\u001b[1;33m.\u001b[0m\u001b[0m_fp\u001b[0m\u001b[1;33m.\u001b[0m\u001b[0mread\u001b[0m\u001b[1;33m(\u001b[0m\u001b[0mamt\u001b[0m\u001b[1;33m)\u001b[0m \u001b[1;32mif\u001b[0m \u001b[1;32mnot\u001b[0m \u001b[0mfp_closed\u001b[0m \u001b[1;32melse\u001b[0m \u001b[1;34mb\"\"\u001b[0m\u001b[1;33m\u001b[0m\u001b[1;33m\u001b[0m\u001b[0m\n\u001b[0m\u001b[0;32m    519\u001b[0m                 if (\n\u001b[0;32m    520\u001b[0m                     \u001b[0mamt\u001b[0m \u001b[1;33m!=\u001b[0m \u001b[1;36m0\u001b[0m \u001b[1;32mand\u001b[0m \u001b[1;32mnot\u001b[0m \u001b[0mdata\u001b[0m\u001b[1;33m\u001b[0m\u001b[1;33m\u001b[0m\u001b[0m\n",
      "\u001b[1;32m~\\Anaconda3\\lib\\http\\client.py\u001b[0m in \u001b[0;36mread\u001b[1;34m(self, amt)\u001b[0m\n\u001b[0;32m    456\u001b[0m             \u001b[1;31m# Amount is given, implement using readinto\u001b[0m\u001b[1;33m\u001b[0m\u001b[1;33m\u001b[0m\u001b[1;33m\u001b[0m\u001b[0m\n\u001b[0;32m    457\u001b[0m             \u001b[0mb\u001b[0m \u001b[1;33m=\u001b[0m \u001b[0mbytearray\u001b[0m\u001b[1;33m(\u001b[0m\u001b[0mamt\u001b[0m\u001b[1;33m)\u001b[0m\u001b[1;33m\u001b[0m\u001b[1;33m\u001b[0m\u001b[0m\n\u001b[1;32m--> 458\u001b[1;33m             \u001b[0mn\u001b[0m \u001b[1;33m=\u001b[0m \u001b[0mself\u001b[0m\u001b[1;33m.\u001b[0m\u001b[0mreadinto\u001b[0m\u001b[1;33m(\u001b[0m\u001b[0mb\u001b[0m\u001b[1;33m)\u001b[0m\u001b[1;33m\u001b[0m\u001b[1;33m\u001b[0m\u001b[0m\n\u001b[0m\u001b[0;32m    459\u001b[0m             \u001b[1;32mreturn\u001b[0m \u001b[0mmemoryview\u001b[0m\u001b[1;33m(\u001b[0m\u001b[0mb\u001b[0m\u001b[1;33m)\u001b[0m\u001b[1;33m[\u001b[0m\u001b[1;33m:\u001b[0m\u001b[0mn\u001b[0m\u001b[1;33m]\u001b[0m\u001b[1;33m.\u001b[0m\u001b[0mtobytes\u001b[0m\u001b[1;33m(\u001b[0m\u001b[1;33m)\u001b[0m\u001b[1;33m\u001b[0m\u001b[1;33m\u001b[0m\u001b[0m\n\u001b[0;32m    460\u001b[0m         \u001b[1;32melse\u001b[0m\u001b[1;33m:\u001b[0m\u001b[1;33m\u001b[0m\u001b[1;33m\u001b[0m\u001b[0m\n",
      "\u001b[1;32m~\\Anaconda3\\lib\\http\\client.py\u001b[0m in \u001b[0;36mreadinto\u001b[1;34m(self, b)\u001b[0m\n\u001b[0;32m    490\u001b[0m \u001b[1;33m\u001b[0m\u001b[0m\n\u001b[0;32m    491\u001b[0m         \u001b[1;32mif\u001b[0m \u001b[0mself\u001b[0m\u001b[1;33m.\u001b[0m\u001b[0mchunked\u001b[0m\u001b[1;33m:\u001b[0m\u001b[1;33m\u001b[0m\u001b[1;33m\u001b[0m\u001b[0m\n\u001b[1;32m--> 492\u001b[1;33m             \u001b[1;32mreturn\u001b[0m \u001b[0mself\u001b[0m\u001b[1;33m.\u001b[0m\u001b[0m_readinto_chunked\u001b[0m\u001b[1;33m(\u001b[0m\u001b[0mb\u001b[0m\u001b[1;33m)\u001b[0m\u001b[1;33m\u001b[0m\u001b[1;33m\u001b[0m\u001b[0m\n\u001b[0m\u001b[0;32m    493\u001b[0m \u001b[1;33m\u001b[0m\u001b[0m\n\u001b[0;32m    494\u001b[0m         \u001b[1;32mif\u001b[0m \u001b[0mself\u001b[0m\u001b[1;33m.\u001b[0m\u001b[0mlength\u001b[0m \u001b[1;32mis\u001b[0m \u001b[1;32mnot\u001b[0m \u001b[1;32mNone\u001b[0m\u001b[1;33m:\u001b[0m\u001b[1;33m\u001b[0m\u001b[1;33m\u001b[0m\u001b[0m\n",
      "\u001b[1;32m~\\Anaconda3\\lib\\http\\client.py\u001b[0m in \u001b[0;36m_readinto_chunked\u001b[1;34m(self, b)\u001b[0m\n\u001b[0;32m    585\u001b[0m         \u001b[1;32mtry\u001b[0m\u001b[1;33m:\u001b[0m\u001b[1;33m\u001b[0m\u001b[1;33m\u001b[0m\u001b[0m\n\u001b[0;32m    586\u001b[0m             \u001b[1;32mwhile\u001b[0m \u001b[1;32mTrue\u001b[0m\u001b[1;33m:\u001b[0m\u001b[1;33m\u001b[0m\u001b[1;33m\u001b[0m\u001b[0m\n\u001b[1;32m--> 587\u001b[1;33m                 \u001b[0mchunk_left\u001b[0m \u001b[1;33m=\u001b[0m \u001b[0mself\u001b[0m\u001b[1;33m.\u001b[0m\u001b[0m_get_chunk_left\u001b[0m\u001b[1;33m(\u001b[0m\u001b[1;33m)\u001b[0m\u001b[1;33m\u001b[0m\u001b[1;33m\u001b[0m\u001b[0m\n\u001b[0m\u001b[0;32m    588\u001b[0m                 \u001b[1;32mif\u001b[0m \u001b[0mchunk_left\u001b[0m \u001b[1;32mis\u001b[0m \u001b[1;32mNone\u001b[0m\u001b[1;33m:\u001b[0m\u001b[1;33m\u001b[0m\u001b[1;33m\u001b[0m\u001b[0m\n\u001b[0;32m    589\u001b[0m                     \u001b[1;32mreturn\u001b[0m \u001b[0mtotal_bytes\u001b[0m\u001b[1;33m\u001b[0m\u001b[1;33m\u001b[0m\u001b[0m\n",
      "\u001b[1;32m~\\Anaconda3\\lib\\http\\client.py\u001b[0m in \u001b[0;36m_get_chunk_left\u001b[1;34m(self)\u001b[0m\n\u001b[0;32m    553\u001b[0m                 \u001b[0mself\u001b[0m\u001b[1;33m.\u001b[0m\u001b[0m_safe_read\u001b[0m\u001b[1;33m(\u001b[0m\u001b[1;36m2\u001b[0m\u001b[1;33m)\u001b[0m  \u001b[1;31m# toss the CRLF at the end of the chunk\u001b[0m\u001b[1;33m\u001b[0m\u001b[1;33m\u001b[0m\u001b[0m\n\u001b[0;32m    554\u001b[0m             \u001b[1;32mtry\u001b[0m\u001b[1;33m:\u001b[0m\u001b[1;33m\u001b[0m\u001b[1;33m\u001b[0m\u001b[0m\n\u001b[1;32m--> 555\u001b[1;33m                 \u001b[0mchunk_left\u001b[0m \u001b[1;33m=\u001b[0m \u001b[0mself\u001b[0m\u001b[1;33m.\u001b[0m\u001b[0m_read_next_chunk_size\u001b[0m\u001b[1;33m(\u001b[0m\u001b[1;33m)\u001b[0m\u001b[1;33m\u001b[0m\u001b[1;33m\u001b[0m\u001b[0m\n\u001b[0m\u001b[0;32m    556\u001b[0m             \u001b[1;32mexcept\u001b[0m \u001b[0mValueError\u001b[0m\u001b[1;33m:\u001b[0m\u001b[1;33m\u001b[0m\u001b[1;33m\u001b[0m\u001b[0m\n\u001b[0;32m    557\u001b[0m                 \u001b[1;32mraise\u001b[0m \u001b[0mIncompleteRead\u001b[0m\u001b[1;33m(\u001b[0m\u001b[1;34mb''\u001b[0m\u001b[1;33m)\u001b[0m\u001b[1;33m\u001b[0m\u001b[1;33m\u001b[0m\u001b[0m\n",
      "\u001b[1;32m~\\Anaconda3\\lib\\http\\client.py\u001b[0m in \u001b[0;36m_read_next_chunk_size\u001b[1;34m(self)\u001b[0m\n\u001b[0;32m    513\u001b[0m     \u001b[1;32mdef\u001b[0m \u001b[0m_read_next_chunk_size\u001b[0m\u001b[1;33m(\u001b[0m\u001b[0mself\u001b[0m\u001b[1;33m)\u001b[0m\u001b[1;33m:\u001b[0m\u001b[1;33m\u001b[0m\u001b[1;33m\u001b[0m\u001b[0m\n\u001b[0;32m    514\u001b[0m         \u001b[1;31m# Read the next chunk size from the file\u001b[0m\u001b[1;33m\u001b[0m\u001b[1;33m\u001b[0m\u001b[1;33m\u001b[0m\u001b[0m\n\u001b[1;32m--> 515\u001b[1;33m         \u001b[0mline\u001b[0m \u001b[1;33m=\u001b[0m \u001b[0mself\u001b[0m\u001b[1;33m.\u001b[0m\u001b[0mfp\u001b[0m\u001b[1;33m.\u001b[0m\u001b[0mreadline\u001b[0m\u001b[1;33m(\u001b[0m\u001b[0m_MAXLINE\u001b[0m \u001b[1;33m+\u001b[0m \u001b[1;36m1\u001b[0m\u001b[1;33m)\u001b[0m\u001b[1;33m\u001b[0m\u001b[1;33m\u001b[0m\u001b[0m\n\u001b[0m\u001b[0;32m    516\u001b[0m         \u001b[1;32mif\u001b[0m \u001b[0mlen\u001b[0m\u001b[1;33m(\u001b[0m\u001b[0mline\u001b[0m\u001b[1;33m)\u001b[0m \u001b[1;33m>\u001b[0m \u001b[0m_MAXLINE\u001b[0m\u001b[1;33m:\u001b[0m\u001b[1;33m\u001b[0m\u001b[1;33m\u001b[0m\u001b[0m\n\u001b[0;32m    517\u001b[0m             \u001b[1;32mraise\u001b[0m \u001b[0mLineTooLong\u001b[0m\u001b[1;33m(\u001b[0m\u001b[1;34m\"chunk size\"\u001b[0m\u001b[1;33m)\u001b[0m\u001b[1;33m\u001b[0m\u001b[1;33m\u001b[0m\u001b[0m\n",
      "\u001b[1;32m~\\Anaconda3\\lib\\socket.py\u001b[0m in \u001b[0;36mreadinto\u001b[1;34m(self, b)\u001b[0m\n\u001b[0;32m    667\u001b[0m         \u001b[1;32mwhile\u001b[0m \u001b[1;32mTrue\u001b[0m\u001b[1;33m:\u001b[0m\u001b[1;33m\u001b[0m\u001b[1;33m\u001b[0m\u001b[0m\n\u001b[0;32m    668\u001b[0m             \u001b[1;32mtry\u001b[0m\u001b[1;33m:\u001b[0m\u001b[1;33m\u001b[0m\u001b[1;33m\u001b[0m\u001b[0m\n\u001b[1;32m--> 669\u001b[1;33m                 \u001b[1;32mreturn\u001b[0m \u001b[0mself\u001b[0m\u001b[1;33m.\u001b[0m\u001b[0m_sock\u001b[0m\u001b[1;33m.\u001b[0m\u001b[0mrecv_into\u001b[0m\u001b[1;33m(\u001b[0m\u001b[0mb\u001b[0m\u001b[1;33m)\u001b[0m\u001b[1;33m\u001b[0m\u001b[1;33m\u001b[0m\u001b[0m\n\u001b[0m\u001b[0;32m    670\u001b[0m             \u001b[1;32mexcept\u001b[0m \u001b[0mtimeout\u001b[0m\u001b[1;33m:\u001b[0m\u001b[1;33m\u001b[0m\u001b[1;33m\u001b[0m\u001b[0m\n\u001b[0;32m    671\u001b[0m                 \u001b[0mself\u001b[0m\u001b[1;33m.\u001b[0m\u001b[0m_timeout_occurred\u001b[0m \u001b[1;33m=\u001b[0m \u001b[1;32mTrue\u001b[0m\u001b[1;33m\u001b[0m\u001b[1;33m\u001b[0m\u001b[0m\n",
      "\u001b[1;32m~\\Anaconda3\\lib\\ssl.py\u001b[0m in \u001b[0;36mrecv_into\u001b[1;34m(self, buffer, nbytes, flags)\u001b[0m\n\u001b[0;32m   1239\u001b[0m                   \u001b[1;34m\"non-zero flags not allowed in calls to recv_into() on %s\"\u001b[0m \u001b[1;33m%\u001b[0m\u001b[1;33m\u001b[0m\u001b[1;33m\u001b[0m\u001b[0m\n\u001b[0;32m   1240\u001b[0m                   self.__class__)\n\u001b[1;32m-> 1241\u001b[1;33m             \u001b[1;32mreturn\u001b[0m \u001b[0mself\u001b[0m\u001b[1;33m.\u001b[0m\u001b[0mread\u001b[0m\u001b[1;33m(\u001b[0m\u001b[0mnbytes\u001b[0m\u001b[1;33m,\u001b[0m \u001b[0mbuffer\u001b[0m\u001b[1;33m)\u001b[0m\u001b[1;33m\u001b[0m\u001b[1;33m\u001b[0m\u001b[0m\n\u001b[0m\u001b[0;32m   1242\u001b[0m         \u001b[1;32melse\u001b[0m\u001b[1;33m:\u001b[0m\u001b[1;33m\u001b[0m\u001b[1;33m\u001b[0m\u001b[0m\n\u001b[0;32m   1243\u001b[0m             \u001b[1;32mreturn\u001b[0m \u001b[0msuper\u001b[0m\u001b[1;33m(\u001b[0m\u001b[1;33m)\u001b[0m\u001b[1;33m.\u001b[0m\u001b[0mrecv_into\u001b[0m\u001b[1;33m(\u001b[0m\u001b[0mbuffer\u001b[0m\u001b[1;33m,\u001b[0m \u001b[0mnbytes\u001b[0m\u001b[1;33m,\u001b[0m \u001b[0mflags\u001b[0m\u001b[1;33m)\u001b[0m\u001b[1;33m\u001b[0m\u001b[1;33m\u001b[0m\u001b[0m\n",
      "\u001b[1;32m~\\Anaconda3\\lib\\ssl.py\u001b[0m in \u001b[0;36mread\u001b[1;34m(self, len, buffer)\u001b[0m\n\u001b[0;32m   1097\u001b[0m         \u001b[1;32mtry\u001b[0m\u001b[1;33m:\u001b[0m\u001b[1;33m\u001b[0m\u001b[1;33m\u001b[0m\u001b[0m\n\u001b[0;32m   1098\u001b[0m             \u001b[1;32mif\u001b[0m \u001b[0mbuffer\u001b[0m \u001b[1;32mis\u001b[0m \u001b[1;32mnot\u001b[0m \u001b[1;32mNone\u001b[0m\u001b[1;33m:\u001b[0m\u001b[1;33m\u001b[0m\u001b[1;33m\u001b[0m\u001b[0m\n\u001b[1;32m-> 1099\u001b[1;33m                 \u001b[1;32mreturn\u001b[0m \u001b[0mself\u001b[0m\u001b[1;33m.\u001b[0m\u001b[0m_sslobj\u001b[0m\u001b[1;33m.\u001b[0m\u001b[0mread\u001b[0m\u001b[1;33m(\u001b[0m\u001b[0mlen\u001b[0m\u001b[1;33m,\u001b[0m \u001b[0mbuffer\u001b[0m\u001b[1;33m)\u001b[0m\u001b[1;33m\u001b[0m\u001b[1;33m\u001b[0m\u001b[0m\n\u001b[0m\u001b[0;32m   1100\u001b[0m             \u001b[1;32melse\u001b[0m\u001b[1;33m:\u001b[0m\u001b[1;33m\u001b[0m\u001b[1;33m\u001b[0m\u001b[0m\n\u001b[0;32m   1101\u001b[0m                 \u001b[1;32mreturn\u001b[0m \u001b[0mself\u001b[0m\u001b[1;33m.\u001b[0m\u001b[0m_sslobj\u001b[0m\u001b[1;33m.\u001b[0m\u001b[0mread\u001b[0m\u001b[1;33m(\u001b[0m\u001b[0mlen\u001b[0m\u001b[1;33m)\u001b[0m\u001b[1;33m\u001b[0m\u001b[1;33m\u001b[0m\u001b[0m\n",
      "\u001b[1;31mKeyboardInterrupt\u001b[0m: "
     ]
    }
   ],
   "source": [
    "# Iniciando o filtro e gravando os tweets no MongoDB\n",
    "mystream.filter(track=keywords)"
   ]
  },
  {
   "cell_type": "markdown",
   "metadata": {},
   "source": [
    "## --> Pressione o botão Stop na barra de ferramentas para encerrar a captura dos Tweets"
   ]
  },
  {
   "cell_type": "markdown",
   "metadata": {},
   "source": [
    "## Consultando os Dados no MongoDB"
   ]
  },
  {
   "cell_type": "code",
   "execution_count": 56,
   "metadata": {},
   "outputs": [],
   "source": [
    "mystream.disconnect()"
   ]
  },
  {
   "cell_type": "code",
   "execution_count": 57,
   "metadata": {},
   "outputs": [
    {
     "data": {
      "text/plain": [
       "{'_id': ObjectId('60c7c181e367f723b03eb8ce'),\n",
       " 'created_at': 'Mon Jun 14 20:52:11 +0000 2021',\n",
       " 'id_str': '1404542206623506432',\n",
       " 'text': 'RT @Udemy_Coupons1: Economic Analysis of Sales – 2021 Oxford Diploma\\nhttps://t.co/Ri3IjQ8hvC\\n\\n#MachineLearning. #BigData #Analytics #DataSc…',\n",
       " 'user': 'CoderRetweet'}"
      ]
     },
     "execution_count": 57,
     "metadata": {},
     "output_type": "execute_result"
    }
   ],
   "source": [
    "# Verificando um documento no collection\n",
    "col.find_one()"
   ]
  },
  {
   "cell_type": "markdown",
   "metadata": {},
   "source": [
    "## Análise de Dados com Pandas e Scikit-Learn"
   ]
  },
  {
   "cell_type": "code",
   "execution_count": 58,
   "metadata": {},
   "outputs": [],
   "source": [
    "# criando um dataset com dados retornados do MongoDB\n",
    "dataset = [{\"created_at\": item[\"created_at\"], \"text\": item[\"text\"],} for item in col.find()]"
   ]
  },
  {
   "cell_type": "code",
   "execution_count": 59,
   "metadata": {},
   "outputs": [
    {
     "data": {
      "text/plain": [
       "'1.1.3'"
      ]
     },
     "execution_count": 59,
     "metadata": {},
     "output_type": "execute_result"
    }
   ],
   "source": [
    "# Importando o módulo Pandas para trabalhar com datasets em Python\n",
    "import pandas as pd\n",
    "pd.__version__"
   ]
  },
  {
   "cell_type": "code",
   "execution_count": 60,
   "metadata": {},
   "outputs": [],
   "source": [
    "# Criando um dataframe a partir do dataset \n",
    "df = pd.DataFrame(dataset)"
   ]
  },
  {
   "cell_type": "code",
   "execution_count": 61,
   "metadata": {},
   "outputs": [
    {
     "data": {
      "text/html": [
       "<div>\n",
       "<style scoped>\n",
       "    .dataframe tbody tr th:only-of-type {\n",
       "        vertical-align: middle;\n",
       "    }\n",
       "\n",
       "    .dataframe tbody tr th {\n",
       "        vertical-align: top;\n",
       "    }\n",
       "\n",
       "    .dataframe thead th {\n",
       "        text-align: right;\n",
       "    }\n",
       "</style>\n",
       "<table border=\"1\" class=\"dataframe\">\n",
       "  <thead>\n",
       "    <tr style=\"text-align: right;\">\n",
       "      <th></th>\n",
       "      <th>created_at</th>\n",
       "      <th>text</th>\n",
       "    </tr>\n",
       "  </thead>\n",
       "  <tbody>\n",
       "    <tr>\n",
       "      <th>0</th>\n",
       "      <td>Mon Jun 14 20:52:11 +0000 2021</td>\n",
       "      <td>RT @Udemy_Coupons1: Economic Analysis of Sales...</td>\n",
       "    </tr>\n",
       "    <tr>\n",
       "      <th>1</th>\n",
       "      <td>Mon Jun 14 20:52:11 +0000 2021</td>\n",
       "      <td>RT @MiriamAsensi: #HCLCompass 2.0.2 now integr...</td>\n",
       "    </tr>\n",
       "    <tr>\n",
       "      <th>2</th>\n",
       "      <td>Mon Jun 14 20:52:13 +0000 2021</td>\n",
       "      <td>RT @vishal7arya: Programming is like a “choose...</td>\n",
       "    </tr>\n",
       "    <tr>\n",
       "      <th>3</th>\n",
       "      <td>Mon Jun 14 20:52:17 +0000 2021</td>\n",
       "      <td>RT @Onlinetu40: We deliver ;\\nessay\\nHomework\\...</td>\n",
       "    </tr>\n",
       "    <tr>\n",
       "      <th>4</th>\n",
       "      <td>Mon Jun 14 20:52:18 +0000 2021</td>\n",
       "      <td>hate art penis #CriticalRoleFanArt #designthin...</td>\n",
       "    </tr>\n",
       "    <tr>\n",
       "      <th>...</th>\n",
       "      <td>...</td>\n",
       "      <td>...</td>\n",
       "    </tr>\n",
       "    <tr>\n",
       "      <th>57</th>\n",
       "      <td>Mon Jun 14 20:53:18 +0000 2021</td>\n",
       "      <td>RT @AsociacionEULAC: 🗝️  || A propósito de nue...</td>\n",
       "    </tr>\n",
       "    <tr>\n",
       "      <th>58</th>\n",
       "      <td>Mon Jun 14 20:53:19 +0000 2021</td>\n",
       "      <td>Summer classes\\nEssay due\\nBusiness\\nBiology\\n...</td>\n",
       "    </tr>\n",
       "    <tr>\n",
       "      <th>59</th>\n",
       "      <td>Mon Jun 14 20:53:20 +0000 2021</td>\n",
       "      <td>hate art penis #CriticalRoleFanArt #designthin...</td>\n",
       "    </tr>\n",
       "    <tr>\n",
       "      <th>60</th>\n",
       "      <td>Mon Jun 14 20:53:20 +0000 2021</td>\n",
       "      <td>#wpp #greenenergy #wppenergy \\nWPP is a very u...</td>\n",
       "    </tr>\n",
       "    <tr>\n",
       "      <th>61</th>\n",
       "      <td>Mon Jun 14 20:53:21 +0000 2021</td>\n",
       "      <td>two days ago i was just working a shift and i ...</td>\n",
       "    </tr>\n",
       "  </tbody>\n",
       "</table>\n",
       "<p>62 rows × 2 columns</p>\n",
       "</div>"
      ],
      "text/plain": [
       "                        created_at  \\\n",
       "0   Mon Jun 14 20:52:11 +0000 2021   \n",
       "1   Mon Jun 14 20:52:11 +0000 2021   \n",
       "2   Mon Jun 14 20:52:13 +0000 2021   \n",
       "3   Mon Jun 14 20:52:17 +0000 2021   \n",
       "4   Mon Jun 14 20:52:18 +0000 2021   \n",
       "..                             ...   \n",
       "57  Mon Jun 14 20:53:18 +0000 2021   \n",
       "58  Mon Jun 14 20:53:19 +0000 2021   \n",
       "59  Mon Jun 14 20:53:20 +0000 2021   \n",
       "60  Mon Jun 14 20:53:20 +0000 2021   \n",
       "61  Mon Jun 14 20:53:21 +0000 2021   \n",
       "\n",
       "                                                 text  \n",
       "0   RT @Udemy_Coupons1: Economic Analysis of Sales...  \n",
       "1   RT @MiriamAsensi: #HCLCompass 2.0.2 now integr...  \n",
       "2   RT @vishal7arya: Programming is like a “choose...  \n",
       "3   RT @Onlinetu40: We deliver ;\\nessay\\nHomework\\...  \n",
       "4   hate art penis #CriticalRoleFanArt #designthin...  \n",
       "..                                                ...  \n",
       "57  RT @AsociacionEULAC: 🗝️  || A propósito de nue...  \n",
       "58  Summer classes\\nEssay due\\nBusiness\\nBiology\\n...  \n",
       "59  hate art penis #CriticalRoleFanArt #designthin...  \n",
       "60  #wpp #greenenergy #wppenergy \\nWPP is a very u...  \n",
       "61  two days ago i was just working a shift and i ...  \n",
       "\n",
       "[62 rows x 2 columns]"
      ]
     },
     "execution_count": 61,
     "metadata": {},
     "output_type": "execute_result"
    }
   ],
   "source": [
    "# Imprimindo o dataframe\n",
    "df"
   ]
  },
  {
   "cell_type": "code",
   "execution_count": 62,
   "metadata": {},
   "outputs": [],
   "source": [
    "# Importando o módulo Scikit Learn\n",
    "from sklearn.feature_extraction.text import CountVectorizer"
   ]
  },
  {
   "cell_type": "code",
   "execution_count": 63,
   "metadata": {},
   "outputs": [
    {
     "data": {
      "text/plain": [
       "'0.23.2'"
      ]
     },
     "execution_count": 63,
     "metadata": {},
     "output_type": "execute_result"
    }
   ],
   "source": [
    "import sklearn\n",
    "sklearn.__version__"
   ]
  },
  {
   "cell_type": "code",
   "execution_count": 64,
   "metadata": {},
   "outputs": [],
   "source": [
    "# Usando o método CountVectorizer para criar uma matriz de documentos\n",
    "cv = CountVectorizer()\n",
    "count_matrix = cv.fit_transform(df.text)"
   ]
  },
  {
   "cell_type": "code",
   "execution_count": 65,
   "metadata": {},
   "outputs": [
    {
     "data": {
      "text/html": [
       "<div>\n",
       "<style scoped>\n",
       "    .dataframe tbody tr th:only-of-type {\n",
       "        vertical-align: middle;\n",
       "    }\n",
       "\n",
       "    .dataframe tbody tr th {\n",
       "        vertical-align: top;\n",
       "    }\n",
       "\n",
       "    .dataframe thead th {\n",
       "        text-align: right;\n",
       "    }\n",
       "</style>\n",
       "<table border=\"1\" class=\"dataframe\">\n",
       "  <thead>\n",
       "    <tr style=\"text-align: right;\">\n",
       "      <th></th>\n",
       "      <th>word</th>\n",
       "      <th>count</th>\n",
       "    </tr>\n",
       "  </thead>\n",
       "  <tbody>\n",
       "    <tr>\n",
       "      <th>0</th>\n",
       "      <td>co</td>\n",
       "      <td>42</td>\n",
       "    </tr>\n",
       "    <tr>\n",
       "      <th>1</th>\n",
       "      <td>https</td>\n",
       "      <td>41</td>\n",
       "    </tr>\n",
       "    <tr>\n",
       "      <th>2</th>\n",
       "      <td>rt</td>\n",
       "      <td>31</td>\n",
       "    </tr>\n",
       "    <tr>\n",
       "      <th>3</th>\n",
       "      <td>python</td>\n",
       "      <td>24</td>\n",
       "    </tr>\n",
       "    <tr>\n",
       "      <th>4</th>\n",
       "      <td>and</td>\n",
       "      <td>18</td>\n",
       "    </tr>\n",
       "    <tr>\n",
       "      <th>5</th>\n",
       "      <td>to</td>\n",
       "      <td>17</td>\n",
       "    </tr>\n",
       "    <tr>\n",
       "      <th>6</th>\n",
       "      <td>with</td>\n",
       "      <td>15</td>\n",
       "    </tr>\n",
       "    <tr>\n",
       "      <th>7</th>\n",
       "      <td>data</td>\n",
       "      <td>14</td>\n",
       "    </tr>\n",
       "    <tr>\n",
       "      <th>8</th>\n",
       "      <td>datascience</td>\n",
       "      <td>12</td>\n",
       "    </tr>\n",
       "    <tr>\n",
       "      <th>9</th>\n",
       "      <td>machinelearning</td>\n",
       "      <td>12</td>\n",
       "    </tr>\n",
       "    <tr>\n",
       "      <th>10</th>\n",
       "      <td>the</td>\n",
       "      <td>11</td>\n",
       "    </tr>\n",
       "    <tr>\n",
       "      <th>11</th>\n",
       "      <td>de</td>\n",
       "      <td>9</td>\n",
       "    </tr>\n",
       "    <tr>\n",
       "      <th>12</th>\n",
       "      <td>of</td>\n",
       "      <td>9</td>\n",
       "    </tr>\n",
       "    <tr>\n",
       "      <th>13</th>\n",
       "      <td>ai</td>\n",
       "      <td>9</td>\n",
       "    </tr>\n",
       "    <tr>\n",
       "      <th>14</th>\n",
       "      <td>you</td>\n",
       "      <td>7</td>\n",
       "    </tr>\n",
       "    <tr>\n",
       "      <th>15</th>\n",
       "      <td>designthinking</td>\n",
       "      <td>7</td>\n",
       "    </tr>\n",
       "    <tr>\n",
       "      <th>16</th>\n",
       "      <td>art</td>\n",
       "      <td>7</td>\n",
       "    </tr>\n",
       "    <tr>\n",
       "      <th>17</th>\n",
       "      <td>penis</td>\n",
       "      <td>7</td>\n",
       "    </tr>\n",
       "    <tr>\n",
       "      <th>18</th>\n",
       "      <td>criticalrolefanart</td>\n",
       "      <td>7</td>\n",
       "    </tr>\n",
       "    <tr>\n",
       "      <th>19</th>\n",
       "      <td>hate</td>\n",
       "      <td>7</td>\n",
       "    </tr>\n",
       "    <tr>\n",
       "      <th>20</th>\n",
       "      <td>100daysofcode</td>\n",
       "      <td>7</td>\n",
       "    </tr>\n",
       "    <tr>\n",
       "      <th>21</th>\n",
       "      <td>science</td>\n",
       "      <td>7</td>\n",
       "    </tr>\n",
       "    <tr>\n",
       "      <th>22</th>\n",
       "      <td>is</td>\n",
       "      <td>6</td>\n",
       "    </tr>\n",
       "    <tr>\n",
       "      <th>23</th>\n",
       "      <td>cybersecurity</td>\n",
       "      <td>5</td>\n",
       "    </tr>\n",
       "    <tr>\n",
       "      <th>24</th>\n",
       "      <td>iot</td>\n",
       "      <td>5</td>\n",
       "    </tr>\n",
       "    <tr>\n",
       "      <th>25</th>\n",
       "      <td>for</td>\n",
       "      <td>5</td>\n",
       "    </tr>\n",
       "    <tr>\n",
       "      <th>26</th>\n",
       "      <td>your</td>\n",
       "      <td>4</td>\n",
       "    </tr>\n",
       "    <tr>\n",
       "      <th>27</th>\n",
       "      <td>amp</td>\n",
       "      <td>4</td>\n",
       "    </tr>\n",
       "    <tr>\n",
       "      <th>28</th>\n",
       "      <td>it</td>\n",
       "      <td>4</td>\n",
       "    </tr>\n",
       "    <tr>\n",
       "      <th>29</th>\n",
       "      <td>javascript</td>\n",
       "      <td>4</td>\n",
       "    </tr>\n",
       "    <tr>\n",
       "      <th>30</th>\n",
       "      <td>deeplearning</td>\n",
       "      <td>4</td>\n",
       "    </tr>\n",
       "    <tr>\n",
       "      <th>31</th>\n",
       "      <td>pay</td>\n",
       "      <td>4</td>\n",
       "    </tr>\n",
       "    <tr>\n",
       "      <th>32</th>\n",
       "      <td>bigdata</td>\n",
       "      <td>4</td>\n",
       "    </tr>\n",
       "    <tr>\n",
       "      <th>33</th>\n",
       "      <td>big</td>\n",
       "      <td>4</td>\n",
       "    </tr>\n",
       "    <tr>\n",
       "      <th>34</th>\n",
       "      <td>html</td>\n",
       "      <td>4</td>\n",
       "    </tr>\n",
       "    <tr>\n",
       "      <th>35</th>\n",
       "      <td>la</td>\n",
       "      <td>4</td>\n",
       "    </tr>\n",
       "    <tr>\n",
       "      <th>36</th>\n",
       "      <td>me</td>\n",
       "      <td>4</td>\n",
       "    </tr>\n",
       "    <tr>\n",
       "      <th>37</th>\n",
       "      <td>learning</td>\n",
       "      <td>4</td>\n",
       "    </tr>\n",
       "    <tr>\n",
       "      <th>38</th>\n",
       "      <td>we</td>\n",
       "      <td>4</td>\n",
       "    </tr>\n",
       "    <tr>\n",
       "      <th>39</th>\n",
       "      <td>world</td>\n",
       "      <td>4</td>\n",
       "    </tr>\n",
       "    <tr>\n",
       "      <th>40</th>\n",
       "      <td>classes</td>\n",
       "      <td>4</td>\n",
       "    </tr>\n",
       "    <tr>\n",
       "      <th>41</th>\n",
       "      <td>essay</td>\n",
       "      <td>4</td>\n",
       "    </tr>\n",
       "    <tr>\n",
       "      <th>42</th>\n",
       "      <td>listen</td>\n",
       "      <td>3</td>\n",
       "    </tr>\n",
       "    <tr>\n",
       "      <th>43</th>\n",
       "      <td>psg</td>\n",
       "      <td>3</td>\n",
       "    </tr>\n",
       "    <tr>\n",
       "      <th>44</th>\n",
       "      <td>sur</td>\n",
       "      <td>3</td>\n",
       "    </tr>\n",
       "    <tr>\n",
       "      <th>45</th>\n",
       "      <td>votre</td>\n",
       "      <td>3</td>\n",
       "    </tr>\n",
       "    <tr>\n",
       "      <th>46</th>\n",
       "      <td>this</td>\n",
       "      <td>3</td>\n",
       "    </tr>\n",
       "    <tr>\n",
       "      <th>47</th>\n",
       "      <td>que</td>\n",
       "      <td>3</td>\n",
       "    </tr>\n",
       "    <tr>\n",
       "      <th>48</th>\n",
       "      <td>bigdat</td>\n",
       "      <td>3</td>\n",
       "    </tr>\n",
       "    <tr>\n",
       "      <th>49</th>\n",
       "      <td>machine</td>\n",
       "      <td>3</td>\n",
       "    </tr>\n",
       "  </tbody>\n",
       "</table>\n",
       "</div>"
      ],
      "text/plain": [
       "                  word  count\n",
       "0                   co     42\n",
       "1                https     41\n",
       "2                   rt     31\n",
       "3               python     24\n",
       "4                  and     18\n",
       "5                   to     17\n",
       "6                 with     15\n",
       "7                 data     14\n",
       "8          datascience     12\n",
       "9      machinelearning     12\n",
       "10                 the     11\n",
       "11                  de      9\n",
       "12                  of      9\n",
       "13                  ai      9\n",
       "14                 you      7\n",
       "15      designthinking      7\n",
       "16                 art      7\n",
       "17               penis      7\n",
       "18  criticalrolefanart      7\n",
       "19                hate      7\n",
       "20       100daysofcode      7\n",
       "21             science      7\n",
       "22                  is      6\n",
       "23       cybersecurity      5\n",
       "24                 iot      5\n",
       "25                 for      5\n",
       "26                your      4\n",
       "27                 amp      4\n",
       "28                  it      4\n",
       "29          javascript      4\n",
       "30        deeplearning      4\n",
       "31                 pay      4\n",
       "32             bigdata      4\n",
       "33                 big      4\n",
       "34                html      4\n",
       "35                  la      4\n",
       "36                  me      4\n",
       "37            learning      4\n",
       "38                  we      4\n",
       "39               world      4\n",
       "40             classes      4\n",
       "41               essay      4\n",
       "42              listen      3\n",
       "43                 psg      3\n",
       "44                 sur      3\n",
       "45               votre      3\n",
       "46                this      3\n",
       "47                 que      3\n",
       "48              bigdat      3\n",
       "49             machine      3"
      ]
     },
     "execution_count": 65,
     "metadata": {},
     "output_type": "execute_result"
    }
   ],
   "source": [
    "# Contando o número de ocorrências das principais palavras em nosso dataset\n",
    "word_count = pd.DataFrame(cv.get_feature_names(), columns=[\"word\"])\n",
    "word_count[\"count\"] = count_matrix.sum(axis=0).tolist()[0]\n",
    "word_count = word_count.sort_values(\"count\", ascending=False).reset_index(drop=True)\n",
    "word_count[:50]"
   ]
  },
  {
   "cell_type": "markdown",
   "metadata": {},
   "source": [
    "# Fim"
   ]
  },
  {
   "cell_type": "markdown",
   "metadata": {},
   "source": [
    "### Obrigado - Data Science Academy - <a href=\"http://facebook.com/dsacademybr\">facebook.com/dsacademybr</a>"
   ]
  }
 ],
 "metadata": {
  "kernelspec": {
   "name": "python3",
   "display_name": "Python 3.8.5 64-bit ('base': conda)"
  },
  "language_info": {
   "codemirror_mode": {
    "name": "ipython",
    "version": 3
   },
   "file_extension": ".py",
   "mimetype": "text/x-python",
   "name": "python",
   "nbconvert_exporter": "python",
   "pygments_lexer": "ipython3",
   "version": "3.8.5"
  },
  "interpreter": {
   "hash": "37b864667c87a838126dae16aee321d7eb448b1869c9bbd772bfcbc64f82a685"
  }
 },
 "nbformat": 4,
 "nbformat_minor": 1
}