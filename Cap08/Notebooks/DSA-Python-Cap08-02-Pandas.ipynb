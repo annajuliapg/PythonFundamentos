{
 "cells": [
  {
   "cell_type": "markdown",
   "metadata": {},
   "source": [
    "# <font color='blue'>Data Science Academy - Python Fundamentos - Capítulo 8</font>\n",
    "\n",
    "## Download: http://github.com/dsacademybr"
   ]
  },
  {
   "cell_type": "code",
   "execution_count": 1,
   "metadata": {},
   "outputs": [
    {
     "output_type": "stream",
     "name": "stdout",
     "text": [
      "Versão da Linguagem Python Usada Neste Jupyter Notebook: 3.8.5\n"
     ]
    }
   ],
   "source": [
    "# Versão da Linguagem Python\n",
    "from platform import python_version\n",
    "print('Versão da Linguagem Python Usada Neste Jupyter Notebook:', python_version())"
   ]
  },
  {
   "cell_type": "markdown",
   "metadata": {},
   "source": [
    "## Pandas"
   ]
  },
  {
   "cell_type": "markdown",
   "metadata": {},
   "source": [
    "Para poder trabalhar com Pandas, você deve conhecer bem estas duas estruturas: Series e DataFrame."
   ]
  },
  {
   "cell_type": "markdown",
   "metadata": {},
   "source": [
    "Para importar o pandas, utilize: \n",
    "import pandas as pd\n",
    "\n",
    "Você também pode utilizar: \n",
    "from pandas import Series, DataFrame  "
   ]
  },
  {
   "cell_type": "markdown",
   "metadata": {},
   "source": [
    "Para atualizar o Pandas, abra o prompt de comando ou terminal e digite: pip install pandas -U"
   ]
  },
  {
   "cell_type": "markdown",
   "metadata": {},
   "source": [
    "## Series\n",
    "\n",
    "Series é um array unidimensional que contém um array de dados e um array de labels, chamado índice.\n"
   ]
  },
  {
   "cell_type": "code",
   "execution_count": 2,
   "metadata": {},
   "outputs": [],
   "source": [
    "from pandas import Series"
   ]
  },
  {
   "cell_type": "code",
   "execution_count": 3,
   "metadata": {},
   "outputs": [
    {
     "output_type": "execute_result",
     "data": {
      "text/plain": [
       "'1.1.3'"
      ]
     },
     "metadata": {},
     "execution_count": 3
    }
   ],
   "source": [
    "import pandas as pd\n",
    "pd.__version__"
   ]
  },
  {
   "cell_type": "code",
   "execution_count": 4,
   "metadata": {},
   "outputs": [],
   "source": [
    "# Criando uma série sem especificar os índices\n",
    "Obj = Series([67, 78, -56, 13])"
   ]
  },
  {
   "cell_type": "code",
   "execution_count": 5,
   "metadata": {},
   "outputs": [
    {
     "output_type": "execute_result",
     "data": {
      "text/plain": [
       "0    67\n",
       "1    78\n",
       "2   -56\n",
       "3    13\n",
       "dtype: int64"
      ]
     },
     "metadata": {},
     "execution_count": 5
    }
   ],
   "source": [
    "Obj"
   ]
  },
  {
   "cell_type": "code",
   "execution_count": 6,
   "metadata": {},
   "outputs": [
    {
     "output_type": "execute_result",
     "data": {
      "text/plain": [
       "pandas.core.series.Series"
      ]
     },
     "metadata": {},
     "execution_count": 6
    }
   ],
   "source": [
    "type(Obj)"
   ]
  },
  {
   "cell_type": "code",
   "execution_count": 7,
   "metadata": {},
   "outputs": [
    {
     "output_type": "execute_result",
     "data": {
      "text/plain": [
       "array([ 67,  78, -56,  13], dtype=int64)"
      ]
     },
     "metadata": {},
     "execution_count": 7
    }
   ],
   "source": [
    "Obj.values"
   ]
  },
  {
   "cell_type": "code",
   "execution_count": 8,
   "metadata": {},
   "outputs": [
    {
     "output_type": "execute_result",
     "data": {
      "text/plain": [
       "RangeIndex(start=0, stop=4, step=1)"
      ]
     },
     "metadata": {},
     "execution_count": 8
    }
   ],
   "source": [
    "Obj.index"
   ]
  },
  {
   "cell_type": "code",
   "execution_count": 9,
   "metadata": {},
   "outputs": [],
   "source": [
    "# Criando uma série e especificando os índices\n",
    "Obj2 = Series([67, 78, -56, 13], index = ['a', 'b', 'c', 'd'])"
   ]
  },
  {
   "cell_type": "code",
   "execution_count": 10,
   "metadata": {},
   "outputs": [
    {
     "output_type": "execute_result",
     "data": {
      "text/plain": [
       "a    67\n",
       "b    78\n",
       "c   -56\n",
       "d    13\n",
       "dtype: int64"
      ]
     },
     "metadata": {},
     "execution_count": 10
    }
   ],
   "source": [
    "Obj2"
   ]
  },
  {
   "cell_type": "code",
   "execution_count": 11,
   "metadata": {},
   "outputs": [
    {
     "output_type": "execute_result",
     "data": {
      "text/plain": [
       "array([ 67,  78, -56,  13], dtype=int64)"
      ]
     },
     "metadata": {},
     "execution_count": 11
    }
   ],
   "source": [
    "Obj2.values"
   ]
  },
  {
   "cell_type": "code",
   "execution_count": 12,
   "metadata": {},
   "outputs": [
    {
     "output_type": "execute_result",
     "data": {
      "text/plain": [
       "Index(['a', 'b', 'c', 'd'], dtype='object')"
      ]
     },
     "metadata": {},
     "execution_count": 12
    }
   ],
   "source": [
    "Obj2.index"
   ]
  },
  {
   "cell_type": "code",
   "execution_count": 13,
   "metadata": {},
   "outputs": [
    {
     "output_type": "execute_result",
     "data": {
      "text/plain": [
       "a    67\n",
       "b    78\n",
       "d    13\n",
       "dtype: int64"
      ]
     },
     "metadata": {},
     "execution_count": 13
    }
   ],
   "source": [
    "Obj2[Obj2 > 3]"
   ]
  },
  {
   "cell_type": "code",
   "execution_count": 14,
   "metadata": {},
   "outputs": [
    {
     "output_type": "execute_result",
     "data": {
      "text/plain": [
       "78"
      ]
     },
     "metadata": {},
     "execution_count": 14
    }
   ],
   "source": [
    "Obj2['b']"
   ]
  },
  {
   "cell_type": "code",
   "execution_count": 15,
   "metadata": {},
   "outputs": [
    {
     "output_type": "execute_result",
     "data": {
      "text/plain": [
       "True"
      ]
     },
     "metadata": {},
     "execution_count": 15
    }
   ],
   "source": [
    "'d' in Obj2"
   ]
  },
  {
   "cell_type": "code",
   "execution_count": 16,
   "metadata": {},
   "outputs": [],
   "source": [
    "# Criando uma série de dados passando um dicionário como parâmetro\n",
    "dict = {'Futebol':5200, 'Tenis': 120, 'Natação':698, 'Volleyball':1550}"
   ]
  },
  {
   "cell_type": "code",
   "execution_count": 17,
   "metadata": {},
   "outputs": [],
   "source": [
    "# Criando uma série a partir de um dicionário\n",
    "Obj3 = Series(dict)"
   ]
  },
  {
   "cell_type": "code",
   "execution_count": 18,
   "metadata": {},
   "outputs": [
    {
     "output_type": "execute_result",
     "data": {
      "text/plain": [
       "Futebol       5200\n",
       "Tenis          120\n",
       "Natação        698\n",
       "Volleyball    1550\n",
       "dtype: int64"
      ]
     },
     "metadata": {},
     "execution_count": 18
    }
   ],
   "source": [
    "Obj3"
   ]
  },
  {
   "cell_type": "code",
   "execution_count": 19,
   "metadata": {},
   "outputs": [
    {
     "output_type": "execute_result",
     "data": {
      "text/plain": [
       "pandas.core.series.Series"
      ]
     },
     "metadata": {},
     "execution_count": 19
    }
   ],
   "source": [
    "type(Obj3)"
   ]
  },
  {
   "cell_type": "code",
   "execution_count": 20,
   "metadata": {},
   "outputs": [],
   "source": [
    "# Criando uma lista\n",
    "esportes = ['Futebol', 'Tenis', 'Natação', 'Basktetball']"
   ]
  },
  {
   "cell_type": "code",
   "execution_count": 21,
   "metadata": {},
   "outputs": [],
   "source": [
    "# Criando uma serie e usando uma lista como índice\n",
    "Obj4 = Series(dict, index=esportes)"
   ]
  },
  {
   "cell_type": "code",
   "execution_count": 22,
   "metadata": {},
   "outputs": [
    {
     "output_type": "execute_result",
     "data": {
      "text/plain": [
       "Futebol        5200.0\n",
       "Tenis           120.0\n",
       "Natação         698.0\n",
       "Basktetball       NaN\n",
       "dtype: float64"
      ]
     },
     "metadata": {},
     "execution_count": 22
    }
   ],
   "source": [
    "Obj4"
   ]
  },
  {
   "cell_type": "code",
   "execution_count": 23,
   "metadata": {},
   "outputs": [
    {
     "output_type": "execute_result",
     "data": {
      "text/plain": [
       "Futebol        False\n",
       "Tenis          False\n",
       "Natação        False\n",
       "Basktetball     True\n",
       "dtype: bool"
      ]
     },
     "metadata": {},
     "execution_count": 23
    }
   ],
   "source": [
    "pd.isnull(Obj4)"
   ]
  },
  {
   "cell_type": "code",
   "execution_count": 24,
   "metadata": {},
   "outputs": [
    {
     "output_type": "execute_result",
     "data": {
      "text/plain": [
       "Futebol         True\n",
       "Tenis           True\n",
       "Natação         True\n",
       "Basktetball    False\n",
       "dtype: bool"
      ]
     },
     "metadata": {},
     "execution_count": 24
    }
   ],
   "source": [
    "pd.notnull(Obj4)"
   ]
  },
  {
   "cell_type": "code",
   "execution_count": 25,
   "metadata": {},
   "outputs": [
    {
     "output_type": "execute_result",
     "data": {
      "text/plain": [
       "Futebol        False\n",
       "Tenis          False\n",
       "Natação        False\n",
       "Basktetball     True\n",
       "dtype: bool"
      ]
     },
     "metadata": {},
     "execution_count": 25
    }
   ],
   "source": [
    "Obj4.isnull()"
   ]
  },
  {
   "cell_type": "code",
   "execution_count": 26,
   "metadata": {},
   "outputs": [
    {
     "output_type": "execute_result",
     "data": {
      "text/plain": [
       "Basktetball        NaN\n",
       "Futebol        10400.0\n",
       "Natação         1396.0\n",
       "Tenis            240.0\n",
       "Volleyball         NaN\n",
       "dtype: float64"
      ]
     },
     "metadata": {},
     "execution_count": 26
    }
   ],
   "source": [
    "# Concatenando Series\n",
    "Obj3 + Obj4"
   ]
  },
  {
   "cell_type": "code",
   "execution_count": 27,
   "metadata": {},
   "outputs": [],
   "source": [
    "Obj4.name = 'população'"
   ]
  },
  {
   "cell_type": "code",
   "execution_count": 28,
   "metadata": {},
   "outputs": [],
   "source": [
    "Obj4.index.name = 'esporte'"
   ]
  },
  {
   "cell_type": "code",
   "execution_count": 29,
   "metadata": {},
   "outputs": [
    {
     "output_type": "execute_result",
     "data": {
      "text/plain": [
       "esporte\n",
       "Futebol        5200.0\n",
       "Tenis           120.0\n",
       "Natação         698.0\n",
       "Basktetball       NaN\n",
       "Name: população, dtype: float64"
      ]
     },
     "metadata": {},
     "execution_count": 29
    }
   ],
   "source": [
    "Obj4"
   ]
  },
  {
   "source": [
    "## Dataframes\n",
    "\n",
    "Dataframes representam uma estrutura tabular semelhante a estrutura de uma planilha do Excel, contendo uma coleção de colunas em que cada uma pode ser um diferente tipo de valor (número, string, etc...). Os Dataframes possuem index e linhas e esta estrutura é muito semelhante a um dataframe em R. Os dados de um dataframe são armazenados e um ou mais blocos bidimensionais, ao invés de listas, dicionários ou alguma outra estrutura de array."
   ],
   "cell_type": "markdown",
   "metadata": {}
  },
  {
   "cell_type": "code",
   "execution_count": 31,
   "metadata": {},
   "outputs": [],
   "source": [
    "from pandas import DataFrame"
   ]
  },
  {
   "cell_type": "code",
   "execution_count": 32,
   "metadata": {},
   "outputs": [],
   "source": [
    "data = {'Estado': ['Santa Catarina', 'Paraná', 'Goiás', 'Bahia', 'Minas Gerais'], \n",
    "        'Ano': [2002, 2003, 2004, 2005, 2006], \n",
    "        'População': [1.5, 1.7, 3.6, 2.4, 2.9]}"
   ]
  },
  {
   "cell_type": "code",
   "execution_count": 33,
   "metadata": {},
   "outputs": [],
   "source": [
    "frame = DataFrame(data)"
   ]
  },
  {
   "cell_type": "code",
   "execution_count": 34,
   "metadata": {},
   "outputs": [
    {
     "output_type": "execute_result",
     "data": {
      "text/plain": [
       "           Estado   Ano  População\n",
       "0  Santa Catarina  2002        1.5\n",
       "1          Paraná  2003        1.7\n",
       "2           Goiás  2004        3.6\n",
       "3           Bahia  2005        2.4\n",
       "4    Minas Gerais  2006        2.9"
      ],
      "text/html": "<div>\n<style scoped>\n    .dataframe tbody tr th:only-of-type {\n        vertical-align: middle;\n    }\n\n    .dataframe tbody tr th {\n        vertical-align: top;\n    }\n\n    .dataframe thead th {\n        text-align: right;\n    }\n</style>\n<table border=\"1\" class=\"dataframe\">\n  <thead>\n    <tr style=\"text-align: right;\">\n      <th></th>\n      <th>Estado</th>\n      <th>Ano</th>\n      <th>População</th>\n    </tr>\n  </thead>\n  <tbody>\n    <tr>\n      <th>0</th>\n      <td>Santa Catarina</td>\n      <td>2002</td>\n      <td>1.5</td>\n    </tr>\n    <tr>\n      <th>1</th>\n      <td>Paraná</td>\n      <td>2003</td>\n      <td>1.7</td>\n    </tr>\n    <tr>\n      <th>2</th>\n      <td>Goiás</td>\n      <td>2004</td>\n      <td>3.6</td>\n    </tr>\n    <tr>\n      <th>3</th>\n      <td>Bahia</td>\n      <td>2005</td>\n      <td>2.4</td>\n    </tr>\n    <tr>\n      <th>4</th>\n      <td>Minas Gerais</td>\n      <td>2006</td>\n      <td>2.9</td>\n    </tr>\n  </tbody>\n</table>\n</div>"
     },
     "metadata": {},
     "execution_count": 34
    }
   ],
   "source": [
    "frame"
   ]
  },
  {
   "cell_type": "code",
   "execution_count": 35,
   "metadata": {},
   "outputs": [
    {
     "output_type": "execute_result",
     "data": {
      "text/plain": [
       "pandas.core.frame.DataFrame"
      ]
     },
     "metadata": {},
     "execution_count": 35
    }
   ],
   "source": [
    "type(frame)"
   ]
  },
  {
   "cell_type": "code",
   "execution_count": 36,
   "metadata": {},
   "outputs": [
    {
     "output_type": "execute_result",
     "data": {
      "text/plain": [
       "    Ano          Estado  População\n",
       "0  2002  Santa Catarina        1.5\n",
       "1  2003          Paraná        1.7\n",
       "2  2004           Goiás        3.6\n",
       "3  2005           Bahia        2.4\n",
       "4  2006    Minas Gerais        2.9"
      ],
      "text/html": "<div>\n<style scoped>\n    .dataframe tbody tr th:only-of-type {\n        vertical-align: middle;\n    }\n\n    .dataframe tbody tr th {\n        vertical-align: top;\n    }\n\n    .dataframe thead th {\n        text-align: right;\n    }\n</style>\n<table border=\"1\" class=\"dataframe\">\n  <thead>\n    <tr style=\"text-align: right;\">\n      <th></th>\n      <th>Ano</th>\n      <th>Estado</th>\n      <th>População</th>\n    </tr>\n  </thead>\n  <tbody>\n    <tr>\n      <th>0</th>\n      <td>2002</td>\n      <td>Santa Catarina</td>\n      <td>1.5</td>\n    </tr>\n    <tr>\n      <th>1</th>\n      <td>2003</td>\n      <td>Paraná</td>\n      <td>1.7</td>\n    </tr>\n    <tr>\n      <th>2</th>\n      <td>2004</td>\n      <td>Goiás</td>\n      <td>3.6</td>\n    </tr>\n    <tr>\n      <th>3</th>\n      <td>2005</td>\n      <td>Bahia</td>\n      <td>2.4</td>\n    </tr>\n    <tr>\n      <th>4</th>\n      <td>2006</td>\n      <td>Minas Gerais</td>\n      <td>2.9</td>\n    </tr>\n  </tbody>\n</table>\n</div>"
     },
     "metadata": {},
     "execution_count": 36
    }
   ],
   "source": [
    "DataFrame(data, columns = ['Ano', 'Estado', 'População'])"
   ]
  },
  {
   "cell_type": "code",
   "execution_count": 37,
   "metadata": {},
   "outputs": [],
   "source": [
    "# Criando outro dataframe com os mesmo dados anteriores mas adicionando uma coluna\n",
    "frame2 = DataFrame(data, columns = ['Ano', 'Estado', 'População', 'Débito'], \n",
    "                   index = ['um', 'dois', 'três', 'quatro', 'cinco'])"
   ]
  },
  {
   "cell_type": "code",
   "execution_count": 38,
   "metadata": {},
   "outputs": [
    {
     "output_type": "execute_result",
     "data": {
      "text/plain": [
       "         Ano          Estado  População Débito\n",
       "um      2002  Santa Catarina        1.5    NaN\n",
       "dois    2003          Paraná        1.7    NaN\n",
       "três    2004           Goiás        3.6    NaN\n",
       "quatro  2005           Bahia        2.4    NaN\n",
       "cinco   2006    Minas Gerais        2.9    NaN"
      ],
      "text/html": "<div>\n<style scoped>\n    .dataframe tbody tr th:only-of-type {\n        vertical-align: middle;\n    }\n\n    .dataframe tbody tr th {\n        vertical-align: top;\n    }\n\n    .dataframe thead th {\n        text-align: right;\n    }\n</style>\n<table border=\"1\" class=\"dataframe\">\n  <thead>\n    <tr style=\"text-align: right;\">\n      <th></th>\n      <th>Ano</th>\n      <th>Estado</th>\n      <th>População</th>\n      <th>Débito</th>\n    </tr>\n  </thead>\n  <tbody>\n    <tr>\n      <th>um</th>\n      <td>2002</td>\n      <td>Santa Catarina</td>\n      <td>1.5</td>\n      <td>NaN</td>\n    </tr>\n    <tr>\n      <th>dois</th>\n      <td>2003</td>\n      <td>Paraná</td>\n      <td>1.7</td>\n      <td>NaN</td>\n    </tr>\n    <tr>\n      <th>três</th>\n      <td>2004</td>\n      <td>Goiás</td>\n      <td>3.6</td>\n      <td>NaN</td>\n    </tr>\n    <tr>\n      <th>quatro</th>\n      <td>2005</td>\n      <td>Bahia</td>\n      <td>2.4</td>\n      <td>NaN</td>\n    </tr>\n    <tr>\n      <th>cinco</th>\n      <td>2006</td>\n      <td>Minas Gerais</td>\n      <td>2.9</td>\n      <td>NaN</td>\n    </tr>\n  </tbody>\n</table>\n</div>"
     },
     "metadata": {},
     "execution_count": 38
    }
   ],
   "source": [
    "# Imprimindo o Dataframe\n",
    "frame2"
   ]
  },
  {
   "cell_type": "code",
   "execution_count": 39,
   "metadata": {},
   "outputs": [
    {
     "output_type": "execute_result",
     "data": {
      "text/plain": [
       "um        Santa Catarina\n",
       "dois              Paraná\n",
       "três               Goiás\n",
       "quatro             Bahia\n",
       "cinco       Minas Gerais\n",
       "Name: Estado, dtype: object"
      ]
     },
     "metadata": {},
     "execution_count": 39
    }
   ],
   "source": [
    "# Imprimindo apenas uma coluna do Dataframe\n",
    "frame2['Estado']"
   ]
  },
  {
   "cell_type": "code",
   "execution_count": 40,
   "metadata": {},
   "outputs": [
    {
     "output_type": "execute_result",
     "data": {
      "text/plain": [
       "pandas.core.frame.DataFrame"
      ]
     },
     "metadata": {},
     "execution_count": 40
    }
   ],
   "source": [
    "type(frame2)"
   ]
  },
  {
   "cell_type": "code",
   "execution_count": 41,
   "metadata": {},
   "outputs": [
    {
     "output_type": "execute_result",
     "data": {
      "text/plain": [
       "Index(['um', 'dois', 'três', 'quatro', 'cinco'], dtype='object')"
      ]
     },
     "metadata": {},
     "execution_count": 41
    }
   ],
   "source": [
    "frame2.index"
   ]
  },
  {
   "cell_type": "code",
   "execution_count": 42,
   "metadata": {},
   "outputs": [
    {
     "output_type": "execute_result",
     "data": {
      "text/plain": [
       "Index(['Ano', 'Estado', 'População', 'Débito'], dtype='object')"
      ]
     },
     "metadata": {},
     "execution_count": 42
    }
   ],
   "source": [
    "frame2.columns"
   ]
  },
  {
   "cell_type": "code",
   "execution_count": 43,
   "metadata": {},
   "outputs": [
    {
     "output_type": "execute_result",
     "data": {
      "text/plain": [
       "array([[2002, 'Santa Catarina', 1.5, nan],\n",
       "       [2003, 'Paraná', 1.7, nan],\n",
       "       [2004, 'Goiás', 3.6, nan],\n",
       "       [2005, 'Bahia', 2.4, nan],\n",
       "       [2006, 'Minas Gerais', 2.9, nan]], dtype=object)"
      ]
     },
     "metadata": {},
     "execution_count": 43
    }
   ],
   "source": [
    "frame2.values"
   ]
  },
  {
   "cell_type": "code",
   "execution_count": 44,
   "metadata": {},
   "outputs": [
    {
     "output_type": "execute_result",
     "data": {
      "text/plain": [
       "Ano            int64\n",
       "Estado        object\n",
       "População    float64\n",
       "Débito        object\n",
       "dtype: object"
      ]
     },
     "metadata": {},
     "execution_count": 44
    }
   ],
   "source": [
    "frame2.dtypes"
   ]
  },
  {
   "cell_type": "code",
   "execution_count": 45,
   "metadata": {},
   "outputs": [
    {
     "output_type": "execute_result",
     "data": {
      "text/plain": [
       "um        2002\n",
       "dois      2003\n",
       "três      2004\n",
       "quatro    2005\n",
       "cinco     2006\n",
       "Name: Ano, dtype: int64"
      ]
     },
     "metadata": {},
     "execution_count": 45
    }
   ],
   "source": [
    "frame2['Ano']"
   ]
  },
  {
   "cell_type": "code",
   "execution_count": 46,
   "metadata": {},
   "outputs": [
    {
     "output_type": "execute_result",
     "data": {
      "text/plain": [
       "um        2002\n",
       "dois      2003\n",
       "três      2004\n",
       "quatro    2005\n",
       "cinco     2006\n",
       "Name: Ano, dtype: int64"
      ]
     },
     "metadata": {},
     "execution_count": 46
    }
   ],
   "source": [
    "frame2.Ano"
   ]
  },
  {
   "cell_type": "code",
   "execution_count": 47,
   "metadata": {},
   "outputs": [
    {
     "output_type": "execute_result",
     "data": {
      "text/plain": [
       "       Ano          Estado  População Débito\n",
       "um    2002  Santa Catarina        1.5    NaN\n",
       "dois  2003          Paraná        1.7    NaN"
      ],
      "text/html": "<div>\n<style scoped>\n    .dataframe tbody tr th:only-of-type {\n        vertical-align: middle;\n    }\n\n    .dataframe tbody tr th {\n        vertical-align: top;\n    }\n\n    .dataframe thead th {\n        text-align: right;\n    }\n</style>\n<table border=\"1\" class=\"dataframe\">\n  <thead>\n    <tr style=\"text-align: right;\">\n      <th></th>\n      <th>Ano</th>\n      <th>Estado</th>\n      <th>População</th>\n      <th>Débito</th>\n    </tr>\n  </thead>\n  <tbody>\n    <tr>\n      <th>um</th>\n      <td>2002</td>\n      <td>Santa Catarina</td>\n      <td>1.5</td>\n      <td>NaN</td>\n    </tr>\n    <tr>\n      <th>dois</th>\n      <td>2003</td>\n      <td>Paraná</td>\n      <td>1.7</td>\n      <td>NaN</td>\n    </tr>\n  </tbody>\n</table>\n</div>"
     },
     "metadata": {},
     "execution_count": 47
    }
   ],
   "source": [
    "frame2[:2]"
   ]
  },
  {
   "cell_type": "markdown",
   "metadata": {},
   "source": [
    "## Usando NumPy e Pandas"
   ]
  },
  {
   "cell_type": "code",
   "execution_count": 48,
   "metadata": {},
   "outputs": [],
   "source": [
    "# Importando o NumPy\n",
    "import numpy as np"
   ]
  },
  {
   "cell_type": "code",
   "execution_count": 49,
   "metadata": {},
   "outputs": [],
   "source": [
    "# Usando o NumPy para alimentar uma das colunas do dataframe\n",
    "frame2['Débito'] = np.arange(5.)"
   ]
  },
  {
   "cell_type": "code",
   "execution_count": 50,
   "metadata": {},
   "outputs": [
    {
     "output_type": "execute_result",
     "data": {
      "text/plain": [
       "         Ano          Estado  População  Débito\n",
       "um      2002  Santa Catarina        1.5     0.0\n",
       "dois    2003          Paraná        1.7     1.0\n",
       "três    2004           Goiás        3.6     2.0\n",
       "quatro  2005           Bahia        2.4     3.0\n",
       "cinco   2006    Minas Gerais        2.9     4.0"
      ],
      "text/html": "<div>\n<style scoped>\n    .dataframe tbody tr th:only-of-type {\n        vertical-align: middle;\n    }\n\n    .dataframe tbody tr th {\n        vertical-align: top;\n    }\n\n    .dataframe thead th {\n        text-align: right;\n    }\n</style>\n<table border=\"1\" class=\"dataframe\">\n  <thead>\n    <tr style=\"text-align: right;\">\n      <th></th>\n      <th>Ano</th>\n      <th>Estado</th>\n      <th>População</th>\n      <th>Débito</th>\n    </tr>\n  </thead>\n  <tbody>\n    <tr>\n      <th>um</th>\n      <td>2002</td>\n      <td>Santa Catarina</td>\n      <td>1.5</td>\n      <td>0.0</td>\n    </tr>\n    <tr>\n      <th>dois</th>\n      <td>2003</td>\n      <td>Paraná</td>\n      <td>1.7</td>\n      <td>1.0</td>\n    </tr>\n    <tr>\n      <th>três</th>\n      <td>2004</td>\n      <td>Goiás</td>\n      <td>3.6</td>\n      <td>2.0</td>\n    </tr>\n    <tr>\n      <th>quatro</th>\n      <td>2005</td>\n      <td>Bahia</td>\n      <td>2.4</td>\n      <td>3.0</td>\n    </tr>\n    <tr>\n      <th>cinco</th>\n      <td>2006</td>\n      <td>Minas Gerais</td>\n      <td>2.9</td>\n      <td>4.0</td>\n    </tr>\n  </tbody>\n</table>\n</div>"
     },
     "metadata": {},
     "execution_count": 50
    }
   ],
   "source": [
    "frame2"
   ]
  },
  {
   "cell_type": "code",
   "execution_count": 51,
   "metadata": {},
   "outputs": [
    {
     "output_type": "execute_result",
     "data": {
      "text/plain": [
       "array([[2002, 'Santa Catarina', 1.5, 0.0],\n",
       "       [2003, 'Paraná', 1.7, 1.0],\n",
       "       [2004, 'Goiás', 3.6, 2.0],\n",
       "       [2005, 'Bahia', 2.4, 3.0],\n",
       "       [2006, 'Minas Gerais', 2.9, 4.0]], dtype=object)"
      ]
     },
     "metadata": {},
     "execution_count": 51
    }
   ],
   "source": [
    "frame2.values"
   ]
  },
  {
   "cell_type": "code",
   "execution_count": 52,
   "metadata": {},
   "outputs": [
    {
     "output_type": "execute_result",
     "data": {
      "text/plain": [
       "               Ano  População    Débito\n",
       "count     5.000000   5.000000  5.000000\n",
       "mean   2004.000000   2.420000  2.000000\n",
       "std       1.581139   0.864292  1.581139\n",
       "min    2002.000000   1.500000  0.000000\n",
       "25%    2003.000000   1.700000  1.000000\n",
       "50%    2004.000000   2.400000  2.000000\n",
       "75%    2005.000000   2.900000  3.000000\n",
       "max    2006.000000   3.600000  4.000000"
      ],
      "text/html": "<div>\n<style scoped>\n    .dataframe tbody tr th:only-of-type {\n        vertical-align: middle;\n    }\n\n    .dataframe tbody tr th {\n        vertical-align: top;\n    }\n\n    .dataframe thead th {\n        text-align: right;\n    }\n</style>\n<table border=\"1\" class=\"dataframe\">\n  <thead>\n    <tr style=\"text-align: right;\">\n      <th></th>\n      <th>Ano</th>\n      <th>População</th>\n      <th>Débito</th>\n    </tr>\n  </thead>\n  <tbody>\n    <tr>\n      <th>count</th>\n      <td>5.000000</td>\n      <td>5.000000</td>\n      <td>5.000000</td>\n    </tr>\n    <tr>\n      <th>mean</th>\n      <td>2004.000000</td>\n      <td>2.420000</td>\n      <td>2.000000</td>\n    </tr>\n    <tr>\n      <th>std</th>\n      <td>1.581139</td>\n      <td>0.864292</td>\n      <td>1.581139</td>\n    </tr>\n    <tr>\n      <th>min</th>\n      <td>2002.000000</td>\n      <td>1.500000</td>\n      <td>0.000000</td>\n    </tr>\n    <tr>\n      <th>25%</th>\n      <td>2003.000000</td>\n      <td>1.700000</td>\n      <td>1.000000</td>\n    </tr>\n    <tr>\n      <th>50%</th>\n      <td>2004.000000</td>\n      <td>2.400000</td>\n      <td>2.000000</td>\n    </tr>\n    <tr>\n      <th>75%</th>\n      <td>2005.000000</td>\n      <td>2.900000</td>\n      <td>3.000000</td>\n    </tr>\n    <tr>\n      <th>max</th>\n      <td>2006.000000</td>\n      <td>3.600000</td>\n      <td>4.000000</td>\n    </tr>\n  </tbody>\n</table>\n</div>"
     },
     "metadata": {},
     "execution_count": 52
    }
   ],
   "source": [
    "# Resumo do Dataframe\n",
    "frame2.describe()"
   ]
  },
  {
   "cell_type": "code",
   "execution_count": 53,
   "metadata": {},
   "outputs": [
    {
     "output_type": "execute_result",
     "data": {
      "text/plain": [
       "         Ano  Estado  População  Débito\n",
       "dois    2003  Paraná        1.7     1.0\n",
       "três    2004   Goiás        3.6     2.0\n",
       "quatro  2005   Bahia        2.4     3.0"
      ],
      "text/html": "<div>\n<style scoped>\n    .dataframe tbody tr th:only-of-type {\n        vertical-align: middle;\n    }\n\n    .dataframe tbody tr th {\n        vertical-align: top;\n    }\n\n    .dataframe thead th {\n        text-align: right;\n    }\n</style>\n<table border=\"1\" class=\"dataframe\">\n  <thead>\n    <tr style=\"text-align: right;\">\n      <th></th>\n      <th>Ano</th>\n      <th>Estado</th>\n      <th>População</th>\n      <th>Débito</th>\n    </tr>\n  </thead>\n  <tbody>\n    <tr>\n      <th>dois</th>\n      <td>2003</td>\n      <td>Paraná</td>\n      <td>1.7</td>\n      <td>1.0</td>\n    </tr>\n    <tr>\n      <th>três</th>\n      <td>2004</td>\n      <td>Goiás</td>\n      <td>3.6</td>\n      <td>2.0</td>\n    </tr>\n    <tr>\n      <th>quatro</th>\n      <td>2005</td>\n      <td>Bahia</td>\n      <td>2.4</td>\n      <td>3.0</td>\n    </tr>\n  </tbody>\n</table>\n</div>"
     },
     "metadata": {},
     "execution_count": 53
    }
   ],
   "source": [
    "frame2['dois':'quatro']"
   ]
  },
  {
   "cell_type": "code",
   "execution_count": 54,
   "metadata": {},
   "outputs": [
    {
     "output_type": "execute_result",
     "data": {
      "text/plain": [
       "         Ano          Estado  População  Débito\n",
       "um      2002  Santa Catarina        1.5     0.0\n",
       "dois    2003          Paraná        1.7     1.0\n",
       "três    2004           Goiás        3.6     2.0\n",
       "quatro  2005           Bahia        2.4     3.0\n",
       "cinco   2006    Minas Gerais        2.9     4.0"
      ],
      "text/html": "<div>\n<style scoped>\n    .dataframe tbody tr th:only-of-type {\n        vertical-align: middle;\n    }\n\n    .dataframe tbody tr th {\n        vertical-align: top;\n    }\n\n    .dataframe thead th {\n        text-align: right;\n    }\n</style>\n<table border=\"1\" class=\"dataframe\">\n  <thead>\n    <tr style=\"text-align: right;\">\n      <th></th>\n      <th>Ano</th>\n      <th>Estado</th>\n      <th>População</th>\n      <th>Débito</th>\n    </tr>\n  </thead>\n  <tbody>\n    <tr>\n      <th>um</th>\n      <td>2002</td>\n      <td>Santa Catarina</td>\n      <td>1.5</td>\n      <td>0.0</td>\n    </tr>\n    <tr>\n      <th>dois</th>\n      <td>2003</td>\n      <td>Paraná</td>\n      <td>1.7</td>\n      <td>1.0</td>\n    </tr>\n    <tr>\n      <th>três</th>\n      <td>2004</td>\n      <td>Goiás</td>\n      <td>3.6</td>\n      <td>2.0</td>\n    </tr>\n    <tr>\n      <th>quatro</th>\n      <td>2005</td>\n      <td>Bahia</td>\n      <td>2.4</td>\n      <td>3.0</td>\n    </tr>\n    <tr>\n      <th>cinco</th>\n      <td>2006</td>\n      <td>Minas Gerais</td>\n      <td>2.9</td>\n      <td>4.0</td>\n    </tr>\n  </tbody>\n</table>\n</div>"
     },
     "metadata": {},
     "execution_count": 54
    }
   ],
   "source": [
    "# frame2 < 5\n",
    "frame2[frame2['População'] < 5]"
   ]
  },
  {
   "cell_type": "markdown",
   "metadata": {},
   "source": [
    "## Localizando Registros Dentro do Dataframe"
   ]
  },
  {
   "cell_type": "code",
   "execution_count": 55,
   "metadata": {},
   "outputs": [
    {
     "output_type": "execute_result",
     "data": {
      "text/plain": [
       "Ano           2005\n",
       "Estado       Bahia\n",
       "População      2.4\n",
       "Débito           3\n",
       "Name: quatro, dtype: object"
      ]
     },
     "metadata": {},
     "execution_count": 55
    }
   ],
   "source": [
    "frame2.loc['quatro']"
   ]
  },
  {
   "cell_type": "code",
   "execution_count": 56,
   "metadata": {},
   "outputs": [
    {
     "output_type": "execute_result",
     "data": {
      "text/plain": [
       "Ano           2004\n",
       "Estado       Goiás\n",
       "População      3.6\n",
       "Débito           2\n",
       "Name: três, dtype: object"
      ]
     },
     "metadata": {},
     "execution_count": 56
    }
   ],
   "source": [
    "frame2.iloc[2]"
   ]
  },
  {
   "cell_type": "markdown",
   "metadata": {},
   "source": [
    "## Invertendo as Colunas e Índices"
   ]
  },
  {
   "cell_type": "code",
   "execution_count": 57,
   "metadata": {},
   "outputs": [],
   "source": [
    "# Criando um dicionário\n",
    "web_stats = {'Dias':[1, 2, 3, 4, 5, 6, 7], \n",
    "             'Visitantes':[45, 23, 67, 78, 23, 12, 14], \n",
    "             'Taxas':[11, 22, 33, 44, 55, 66, 77]}"
   ]
  },
  {
   "cell_type": "code",
   "execution_count": 58,
   "metadata": {},
   "outputs": [],
   "source": [
    "df = pd.DataFrame(web_stats)"
   ]
  },
  {
   "cell_type": "code",
   "execution_count": 59,
   "metadata": {},
   "outputs": [
    {
     "output_type": "stream",
     "name": "stdout",
     "text": [
      "   Dias  Visitantes  Taxas\n0     1          45     11\n1     2          23     22\n2     3          67     33\n3     4          78     44\n4     5          23     55\n5     6          12     66\n6     7          14     77\n"
     ]
    }
   ],
   "source": [
    "print(df)"
   ]
  },
  {
   "cell_type": "code",
   "execution_count": 60,
   "metadata": {},
   "outputs": [
    {
     "output_type": "stream",
     "name": "stdout",
     "text": [
      "      Visitantes  Taxas\nDias                   \n1             45     11\n2             23     22\n3             67     33\n4             78     44\n5             23     55\n6             12     66\n7             14     77\n"
     ]
    }
   ],
   "source": [
    "# Visualizando uma coluna  index\n",
    "print(df.set_index('Dias'))"
   ]
  },
  {
   "cell_type": "code",
   "execution_count": 61,
   "metadata": {},
   "outputs": [
    {
     "output_type": "stream",
     "name": "stdout",
     "text": [
      "   Dias  Visitantes  Taxas\n0     1          45     11\n1     2          23     22\n2     3          67     33\n3     4          78     44\n4     5          23     55\n"
     ]
    }
   ],
   "source": [
    "print(df.head())"
   ]
  },
  {
   "cell_type": "code",
   "execution_count": 62,
   "metadata": {},
   "outputs": [
    {
     "output_type": "stream",
     "name": "stdout",
     "text": [
      "0    45\n1    23\n2    67\n3    78\n4    23\n5    12\n6    14\nName: Visitantes, dtype: int64\n"
     ]
    }
   ],
   "source": [
    "print(df['Visitantes'])"
   ]
  },
  {
   "cell_type": "code",
   "execution_count": 63,
   "metadata": {},
   "outputs": [
    {
     "output_type": "stream",
     "name": "stdout",
     "text": [
      "   Visitantes  Taxas\n0          45     11\n1          23     22\n2          67     33\n3          78     44\n4          23     55\n5          12     66\n6          14     77\n"
     ]
    }
   ],
   "source": [
    "print(df[['Visitantes', 'Taxas']])"
   ]
  },
  {
   "cell_type": "markdown",
   "metadata": {},
   "source": [
    "## Dataframes e Arquivos csv"
   ]
  },
  {
   "cell_type": "code",
   "execution_count": 64,
   "metadata": {},
   "outputs": [],
   "source": [
    "# Usando o método read_csv\n",
    "df = pd.read_csv('salarios.csv')"
   ]
  },
  {
   "cell_type": "code",
   "execution_count": 65,
   "metadata": {},
   "outputs": [
    {
     "output_type": "execute_result",
     "data": {
      "text/plain": [
       "                      Name            Position Title        Department  \\\n",
       "0          AARON,  ELVIA J          WATER RATE TAKER       WATER MGMNT   \n",
       "1        AARON,  JEFFERY M            POLICE OFFICER            POLICE   \n",
       "2           AARON,  KARINA            POLICE OFFICER            POLICE   \n",
       "3      AARON,  KIMBERLEI R  CHIEF CONTRACT EXPEDITER  GENERAL SERVICES   \n",
       "4      ABAD JR,  VICENTE M         CIVIL ENGINEER IV       WATER MGMNT   \n",
       "...                    ...                       ...               ...   \n",
       "32177   ZYGOWICZ,  PETER J            POLICE OFFICER            POLICE   \n",
       "32178    ZYMANTAS,  MARK E            POLICE OFFICER            POLICE   \n",
       "32179  ZYRKOWSKI,  CARLO E            POLICE OFFICER            POLICE   \n",
       "32180  ZYSKOWSKI,  DARIUSZ   CHIEF DATA BASE ANALYST              DoIT   \n",
       "32181                  NaN                       NaN               NaN   \n",
       "\n",
       "      Employee Annual Salary  \n",
       "0                  $88965.00  \n",
       "1                  $80778.00  \n",
       "2                  $80778.00  \n",
       "3                  $84780.00  \n",
       "4                 $104736.00  \n",
       "...                      ...  \n",
       "32177              $86520.00  \n",
       "32178              $83616.00  \n",
       "32179              $86520.00  \n",
       "32180             $110352.00  \n",
       "32181                    NaN  \n",
       "\n",
       "[32182 rows x 4 columns]"
      ],
      "text/html": "<div>\n<style scoped>\n    .dataframe tbody tr th:only-of-type {\n        vertical-align: middle;\n    }\n\n    .dataframe tbody tr th {\n        vertical-align: top;\n    }\n\n    .dataframe thead th {\n        text-align: right;\n    }\n</style>\n<table border=\"1\" class=\"dataframe\">\n  <thead>\n    <tr style=\"text-align: right;\">\n      <th></th>\n      <th>Name</th>\n      <th>Position Title</th>\n      <th>Department</th>\n      <th>Employee Annual Salary</th>\n    </tr>\n  </thead>\n  <tbody>\n    <tr>\n      <th>0</th>\n      <td>AARON,  ELVIA J</td>\n      <td>WATER RATE TAKER</td>\n      <td>WATER MGMNT</td>\n      <td>$88965.00</td>\n    </tr>\n    <tr>\n      <th>1</th>\n      <td>AARON,  JEFFERY M</td>\n      <td>POLICE OFFICER</td>\n      <td>POLICE</td>\n      <td>$80778.00</td>\n    </tr>\n    <tr>\n      <th>2</th>\n      <td>AARON,  KARINA</td>\n      <td>POLICE OFFICER</td>\n      <td>POLICE</td>\n      <td>$80778.00</td>\n    </tr>\n    <tr>\n      <th>3</th>\n      <td>AARON,  KIMBERLEI R</td>\n      <td>CHIEF CONTRACT EXPEDITER</td>\n      <td>GENERAL SERVICES</td>\n      <td>$84780.00</td>\n    </tr>\n    <tr>\n      <th>4</th>\n      <td>ABAD JR,  VICENTE M</td>\n      <td>CIVIL ENGINEER IV</td>\n      <td>WATER MGMNT</td>\n      <td>$104736.00</td>\n    </tr>\n    <tr>\n      <th>...</th>\n      <td>...</td>\n      <td>...</td>\n      <td>...</td>\n      <td>...</td>\n    </tr>\n    <tr>\n      <th>32177</th>\n      <td>ZYGOWICZ,  PETER J</td>\n      <td>POLICE OFFICER</td>\n      <td>POLICE</td>\n      <td>$86520.00</td>\n    </tr>\n    <tr>\n      <th>32178</th>\n      <td>ZYMANTAS,  MARK E</td>\n      <td>POLICE OFFICER</td>\n      <td>POLICE</td>\n      <td>$83616.00</td>\n    </tr>\n    <tr>\n      <th>32179</th>\n      <td>ZYRKOWSKI,  CARLO E</td>\n      <td>POLICE OFFICER</td>\n      <td>POLICE</td>\n      <td>$86520.00</td>\n    </tr>\n    <tr>\n      <th>32180</th>\n      <td>ZYSKOWSKI,  DARIUSZ</td>\n      <td>CHIEF DATA BASE ANALYST</td>\n      <td>DoIT</td>\n      <td>$110352.00</td>\n    </tr>\n    <tr>\n      <th>32181</th>\n      <td>NaN</td>\n      <td>NaN</td>\n      <td>NaN</td>\n      <td>NaN</td>\n    </tr>\n  </tbody>\n</table>\n<p>32182 rows × 4 columns</p>\n</div>"
     },
     "metadata": {},
     "execution_count": 65
    }
   ],
   "source": [
    "df"
   ]
  },
  {
   "cell_type": "code",
   "execution_count": 66,
   "metadata": {},
   "outputs": [],
   "source": [
    "# Usando o método read_table\n",
    "df = pd.read_table('salarios.csv', sep = ',')"
   ]
  },
  {
   "cell_type": "code",
   "execution_count": 67,
   "metadata": {},
   "outputs": [
    {
     "output_type": "execute_result",
     "data": {
      "text/plain": [
       "                      Name            Position Title        Department  \\\n",
       "0          AARON,  ELVIA J          WATER RATE TAKER       WATER MGMNT   \n",
       "1        AARON,  JEFFERY M            POLICE OFFICER            POLICE   \n",
       "2           AARON,  KARINA            POLICE OFFICER            POLICE   \n",
       "3      AARON,  KIMBERLEI R  CHIEF CONTRACT EXPEDITER  GENERAL SERVICES   \n",
       "4      ABAD JR,  VICENTE M         CIVIL ENGINEER IV       WATER MGMNT   \n",
       "...                    ...                       ...               ...   \n",
       "32177   ZYGOWICZ,  PETER J            POLICE OFFICER            POLICE   \n",
       "32178    ZYMANTAS,  MARK E            POLICE OFFICER            POLICE   \n",
       "32179  ZYRKOWSKI,  CARLO E            POLICE OFFICER            POLICE   \n",
       "32180  ZYSKOWSKI,  DARIUSZ   CHIEF DATA BASE ANALYST              DoIT   \n",
       "32181                  NaN                       NaN               NaN   \n",
       "\n",
       "      Employee Annual Salary  \n",
       "0                  $88965.00  \n",
       "1                  $80778.00  \n",
       "2                  $80778.00  \n",
       "3                  $84780.00  \n",
       "4                 $104736.00  \n",
       "...                      ...  \n",
       "32177              $86520.00  \n",
       "32178              $83616.00  \n",
       "32179              $86520.00  \n",
       "32180             $110352.00  \n",
       "32181                    NaN  \n",
       "\n",
       "[32182 rows x 4 columns]"
      ],
      "text/html": "<div>\n<style scoped>\n    .dataframe tbody tr th:only-of-type {\n        vertical-align: middle;\n    }\n\n    .dataframe tbody tr th {\n        vertical-align: top;\n    }\n\n    .dataframe thead th {\n        text-align: right;\n    }\n</style>\n<table border=\"1\" class=\"dataframe\">\n  <thead>\n    <tr style=\"text-align: right;\">\n      <th></th>\n      <th>Name</th>\n      <th>Position Title</th>\n      <th>Department</th>\n      <th>Employee Annual Salary</th>\n    </tr>\n  </thead>\n  <tbody>\n    <tr>\n      <th>0</th>\n      <td>AARON,  ELVIA J</td>\n      <td>WATER RATE TAKER</td>\n      <td>WATER MGMNT</td>\n      <td>$88965.00</td>\n    </tr>\n    <tr>\n      <th>1</th>\n      <td>AARON,  JEFFERY M</td>\n      <td>POLICE OFFICER</td>\n      <td>POLICE</td>\n      <td>$80778.00</td>\n    </tr>\n    <tr>\n      <th>2</th>\n      <td>AARON,  KARINA</td>\n      <td>POLICE OFFICER</td>\n      <td>POLICE</td>\n      <td>$80778.00</td>\n    </tr>\n    <tr>\n      <th>3</th>\n      <td>AARON,  KIMBERLEI R</td>\n      <td>CHIEF CONTRACT EXPEDITER</td>\n      <td>GENERAL SERVICES</td>\n      <td>$84780.00</td>\n    </tr>\n    <tr>\n      <th>4</th>\n      <td>ABAD JR,  VICENTE M</td>\n      <td>CIVIL ENGINEER IV</td>\n      <td>WATER MGMNT</td>\n      <td>$104736.00</td>\n    </tr>\n    <tr>\n      <th>...</th>\n      <td>...</td>\n      <td>...</td>\n      <td>...</td>\n      <td>...</td>\n    </tr>\n    <tr>\n      <th>32177</th>\n      <td>ZYGOWICZ,  PETER J</td>\n      <td>POLICE OFFICER</td>\n      <td>POLICE</td>\n      <td>$86520.00</td>\n    </tr>\n    <tr>\n      <th>32178</th>\n      <td>ZYMANTAS,  MARK E</td>\n      <td>POLICE OFFICER</td>\n      <td>POLICE</td>\n      <td>$83616.00</td>\n    </tr>\n    <tr>\n      <th>32179</th>\n      <td>ZYRKOWSKI,  CARLO E</td>\n      <td>POLICE OFFICER</td>\n      <td>POLICE</td>\n      <td>$86520.00</td>\n    </tr>\n    <tr>\n      <th>32180</th>\n      <td>ZYSKOWSKI,  DARIUSZ</td>\n      <td>CHIEF DATA BASE ANALYST</td>\n      <td>DoIT</td>\n      <td>$110352.00</td>\n    </tr>\n    <tr>\n      <th>32181</th>\n      <td>NaN</td>\n      <td>NaN</td>\n      <td>NaN</td>\n      <td>NaN</td>\n    </tr>\n  </tbody>\n</table>\n<p>32182 rows × 4 columns</p>\n</div>"
     },
     "metadata": {},
     "execution_count": 67
    }
   ],
   "source": [
    "df"
   ]
  },
  {
   "cell_type": "code",
   "execution_count": 102,
   "metadata": {
    "tags": [
     "outputPrepend"
    ]
   },
   "outputs": [
    {
     "output_type": "stream",
     "name": "stdout",
     "text": [
      "FINANCE,$111216.00\n",
      "\"YOUNG,  EUNICE\",SENIOR COMPANION,FAMILY & SUPPORT,$2756.00\n",
      "\"YOUNG,  GERALDINE\",CRIMINAL HISTORY ANALYST,POLICE,$80328.00\n",
      "\"YOUNG,  GREGORY J\",POLICE OFFICER,POLICE,$80778.00\n",
      "\"YOUNG,  IRENE S\",POLICE COMMUNICATIONS OPERATOR II,OEMC,$80940.00\n",
      "\"YOUNG,  JAMES G\",POLICE OFFICER,POLICE,$92316.00\n",
      "\"YOUNG,  JERMAINE M\",POLICE OFFICER,POLICE,$80778.00\n",
      "\"YOUNG,  JERRY L\",CLERK III,POLICE,$55428.00\n",
      "\"YOUNG,  JOHN A\",CONSTRUCTION LABORER,WATER MGMNT,$79040.00\n",
      "\"YOUNG JR,  KENNETH\",POLICE OFFICER,POLICE,$89718.00\n",
      "\"YOUNG JR,  LEROY\",CONSUMER INVESTIGATOR I,BUSINESS AFFAIRS,$69888.00\n",
      "\"YOUNG,  KENNETH\",DETENTION AIDE,POLICE,$67212.00\n",
      "\"YOUNG,  KRISTY\",CROSSING GUARD - PER AGREEMENT,POLICE,$13790.40\n",
      "\"YOUNG,  LADIVA M\",TREE TRIMMER,STREETS & SAN,$74464.00\n",
      "\"YOUNG,  LARRY\",OPERATING ENGINEER-GROUP C,AVIATION,$93745.60\n",
      "\"YOUNG,  LASHAUN\",TRAFFIC CONTROL AIDE-HOURLY,OEMC,$19656.00\n",
      "\"YOUNG,  LINDA F\",SANITATION LABORER,STREETS & SAN,$72384.00\n",
      "\"YOUNG,  LONNIE D\",POLICE OFFICER,POLICE,$86520.00\n",
      "\"YOUNG,  MAURICE A\",FIREFIGHTER-EMT (RECRUIT),FIRE,$54114.00\n",
      "\"YOUNG,  MICHELE D\",CROSSING GUARD,POLICE,$22131.20\n",
      "\"YOUNG,  PAUL D\",POLICE OFFICER,POLICE,$80778.00\n",
      "\"YOUNG,  RASHIDA L\",POLICE OFFICER,POLICE,$80778.00\n",
      "\"YOUNG,  RAY W\",SERGEANT,POLICE,$106920.00\n",
      "\"YOUNG,  RITA T\",TIMEKEEPER - CPD,POLICE,$73200.00\n",
      "\"YOUNG,  ROBERT A\",POLICE OFFICER,POLICE,$86520.00\n",
      "\"YOUNG,  RONALD L\",LIEUTENANT,FIRE,$110370.00\n",
      "\"YOUNG,  SARAH L\",MANAGER OF DATA ENTRY OPERATORS,FIRE,$57648.00\n",
      "\"YOUNG,  STEPHEN L\",FIREFIGHTER,FIRE,$93594.00\n",
      "\"YOUNG,  STEVEN A\",POLICE OFFICER,POLICE,$89718.00\n",
      "\"YOUNG,  SUSAN E\",POLICE OFFICER,POLICE,$80778.00\n",
      "\"YOUNG,  TAMARA S\",HEAD LIBRARY CLERK,PUBLIC LIBRARY,$60780.00\n",
      "\"YOUNG,  THOMAS E\",FIREFIGHTER/PARAMEDIC,FIRE,$90798.00\n",
      "\"YOUNG,  THOMAS P\",POLICE OFFICER,POLICE,$89718.00\n",
      "\"YOUNG,  TORRI R\",DENTAL ASST,HEALTH,$55428.00\n",
      "\"YOUNG,  YVONNE M\",TRAFFIC CONTROL AIDE-HOURLY,OEMC,$19656.00\n",
      "\"YOUNKINS,  MARK A\",CONTRACTS COMPLIANCE COORD,HEALTH,$80916.00\n",
      "\"YOUNKINS,  RHONDA C\",POLICE COMMUNICATIONS OPERATOR I,OEMC,$61260.00\n",
      "\"YOUSIF,  EVAN F\",POLICE OFFICER,POLICE,$83616.00\n",
      "\"YOUSTRA,  RYAN\",POLICE OFFICER,POLICE,$73296.00\n",
      "\"YOZA,  KENNETH K\",FIRE ENGINEER,FIRE,$93648.00\n",
      "\"YRACHETA,  LORI\",POOL MOTOR TRUCK DRIVER,AVIATION,$71780.80\n",
      "\"YUE,  HENRY K\",ACCOUNTANT I,FINANCE,$72840.00\n",
      "\"YUEN,  ELLEN\",HEAD LIBRARY CLERK,PUBLIC LIBRARY,$60780.00\n",
      "\"YUE,  WILLIAM K\",PREPRESS TECHNICIAN,GENERAL SERVICES,$50160.00\n",
      "\"YUKAWA,  LAURA G\",POLICE OFFICER,POLICE,$89718.00\n",
      "\"YU,  LIANG W\",LIBRARY CLERK,PUBLIC LIBRARY,$38208.00\n",
      "\"YU,  MING Z\",SENIOR COMPANION,FAMILY & SUPPORT,$2756.00\n",
      "\"YUNG,  MAY\",POOL MOTOR TRUCK DRIVER,STREETS & SAN,$71780.80\n",
      "\"YUNG,  TIMOTHY\",SUPVSR OF AUDITING,FINANCE,$99108.00\n",
      "\"YURISICH,  DONALD M\",POLICE OFFICER (ASSIGNED AS DETECTIVE),POLICE,$93648.00\n",
      "\"YUSUF,  MOHAMMAD A\",POLICE OFFICER,POLICE,$83616.00\n",
      "\"YU,  WAN FANG\",LIBRARIAN I,PUBLIC LIBRARY,$59352.00\n",
      "\"YZAGUIRRE,  MICHAEL R\",POLICE OFFICER,POLICE,$89718.00\n",
      "\"ZABEL,  SHERRY\",CLERK - BD OF ELECTIONS,BOARD OF ELECTION,$28608.00\n",
      "\"ZABER,  GREGORY S\",ASST CHIEF OPERATING ENGINEER,WATER MGMNT,$108534.40\n",
      "\"ZABER,  NICHOLAS E\",SERGEANT,POLICE,$106920.00\n",
      "\"ZABLOCKI,  EDMUND F\",POLICE OFFICER,POLICE,$83616.00\n",
      "\"ZACCAGNINI,  GEORGE J\",CAPTAIN-EMT,FIRE,$131466.00\n",
      "\"ZACCAGNINI,  JOSEPH A\",OPERATING ENGINEER-GROUP A,AVIATION,$98675.20\n",
      "\"ZACCAGNINO,  JOSEPH A\",POLICE OFFICER,POLICE,$83616.00\n",
      "\"ZACCONE,  THOMAS S\",POLICE OFFICER,POLICE,$80778.00\n",
      "\"ZACEK,  DAVID R\",POLICE OFFICER,POLICE,$89718.00\n",
      "\"ZACEK,  DEBRA A\",POLICE OFFICER,POLICE,$86520.00\n",
      "\"ZACH,  MICHAEL D\",FIREFIGHTER/PARAMEDIC,FIRE,$79584.00\n",
      "\"ZADURA,  STEFAN W\",POLICE OFFICER,POLICE,$83616.00\n",
      "\"ZAENTZ,  JONATHAN A\",PARAMEDIC FIELD CHIEF,FIRE,$128004.00\n",
      "\"ZAFIRIS,  CHRISTOPHER\",ARCHITECT IV,DISABILITIES,$104736.00\n",
      "\"ZAGLOBA,  AMANDA L\",LIBRARIAN I,PUBLIC LIBRARY,$53796.00\n",
      "\"ZAGONE,  JOSEPH M\",SEWER BRICKLAYER,WATER MGMNT,$88566.40\n",
      "\"ZAGORSKI,  RUSSELL\",POLICE OFFICER,POLICE,$69684.00\n",
      "\"ZAHDAN,  HAZEM\",FILTRATION ENGINEER III,WATER MGMNT,$95880.00\n",
      "\"ZAHDAN,  MOEEN D\",STAFF ASST TO THE ALDERMAN,CITY COUNCIL,$55656.00\n",
      "\"ZAHDAN,  ZIYADEH D\",PLUMBING INSPECTOR,WATER MGMNT,$99252.00\n",
      "\"ZAHLMANN,  KRISTINE L\",POLICE OFFICER,POLICE,$83616.00\n",
      "\"ZAHN,  DAVID R\",LIEUTENANT,POLICE,$116724.00\n",
      "\"ZAHRADNIK,  JOSEPH\",POLICE OFFICER,POLICE,$73296.00\n",
      "\"ZAIB,  ZOHAIB\",POLICE OFFICER,POLICE,$69684.00\n",
      "\"ZAIDAN,  JENNIFER L\",POLICE OFFICER,POLICE,$83616.00\n",
      "\"ZAIDI,  SYED K\",PARKING ENFORCEMENT AIDE,FINANCE,$46380.00\n",
      "\"ZAJA,  ALAN J\",BATTALION CHIEF,FIRE,$135480.00\n",
      "\"ZAJAC,  ANTHONY M\",FIRE ENGINEER-EMT,FIRE,$99324.00\n",
      "\"ZAJAC,  JASON R\",FIREFIGHTER-EMT,FIRE,$91764.00\n",
      "\"ZAJAC,  MARTIN E\",FIREFIGHTER-EMT (RECRUIT),FIRE,$54114.00\n",
      "\"ZAJAC,  VICTOR D\",FIREFIGHTER (PER ARBITRATORS AWARD)-PARAMEDIC,FIRE,$98244.00\n",
      "\"ZAJCZENKO,  STEFAN W\",POLICE OFFICER,POLICE,$86520.00\n",
      "\"ZAJDZINSKI,  VINCENT\",MACHINIST (AUTOMOTIVE),GENERAL SERVICES,$92248.00\n",
      "\"ZAKEE,  AMEER\",FIREFIGHTER-EMT,FIRE,$85680.00\n",
      "\"ZAKE,  JOSHUA S\",CIVIL ENGINEER IV,TRANSPORTN,$104736.00\n",
      "\"ZAK,  ELIZABETH V\",POLICE COMMUNICATIONS OPERATOR II,OEMC,$73764.00\n",
      "\"ZALA,  VEEJAY N\",POLICE OFFICER,POLICE,$86520.00\n",
      "\"ZALESKI,  MARIUSZ\",AVIATION SECURITY OFFICER,AVIATION,$64188.00\n",
      "\"ZALEWSKI,  DANIEL L\",POLICE OFFICER,POLICE,$92316.00\n",
      "\"ZALEWSKI,  FRANK A\",POOL MOTOR TRUCK DRIVER,STREETS & SAN,$71780.80\n",
      "\"ZALEWSKI,  JOHN E\",POLICE OFFICER (ASSIGNED AS DETECTIVE),POLICE,$97044.00\n",
      "\"ZALEWSKI,  MARK\",POLICE OFFICER,POLICE,$86520.00\n",
      "\"ZALEWSKI,  MICHAEL R\",ALDERMAN,CITY COUNCIL,$114996.00\n",
      "\"ZALINSKI,  ANDRZEJ\",POLICE OFFICER,POLICE,$65946.00\n",
      "\"ZALINSKI,  DONALD E\",POLICE OFFICER,POLICE,$86520.00\n",
      "\"ZALINSKI,  KIMBERLY S\",POLICE OFFICER,POLICE,$86520.00\n",
      "\"ZALINSKI,  SHANNON M\",LIBRARIAN I,PUBLIC LIBRARY,$72840.00\n",
      "\"ZALINSKI,  STANISLAW\",POLICE OFFICER,POLICE,$80778.00\n",
      "\"ZALLER,  MATTHEW J\",FIREFIGHTER/PARAMEDIC,FIRE,$87720.00\n",
      "\"ZAMARRIPA,  CRUZ C\",CROSSING GUARD,POLICE,$18324.80\n",
      "\"ZAMAYOA,  ALYSSA-MARIE\",PROGRAM AIDE,POLICE,$9360.00\n",
      "\"ZAMBRANO,  EMMANUEL\",POLICE OFFICER,POLICE,$69684.00\n",
      "\"ZAMBRANO,  JAVIER A\",POLICE OFFICER,POLICE,$83616.00\n",
      "\"ZAMBRANO JR,  LUIS\",POLICE OFFICER (ASSIGNED AS SECURITY SPECIALIST),POLICE,$106920.00\n",
      "\"ZAMBRANO,  SONIA\",POLICE OFFICER,POLICE,$83616.00\n",
      "\"ZAMOJSKA,  MARTA K\",POLICE OFFICER,POLICE,$69684.00\n",
      "\"ZAMOJSKI,  CAROLYN\",CROSSING GUARD,POLICE,$22131.20\n",
      "\"ZAMORA,  ANTHONY M\",POLICE OFFICER,POLICE,$80778.00\n",
      "\"ZAMORA,  CARLOS A\",POLICE OFFICER,POLICE,$83616.00\n",
      "\"ZAMORA,  HECTOR M\",POOL MOTOR TRUCK DRIVER,AVIATION,$71780.80\n",
      "\"ZAMORA II,  MARTIN\",POOL MOTOR TRUCK DRIVER,TRANSPORTN,$71780.80\n",
      "\"ZAMORA,  JANE F\",PROGRAM AUDITOR II,HEALTH,$73200.00\n",
      "\"ZAMORA,  JESUS\",GENERAL LABORER - DSS,STREETS & SAN,$43201.60\n",
      "\"ZAMORA,  LEONCIO\",ASPHALT LABORER,TRANSPORTN,$79040.00\n",
      "\"ZAMORA,  LOUIS C\",FIREFIGHTER-EMT,FIRE,$99258.00\n",
      "\"ZAMORA,  MARTIN\",MOTOR TRUCK DRIVER,STREETS & SAN,$71780.80\n",
      "\"ZAMORA,  MICHAEL\",FIRE ENGINEER-EMT,FIRE,$99324.00\n",
      "\"ZAMORA,  PASCUAL\",MOTOR TRUCK DRIVER,STREETS & SAN,$71780.80\n",
      "\"ZAMORA,  REBECCA A\",ADMIN SERVICES OFFICER I-EXCLUDED,POLICE,$64152.00\n",
      "\"ZAMUDIO,  JAIME\",FIREFIGHTER,FIRE,$90018.00\n",
      "\"ZAMZOW,  ANNE E\",POLICE OFFICER,POLICE,$83616.00\n",
      "\"ZANDERS,  JERRY J\",POLICE OFFICER,POLICE,$83616.00\n",
      "\"ZANGARIYA,  SOHEB M\",TRAFFIC CONTROL AIDE-HOURLY,OEMC,$19656.00\n",
      "\"ZANIN,  MICHAEL J\",ELECTRICAL MECHANIC,GENERAL SERVICES,$91520.00\n",
      "\"ZANKO,  JESSE A\",AVIATION SECURITY OFFICER,AVIATION,$48924.00\n",
      "\"ZAPATA,  HUGO\",SR PROCUREMENT SPECIALIST,PROCUREMENT,$84780.00\n",
      "\"ZAPATA,  JOSHUA\",POLICE OFFICER,POLICE,$83616.00\n",
      "\"ZAPATA,  MARGIE\",TRAFFIC CONTROL AIDE,OEMC,$35328.00\n",
      "\"ZAPATA,  MARIA G\",POLICE OFFICER,POLICE,$80778.00\n",
      "\"ZAPATA,  PEDRO\",POLICE OFFICER,POLICE,$86520.00\n",
      "\"ZARAGOZA,  GREGORY\",POLICE OFFICER,POLICE,$89718.00\n",
      "\"ZARAGOZA,  JUAN F\",POLICE OFFICER,POLICE,$89718.00\n",
      "\"ZARAGOZA,  MARTHA G\",POLICE OFFICER,POLICE,$86520.00\n",
      "\"ZARAGOZA,  MICHAEL\",POLICE OFFICER,POLICE,$69684.00\n",
      "\"ZARAGOZA,  RAYMUNDO\",POLICE OFFICER,POLICE,$83616.00\n",
      "\"ZARATE,  MARCOS\",ELECTRICAL MECHANIC-AUTO-POLICE MTR MNT,GENERAL SERVICES,$91520.00\n",
      "\"ZARATE,  RICHARD L\",FIRE ENGINEER-EMT,FIRE,$105918.00\n",
      "\"ZARATE,  ROSIEL\",SENIOR BUSINESS CONSULTANT,BUSINESS AFFAIRS,$67224.00\n",
      "\"ZARBOCK,  NICK F\",POLICE OFFICER,POLICE,$86520.00\n",
      "\"ZARCO,  GAMALIEL\",POLICE OFFICER,POLICE,$69684.00\n",
      "\"ZARCONE,  ANTHONY J\",FIREFIGHTER,FIRE,$90018.00\n",
      "\"ZAREMBA,  WILLIAM M\",DETENTION AIDE,POLICE,$61260.00\n",
      "\"ZARESKI,  WALTER S\",POOL MOTOR TRUCK DRIVER,STREETS & SAN,$71780.80\n",
      "\"ZARIC,  MARKO\",STAFF ASST TO THE ALDERMAN,CITY COUNCIL,$45684.00\n",
      "\"ZARKY,  ROGER P\",GARAGE ATTENDANT,GENERAL SERVICES,$46592.00\n",
      "\"ZARLENGA,  MICHAEL C\",SANITATION LABORER,STREETS & SAN,$72384.00\n",
      "\"ZARLENGA,  NICHOLAS\",FIREFIGHTER-EMT,FIRE,$85680.00\n",
      "\"ZAROBSKY,  JEFFREY O\",FIREFIGHTER/PARAMEDIC,FIRE,$87720.00\n",
      "\"ZARO,  NICHOLAS J\",WARD SUPERINTENDENT,STREETS & SAN,$97416.00\n",
      "\"ZATORA,  MONIKA\",POLICE OFFICER,POLICE,$80778.00\n",
      "\"ZATORA,  TOMASZ M\",POLICE OFFICER,POLICE,$80778.00\n",
      "\"ZATOR,  KENNETH W\",AVIATION SECURITY OFFICER - HOURLY,AVIATION,$22120.80\n",
      "\"ZATOR,  KEVIN M\",AVIATION SECURITY SERGEANT,AVIATION,$67224.00\n",
      "\"ZATTAIR,  NICK\",POLICE OFFICER,POLICE,$89718.00\n",
      "\"ZAUCEDO,  JOSE C\",FIREFIGHTER-EMT,FIRE,$88680.00\n",
      "\"ZAUKAS,  RYAN M\",POOL MOTOR TRUCK DRIVER,TRANSPORTN,$71780.80\n",
      "\"ZAVALA,  FERNANDO\",ACCOUNTANT IV,FINANCE,$95880.00\n",
      "\"ZAVALA,  JOSUE\",CONCRETE LABORER,TRANSPORTN,$79040.00\n",
      "\"ZAVALA,  MARK A\",LABORER,TRANSPORTN,$71136.00\n",
      "\"ZAVALA,  MATTHEW R\",SERVICE WRITER,GENERAL SERVICES,$61356.00\n",
      "\"ZAVALA,  MICHAEL D\",FRM OF MACHINISTS - AUTOMOTIVE,GENERAL SERVICES,$97448.00\n",
      "\"ZAVALA,  OLGA\",CROSSING GUARD,POLICE,$17492.80\n",
      "\"ZAVALA,  ROBERTO\",POLICE OFFICER,POLICE,$69684.00\n",
      "\"ZAVALA,  SHALINA P\",DATA ENTRY OPERATOR,POLICE,$41952.00\n",
      "\"ZAVALA,  VICTOR M\",EQUIPMENT DISPATCHER,GENERAL SERVICES,$73028.80\n",
      "\"ZAVALA,  WENSESLAO\",POLICE OFFICER,POLICE,$83616.00\n",
      "\"ZAVALETA,  RAMON\",POLICE OFFICER,POLICE,$83616.00\n",
      "\"ZAVISTAUSKAS,  ROMAS\",PLUMBER,WATER MGMNT,$97032.00\n",
      "\"ZAVOS,  JAMES M\",POOL MOTOR TRUCK DRIVER,STREETS & SAN,$71780.80\n",
      "\"ZAWADA,  RICHARD A\",POLICE OFFICER,POLICE,$89718.00\n",
      "\"ZAWADA,  ROMAN F\",POLICE OFFICER,POLICE,$83616.00\n",
      "\"ZAWADSKI,  JAMES\",CLERK IV,LAW,$66684.00\n",
      "\"ZAWADZKI,  SHELLEY M\",LIBRARIAN III,PUBLIC LIBRARY,$83256.00\n",
      "\"ZAWILA,  MARK A\",POLICE OFFICER (ASSIGNED AS DETECTIVE),POLICE,$97044.00\n",
      "\"ZAWILA,  ROBERT\",POOL MOTOR TRUCK DRIVER,STREETS & SAN,$71780.80\n",
      "\"ZAWORA,  JOHN M\",SUPVSR OF LOT CLEANING SERVICES,STREETS & SAN,$92304.00\n",
      "\"ZAYAS,  ALBERTO H\",POLICE OFFICER,POLICE,$80778.00\n",
      "\"ZAYAS,  ALEXIS M\",POLICE OFFICER,POLICE,$76902.00\n",
      "\"ZAYAS JR,  ANDRES\",SERGEANT,POLICE,$106920.00\n",
      "\"ZAYED,  SAMERA Z\",DISABILITY SPECIALIST II,DISABILITIES,$80424.00\n",
      "\"ZBELA,  KRYSTYNA Z\",POLICE OFFICER,POLICE,$80778.00\n",
      "\"ZBIKOWSKI,  THOMAS M\",FIREFIGHTER-EMT (RECRUIT),FIRE,$54114.00\n",
      "\"ZBOREK,  ROBERT\",VETERINARY ASST,ANIMAL CONTRL,$60780.00\n",
      "\"ZBORIL,  NORA A\",PUBLIC RELATIONS REPRESENTATIVE III,CULTURAL AFFAIRS,$70380.00\n",
      "\"ZDANYS,  DAVID A\",POLICE OFFICER,POLICE,$86520.00\n",
      "\"ZDEB,  MARK J\",POLICE OFFICER,POLICE,$80778.00\n",
      "\"ZDRZALKA,  PIOTR\",POLICE OFFICER,POLICE,$69684.00\n",
      "\"ZECEVICH,  DRAGAN\",FOREMAN OF ELECTRICAL MECHANICS,WATER MGMNT,$97760.00\n",
      "\"ZEFRAN,  FRANK J\",CONSTRUCTION LABORER,WATER MGMNT,$79040.00\n",
      "\"ZEFRAN,  JOHN L\",ASST GENERAL SUPT OF STREETS AND SANITATION,STREETS & SAN,$93024.00\n",
      "\"ZEGA,  JAMES E\",POLICE OFFICER,POLICE,$89718.00\n",
      "\"ZEGLIS,  THERESA\",POLICE OFFICER,POLICE,$69684.00\n",
      "\"ZEHAR,  DONALD L\",CONSTRUCTION LABORER,AVIATION,$79040.00\n",
      "\"ZEIGER,  EDWARD A\",POLICE COMMUNICATIONS OPERATOR I,OEMC,$77220.00\n",
      "\"ZEIGLER,  RICK A\",FIREFIGHTER (PER ARBITRATORS AWARD)-PARAMEDIC,FIRE,$108462.00\n",
      "\"ZEIMYS,  ERIK M\",HOISTING ENGINEER - MECHANIC,GENERAL SERVICES,$104208.00\n",
      "\"ZELAYA,  MANUEL E\",FOREMAN OF PAINTERS,AVIATION,$97697.60\n",
      "\"ZELEZNAK,  MARK J\",ELECTRICAL MECHANIC-AUTO-POLICE MTR MNT,GENERAL SERVICES,$91520.00\n",
      "\"ZELIG,  DAVID J\",POLICE OFFICER,POLICE,$89718.00\n",
      "\"ZELITZKY,  ADAM R\",SERGEANT,POLICE,$110370.00\n",
      "\"ZELLER,  DANIEL J\",FIREFIGHTER/PARAMEDIC,FIRE,$87720.00\n",
      "\"ZELLER,  ELIZABETH M\",PARAMEDIC I/C,FIRE,$87534.00\n",
      "\"ZEMEK,  HELEN O\",LIEUTENANT,POLICE,$120264.00\n",
      "\"ZEMKE,  CRAIG M\",SUPVSR OF CHILDREN SERVICES PROGRAMS,FAMILY & SUPPORT,$67224.00\n",
      "\"ZEMKE,  RICHARD P\",MACHINIST,AVIATION,$92248.00\n",
      "\"ZENDEJAS,  RUBEN\",FIREFIGHTER/PARAMEDIC,FIRE,$93942.00\n",
      "\"ZENERE,  MARCO\",POLICE OFFICER,POLICE,$69684.00\n",
      "\"ZENI,  MOHAMMAD S\",GARAGE ATTENDANT,GENERAL SERVICES,$46592.00\n",
      "\"ZENO DAVIS,  CHARISSE J\",POLICE OFFICER,POLICE,$89718.00\n",
      "\"ZEPEDA,  ADRIAN\",POLICE OFFICER,POLICE,$80778.00\n",
      "\"ZEPEDA,  ANDRES A\",POLICE OFFICER,POLICE,$83616.00\n",
      "\"ZEPEDA,  CARLOS\",CONSTRUCTION LABORER,WATER MGMNT,$79040.00\n",
      "\"ZEPEDA,  ERNESTO\",TREE TRIMMER,STREETS & SAN,$74464.00\n",
      "\"ZEPEDA,  JOSE R\",CONSTRUCTION LABORER,WATER MGMNT,$79040.00\n",
      "\"ZEPEDA,  LILIANA\",POLICE OFFICER,POLICE,$69684.00\n",
      "\"ZEPEDA,  LUIS\",WARD SUPERINTENDENT,STREETS & SAN,$83940.00\n",
      "\"ZEPEDA,  SERGIO\",ELECTRICAL MECHANIC,AVIATION,$91520.00\n",
      "\"ZERITIS,  ANGELO G\",FIRE ENGINEER-EMT,FIRE,$95958.00\n",
      "\"ZERMENO,  OSCAR\",POLICE OFFICER,POLICE,$80778.00\n",
      "\"ZERVAS,  NICHOLAS J\",LIEUTENANT-EMT,FIRE,$106524.00\n",
      "\"ZEUTSCHEL,  PAUL R\",FIREFIGHTER-EMT,FIRE,$85680.00\n",
      "\"ZHANG,  ANNE\",CIVIL ENGINEER III,TRANSPORTN,$72120.00\n",
      "\"ZHANG,  JACKIE L\",FOREMAN OF CEMENT FINISHERS,TRANSPORTN,$93808.00\n",
      "\"ZHANG,  JENNIFER\",HEAD LIBRARY CLERK,PUBLIC LIBRARY,$52848.00\n",
      "\"ZHANG,  KEFENG\",ACCOUNTING TECHNICIAN II,FINANCE,$58020.00\n",
      "\"ZHEN,  CHRISTINE\",LIBRARY PAGE,PUBLIC LIBRARY,$12407.20\n",
      "\"ZIA,  GREGORY P\",POLICE OFFICER,POLICE,$83616.00\n",
      "\"ZIA,  KEVIN M\",POLICE OFFICER,POLICE,$83616.00\n",
      "\"ZIARNO,  ELIZABETH\",PARALEGAL II,LAW,$73200.00\n",
      "\"ZICK,  JOYCE E\",CLINICAL THERAPIST III,HEALTH,$95880.00\n",
      "\"ZIC SCHLOMAS,  VIRGINIA M\",SERGEANT,POLICE,$110370.00\n",
      "\"ZIEBA,  AGNIESZKA\",POLICE OFFICER,POLICE,$69684.00\n",
      "\"ZIEDMAN,  CRAIG R\",POLICE OFFICER,POLICE,$86520.00\n",
      "\"ZIEGENBEIN,  HANS T\",LIEUTENANT-EMT,FIRE,$109872.00\n",
      "\"ZIEGLER,  BARBARA G\",CLERK CITY COUNCIL,CITY COUNCIL,$27300.00\n",
      "\"ZIEGLER,  WILLIAM F\",POLICE OFFICER,POLICE,$86520.00\n",
      "\"ZIELINSKI,  JOHN D\",POLICE OFFICER,POLICE,$89718.00\n",
      "\"ZIELINSKI,  KAREN L\",TRAFFIC CONTROL AIDE-HOURLY,OEMC,$19656.00\n",
      "\"ZIELINSKI,  MICHAEL A\",FIRE ENGINEER,FIRE,$93648.00\n",
      "\"ZIELINSKI,  ROBERT\",FOREMAN OF CEMENT FINISHERS,TRANSPORTN,$93808.00\n",
      "\"ZIELINSKI,  ROBERT C\",POLICE OFFICER,POLICE,$86520.00\n",
      "\"ZIELINSKI,  TECLA\",CROSSING GUARD,POLICE,$22131.20\n",
      "\"ZIELINSKI,  THEODORE J\",PLUMBER,WATER MGMNT,$97032.00\n",
      "\"ZIEMANN,  DAVID M\",CONSTRUCTION LABORER,WATER MGMNT,$79040.00\n",
      "\"ZIEMANN,  DONALD W\",MOTOR TRUCK DRIVER,WATER MGMNT,$71780.80\n",
      "\"ZIEMAN,  ROBERT\",POLICE OFFICER,POLICE,$65946.00\n",
      "\"ZIEMBA,  DONALD P\",FIREFIGHTER-EMT,FIRE,$88680.00\n",
      "\"ZIEMBA,  JOSEPH M\",POLICE COMMUNICATIONS OPERATOR II,OEMC,$77220.00\n",
      "\"ZIEMBA,  LLOYD W\",LIEUTENANT-EMT,FIRE,$109872.00\n",
      "\"ZIEMBA,  TIM C\",POLICE OFFICER,POLICE,$86520.00\n",
      "\"ZIENTARSKI,  DAVID A\",OPERATING ENGINEER-GROUP A,GENERAL SERVICES,$98675.20\n",
      "\"ZIGELMAN,  BENJAMIN M\",LIBRARY CLERK,PUBLIC LIBRARY,$40008.00\n",
      "\"ZIGELMAN,  LILYA\",LIBRARIAN III,PUBLIC LIBRARY,$83256.00\n",
      "\"ZILCH,  MARK\",FIREFIGHTER-EMT,FIRE,$85680.00\n",
      "\"ZILSKE,  KEITH J\",FIREFIGHTER,FIRE,$65946.00\n",
      "\"ZIMMERMAN,  EDWARD A\",POOL MOTOR TRUCK DRIVER,AVIATION,$71780.80\n",
      "\"ZIMMERMAN,  SARAH V\",LIBRARIAN I,PUBLIC LIBRARY,$72840.00\n",
      "\"ZIMO,  JOHN\",FIREFIGHTER/PARAMEDIC,FIRE,$90798.00\n",
      "\"ZIMS,  NATEESHA A\",AVIATION COMMUNICATIONS OPERATOR,OEMC,$64188.00\n",
      "\"ZINCHUK,  BRIAN C\",OPERATING ENGINEER-GROUP C,WATER MGMNT,$93745.60\n",
      "\"ZINCHUK,  JOHN M\",POLICE OFFICER,POLICE,$83616.00\n",
      "\"ZINGARELLI,  JOHN M\",FIREFIGHTER,FIRE,$80778.00\n",
      "\"ZINK,  JAMES H\",FIREFIGHTER,FIRE,$80778.00\n",
      "\"ZIOLKOWSKI,  THOMAS P\",FIREFIGHTER/PARAMEDIC,FIRE,$83514.00\n",
      "\"ZIOMEK,  JEFFREY G\",POOL MOTOR TRUCK DRIVER,TRANSPORTN,$71780.80\n",
      "\"ZIRNGIBL,  DIANE M\",STAFF ASST,AVIATION,$73200.00\n",
      "\"ZITTNAN,  VINCENT M\",PARAMEDIC I/C,FIRE,$83370.00\n",
      "\"ZIVAT,  MATTHEW\",POLICE OFFICER,POLICE,$92316.00\n",
      "\"ZIVAT,  MICHAEL\",CONSTRUCTION LABORER,WATER MGMNT,$79040.00\n",
      "\"ZIZUMBO,  DANIEL\",POOL MOTOR TRUCK DRIVER,WATER MGMNT,$71780.80\n",
      "\"ZIZUMBO,  DAVID\",MOTOR TRUCK DRIVER,STREETS & SAN,$71780.80\n",
      "\"ZIZUMBO,  FABIOLA\",SANITATION LABORER,STREETS & SAN,$72384.00\n",
      "\"ZIZUMBO,  JOSE N\",MOTOR TRUCK DRIVER,STREETS & SAN,$72862.40\n",
      "\"ZIZUMBO,  LUIS\",MOTOR TRUCK DRIVER,STREETS & SAN,$71780.80\n",
      "\"ZIZZO,  RUSS D\",MOTOR TRUCK DRIVER,AVIATION,$71780.80\n",
      "\"ZLOTKOWSKI,  JEFFREY\",POLICE OFFICER,POLICE,$89718.00\n",
      "\"ZNAK,  ANDRIY\",AVIATION SECURITY OFFICER,AVIATION,$48924.00\n",
      "\"ZNAVOR,  THOMAS A\",LIEUTENANT-PARAMEDIC,FIRE,$119868.00\n",
      "\"ZOCHOWSKI,  DAVID J\",OPERATING ENGINEER-GROUP C,AVIATION,$93745.60\n",
      "\"ZODO,  ALEX J\",POLICE OFFICER,POLICE,$83616.00\n",
      "\"ZODO,  NICOLA E\",SERGEANT,POLICE,$103590.00\n",
      "\"ZOGG,  PAUL V\",POLICE OFFICER,POLICE,$86520.00\n",
      "\"ZOLDAN,  ANTON J\",POLICE OFFICER,POLICE,$86520.00\n",
      "\"ZOLLER,  DANIEL F\",FIREFIGHTER,FIRE,$86520.00\n",
      "\"ZOLLER,  RICHARD S\",POLICE OFFICER,POLICE,$86520.00\n",
      "\"ZOLLNER,  BRIAN T\",FIREFIGHTER-EMT (RECRUIT),FIRE,$54114.00\n",
      "\"ZOLTEK,  JOHN J\",ELECTRICAL MECHANIC-AUTO-POLICE MTR MNT,GENERAL SERVICES,$91520.00\n",
      "\"ZON,  CHRISTOPHE K\",FIREFIGHTER,FIRE,$86520.00\n",
      "\"ZONSIUS,  MICHAEL\",MANAGING DEPUTY COMMISSIONER,AVIATION,$148644.00\n",
      "\"ZOOK,  JOHN S\",POLICE OFFICER,POLICE,$89718.00\n",
      "\"ZORNIAK,  ROMAN\",FIREFIGHTER/PARAMEDIC,FIRE,$87720.00\n",
      "\"ZOTTA,  CELESTINO\",FIREFIGHTER,FIRE,$93594.00\n",
      "\"ZOTTA,  FRANK\",POLICE OFFICER,POLICE,$89718.00\n",
      "\"ZOTTA,  SANDINO\",MECHANICAL ENGINEER IV,WATER MGMNT,$104736.00\n",
      "\"ZOVKO,  ERIKA\",ADMINISTRATIVE ASST,MAYOR'S OFFICE,$62796.00\n",
      "\"ZOVKO,  RICHARD A\",HOISTING ENGINEER - MECHANIC,GENERAL SERVICES,$104208.00\n",
      "\"ZUBB,  SHANNON M\",POLICE OFFICER,POLICE,$80778.00\n",
      "\"ZUBECK,  GINA M\",POLICE OFFICER,POLICE,$86520.00\n",
      "\"ZUBECK,  JAMES F\",POLICE OFFICER,POLICE,$86520.00\n",
      "\"ZUBER,  MICHAEL R\",POLICE OFFICER (ASSIGNED AS DETECTIVE),POLICE,$97044.00\n",
      "\"ZUCCARELLI,  ROBERT A\",BRIDGE AND STRUCTURAL IRON WORKER,TRANSPORTN,$89440.00\n",
      "\"ZUCKER,  MICHAEL J\",MACHINIST (AUTOMOTIVE),GENERAL SERVICES,$92248.00\n",
      "\"ZUELKE,  CHRISTOPHER W\",PARAMEDIC,FIRE,$80778.00\n",
      "\"ZUHR,  ANTHONY D\",FIREFIGHTER-EMT,FIRE,$85680.00\n",
      "\"ZUKLIC,  JASON M\",FIREFIGHTER-EMT,FIRE,$85680.00\n",
      "\"ZULEVIC,  JANAAN M\",POLICE OFFICER,POLICE,$46206.00\n",
      "\"ZULEY,  RICHARD P\",PROJECTS ADMINISTRATOR,AVIATION,$77772.00\n",
      "\"ZULFIC,  ALEN\",POLICE OFFICER,POLICE,$46206.00\n",
      "\"ZULKEY,  JOSEPH\",POLICE OFFICER,POLICE,$69684.00\n",
      "\"ZULLO,  GREGORY G\",POLICE OFFICER,POLICE,$89718.00\n",
      "\"ZULLO,  JOHN J\",FIREFIGHTER,FIRE,$93594.00\n",
      "\"ZUMARAS,  ROLAND A\",AIRPORT MAINTENANCE FOREMAN,AVIATION,$69409.60\n",
      "\"ZUMBROCK,  JOHN M\",POLICE OFFICER,POLICE,$83616.00\n",
      "\"ZUMMO,  ROBERT J\",MOTOR TRUCK DRIVER,STREETS & SAN,$71780.80\n",
      "\"ZUNICH,  JONATHAN G\",SANITATION LABORER,STREETS & SAN,$72384.00\n",
      "\"ZUNIGA JR,  JAMES\",GARAGE ATTENDANT,GENERAL SERVICES,$46592.00\n",
      "\"ZUNIGA,  JUAN M\",POLICE OFFICER,POLICE,$83616.00\n",
      "\"ZUNIGA,  JURDON\",POLICE OFFICER,POLICE,$69684.00\n",
      "\"ZUNIGA,  OSCAR\",POLICE OFFICER,POLICE,$69684.00\n",
      "\"ZUNIGA,  RONALD\",POLICE OFFICER,POLICE,$86520.00\n",
      "\"ZUNIGA,  THOMAS\",GENERAL LABORER - DSS,STREETS & SAN,$43201.60\n",
      "\"ZUNIGA,  VICENTE\",FIREFIGHTER-EMT,FIRE,$88680.00\n",
      "\"ZUNO,  ERIK\",LABORER - APPRENTICE,WATER MGMNT,$63232.00\n",
      "\"ZUPAN,  BILL M\",LIEUTENANT-EMT,FIRE,$106524.00\n",
      "\"ZUPANCIC,  KELLY\",POLICE OFFICER,POLICE,$46206.00\n",
      "\"ZUPAN,  VICTORIA J\",POLICE OFFICER,POLICE,$80778.00\n",
      "\"ZURAWSKI,  CAROL A\",CROSSING GUARD,POLICE,$21080.80\n",
      "\"ZURAWSKI,  JEFFREY\",FRM OF MACHINISTS - AUTOMOTIVE,GENERAL SERVICES,$97448.00\n",
      "\"ZURAWSKI,  MAC Z\",SANITATION LABORER,STREETS & SAN,$72384.00\n",
      "\"ZURAWSKI,  MARY E\",POLICE OFFICER,POLICE,$89718.00\n",
      "\"ZUREK,  FRANCIS\",ELECTRICAL MECHANIC,OEMC,$91520.00\n",
      "\"ZUREK,  MARY H\",SENIOR PUBLIC INFORMATION OFFICER,FINANCE,$80916.00\n",
      "\"ZURITA,  ADRIEL\",POLICE OFFICER,POLICE,$46206.00\n",
      "\"ZVANJA,  TINA M\",LEGAL SECRETARY,LAW,$69888.00\n",
      "\"ZWARYCZ MANN,  IRENE A\",CROSSING GUARD,POLICE,$16692.00\n",
      "\"ZWARYCZ,  THOMAS J\",POOL MOTOR TRUCK DRIVER,WATER MGMNT,$71780.80\n",
      "\"ZWIESLER,  MATTHEW\",AIRPORT OPERATIONS SUPVSR I,AVIATION,$69840.00\n",
      "\"ZWIT,  JEFFREY J\",POLICE OFFICER,POLICE,$83616.00\n",
      "\"ZWOLFER,  MATTHEW W\",FIREFIGHTER-EMT,FIRE,$91764.00\n",
      "\"ZYDEK,  BRYAN\",POLICE OFFICER,POLICE,$80778.00\n",
      "\"ZYGADLO,  JOHN P\",MACHINIST (AUTOMOTIVE),GENERAL SERVICES,$92248.00\n",
      "\"ZYGADLO,  MICHAEL J\",FRM OF MACHINISTS - AUTOMOTIVE,GENERAL SERVICES,$97448.00\n",
      "\"ZYGOWICZ,  PETER J\",POLICE OFFICER,POLICE,$86520.00\n",
      "\"ZYMANTAS,  MARK E\",POLICE OFFICER,POLICE,$83616.00\n",
      "\"ZYRKOWSKI,  CARLO E\",POLICE OFFICER,POLICE,$86520.00\n",
      "\"ZYSKOWSKI,  DARIUSZ\",CHIEF DATA BASE ANALYST,DoIT,$110352.00\n",
      ",,,\n"
     ]
    }
   ],
   "source": [
    "# No Windows use !type. No Mac ou Linux use !head\n",
    "#!head salarios.csv\n",
    "!type salarios.csv"
   ]
  },
  {
   "cell_type": "code",
   "execution_count": 69,
   "metadata": {},
   "outputs": [],
   "source": [
    "# Alterando o título das colunas\n",
    "df = pd.read_csv('salarios.csv', names = ['a', 'b', 'c', 'd'])"
   ]
  },
  {
   "cell_type": "code",
   "execution_count": 70,
   "metadata": {},
   "outputs": [
    {
     "output_type": "execute_result",
     "data": {
      "text/plain": [
       "                         a                         b                 c  \\\n",
       "0                     Name            Position Title        Department   \n",
       "1          AARON,  ELVIA J          WATER RATE TAKER       WATER MGMNT   \n",
       "2        AARON,  JEFFERY M            POLICE OFFICER            POLICE   \n",
       "3           AARON,  KARINA            POLICE OFFICER            POLICE   \n",
       "4      AARON,  KIMBERLEI R  CHIEF CONTRACT EXPEDITER  GENERAL SERVICES   \n",
       "...                    ...                       ...               ...   \n",
       "32178   ZYGOWICZ,  PETER J            POLICE OFFICER            POLICE   \n",
       "32179    ZYMANTAS,  MARK E            POLICE OFFICER            POLICE   \n",
       "32180  ZYRKOWSKI,  CARLO E            POLICE OFFICER            POLICE   \n",
       "32181  ZYSKOWSKI,  DARIUSZ   CHIEF DATA BASE ANALYST              DoIT   \n",
       "32182                  NaN                       NaN               NaN   \n",
       "\n",
       "                            d  \n",
       "0      Employee Annual Salary  \n",
       "1                   $88965.00  \n",
       "2                   $80778.00  \n",
       "3                   $80778.00  \n",
       "4                   $84780.00  \n",
       "...                       ...  \n",
       "32178               $86520.00  \n",
       "32179               $83616.00  \n",
       "32180               $86520.00  \n",
       "32181              $110352.00  \n",
       "32182                     NaN  \n",
       "\n",
       "[32183 rows x 4 columns]"
      ],
      "text/html": "<div>\n<style scoped>\n    .dataframe tbody tr th:only-of-type {\n        vertical-align: middle;\n    }\n\n    .dataframe tbody tr th {\n        vertical-align: top;\n    }\n\n    .dataframe thead th {\n        text-align: right;\n    }\n</style>\n<table border=\"1\" class=\"dataframe\">\n  <thead>\n    <tr style=\"text-align: right;\">\n      <th></th>\n      <th>a</th>\n      <th>b</th>\n      <th>c</th>\n      <th>d</th>\n    </tr>\n  </thead>\n  <tbody>\n    <tr>\n      <th>0</th>\n      <td>Name</td>\n      <td>Position Title</td>\n      <td>Department</td>\n      <td>Employee Annual Salary</td>\n    </tr>\n    <tr>\n      <th>1</th>\n      <td>AARON,  ELVIA J</td>\n      <td>WATER RATE TAKER</td>\n      <td>WATER MGMNT</td>\n      <td>$88965.00</td>\n    </tr>\n    <tr>\n      <th>2</th>\n      <td>AARON,  JEFFERY M</td>\n      <td>POLICE OFFICER</td>\n      <td>POLICE</td>\n      <td>$80778.00</td>\n    </tr>\n    <tr>\n      <th>3</th>\n      <td>AARON,  KARINA</td>\n      <td>POLICE OFFICER</td>\n      <td>POLICE</td>\n      <td>$80778.00</td>\n    </tr>\n    <tr>\n      <th>4</th>\n      <td>AARON,  KIMBERLEI R</td>\n      <td>CHIEF CONTRACT EXPEDITER</td>\n      <td>GENERAL SERVICES</td>\n      <td>$84780.00</td>\n    </tr>\n    <tr>\n      <th>...</th>\n      <td>...</td>\n      <td>...</td>\n      <td>...</td>\n      <td>...</td>\n    </tr>\n    <tr>\n      <th>32178</th>\n      <td>ZYGOWICZ,  PETER J</td>\n      <td>POLICE OFFICER</td>\n      <td>POLICE</td>\n      <td>$86520.00</td>\n    </tr>\n    <tr>\n      <th>32179</th>\n      <td>ZYMANTAS,  MARK E</td>\n      <td>POLICE OFFICER</td>\n      <td>POLICE</td>\n      <td>$83616.00</td>\n    </tr>\n    <tr>\n      <th>32180</th>\n      <td>ZYRKOWSKI,  CARLO E</td>\n      <td>POLICE OFFICER</td>\n      <td>POLICE</td>\n      <td>$86520.00</td>\n    </tr>\n    <tr>\n      <th>32181</th>\n      <td>ZYSKOWSKI,  DARIUSZ</td>\n      <td>CHIEF DATA BASE ANALYST</td>\n      <td>DoIT</td>\n      <td>$110352.00</td>\n    </tr>\n    <tr>\n      <th>32182</th>\n      <td>NaN</td>\n      <td>NaN</td>\n      <td>NaN</td>\n      <td>NaN</td>\n    </tr>\n  </tbody>\n</table>\n<p>32183 rows × 4 columns</p>\n</div>"
     },
     "metadata": {},
     "execution_count": 70
    }
   ],
   "source": [
    "df"
   ]
  },
  {
   "cell_type": "code",
   "execution_count": 71,
   "metadata": {},
   "outputs": [],
   "source": [
    "import sys"
   ]
  },
  {
   "cell_type": "code",
   "execution_count": 72,
   "metadata": {},
   "outputs": [],
   "source": [
    "data = pd.read_csv('salarios.csv')"
   ]
  },
  {
   "cell_type": "code",
   "execution_count": 73,
   "metadata": {
    "tags": [
     "outputPrepend"
    ]
   },
   "outputs": [
    {
     "output_type": "stream",
     "name": "stdout",
     "text": [
      "1856|YOUNG,  ROBERT A|POLICE OFFICER|POLICE|$86520.00\n",
      "31857|YOUNG,  RONALD L|LIEUTENANT|FIRE|$110370.00\n",
      "31858|YOUNG,  SARAH L|MANAGER OF DATA ENTRY OPERATORS|FIRE|$57648.00\n",
      "31859|YOUNG,  STEPHEN L|FIREFIGHTER|FIRE|$93594.00\n",
      "31860|YOUNG,  STEVEN A|POLICE OFFICER|POLICE|$89718.00\n",
      "31861|YOUNG,  SUSAN E|POLICE OFFICER|POLICE|$80778.00\n",
      "31862|YOUNG,  TAMARA S|HEAD LIBRARY CLERK|PUBLIC LIBRARY|$60780.00\n",
      "31863|YOUNG,  THOMAS E|FIREFIGHTER/PARAMEDIC|FIRE|$90798.00\n",
      "31864|YOUNG,  THOMAS P|POLICE OFFICER|POLICE|$89718.00\n",
      "31865|YOUNG,  TORRI R|DENTAL ASST|HEALTH|$55428.00\n",
      "31866|YOUNG,  YVONNE M|TRAFFIC CONTROL AIDE-HOURLY|OEMC|$19656.00\n",
      "31867|YOUNKINS,  MARK A|CONTRACTS COMPLIANCE COORD|HEALTH|$80916.00\n",
      "31868|YOUNKINS,  RHONDA C|POLICE COMMUNICATIONS OPERATOR I|OEMC|$61260.00\n",
      "31869|YOUSIF,  EVAN F|POLICE OFFICER|POLICE|$83616.00\n",
      "31870|YOUSTRA,  RYAN|POLICE OFFICER|POLICE|$73296.00\n",
      "31871|YOZA,  KENNETH K|FIRE ENGINEER|FIRE|$93648.00\n",
      "31872|YRACHETA,  LORI|POOL MOTOR TRUCK DRIVER|AVIATION|$71780.80\n",
      "31873|YUE,  HENRY K|ACCOUNTANT I|FINANCE|$72840.00\n",
      "31874|YUEN,  ELLEN|HEAD LIBRARY CLERK|PUBLIC LIBRARY|$60780.00\n",
      "31875|YUE,  WILLIAM K|PREPRESS TECHNICIAN|GENERAL SERVICES|$50160.00\n",
      "31876|YUKAWA,  LAURA G|POLICE OFFICER|POLICE|$89718.00\n",
      "31877|YU,  LIANG W|LIBRARY CLERK|PUBLIC LIBRARY|$38208.00\n",
      "31878|YU,  MING Z|SENIOR COMPANION|FAMILY & SUPPORT|$2756.00\n",
      "31879|YUNG,  MAY|POOL MOTOR TRUCK DRIVER|STREETS & SAN|$71780.80\n",
      "31880|YUNG,  TIMOTHY|SUPVSR OF AUDITING|FINANCE|$99108.00\n",
      "31881|YURISICH,  DONALD M|POLICE OFFICER (ASSIGNED AS DETECTIVE)|POLICE|$93648.00\n",
      "31882|YUSUF,  MOHAMMAD A|POLICE OFFICER|POLICE|$83616.00\n",
      "31883|YU,  WAN FANG|LIBRARIAN I|PUBLIC LIBRARY|$59352.00\n",
      "31884|YZAGUIRRE,  MICHAEL R|POLICE OFFICER|POLICE|$89718.00\n",
      "31885|ZABEL,  SHERRY|CLERK - BD OF ELECTIONS|BOARD OF ELECTION|$28608.00\n",
      "31886|ZABER,  GREGORY S|ASST CHIEF OPERATING ENGINEER|WATER MGMNT|$108534.40\n",
      "31887|ZABER,  NICHOLAS E|SERGEANT|POLICE|$106920.00\n",
      "31888|ZABLOCKI,  EDMUND F|POLICE OFFICER|POLICE|$83616.00\n",
      "31889|ZACCAGNINI,  GEORGE J|CAPTAIN-EMT|FIRE|$131466.00\n",
      "31890|ZACCAGNINI,  JOSEPH A|OPERATING ENGINEER-GROUP A|AVIATION|$98675.20\n",
      "31891|ZACCAGNINO,  JOSEPH A|POLICE OFFICER|POLICE|$83616.00\n",
      "31892|ZACCONE,  THOMAS S|POLICE OFFICER|POLICE|$80778.00\n",
      "31893|ZACEK,  DAVID R|POLICE OFFICER|POLICE|$89718.00\n",
      "31894|ZACEK,  DEBRA A|POLICE OFFICER|POLICE|$86520.00\n",
      "31895|ZACH,  MICHAEL D|FIREFIGHTER/PARAMEDIC|FIRE|$79584.00\n",
      "31896|ZADURA,  STEFAN W|POLICE OFFICER|POLICE|$83616.00\n",
      "31897|ZAENTZ,  JONATHAN A|PARAMEDIC FIELD CHIEF|FIRE|$128004.00\n",
      "31898|ZAFIRIS,  CHRISTOPHER|ARCHITECT IV|DISABILITIES|$104736.00\n",
      "31899|ZAGLOBA,  AMANDA L|LIBRARIAN I|PUBLIC LIBRARY|$53796.00\n",
      "31900|ZAGONE,  JOSEPH M|SEWER BRICKLAYER|WATER MGMNT|$88566.40\n",
      "31901|ZAGORSKI,  RUSSELL|POLICE OFFICER|POLICE|$69684.00\n",
      "31902|ZAHDAN,  HAZEM|FILTRATION ENGINEER III|WATER MGMNT|$95880.00\n",
      "31903|ZAHDAN,  MOEEN D|STAFF ASST TO THE ALDERMAN|CITY COUNCIL|$55656.00\n",
      "31904|ZAHDAN,  ZIYADEH D|PLUMBING INSPECTOR|WATER MGMNT|$99252.00\n",
      "31905|ZAHLMANN,  KRISTINE L|POLICE OFFICER|POLICE|$83616.00\n",
      "31906|ZAHN,  DAVID R|LIEUTENANT|POLICE|$116724.00\n",
      "31907|ZAHRADNIK,  JOSEPH|POLICE OFFICER|POLICE|$73296.00\n",
      "31908|ZAIB,  ZOHAIB|POLICE OFFICER|POLICE|$69684.00\n",
      "31909|ZAIDAN,  JENNIFER L|POLICE OFFICER|POLICE|$83616.00\n",
      "31910|ZAIDI,  SYED K|PARKING ENFORCEMENT AIDE|FINANCE|$46380.00\n",
      "31911|ZAJA,  ALAN J|BATTALION CHIEF|FIRE|$135480.00\n",
      "31912|ZAJAC,  ANTHONY M|FIRE ENGINEER-EMT|FIRE|$99324.00\n",
      "31913|ZAJAC,  JASON R|FIREFIGHTER-EMT|FIRE|$91764.00\n",
      "31914|ZAJAC,  MARTIN E|FIREFIGHTER-EMT (RECRUIT)|FIRE|$54114.00\n",
      "31915|ZAJAC,  VICTOR D|FIREFIGHTER (PER ARBITRATORS AWARD)-PARAMEDIC|FIRE|$98244.00\n",
      "31916|ZAJCZENKO,  STEFAN W|POLICE OFFICER|POLICE|$86520.00\n",
      "31917|ZAJDZINSKI,  VINCENT|MACHINIST (AUTOMOTIVE)|GENERAL SERVICES|$92248.00\n",
      "31918|ZAKEE,  AMEER|FIREFIGHTER-EMT|FIRE|$85680.00\n",
      "31919|ZAKE,  JOSHUA S|CIVIL ENGINEER IV|TRANSPORTN|$104736.00\n",
      "31920|ZAK,  ELIZABETH V|POLICE COMMUNICATIONS OPERATOR II|OEMC|$73764.00\n",
      "31921|ZALA,  VEEJAY N|POLICE OFFICER|POLICE|$86520.00\n",
      "31922|ZALESKI,  MARIUSZ|AVIATION SECURITY OFFICER|AVIATION|$64188.00\n",
      "31923|ZALEWSKI,  DANIEL L|POLICE OFFICER|POLICE|$92316.00\n",
      "31924|ZALEWSKI,  FRANK A|POOL MOTOR TRUCK DRIVER|STREETS & SAN|$71780.80\n",
      "31925|ZALEWSKI,  JOHN E|POLICE OFFICER (ASSIGNED AS DETECTIVE)|POLICE|$97044.00\n",
      "31926|ZALEWSKI,  MARK|POLICE OFFICER|POLICE|$86520.00\n",
      "31927|ZALEWSKI,  MICHAEL R|ALDERMAN|CITY COUNCIL|$114996.00\n",
      "31928|ZALINSKI,  ANDRZEJ|POLICE OFFICER|POLICE|$65946.00\n",
      "31929|ZALINSKI,  DONALD E|POLICE OFFICER|POLICE|$86520.00\n",
      "31930|ZALINSKI,  KIMBERLY S|POLICE OFFICER|POLICE|$86520.00\n",
      "31931|ZALINSKI,  SHANNON M|LIBRARIAN I|PUBLIC LIBRARY|$72840.00\n",
      "31932|ZALINSKI,  STANISLAW|POLICE OFFICER|POLICE|$80778.00\n",
      "31933|ZALLER,  MATTHEW J|FIREFIGHTER/PARAMEDIC|FIRE|$87720.00\n",
      "31934|ZAMARRIPA,  CRUZ C|CROSSING GUARD|POLICE|$18324.80\n",
      "31935|ZAMAYOA,  ALYSSA-MARIE|PROGRAM AIDE|POLICE|$9360.00\n",
      "31936|ZAMBRANO,  EMMANUEL|POLICE OFFICER|POLICE|$69684.00\n",
      "31937|ZAMBRANO,  JAVIER A|POLICE OFFICER|POLICE|$83616.00\n",
      "31938|ZAMBRANO JR,  LUIS|POLICE OFFICER (ASSIGNED AS SECURITY SPECIALIST)|POLICE|$106920.00\n",
      "31939|ZAMBRANO,  SONIA|POLICE OFFICER|POLICE|$83616.00\n",
      "31940|ZAMOJSKA,  MARTA K|POLICE OFFICER|POLICE|$69684.00\n",
      "31941|ZAMOJSKI,  CAROLYN|CROSSING GUARD|POLICE|$22131.20\n",
      "31942|ZAMORA,  ANTHONY M|POLICE OFFICER|POLICE|$80778.00\n",
      "31943|ZAMORA,  CARLOS A|POLICE OFFICER|POLICE|$83616.00\n",
      "31944|ZAMORA,  HECTOR M|POOL MOTOR TRUCK DRIVER|AVIATION|$71780.80\n",
      "31945|ZAMORA II,  MARTIN|POOL MOTOR TRUCK DRIVER|TRANSPORTN|$71780.80\n",
      "31946|ZAMORA,  JANE F|PROGRAM AUDITOR II|HEALTH|$73200.00\n",
      "31947|ZAMORA,  JESUS|GENERAL LABORER - DSS|STREETS & SAN|$43201.60\n",
      "31948|ZAMORA,  LEONCIO|ASPHALT LABORER|TRANSPORTN|$79040.00\n",
      "31949|ZAMORA,  LOUIS C|FIREFIGHTER-EMT|FIRE|$99258.00\n",
      "31950|ZAMORA,  MARTIN|MOTOR TRUCK DRIVER|STREETS & SAN|$71780.80\n",
      "31951|ZAMORA,  MICHAEL|FIRE ENGINEER-EMT|FIRE|$99324.00\n",
      "31952|ZAMORA,  PASCUAL|MOTOR TRUCK DRIVER|STREETS & SAN|$71780.80\n",
      "31953|ZAMORA,  REBECCA A|ADMIN SERVICES OFFICER I-EXCLUDED|POLICE|$64152.00\n",
      "31954|ZAMUDIO,  JAIME|FIREFIGHTER|FIRE|$90018.00\n",
      "31955|ZAMZOW,  ANNE E|POLICE OFFICER|POLICE|$83616.00\n",
      "31956|ZANDERS,  JERRY J|POLICE OFFICER|POLICE|$83616.00\n",
      "31957|ZANGARIYA,  SOHEB M|TRAFFIC CONTROL AIDE-HOURLY|OEMC|$19656.00\n",
      "31958|ZANIN,  MICHAEL J|ELECTRICAL MECHANIC|GENERAL SERVICES|$91520.00\n",
      "31959|ZANKO,  JESSE A|AVIATION SECURITY OFFICER|AVIATION|$48924.00\n",
      "31960|ZAPATA,  HUGO|SR PROCUREMENT SPECIALIST|PROCUREMENT|$84780.00\n",
      "31961|ZAPATA,  JOSHUA|POLICE OFFICER|POLICE|$83616.00\n",
      "31962|ZAPATA,  MARGIE|TRAFFIC CONTROL AIDE|OEMC|$35328.00\n",
      "31963|ZAPATA,  MARIA G|POLICE OFFICER|POLICE|$80778.00\n",
      "31964|ZAPATA,  PEDRO|POLICE OFFICER|POLICE|$86520.00\n",
      "31965|ZARAGOZA,  GREGORY|POLICE OFFICER|POLICE|$89718.00\n",
      "31966|ZARAGOZA,  JUAN F|POLICE OFFICER|POLICE|$89718.00\n",
      "31967|ZARAGOZA,  MARTHA G|POLICE OFFICER|POLICE|$86520.00\n",
      "31968|ZARAGOZA,  MICHAEL|POLICE OFFICER|POLICE|$69684.00\n",
      "31969|ZARAGOZA,  RAYMUNDO|POLICE OFFICER|POLICE|$83616.00\n",
      "31970|ZARATE,  MARCOS|ELECTRICAL MECHANIC-AUTO-POLICE MTR MNT|GENERAL SERVICES|$91520.00\n",
      "31971|ZARATE,  RICHARD L|FIRE ENGINEER-EMT|FIRE|$105918.00\n",
      "31972|ZARATE,  ROSIEL|SENIOR BUSINESS CONSULTANT|BUSINESS AFFAIRS|$67224.00\n",
      "31973|ZARBOCK,  NICK F|POLICE OFFICER|POLICE|$86520.00\n",
      "31974|ZARCO,  GAMALIEL|POLICE OFFICER|POLICE|$69684.00\n",
      "31975|ZARCONE,  ANTHONY J|FIREFIGHTER|FIRE|$90018.00\n",
      "31976|ZAREMBA,  WILLIAM M|DETENTION AIDE|POLICE|$61260.00\n",
      "31977|ZARESKI,  WALTER S|POOL MOTOR TRUCK DRIVER|STREETS & SAN|$71780.80\n",
      "31978|ZARIC,  MARKO|STAFF ASST TO THE ALDERMAN|CITY COUNCIL|$45684.00\n",
      "31979|ZARKY,  ROGER P|GARAGE ATTENDANT|GENERAL SERVICES|$46592.00\n",
      "31980|ZARLENGA,  MICHAEL C|SANITATION LABORER|STREETS & SAN|$72384.00\n",
      "31981|ZARLENGA,  NICHOLAS|FIREFIGHTER-EMT|FIRE|$85680.00\n",
      "31982|ZAROBSKY,  JEFFREY O|FIREFIGHTER/PARAMEDIC|FIRE|$87720.00\n",
      "31983|ZARO,  NICHOLAS J|WARD SUPERINTENDENT|STREETS & SAN|$97416.00\n",
      "31984|ZATORA,  MONIKA|POLICE OFFICER|POLICE|$80778.00\n",
      "31985|ZATORA,  TOMASZ M|POLICE OFFICER|POLICE|$80778.00\n",
      "31986|ZATOR,  KENNETH W|AVIATION SECURITY OFFICER - HOURLY|AVIATION|$22120.80\n",
      "31987|ZATOR,  KEVIN M|AVIATION SECURITY SERGEANT|AVIATION|$67224.00\n",
      "31988|ZATTAIR,  NICK|POLICE OFFICER|POLICE|$89718.00\n",
      "31989|ZAUCEDO,  JOSE C|FIREFIGHTER-EMT|FIRE|$88680.00\n",
      "31990|ZAUKAS,  RYAN M|POOL MOTOR TRUCK DRIVER|TRANSPORTN|$71780.80\n",
      "31991|ZAVALA,  FERNANDO|ACCOUNTANT IV|FINANCE|$95880.00\n",
      "31992|ZAVALA,  JOSUE|CONCRETE LABORER|TRANSPORTN|$79040.00\n",
      "31993|ZAVALA,  MARK A|LABORER|TRANSPORTN|$71136.00\n",
      "31994|ZAVALA,  MATTHEW R|SERVICE WRITER|GENERAL SERVICES|$61356.00\n",
      "31995|ZAVALA,  MICHAEL D|FRM OF MACHINISTS - AUTOMOTIVE|GENERAL SERVICES|$97448.00\n",
      "31996|ZAVALA,  OLGA|CROSSING GUARD|POLICE|$17492.80\n",
      "31997|ZAVALA,  ROBERTO|POLICE OFFICER|POLICE|$69684.00\n",
      "31998|ZAVALA,  SHALINA P|DATA ENTRY OPERATOR|POLICE|$41952.00\n",
      "31999|ZAVALA,  VICTOR M|EQUIPMENT DISPATCHER|GENERAL SERVICES|$73028.80\n",
      "32000|ZAVALA,  WENSESLAO|POLICE OFFICER|POLICE|$83616.00\n",
      "32001|ZAVALETA,  RAMON|POLICE OFFICER|POLICE|$83616.00\n",
      "32002|ZAVISTAUSKAS,  ROMAS|PLUMBER|WATER MGMNT|$97032.00\n",
      "32003|ZAVOS,  JAMES M|POOL MOTOR TRUCK DRIVER|STREETS & SAN|$71780.80\n",
      "32004|ZAWADA,  RICHARD A|POLICE OFFICER|POLICE|$89718.00\n",
      "32005|ZAWADA,  ROMAN F|POLICE OFFICER|POLICE|$83616.00\n",
      "32006|ZAWADSKI,  JAMES|CLERK IV|LAW|$66684.00\n",
      "32007|ZAWADZKI,  SHELLEY M|LIBRARIAN III|PUBLIC LIBRARY|$83256.00\n",
      "32008|ZAWILA,  MARK A|POLICE OFFICER (ASSIGNED AS DETECTIVE)|POLICE|$97044.00\n",
      "32009|ZAWILA,  ROBERT|POOL MOTOR TRUCK DRIVER|STREETS & SAN|$71780.80\n",
      "32010|ZAWORA,  JOHN M|SUPVSR OF LOT CLEANING SERVICES|STREETS & SAN|$92304.00\n",
      "32011|ZAYAS,  ALBERTO H|POLICE OFFICER|POLICE|$80778.00\n",
      "32012|ZAYAS,  ALEXIS M|POLICE OFFICER|POLICE|$76902.00\n",
      "32013|ZAYAS JR,  ANDRES|SERGEANT|POLICE|$106920.00\n",
      "32014|ZAYED,  SAMERA Z|DISABILITY SPECIALIST II|DISABILITIES|$80424.00\n",
      "32015|ZBELA,  KRYSTYNA Z|POLICE OFFICER|POLICE|$80778.00\n",
      "32016|ZBIKOWSKI,  THOMAS M|FIREFIGHTER-EMT (RECRUIT)|FIRE|$54114.00\n",
      "32017|ZBOREK,  ROBERT|VETERINARY ASST|ANIMAL CONTRL|$60780.00\n",
      "32018|ZBORIL,  NORA A|PUBLIC RELATIONS REPRESENTATIVE III|CULTURAL AFFAIRS|$70380.00\n",
      "32019|ZDANYS,  DAVID A|POLICE OFFICER|POLICE|$86520.00\n",
      "32020|ZDEB,  MARK J|POLICE OFFICER|POLICE|$80778.00\n",
      "32021|ZDRZALKA,  PIOTR|POLICE OFFICER|POLICE|$69684.00\n",
      "32022|ZECEVICH,  DRAGAN|FOREMAN OF ELECTRICAL MECHANICS|WATER MGMNT|$97760.00\n",
      "32023|ZEFRAN,  FRANK J|CONSTRUCTION LABORER|WATER MGMNT|$79040.00\n",
      "32024|ZEFRAN,  JOHN L|ASST GENERAL SUPT OF STREETS AND SANITATION|STREETS & SAN|$93024.00\n",
      "32025|ZEGA,  JAMES E|POLICE OFFICER|POLICE|$89718.00\n",
      "32026|ZEGLIS,  THERESA|POLICE OFFICER|POLICE|$69684.00\n",
      "32027|ZEHAR,  DONALD L|CONSTRUCTION LABORER|AVIATION|$79040.00\n",
      "32028|ZEIGER,  EDWARD A|POLICE COMMUNICATIONS OPERATOR I|OEMC|$77220.00\n",
      "32029|ZEIGLER,  RICK A|FIREFIGHTER (PER ARBITRATORS AWARD)-PARAMEDIC|FIRE|$108462.00\n",
      "32030|ZEIMYS,  ERIK M|HOISTING ENGINEER - MECHANIC|GENERAL SERVICES|$104208.00\n",
      "32031|ZELAYA,  MANUEL E|FOREMAN OF PAINTERS|AVIATION|$97697.60\n",
      "32032|ZELEZNAK,  MARK J|ELECTRICAL MECHANIC-AUTO-POLICE MTR MNT|GENERAL SERVICES|$91520.00\n",
      "32033|ZELIG,  DAVID J|POLICE OFFICER|POLICE|$89718.00\n",
      "32034|ZELITZKY,  ADAM R|SERGEANT|POLICE|$110370.00\n",
      "32035|ZELLER,  DANIEL J|FIREFIGHTER/PARAMEDIC|FIRE|$87720.00\n",
      "32036|ZELLER,  ELIZABETH M|PARAMEDIC I/C|FIRE|$87534.00\n",
      "32037|ZEMEK,  HELEN O|LIEUTENANT|POLICE|$120264.00\n",
      "32038|ZEMKE,  CRAIG M|SUPVSR OF CHILDREN SERVICES PROGRAMS|FAMILY & SUPPORT|$67224.00\n",
      "32039|ZEMKE,  RICHARD P|MACHINIST|AVIATION|$92248.00\n",
      "32040|ZENDEJAS,  RUBEN|FIREFIGHTER/PARAMEDIC|FIRE|$93942.00\n",
      "32041|ZENERE,  MARCO|POLICE OFFICER|POLICE|$69684.00\n",
      "32042|ZENI,  MOHAMMAD S|GARAGE ATTENDANT|GENERAL SERVICES|$46592.00\n",
      "32043|ZENO DAVIS,  CHARISSE J|POLICE OFFICER|POLICE|$89718.00\n",
      "32044|ZEPEDA,  ADRIAN|POLICE OFFICER|POLICE|$80778.00\n",
      "32045|ZEPEDA,  ANDRES A|POLICE OFFICER|POLICE|$83616.00\n",
      "32046|ZEPEDA,  CARLOS|CONSTRUCTION LABORER|WATER MGMNT|$79040.00\n",
      "32047|ZEPEDA,  ERNESTO|TREE TRIMMER|STREETS & SAN|$74464.00\n",
      "32048|ZEPEDA,  JOSE R|CONSTRUCTION LABORER|WATER MGMNT|$79040.00\n",
      "32049|ZEPEDA,  LILIANA|POLICE OFFICER|POLICE|$69684.00\n",
      "32050|ZEPEDA,  LUIS|WARD SUPERINTENDENT|STREETS & SAN|$83940.00\n",
      "32051|ZEPEDA,  SERGIO|ELECTRICAL MECHANIC|AVIATION|$91520.00\n",
      "32052|ZERITIS,  ANGELO G|FIRE ENGINEER-EMT|FIRE|$95958.00\n",
      "32053|ZERMENO,  OSCAR|POLICE OFFICER|POLICE|$80778.00\n",
      "32054|ZERVAS,  NICHOLAS J|LIEUTENANT-EMT|FIRE|$106524.00\n",
      "32055|ZEUTSCHEL,  PAUL R|FIREFIGHTER-EMT|FIRE|$85680.00\n",
      "32056|ZHANG,  ANNE|CIVIL ENGINEER III|TRANSPORTN|$72120.00\n",
      "32057|ZHANG,  JACKIE L|FOREMAN OF CEMENT FINISHERS|TRANSPORTN|$93808.00\n",
      "32058|ZHANG,  JENNIFER|HEAD LIBRARY CLERK|PUBLIC LIBRARY|$52848.00\n",
      "32059|ZHANG,  KEFENG|ACCOUNTING TECHNICIAN II|FINANCE|$58020.00\n",
      "32060|ZHEN,  CHRISTINE|LIBRARY PAGE|PUBLIC LIBRARY|$12407.20\n",
      "32061|ZIA,  GREGORY P|POLICE OFFICER|POLICE|$83616.00\n",
      "32062|ZIA,  KEVIN M|POLICE OFFICER|POLICE|$83616.00\n",
      "32063|ZIARNO,  ELIZABETH|PARALEGAL II|LAW|$73200.00\n",
      "32064|ZICK,  JOYCE E|CLINICAL THERAPIST III|HEALTH|$95880.00\n",
      "32065|ZIC SCHLOMAS,  VIRGINIA M|SERGEANT|POLICE|$110370.00\n",
      "32066|ZIEBA,  AGNIESZKA|POLICE OFFICER|POLICE|$69684.00\n",
      "32067|ZIEDMAN,  CRAIG R|POLICE OFFICER|POLICE|$86520.00\n",
      "32068|ZIEGENBEIN,  HANS T|LIEUTENANT-EMT|FIRE|$109872.00\n",
      "32069|ZIEGLER,  BARBARA G|CLERK CITY COUNCIL|CITY COUNCIL|$27300.00\n",
      "32070|ZIEGLER,  WILLIAM F|POLICE OFFICER|POLICE|$86520.00\n",
      "32071|ZIELINSKI,  JOHN D|POLICE OFFICER|POLICE|$89718.00\n",
      "32072|ZIELINSKI,  KAREN L|TRAFFIC CONTROL AIDE-HOURLY|OEMC|$19656.00\n",
      "32073|ZIELINSKI,  MICHAEL A|FIRE ENGINEER|FIRE|$93648.00\n",
      "32074|ZIELINSKI,  ROBERT|FOREMAN OF CEMENT FINISHERS|TRANSPORTN|$93808.00\n",
      "32075|ZIELINSKI,  ROBERT C|POLICE OFFICER|POLICE|$86520.00\n",
      "32076|ZIELINSKI,  TECLA|CROSSING GUARD|POLICE|$22131.20\n",
      "32077|ZIELINSKI,  THEODORE J|PLUMBER|WATER MGMNT|$97032.00\n",
      "32078|ZIEMANN,  DAVID M|CONSTRUCTION LABORER|WATER MGMNT|$79040.00\n",
      "32079|ZIEMANN,  DONALD W|MOTOR TRUCK DRIVER|WATER MGMNT|$71780.80\n",
      "32080|ZIEMAN,  ROBERT|POLICE OFFICER|POLICE|$65946.00\n",
      "32081|ZIEMBA,  DONALD P|FIREFIGHTER-EMT|FIRE|$88680.00\n",
      "32082|ZIEMBA,  JOSEPH M|POLICE COMMUNICATIONS OPERATOR II|OEMC|$77220.00\n",
      "32083|ZIEMBA,  LLOYD W|LIEUTENANT-EMT|FIRE|$109872.00\n",
      "32084|ZIEMBA,  TIM C|POLICE OFFICER|POLICE|$86520.00\n",
      "32085|ZIENTARSKI,  DAVID A|OPERATING ENGINEER-GROUP A|GENERAL SERVICES|$98675.20\n",
      "32086|ZIGELMAN,  BENJAMIN M|LIBRARY CLERK|PUBLIC LIBRARY|$40008.00\n",
      "32087|ZIGELMAN,  LILYA|LIBRARIAN III|PUBLIC LIBRARY|$83256.00\n",
      "32088|ZILCH,  MARK|FIREFIGHTER-EMT|FIRE|$85680.00\n",
      "32089|ZILSKE,  KEITH J|FIREFIGHTER|FIRE|$65946.00\n",
      "32090|ZIMMERMAN,  EDWARD A|POOL MOTOR TRUCK DRIVER|AVIATION|$71780.80\n",
      "32091|ZIMMERMAN,  SARAH V|LIBRARIAN I|PUBLIC LIBRARY|$72840.00\n",
      "32092|ZIMO,  JOHN|FIREFIGHTER/PARAMEDIC|FIRE|$90798.00\n",
      "32093|ZIMS,  NATEESHA A|AVIATION COMMUNICATIONS OPERATOR|OEMC|$64188.00\n",
      "32094|ZINCHUK,  BRIAN C|OPERATING ENGINEER-GROUP C|WATER MGMNT|$93745.60\n",
      "32095|ZINCHUK,  JOHN M|POLICE OFFICER|POLICE|$83616.00\n",
      "32096|ZINGARELLI,  JOHN M|FIREFIGHTER|FIRE|$80778.00\n",
      "32097|ZINK,  JAMES H|FIREFIGHTER|FIRE|$80778.00\n",
      "32098|ZIOLKOWSKI,  THOMAS P|FIREFIGHTER/PARAMEDIC|FIRE|$83514.00\n",
      "32099|ZIOMEK,  JEFFREY G|POOL MOTOR TRUCK DRIVER|TRANSPORTN|$71780.80\n",
      "32100|ZIRNGIBL,  DIANE M|STAFF ASST|AVIATION|$73200.00\n",
      "32101|ZITTNAN,  VINCENT M|PARAMEDIC I/C|FIRE|$83370.00\n",
      "32102|ZIVAT,  MATTHEW|POLICE OFFICER|POLICE|$92316.00\n",
      "32103|ZIVAT,  MICHAEL|CONSTRUCTION LABORER|WATER MGMNT|$79040.00\n",
      "32104|ZIZUMBO,  DANIEL|POOL MOTOR TRUCK DRIVER|WATER MGMNT|$71780.80\n",
      "32105|ZIZUMBO,  DAVID|MOTOR TRUCK DRIVER|STREETS & SAN|$71780.80\n",
      "32106|ZIZUMBO,  FABIOLA|SANITATION LABORER|STREETS & SAN|$72384.00\n",
      "32107|ZIZUMBO,  JOSE N|MOTOR TRUCK DRIVER|STREETS & SAN|$72862.40\n",
      "32108|ZIZUMBO,  LUIS|MOTOR TRUCK DRIVER|STREETS & SAN|$71780.80\n",
      "32109|ZIZZO,  RUSS D|MOTOR TRUCK DRIVER|AVIATION|$71780.80\n",
      "32110|ZLOTKOWSKI,  JEFFREY|POLICE OFFICER|POLICE|$89718.00\n",
      "32111|ZNAK,  ANDRIY|AVIATION SECURITY OFFICER|AVIATION|$48924.00\n",
      "32112|ZNAVOR,  THOMAS A|LIEUTENANT-PARAMEDIC|FIRE|$119868.00\n",
      "32113|ZOCHOWSKI,  DAVID J|OPERATING ENGINEER-GROUP C|AVIATION|$93745.60\n",
      "32114|ZODO,  ALEX J|POLICE OFFICER|POLICE|$83616.00\n",
      "32115|ZODO,  NICOLA E|SERGEANT|POLICE|$103590.00\n",
      "32116|ZOGG,  PAUL V|POLICE OFFICER|POLICE|$86520.00\n",
      "32117|ZOLDAN,  ANTON J|POLICE OFFICER|POLICE|$86520.00\n",
      "32118|ZOLLER,  DANIEL F|FIREFIGHTER|FIRE|$86520.00\n",
      "32119|ZOLLER,  RICHARD S|POLICE OFFICER|POLICE|$86520.00\n",
      "32120|ZOLLNER,  BRIAN T|FIREFIGHTER-EMT (RECRUIT)|FIRE|$54114.00\n",
      "32121|ZOLTEK,  JOHN J|ELECTRICAL MECHANIC-AUTO-POLICE MTR MNT|GENERAL SERVICES|$91520.00\n",
      "32122|ZON,  CHRISTOPHE K|FIREFIGHTER|FIRE|$86520.00\n",
      "32123|ZONSIUS,  MICHAEL|MANAGING DEPUTY COMMISSIONER|AVIATION|$148644.00\n",
      "32124|ZOOK,  JOHN S|POLICE OFFICER|POLICE|$89718.00\n",
      "32125|ZORNIAK,  ROMAN|FIREFIGHTER/PARAMEDIC|FIRE|$87720.00\n",
      "32126|ZOTTA,  CELESTINO|FIREFIGHTER|FIRE|$93594.00\n",
      "32127|ZOTTA,  FRANK|POLICE OFFICER|POLICE|$89718.00\n",
      "32128|ZOTTA,  SANDINO|MECHANICAL ENGINEER IV|WATER MGMNT|$104736.00\n",
      "32129|ZOVKO,  ERIKA|ADMINISTRATIVE ASST|MAYOR'S OFFICE|$62796.00\n",
      "32130|ZOVKO,  RICHARD A|HOISTING ENGINEER - MECHANIC|GENERAL SERVICES|$104208.00\n",
      "32131|ZUBB,  SHANNON M|POLICE OFFICER|POLICE|$80778.00\n",
      "32132|ZUBECK,  GINA M|POLICE OFFICER|POLICE|$86520.00\n",
      "32133|ZUBECK,  JAMES F|POLICE OFFICER|POLICE|$86520.00\n",
      "32134|ZUBER,  MICHAEL R|POLICE OFFICER (ASSIGNED AS DETECTIVE)|POLICE|$97044.00\n",
      "32135|ZUCCARELLI,  ROBERT A|BRIDGE AND STRUCTURAL IRON WORKER|TRANSPORTN|$89440.00\n",
      "32136|ZUCKER,  MICHAEL J|MACHINIST (AUTOMOTIVE)|GENERAL SERVICES|$92248.00\n",
      "32137|ZUELKE,  CHRISTOPHER W|PARAMEDIC|FIRE|$80778.00\n",
      "32138|ZUHR,  ANTHONY D|FIREFIGHTER-EMT|FIRE|$85680.00\n",
      "32139|ZUKLIC,  JASON M|FIREFIGHTER-EMT|FIRE|$85680.00\n",
      "32140|ZULEVIC,  JANAAN M|POLICE OFFICER|POLICE|$46206.00\n",
      "32141|ZULEY,  RICHARD P|PROJECTS ADMINISTRATOR|AVIATION|$77772.00\n",
      "32142|ZULFIC,  ALEN|POLICE OFFICER|POLICE|$46206.00\n",
      "32143|ZULKEY,  JOSEPH|POLICE OFFICER|POLICE|$69684.00\n",
      "32144|ZULLO,  GREGORY G|POLICE OFFICER|POLICE|$89718.00\n",
      "32145|ZULLO,  JOHN J|FIREFIGHTER|FIRE|$93594.00\n",
      "32146|ZUMARAS,  ROLAND A|AIRPORT MAINTENANCE FOREMAN|AVIATION|$69409.60\n",
      "32147|ZUMBROCK,  JOHN M|POLICE OFFICER|POLICE|$83616.00\n",
      "32148|ZUMMO,  ROBERT J|MOTOR TRUCK DRIVER|STREETS & SAN|$71780.80\n",
      "32149|ZUNICH,  JONATHAN G|SANITATION LABORER|STREETS & SAN|$72384.00\n",
      "32150|ZUNIGA JR,  JAMES|GARAGE ATTENDANT|GENERAL SERVICES|$46592.00\n",
      "32151|ZUNIGA,  JUAN M|POLICE OFFICER|POLICE|$83616.00\n",
      "32152|ZUNIGA,  JURDON|POLICE OFFICER|POLICE|$69684.00\n",
      "32153|ZUNIGA,  OSCAR|POLICE OFFICER|POLICE|$69684.00\n",
      "32154|ZUNIGA,  RONALD|POLICE OFFICER|POLICE|$86520.00\n",
      "32155|ZUNIGA,  THOMAS|GENERAL LABORER - DSS|STREETS & SAN|$43201.60\n",
      "32156|ZUNIGA,  VICENTE|FIREFIGHTER-EMT|FIRE|$88680.00\n",
      "32157|ZUNO,  ERIK|LABORER - APPRENTICE|WATER MGMNT|$63232.00\n",
      "32158|ZUPAN,  BILL M|LIEUTENANT-EMT|FIRE|$106524.00\n",
      "32159|ZUPANCIC,  KELLY|POLICE OFFICER|POLICE|$46206.00\n",
      "32160|ZUPAN,  VICTORIA J|POLICE OFFICER|POLICE|$80778.00\n",
      "32161|ZURAWSKI,  CAROL A|CROSSING GUARD|POLICE|$21080.80\n",
      "32162|ZURAWSKI,  JEFFREY|FRM OF MACHINISTS - AUTOMOTIVE|GENERAL SERVICES|$97448.00\n",
      "32163|ZURAWSKI,  MAC Z|SANITATION LABORER|STREETS & SAN|$72384.00\n",
      "32164|ZURAWSKI,  MARY E|POLICE OFFICER|POLICE|$89718.00\n",
      "32165|ZUREK,  FRANCIS|ELECTRICAL MECHANIC|OEMC|$91520.00\n",
      "32166|ZUREK,  MARY H|SENIOR PUBLIC INFORMATION OFFICER|FINANCE|$80916.00\n",
      "32167|ZURITA,  ADRIEL|POLICE OFFICER|POLICE|$46206.00\n",
      "32168|ZVANJA,  TINA M|LEGAL SECRETARY|LAW|$69888.00\n",
      "32169|ZWARYCZ MANN,  IRENE A|CROSSING GUARD|POLICE|$16692.00\n",
      "32170|ZWARYCZ,  THOMAS J|POOL MOTOR TRUCK DRIVER|WATER MGMNT|$71780.80\n",
      "32171|ZWIESLER,  MATTHEW|AIRPORT OPERATIONS SUPVSR I|AVIATION|$69840.00\n",
      "32172|ZWIT,  JEFFREY J|POLICE OFFICER|POLICE|$83616.00\n",
      "32173|ZWOLFER,  MATTHEW W|FIREFIGHTER-EMT|FIRE|$91764.00\n",
      "32174|ZYDEK,  BRYAN|POLICE OFFICER|POLICE|$80778.00\n",
      "32175|ZYGADLO,  JOHN P|MACHINIST (AUTOMOTIVE)|GENERAL SERVICES|$92248.00\n",
      "32176|ZYGADLO,  MICHAEL J|FRM OF MACHINISTS - AUTOMOTIVE|GENERAL SERVICES|$97448.00\n",
      "32177|ZYGOWICZ,  PETER J|POLICE OFFICER|POLICE|$86520.00\n",
      "32178|ZYMANTAS,  MARK E|POLICE OFFICER|POLICE|$83616.00\n",
      "32179|ZYRKOWSKI,  CARLO E|POLICE OFFICER|POLICE|$86520.00\n",
      "32180|ZYSKOWSKI,  DARIUSZ|CHIEF DATA BASE ANALYST|DoIT|$110352.00\n",
      "32181||||\n"
     ]
    }
   ],
   "source": [
    "data.to_csv(sys.stdout, sep = '|')"
   ]
  },
  {
   "cell_type": "code",
   "execution_count": 74,
   "metadata": {},
   "outputs": [],
   "source": [
    "# Criando um Dataframe\n",
    "dates = pd.date_range('20180101', periods = 10)\n",
    "df = pd.DataFrame(np.random.randn(10,4), index = dates, columns = list('ABCD'))"
   ]
  },
  {
   "cell_type": "code",
   "execution_count": 75,
   "metadata": {},
   "outputs": [
    {
     "output_type": "execute_result",
     "data": {
      "text/plain": [
       "                   A         B         C         D\n",
       "2018-01-01  0.669536 -0.545854 -1.058872 -1.461295\n",
       "2018-01-02  0.615587 -1.944987  0.987954 -0.544178\n",
       "2018-01-03 -0.044654 -1.377631 -1.222444  1.291592\n",
       "2018-01-04  0.658123 -0.207629  0.792106  1.455687\n",
       "2018-01-05  0.927654 -0.277147 -0.214978 -1.504918\n",
       "2018-01-06  0.317005  0.339348 -0.614848 -0.761043\n",
       "2018-01-07  0.952212  0.712201  1.873862  1.642576\n",
       "2018-01-08  0.071570 -0.376768 -1.328159 -0.859499\n",
       "2018-01-09 -0.812524  1.988013  0.623346  0.803955\n",
       "2018-01-10 -1.022183  0.006817 -0.015759  0.001114"
      ],
      "text/html": "<div>\n<style scoped>\n    .dataframe tbody tr th:only-of-type {\n        vertical-align: middle;\n    }\n\n    .dataframe tbody tr th {\n        vertical-align: top;\n    }\n\n    .dataframe thead th {\n        text-align: right;\n    }\n</style>\n<table border=\"1\" class=\"dataframe\">\n  <thead>\n    <tr style=\"text-align: right;\">\n      <th></th>\n      <th>A</th>\n      <th>B</th>\n      <th>C</th>\n      <th>D</th>\n    </tr>\n  </thead>\n  <tbody>\n    <tr>\n      <th>2018-01-01</th>\n      <td>0.669536</td>\n      <td>-0.545854</td>\n      <td>-1.058872</td>\n      <td>-1.461295</td>\n    </tr>\n    <tr>\n      <th>2018-01-02</th>\n      <td>0.615587</td>\n      <td>-1.944987</td>\n      <td>0.987954</td>\n      <td>-0.544178</td>\n    </tr>\n    <tr>\n      <th>2018-01-03</th>\n      <td>-0.044654</td>\n      <td>-1.377631</td>\n      <td>-1.222444</td>\n      <td>1.291592</td>\n    </tr>\n    <tr>\n      <th>2018-01-04</th>\n      <td>0.658123</td>\n      <td>-0.207629</td>\n      <td>0.792106</td>\n      <td>1.455687</td>\n    </tr>\n    <tr>\n      <th>2018-01-05</th>\n      <td>0.927654</td>\n      <td>-0.277147</td>\n      <td>-0.214978</td>\n      <td>-1.504918</td>\n    </tr>\n    <tr>\n      <th>2018-01-06</th>\n      <td>0.317005</td>\n      <td>0.339348</td>\n      <td>-0.614848</td>\n      <td>-0.761043</td>\n    </tr>\n    <tr>\n      <th>2018-01-07</th>\n      <td>0.952212</td>\n      <td>0.712201</td>\n      <td>1.873862</td>\n      <td>1.642576</td>\n    </tr>\n    <tr>\n      <th>2018-01-08</th>\n      <td>0.071570</td>\n      <td>-0.376768</td>\n      <td>-1.328159</td>\n      <td>-0.859499</td>\n    </tr>\n    <tr>\n      <th>2018-01-09</th>\n      <td>-0.812524</td>\n      <td>1.988013</td>\n      <td>0.623346</td>\n      <td>0.803955</td>\n    </tr>\n    <tr>\n      <th>2018-01-10</th>\n      <td>-1.022183</td>\n      <td>0.006817</td>\n      <td>-0.015759</td>\n      <td>0.001114</td>\n    </tr>\n  </tbody>\n</table>\n</div>"
     },
     "metadata": {},
     "execution_count": 75
    }
   ],
   "source": [
    "df"
   ]
  },
  {
   "cell_type": "code",
   "execution_count": 76,
   "metadata": {},
   "outputs": [
    {
     "output_type": "execute_result",
     "data": {
      "text/plain": [
       "                   A         B         C         D\n",
       "2018-01-01  0.669536 -0.545854 -1.058872 -1.461295\n",
       "2018-01-02  0.615587 -1.944987  0.987954 -0.544178\n",
       "2018-01-03 -0.044654 -1.377631 -1.222444  1.291592\n",
       "2018-01-04  0.658123 -0.207629  0.792106  1.455687\n",
       "2018-01-05  0.927654 -0.277147 -0.214978 -1.504918"
      ],
      "text/html": "<div>\n<style scoped>\n    .dataframe tbody tr th:only-of-type {\n        vertical-align: middle;\n    }\n\n    .dataframe tbody tr th {\n        vertical-align: top;\n    }\n\n    .dataframe thead th {\n        text-align: right;\n    }\n</style>\n<table border=\"1\" class=\"dataframe\">\n  <thead>\n    <tr style=\"text-align: right;\">\n      <th></th>\n      <th>A</th>\n      <th>B</th>\n      <th>C</th>\n      <th>D</th>\n    </tr>\n  </thead>\n  <tbody>\n    <tr>\n      <th>2018-01-01</th>\n      <td>0.669536</td>\n      <td>-0.545854</td>\n      <td>-1.058872</td>\n      <td>-1.461295</td>\n    </tr>\n    <tr>\n      <th>2018-01-02</th>\n      <td>0.615587</td>\n      <td>-1.944987</td>\n      <td>0.987954</td>\n      <td>-0.544178</td>\n    </tr>\n    <tr>\n      <th>2018-01-03</th>\n      <td>-0.044654</td>\n      <td>-1.377631</td>\n      <td>-1.222444</td>\n      <td>1.291592</td>\n    </tr>\n    <tr>\n      <th>2018-01-04</th>\n      <td>0.658123</td>\n      <td>-0.207629</td>\n      <td>0.792106</td>\n      <td>1.455687</td>\n    </tr>\n    <tr>\n      <th>2018-01-05</th>\n      <td>0.927654</td>\n      <td>-0.277147</td>\n      <td>-0.214978</td>\n      <td>-1.504918</td>\n    </tr>\n  </tbody>\n</table>\n</div>"
     },
     "metadata": {},
     "execution_count": 76
    }
   ],
   "source": [
    "df.head()"
   ]
  },
  {
   "cell_type": "code",
   "execution_count": 77,
   "metadata": {},
   "outputs": [
    {
     "output_type": "execute_result",
     "data": {
      "text/plain": [
       "               A          B          C          D\n",
       "count  10.000000  10.000000  10.000000  10.000000\n",
       "mean    0.233233  -0.168364  -0.017779   0.006399\n",
       "std     0.690916   1.081760   1.070012   1.208555\n",
       "min    -1.022183  -1.944987  -1.328159  -1.504918\n",
       "25%    -0.015598  -0.503583  -0.947866  -0.834885\n",
       "50%     0.466296  -0.242388  -0.115369  -0.271532\n",
       "75%     0.666683   0.256215   0.749916   1.169683\n",
       "max     0.952212   1.988013   1.873862   1.642576"
      ],
      "text/html": "<div>\n<style scoped>\n    .dataframe tbody tr th:only-of-type {\n        vertical-align: middle;\n    }\n\n    .dataframe tbody tr th {\n        vertical-align: top;\n    }\n\n    .dataframe thead th {\n        text-align: right;\n    }\n</style>\n<table border=\"1\" class=\"dataframe\">\n  <thead>\n    <tr style=\"text-align: right;\">\n      <th></th>\n      <th>A</th>\n      <th>B</th>\n      <th>C</th>\n      <th>D</th>\n    </tr>\n  </thead>\n  <tbody>\n    <tr>\n      <th>count</th>\n      <td>10.000000</td>\n      <td>10.000000</td>\n      <td>10.000000</td>\n      <td>10.000000</td>\n    </tr>\n    <tr>\n      <th>mean</th>\n      <td>0.233233</td>\n      <td>-0.168364</td>\n      <td>-0.017779</td>\n      <td>0.006399</td>\n    </tr>\n    <tr>\n      <th>std</th>\n      <td>0.690916</td>\n      <td>1.081760</td>\n      <td>1.070012</td>\n      <td>1.208555</td>\n    </tr>\n    <tr>\n      <th>min</th>\n      <td>-1.022183</td>\n      <td>-1.944987</td>\n      <td>-1.328159</td>\n      <td>-1.504918</td>\n    </tr>\n    <tr>\n      <th>25%</th>\n      <td>-0.015598</td>\n      <td>-0.503583</td>\n      <td>-0.947866</td>\n      <td>-0.834885</td>\n    </tr>\n    <tr>\n      <th>50%</th>\n      <td>0.466296</td>\n      <td>-0.242388</td>\n      <td>-0.115369</td>\n      <td>-0.271532</td>\n    </tr>\n    <tr>\n      <th>75%</th>\n      <td>0.666683</td>\n      <td>0.256215</td>\n      <td>0.749916</td>\n      <td>1.169683</td>\n    </tr>\n    <tr>\n      <th>max</th>\n      <td>0.952212</td>\n      <td>1.988013</td>\n      <td>1.873862</td>\n      <td>1.642576</td>\n    </tr>\n  </tbody>\n</table>\n</div>"
     },
     "metadata": {},
     "execution_count": 77
    }
   ],
   "source": [
    "# quick data summary\n",
    "df.describe()"
   ]
  },
  {
   "cell_type": "code",
   "execution_count": 78,
   "metadata": {},
   "outputs": [
    {
     "output_type": "execute_result",
     "data": {
      "text/plain": [
       "A    0.233233\n",
       "B   -0.168364\n",
       "C   -0.017779\n",
       "D    0.006399\n",
       "dtype: float64"
      ]
     },
     "metadata": {},
     "execution_count": 78
    }
   ],
   "source": [
    "# Calculando a média\n",
    "df.mean()"
   ]
  },
  {
   "cell_type": "code",
   "execution_count": 79,
   "metadata": {},
   "outputs": [
    {
     "output_type": "execute_result",
     "data": {
      "text/plain": [
       "2018-01-01   -0.599121\n",
       "2018-01-02   -0.221406\n",
       "2018-01-03   -0.338284\n",
       "2018-01-04    0.674572\n",
       "2018-01-05   -0.267347\n",
       "2018-01-06   -0.179885\n",
       "2018-01-07    1.295213\n",
       "2018-01-08   -0.623214\n",
       "2018-01-09    0.650698\n",
       "2018-01-10   -0.257503\n",
       "Freq: D, dtype: float64"
      ]
     },
     "metadata": {},
     "execution_count": 79
    }
   ],
   "source": [
    "# Pivot e cálculo da média\n",
    "df.mean(1)"
   ]
  },
  {
   "cell_type": "code",
   "execution_count": 80,
   "metadata": {},
   "outputs": [
    {
     "output_type": "execute_result",
     "data": {
      "text/plain": [
       "                   A         B         C         D\n",
       "2018-01-01  0.669536 -0.545854 -1.058872 -1.461295\n",
       "2018-01-02  1.285123 -2.490841 -0.070918 -2.005473\n",
       "2018-01-03  1.240469 -3.868472 -1.293362 -0.713880\n",
       "2018-01-04  1.898592 -4.076101 -0.501256  0.741807\n",
       "2018-01-05  2.826246 -4.353248 -0.716235 -0.763111\n",
       "2018-01-06  3.143252 -4.013900 -1.331083 -1.524154\n",
       "2018-01-07  4.095464 -3.301700  0.542779  0.118422\n",
       "2018-01-08  4.167034 -3.678468 -0.785380 -0.741077\n",
       "2018-01-09  3.354510 -1.690455 -0.162034  0.062878\n",
       "2018-01-10  2.332327 -1.683637 -0.177793  0.063992"
      ],
      "text/html": "<div>\n<style scoped>\n    .dataframe tbody tr th:only-of-type {\n        vertical-align: middle;\n    }\n\n    .dataframe tbody tr th {\n        vertical-align: top;\n    }\n\n    .dataframe thead th {\n        text-align: right;\n    }\n</style>\n<table border=\"1\" class=\"dataframe\">\n  <thead>\n    <tr style=\"text-align: right;\">\n      <th></th>\n      <th>A</th>\n      <th>B</th>\n      <th>C</th>\n      <th>D</th>\n    </tr>\n  </thead>\n  <tbody>\n    <tr>\n      <th>2018-01-01</th>\n      <td>0.669536</td>\n      <td>-0.545854</td>\n      <td>-1.058872</td>\n      <td>-1.461295</td>\n    </tr>\n    <tr>\n      <th>2018-01-02</th>\n      <td>1.285123</td>\n      <td>-2.490841</td>\n      <td>-0.070918</td>\n      <td>-2.005473</td>\n    </tr>\n    <tr>\n      <th>2018-01-03</th>\n      <td>1.240469</td>\n      <td>-3.868472</td>\n      <td>-1.293362</td>\n      <td>-0.713880</td>\n    </tr>\n    <tr>\n      <th>2018-01-04</th>\n      <td>1.898592</td>\n      <td>-4.076101</td>\n      <td>-0.501256</td>\n      <td>0.741807</td>\n    </tr>\n    <tr>\n      <th>2018-01-05</th>\n      <td>2.826246</td>\n      <td>-4.353248</td>\n      <td>-0.716235</td>\n      <td>-0.763111</td>\n    </tr>\n    <tr>\n      <th>2018-01-06</th>\n      <td>3.143252</td>\n      <td>-4.013900</td>\n      <td>-1.331083</td>\n      <td>-1.524154</td>\n    </tr>\n    <tr>\n      <th>2018-01-07</th>\n      <td>4.095464</td>\n      <td>-3.301700</td>\n      <td>0.542779</td>\n      <td>0.118422</td>\n    </tr>\n    <tr>\n      <th>2018-01-08</th>\n      <td>4.167034</td>\n      <td>-3.678468</td>\n      <td>-0.785380</td>\n      <td>-0.741077</td>\n    </tr>\n    <tr>\n      <th>2018-01-09</th>\n      <td>3.354510</td>\n      <td>-1.690455</td>\n      <td>-0.162034</td>\n      <td>0.062878</td>\n    </tr>\n    <tr>\n      <th>2018-01-10</th>\n      <td>2.332327</td>\n      <td>-1.683637</td>\n      <td>-0.177793</td>\n      <td>0.063992</td>\n    </tr>\n  </tbody>\n</table>\n</div>"
     },
     "metadata": {},
     "execution_count": 80
    }
   ],
   "source": [
    "# Usando métodos\n",
    "df.apply(np.cumsum)"
   ]
  },
  {
   "cell_type": "code",
   "execution_count": 81,
   "metadata": {},
   "outputs": [
    {
     "output_type": "execute_result",
     "data": {
      "text/plain": [
       "    chave  coluna1  coluna2\n",
       "0  chave1        1        4\n",
       "1  chave2        2        5"
      ],
      "text/html": "<div>\n<style scoped>\n    .dataframe tbody tr th:only-of-type {\n        vertical-align: middle;\n    }\n\n    .dataframe tbody tr th {\n        vertical-align: top;\n    }\n\n    .dataframe thead th {\n        text-align: right;\n    }\n</style>\n<table border=\"1\" class=\"dataframe\">\n  <thead>\n    <tr style=\"text-align: right;\">\n      <th></th>\n      <th>chave</th>\n      <th>coluna1</th>\n      <th>coluna2</th>\n    </tr>\n  </thead>\n  <tbody>\n    <tr>\n      <th>0</th>\n      <td>chave1</td>\n      <td>1</td>\n      <td>4</td>\n    </tr>\n    <tr>\n      <th>1</th>\n      <td>chave2</td>\n      <td>2</td>\n      <td>5</td>\n    </tr>\n  </tbody>\n</table>\n</div>"
     },
     "metadata": {},
     "execution_count": 81
    }
   ],
   "source": [
    "# Merge de Dataframes\n",
    "left = pd.DataFrame({'chave': ['chave1', 'chave2'], 'coluna1': [1, 2]})\n",
    "right = pd.DataFrame({'chave': ['chave1', 'chave2'], 'coluna2': [4, 5]})\n",
    "pd.merge(left, right, on='chave')"
   ]
  },
  {
   "cell_type": "code",
   "execution_count": 82,
   "metadata": {},
   "outputs": [],
   "source": [
    "# Adicionando um elemento ao Dataframe\n",
    "df = pd.DataFrame(np.random.randn(8, 4), columns=['A', 'B', 'C', 'D'])"
   ]
  },
  {
   "cell_type": "code",
   "execution_count": 83,
   "metadata": {},
   "outputs": [
    {
     "output_type": "execute_result",
     "data": {
      "text/plain": [
       "          A         B         C         D\n",
       "0 -1.109715 -0.383053  0.560752  0.266722\n",
       "1  1.551600 -0.105279 -1.611260  0.123954\n",
       "2 -0.352570  0.120470  0.470941  0.643643\n",
       "3 -0.860784 -0.572226  2.074465 -0.706072\n",
       "4  0.032384 -0.414454  1.077712  2.174736\n",
       "5 -0.772367 -0.472787 -1.250291 -0.102119\n",
       "6 -2.711286 -0.753290  1.079795  0.048871\n",
       "7 -0.017151 -1.188816  0.040066  0.298421"
      ],
      "text/html": "<div>\n<style scoped>\n    .dataframe tbody tr th:only-of-type {\n        vertical-align: middle;\n    }\n\n    .dataframe tbody tr th {\n        vertical-align: top;\n    }\n\n    .dataframe thead th {\n        text-align: right;\n    }\n</style>\n<table border=\"1\" class=\"dataframe\">\n  <thead>\n    <tr style=\"text-align: right;\">\n      <th></th>\n      <th>A</th>\n      <th>B</th>\n      <th>C</th>\n      <th>D</th>\n    </tr>\n  </thead>\n  <tbody>\n    <tr>\n      <th>0</th>\n      <td>-1.109715</td>\n      <td>-0.383053</td>\n      <td>0.560752</td>\n      <td>0.266722</td>\n    </tr>\n    <tr>\n      <th>1</th>\n      <td>1.551600</td>\n      <td>-0.105279</td>\n      <td>-1.611260</td>\n      <td>0.123954</td>\n    </tr>\n    <tr>\n      <th>2</th>\n      <td>-0.352570</td>\n      <td>0.120470</td>\n      <td>0.470941</td>\n      <td>0.643643</td>\n    </tr>\n    <tr>\n      <th>3</th>\n      <td>-0.860784</td>\n      <td>-0.572226</td>\n      <td>2.074465</td>\n      <td>-0.706072</td>\n    </tr>\n    <tr>\n      <th>4</th>\n      <td>0.032384</td>\n      <td>-0.414454</td>\n      <td>1.077712</td>\n      <td>2.174736</td>\n    </tr>\n    <tr>\n      <th>5</th>\n      <td>-0.772367</td>\n      <td>-0.472787</td>\n      <td>-1.250291</td>\n      <td>-0.102119</td>\n    </tr>\n    <tr>\n      <th>6</th>\n      <td>-2.711286</td>\n      <td>-0.753290</td>\n      <td>1.079795</td>\n      <td>0.048871</td>\n    </tr>\n    <tr>\n      <th>7</th>\n      <td>-0.017151</td>\n      <td>-1.188816</td>\n      <td>0.040066</td>\n      <td>0.298421</td>\n    </tr>\n  </tbody>\n</table>\n</div>"
     },
     "metadata": {},
     "execution_count": 83
    }
   ],
   "source": [
    "df"
   ]
  },
  {
   "cell_type": "code",
   "execution_count": 84,
   "metadata": {},
   "outputs": [],
   "source": [
    "s = df.iloc[3]"
   ]
  },
  {
   "cell_type": "code",
   "execution_count": 85,
   "metadata": {},
   "outputs": [
    {
     "output_type": "execute_result",
     "data": {
      "text/plain": [
       "          A         B         C         D\n",
       "0 -1.109715 -0.383053  0.560752  0.266722\n",
       "1  1.551600 -0.105279 -1.611260  0.123954\n",
       "2 -0.352570  0.120470  0.470941  0.643643\n",
       "3 -0.860784 -0.572226  2.074465 -0.706072\n",
       "4  0.032384 -0.414454  1.077712  2.174736\n",
       "5 -0.772367 -0.472787 -1.250291 -0.102119\n",
       "6 -2.711286 -0.753290  1.079795  0.048871\n",
       "7 -0.017151 -1.188816  0.040066  0.298421\n",
       "8 -0.860784 -0.572226  2.074465 -0.706072"
      ],
      "text/html": "<div>\n<style scoped>\n    .dataframe tbody tr th:only-of-type {\n        vertical-align: middle;\n    }\n\n    .dataframe tbody tr th {\n        vertical-align: top;\n    }\n\n    .dataframe thead th {\n        text-align: right;\n    }\n</style>\n<table border=\"1\" class=\"dataframe\">\n  <thead>\n    <tr style=\"text-align: right;\">\n      <th></th>\n      <th>A</th>\n      <th>B</th>\n      <th>C</th>\n      <th>D</th>\n    </tr>\n  </thead>\n  <tbody>\n    <tr>\n      <th>0</th>\n      <td>-1.109715</td>\n      <td>-0.383053</td>\n      <td>0.560752</td>\n      <td>0.266722</td>\n    </tr>\n    <tr>\n      <th>1</th>\n      <td>1.551600</td>\n      <td>-0.105279</td>\n      <td>-1.611260</td>\n      <td>0.123954</td>\n    </tr>\n    <tr>\n      <th>2</th>\n      <td>-0.352570</td>\n      <td>0.120470</td>\n      <td>0.470941</td>\n      <td>0.643643</td>\n    </tr>\n    <tr>\n      <th>3</th>\n      <td>-0.860784</td>\n      <td>-0.572226</td>\n      <td>2.074465</td>\n      <td>-0.706072</td>\n    </tr>\n    <tr>\n      <th>4</th>\n      <td>0.032384</td>\n      <td>-0.414454</td>\n      <td>1.077712</td>\n      <td>2.174736</td>\n    </tr>\n    <tr>\n      <th>5</th>\n      <td>-0.772367</td>\n      <td>-0.472787</td>\n      <td>-1.250291</td>\n      <td>-0.102119</td>\n    </tr>\n    <tr>\n      <th>6</th>\n      <td>-2.711286</td>\n      <td>-0.753290</td>\n      <td>1.079795</td>\n      <td>0.048871</td>\n    </tr>\n    <tr>\n      <th>7</th>\n      <td>-0.017151</td>\n      <td>-1.188816</td>\n      <td>0.040066</td>\n      <td>0.298421</td>\n    </tr>\n    <tr>\n      <th>8</th>\n      <td>-0.860784</td>\n      <td>-0.572226</td>\n      <td>2.074465</td>\n      <td>-0.706072</td>\n    </tr>\n  </tbody>\n</table>\n</div>"
     },
     "metadata": {},
     "execution_count": 85
    }
   ],
   "source": [
    "# Adicionando um elemento ao Dataframe\n",
    "df.append(s, ignore_index=True)"
   ]
  },
  {
   "cell_type": "markdown",
   "metadata": {},
   "source": [
    "## Time Series"
   ]
  },
  {
   "cell_type": "code",
   "execution_count": 86,
   "metadata": {},
   "outputs": [],
   "source": [
    "# Criando um range de datas com frequência de segundos\n",
    "rng = pd.date_range('1/1/2020', periods = 50, freq = 'S')"
   ]
  },
  {
   "cell_type": "code",
   "execution_count": 87,
   "metadata": {},
   "outputs": [],
   "source": [
    "ts = pd.Series(np.random.randint(0, 500, len(rng)), index = rng)"
   ]
  },
  {
   "cell_type": "code",
   "execution_count": 88,
   "metadata": {},
   "outputs": [
    {
     "output_type": "execute_result",
     "data": {
      "text/plain": [
       "2020-01-01 00:00:00    106\n",
       "2020-01-01 00:00:01     16\n",
       "2020-01-01 00:00:02    270\n",
       "2020-01-01 00:00:03    394\n",
       "2020-01-01 00:00:04    431\n",
       "2020-01-01 00:00:05    110\n",
       "2020-01-01 00:00:06    265\n",
       "2020-01-01 00:00:07    433\n",
       "2020-01-01 00:00:08    339\n",
       "2020-01-01 00:00:09    492\n",
       "2020-01-01 00:00:10    266\n",
       "2020-01-01 00:00:11    286\n",
       "2020-01-01 00:00:12    292\n",
       "2020-01-01 00:00:13    113\n",
       "2020-01-01 00:00:14    445\n",
       "2020-01-01 00:00:15    271\n",
       "2020-01-01 00:00:16    179\n",
       "2020-01-01 00:00:17    297\n",
       "2020-01-01 00:00:18    484\n",
       "2020-01-01 00:00:19    495\n",
       "2020-01-01 00:00:20    499\n",
       "2020-01-01 00:00:21    354\n",
       "2020-01-01 00:00:22    270\n",
       "2020-01-01 00:00:23    138\n",
       "2020-01-01 00:00:24    263\n",
       "2020-01-01 00:00:25    280\n",
       "2020-01-01 00:00:26    477\n",
       "2020-01-01 00:00:27     68\n",
       "2020-01-01 00:00:28    455\n",
       "2020-01-01 00:00:29    317\n",
       "2020-01-01 00:00:30    439\n",
       "2020-01-01 00:00:31    104\n",
       "2020-01-01 00:00:32     39\n",
       "2020-01-01 00:00:33    472\n",
       "2020-01-01 00:00:34    387\n",
       "2020-01-01 00:00:35    101\n",
       "2020-01-01 00:00:36    389\n",
       "2020-01-01 00:00:37    201\n",
       "2020-01-01 00:00:38     96\n",
       "2020-01-01 00:00:39    204\n",
       "2020-01-01 00:00:40      3\n",
       "2020-01-01 00:00:41    427\n",
       "2020-01-01 00:00:42    386\n",
       "2020-01-01 00:00:43    367\n",
       "2020-01-01 00:00:44     59\n",
       "2020-01-01 00:00:45      0\n",
       "2020-01-01 00:00:46    234\n",
       "2020-01-01 00:00:47    134\n",
       "2020-01-01 00:00:48    403\n",
       "2020-01-01 00:00:49    487\n",
       "Freq: S, dtype: int32"
      ]
     },
     "metadata": {},
     "execution_count": 88
    }
   ],
   "source": [
    "ts"
   ]
  },
  {
   "cell_type": "code",
   "execution_count": 89,
   "metadata": {},
   "outputs": [
    {
     "output_type": "execute_result",
     "data": {
      "text/plain": [
       "2020-01-31    0.842756\n",
       "2020-02-29    0.980206\n",
       "2020-03-31   -1.570561\n",
       "2020-04-30    0.202341\n",
       "2020-05-31    1.726779\n",
       "Freq: M, dtype: float64"
      ]
     },
     "metadata": {},
     "execution_count": 89
    }
   ],
   "source": [
    "# Criando um range de datas com frequência de meses\n",
    "rng = pd.date_range('1/1/2020', periods = 5, freq = 'M')\n",
    "ts = pd.Series(np.random.randn(len(rng)), index = rng)\n",
    "ts"
   ]
  },
  {
   "cell_type": "markdown",
   "metadata": {},
   "source": [
    "## Plotting"
   ]
  },
  {
   "cell_type": "code",
   "execution_count": 90,
   "metadata": {},
   "outputs": [],
   "source": [
    "import matplotlib.pyplot as plt\n",
    "from matplotlib import style\n",
    "%matplotlib inline"
   ]
  },
  {
   "cell_type": "code",
   "execution_count": 91,
   "metadata": {},
   "outputs": [
    {
     "output_type": "execute_result",
     "data": {
      "text/plain": [
       "'3.2.1'"
      ]
     },
     "metadata": {},
     "execution_count": 91
    }
   ],
   "source": [
    "import matplotlib as mat\n",
    "mat.__version__"
   ]
  },
  {
   "cell_type": "code",
   "execution_count": 92,
   "metadata": {},
   "outputs": [
    {
     "output_type": "execute_result",
     "data": {
      "text/plain": [
       "<matplotlib.axes._subplots.AxesSubplot at 0x274c3604a30>"
      ]
     },
     "metadata": {},
     "execution_count": 92
    },
    {
     "output_type": "display_data",
     "data": {
      "text/plain": "<Figure size 432x288 with 1 Axes>",
      "image/svg+xml": "<?xml version=\"1.0\" encoding=\"utf-8\" standalone=\"no\"?>\r\n<!DOCTYPE svg PUBLIC \"-//W3C//DTD SVG 1.1//EN\"\r\n  \"http://www.w3.org/Graphics/SVG/1.1/DTD/svg11.dtd\">\r\n<!-- Created with matplotlib (https://matplotlib.org/) -->\r\n<svg height=\"259.715937pt\" version=\"1.1\" viewBox=\"0 0 377.304687 259.715937\" width=\"377.304687pt\" xmlns=\"http://www.w3.org/2000/svg\" xmlns:xlink=\"http://www.w3.org/1999/xlink\">\r\n <defs>\r\n  <style type=\"text/css\">\r\n*{stroke-linecap:butt;stroke-linejoin:round;}\r\n  </style>\r\n </defs>\r\n <g id=\"figure_1\">\r\n  <g id=\"patch_1\">\r\n   <path d=\"M 0 259.715937 \r\nL 377.304687 259.715937 \r\nL 377.304687 0 \r\nL 0 0 \r\nz\r\n\" style=\"fill:none;\"/>\r\n  </g>\r\n  <g id=\"axes_1\">\r\n   <g id=\"patch_2\">\r\n    <path d=\"M 35.304688 224.64 \r\nL 370.104688 224.64 \r\nL 370.104688 7.2 \r\nL 35.304688 7.2 \r\nz\r\n\" style=\"fill:#ffffff;\"/>\r\n   </g>\r\n   <g id=\"matplotlib.axis_1\">\r\n    <g id=\"xtick_1\">\r\n     <g id=\"line2d_1\">\r\n      <defs>\r\n       <path d=\"M 0 0 \r\nL 0 3.5 \r\n\" id=\"m4916f58345\" style=\"stroke:#000000;stroke-width:0.8;\"/>\r\n      </defs>\r\n      <g>\r\n       <use style=\"stroke:#000000;stroke-width:0.8;\" x=\"35.304688\" xlink:href=\"#m4916f58345\" y=\"224.64\"/>\r\n      </g>\r\n     </g>\r\n     <g id=\"text_1\">\r\n      <!-- Jan -->\r\n      <defs>\r\n       <path d=\"M 9.8125 72.90625 \r\nL 19.671875 72.90625 \r\nL 19.671875 5.078125 \r\nQ 19.671875 -8.109375 14.671875 -14.0625 \r\nQ 9.671875 -20.015625 -1.421875 -20.015625 \r\nL -5.171875 -20.015625 \r\nL -5.171875 -11.71875 \r\nL -2.09375 -11.71875 \r\nQ 4.4375 -11.71875 7.125 -8.046875 \r\nQ 9.8125 -4.390625 9.8125 5.078125 \r\nz\r\n\" id=\"DejaVuSans-74\"/>\r\n       <path d=\"M 34.28125 27.484375 \r\nQ 23.390625 27.484375 19.1875 25 \r\nQ 14.984375 22.515625 14.984375 16.5 \r\nQ 14.984375 11.71875 18.140625 8.90625 \r\nQ 21.296875 6.109375 26.703125 6.109375 \r\nQ 34.1875 6.109375 38.703125 11.40625 \r\nQ 43.21875 16.703125 43.21875 25.484375 \r\nL 43.21875 27.484375 \r\nz\r\nM 52.203125 31.203125 \r\nL 52.203125 0 \r\nL 43.21875 0 \r\nL 43.21875 8.296875 \r\nQ 40.140625 3.328125 35.546875 0.953125 \r\nQ 30.953125 -1.421875 24.3125 -1.421875 \r\nQ 15.921875 -1.421875 10.953125 3.296875 \r\nQ 6 8.015625 6 15.921875 \r\nQ 6 25.140625 12.171875 29.828125 \r\nQ 18.359375 34.515625 30.609375 34.515625 \r\nL 43.21875 34.515625 \r\nL 43.21875 35.40625 \r\nQ 43.21875 41.609375 39.140625 45 \r\nQ 35.0625 48.390625 27.6875 48.390625 \r\nQ 23 48.390625 18.546875 47.265625 \r\nQ 14.109375 46.140625 10.015625 43.890625 \r\nL 10.015625 52.203125 \r\nQ 14.9375 54.109375 19.578125 55.046875 \r\nQ 24.21875 56 28.609375 56 \r\nQ 40.484375 56 46.34375 49.84375 \r\nQ 52.203125 43.703125 52.203125 31.203125 \r\nz\r\n\" id=\"DejaVuSans-97\"/>\r\n       <path d=\"M 54.890625 33.015625 \r\nL 54.890625 0 \r\nL 45.90625 0 \r\nL 45.90625 32.71875 \r\nQ 45.90625 40.484375 42.875 44.328125 \r\nQ 39.84375 48.1875 33.796875 48.1875 \r\nQ 26.515625 48.1875 22.3125 43.546875 \r\nQ 18.109375 38.921875 18.109375 30.90625 \r\nL 18.109375 0 \r\nL 9.078125 0 \r\nL 9.078125 54.6875 \r\nL 18.109375 54.6875 \r\nL 18.109375 46.1875 \r\nQ 21.34375 51.125 25.703125 53.5625 \r\nQ 30.078125 56 35.796875 56 \r\nQ 45.21875 56 50.046875 50.171875 \r\nQ 54.890625 44.34375 54.890625 33.015625 \r\nz\r\n\" id=\"DejaVuSans-110\"/>\r\n      </defs>\r\n      <g transform=\"translate(27.596875 239.238438)scale(0.1 -0.1)\">\r\n       <use xlink:href=\"#DejaVuSans-74\"/>\r\n       <use x=\"29.492188\" xlink:href=\"#DejaVuSans-97\"/>\r\n       <use x=\"90.771484\" xlink:href=\"#DejaVuSans-110\"/>\r\n      </g>\r\n      <!-- 2020 -->\r\n      <defs>\r\n       <path d=\"M 19.1875 8.296875 \r\nL 53.609375 8.296875 \r\nL 53.609375 0 \r\nL 7.328125 0 \r\nL 7.328125 8.296875 \r\nQ 12.9375 14.109375 22.625 23.890625 \r\nQ 32.328125 33.6875 34.8125 36.53125 \r\nQ 39.546875 41.84375 41.421875 45.53125 \r\nQ 43.3125 49.21875 43.3125 52.78125 \r\nQ 43.3125 58.59375 39.234375 62.25 \r\nQ 35.15625 65.921875 28.609375 65.921875 \r\nQ 23.96875 65.921875 18.8125 64.3125 \r\nQ 13.671875 62.703125 7.8125 59.421875 \r\nL 7.8125 69.390625 \r\nQ 13.765625 71.78125 18.9375 73 \r\nQ 24.125 74.21875 28.421875 74.21875 \r\nQ 39.75 74.21875 46.484375 68.546875 \r\nQ 53.21875 62.890625 53.21875 53.421875 \r\nQ 53.21875 48.921875 51.53125 44.890625 \r\nQ 49.859375 40.875 45.40625 35.40625 \r\nQ 44.1875 33.984375 37.640625 27.21875 \r\nQ 31.109375 20.453125 19.1875 8.296875 \r\nz\r\n\" id=\"DejaVuSans-50\"/>\r\n       <path d=\"M 31.78125 66.40625 \r\nQ 24.171875 66.40625 20.328125 58.90625 \r\nQ 16.5 51.421875 16.5 36.375 \r\nQ 16.5 21.390625 20.328125 13.890625 \r\nQ 24.171875 6.390625 31.78125 6.390625 \r\nQ 39.453125 6.390625 43.28125 13.890625 \r\nQ 47.125 21.390625 47.125 36.375 \r\nQ 47.125 51.421875 43.28125 58.90625 \r\nQ 39.453125 66.40625 31.78125 66.40625 \r\nz\r\nM 31.78125 74.21875 \r\nQ 44.046875 74.21875 50.515625 64.515625 \r\nQ 56.984375 54.828125 56.984375 36.375 \r\nQ 56.984375 17.96875 50.515625 8.265625 \r\nQ 44.046875 -1.421875 31.78125 -1.421875 \r\nQ 19.53125 -1.421875 13.0625 8.265625 \r\nQ 6.59375 17.96875 6.59375 36.375 \r\nQ 6.59375 54.828125 13.0625 64.515625 \r\nQ 19.53125 74.21875 31.78125 74.21875 \r\nz\r\n\" id=\"DejaVuSans-48\"/>\r\n      </defs>\r\n      <g transform=\"translate(22.579687 250.43625)scale(0.1 -0.1)\">\r\n       <use xlink:href=\"#DejaVuSans-50\"/>\r\n       <use x=\"63.623047\" xlink:href=\"#DejaVuSans-48\"/>\r\n       <use x=\"127.246094\" xlink:href=\"#DejaVuSans-50\"/>\r\n       <use x=\"190.869141\" xlink:href=\"#DejaVuSans-48\"/>\r\n      </g>\r\n     </g>\r\n    </g>\r\n    <g id=\"xtick_2\">\r\n     <g id=\"line2d_2\">\r\n      <g>\r\n       <use style=\"stroke:#000000;stroke-width:0.8;\" x=\"96.360399\" xlink:href=\"#m4916f58345\" y=\"224.64\"/>\r\n      </g>\r\n     </g>\r\n     <g id=\"text_2\">\r\n      <!-- Apr -->\r\n      <defs>\r\n       <path d=\"M 34.1875 63.1875 \r\nL 20.796875 26.90625 \r\nL 47.609375 26.90625 \r\nz\r\nM 28.609375 72.90625 \r\nL 39.796875 72.90625 \r\nL 67.578125 0 \r\nL 57.328125 0 \r\nL 50.6875 18.703125 \r\nL 17.828125 18.703125 \r\nL 11.1875 0 \r\nL 0.78125 0 \r\nz\r\n\" id=\"DejaVuSans-65\"/>\r\n       <path d=\"M 18.109375 8.203125 \r\nL 18.109375 -20.796875 \r\nL 9.078125 -20.796875 \r\nL 9.078125 54.6875 \r\nL 18.109375 54.6875 \r\nL 18.109375 46.390625 \r\nQ 20.953125 51.265625 25.265625 53.625 \r\nQ 29.59375 56 35.59375 56 \r\nQ 45.5625 56 51.78125 48.09375 \r\nQ 58.015625 40.1875 58.015625 27.296875 \r\nQ 58.015625 14.40625 51.78125 6.484375 \r\nQ 45.5625 -1.421875 35.59375 -1.421875 \r\nQ 29.59375 -1.421875 25.265625 0.953125 \r\nQ 20.953125 3.328125 18.109375 8.203125 \r\nz\r\nM 48.6875 27.296875 \r\nQ 48.6875 37.203125 44.609375 42.84375 \r\nQ 40.53125 48.484375 33.40625 48.484375 \r\nQ 26.265625 48.484375 22.1875 42.84375 \r\nQ 18.109375 37.203125 18.109375 27.296875 \r\nQ 18.109375 17.390625 22.1875 11.75 \r\nQ 26.265625 6.109375 33.40625 6.109375 \r\nQ 40.53125 6.109375 44.609375 11.75 \r\nQ 48.6875 17.390625 48.6875 27.296875 \r\nz\r\n\" id=\"DejaVuSans-112\"/>\r\n       <path d=\"M 41.109375 46.296875 \r\nQ 39.59375 47.171875 37.8125 47.578125 \r\nQ 36.03125 48 33.890625 48 \r\nQ 26.265625 48 22.1875 43.046875 \r\nQ 18.109375 38.09375 18.109375 28.8125 \r\nL 18.109375 0 \r\nL 9.078125 0 \r\nL 9.078125 54.6875 \r\nL 18.109375 54.6875 \r\nL 18.109375 46.1875 \r\nQ 20.953125 51.171875 25.484375 53.578125 \r\nQ 30.03125 56 36.53125 56 \r\nQ 37.453125 56 38.578125 55.875 \r\nQ 39.703125 55.765625 41.0625 55.515625 \r\nz\r\n\" id=\"DejaVuSans-114\"/>\r\n      </defs>\r\n      <g transform=\"translate(87.710399 239.238438)scale(0.1 -0.1)\">\r\n       <use xlink:href=\"#DejaVuSans-65\"/>\r\n       <use x=\"68.408203\" xlink:href=\"#DejaVuSans-112\"/>\r\n       <use x=\"131.884766\" xlink:href=\"#DejaVuSans-114\"/>\r\n      </g>\r\n     </g>\r\n    </g>\r\n    <g id=\"xtick_3\">\r\n     <g id=\"line2d_3\">\r\n      <g>\r\n       <use style=\"stroke:#000000;stroke-width:0.8;\" x=\"157.41611\" xlink:href=\"#m4916f58345\" y=\"224.64\"/>\r\n      </g>\r\n     </g>\r\n     <g id=\"text_3\">\r\n      <!-- Jul -->\r\n      <defs>\r\n       <path d=\"M 8.5 21.578125 \r\nL 8.5 54.6875 \r\nL 17.484375 54.6875 \r\nL 17.484375 21.921875 \r\nQ 17.484375 14.15625 20.5 10.265625 \r\nQ 23.53125 6.390625 29.59375 6.390625 \r\nQ 36.859375 6.390625 41.078125 11.03125 \r\nQ 45.3125 15.671875 45.3125 23.6875 \r\nL 45.3125 54.6875 \r\nL 54.296875 54.6875 \r\nL 54.296875 0 \r\nL 45.3125 0 \r\nL 45.3125 8.40625 \r\nQ 42.046875 3.421875 37.71875 1 \r\nQ 33.40625 -1.421875 27.6875 -1.421875 \r\nQ 18.265625 -1.421875 13.375 4.4375 \r\nQ 8.5 10.296875 8.5 21.578125 \r\nz\r\nM 31.109375 56 \r\nz\r\n\" id=\"DejaVuSans-117\"/>\r\n       <path d=\"M 9.421875 75.984375 \r\nL 18.40625 75.984375 \r\nL 18.40625 0 \r\nL 9.421875 0 \r\nz\r\n\" id=\"DejaVuSans-108\"/>\r\n      </defs>\r\n      <g transform=\"translate(151.383298 239.238438)scale(0.1 -0.1)\">\r\n       <use xlink:href=\"#DejaVuSans-74\"/>\r\n       <use x=\"29.492188\" xlink:href=\"#DejaVuSans-117\"/>\r\n       <use x=\"92.871094\" xlink:href=\"#DejaVuSans-108\"/>\r\n      </g>\r\n     </g>\r\n    </g>\r\n    <g id=\"xtick_4\">\r\n     <g id=\"line2d_4\">\r\n      <g>\r\n       <use style=\"stroke:#000000;stroke-width:0.8;\" x=\"219.142764\" xlink:href=\"#m4916f58345\" y=\"224.64\"/>\r\n      </g>\r\n     </g>\r\n     <g id=\"text_4\">\r\n      <!-- Oct -->\r\n      <defs>\r\n       <path d=\"M 39.40625 66.21875 \r\nQ 28.65625 66.21875 22.328125 58.203125 \r\nQ 16.015625 50.203125 16.015625 36.375 \r\nQ 16.015625 22.609375 22.328125 14.59375 \r\nQ 28.65625 6.59375 39.40625 6.59375 \r\nQ 50.140625 6.59375 56.421875 14.59375 \r\nQ 62.703125 22.609375 62.703125 36.375 \r\nQ 62.703125 50.203125 56.421875 58.203125 \r\nQ 50.140625 66.21875 39.40625 66.21875 \r\nz\r\nM 39.40625 74.21875 \r\nQ 54.734375 74.21875 63.90625 63.9375 \r\nQ 73.09375 53.65625 73.09375 36.375 \r\nQ 73.09375 19.140625 63.90625 8.859375 \r\nQ 54.734375 -1.421875 39.40625 -1.421875 \r\nQ 24.03125 -1.421875 14.8125 8.828125 \r\nQ 5.609375 19.09375 5.609375 36.375 \r\nQ 5.609375 53.65625 14.8125 63.9375 \r\nQ 24.03125 74.21875 39.40625 74.21875 \r\nz\r\n\" id=\"DejaVuSans-79\"/>\r\n       <path d=\"M 48.78125 52.59375 \r\nL 48.78125 44.1875 \r\nQ 44.96875 46.296875 41.140625 47.34375 \r\nQ 37.3125 48.390625 33.40625 48.390625 \r\nQ 24.65625 48.390625 19.8125 42.84375 \r\nQ 14.984375 37.3125 14.984375 27.296875 \r\nQ 14.984375 17.28125 19.8125 11.734375 \r\nQ 24.65625 6.203125 33.40625 6.203125 \r\nQ 37.3125 6.203125 41.140625 7.25 \r\nQ 44.96875 8.296875 48.78125 10.40625 \r\nL 48.78125 2.09375 \r\nQ 45.015625 0.34375 40.984375 -0.53125 \r\nQ 36.96875 -1.421875 32.421875 -1.421875 \r\nQ 20.0625 -1.421875 12.78125 6.34375 \r\nQ 5.515625 14.109375 5.515625 27.296875 \r\nQ 5.515625 40.671875 12.859375 48.328125 \r\nQ 20.21875 56 33.015625 56 \r\nQ 37.15625 56 41.109375 55.140625 \r\nQ 45.0625 54.296875 48.78125 52.59375 \r\nz\r\n\" id=\"DejaVuSans-99\"/>\r\n       <path d=\"M 18.3125 70.21875 \r\nL 18.3125 54.6875 \r\nL 36.8125 54.6875 \r\nL 36.8125 47.703125 \r\nL 18.3125 47.703125 \r\nL 18.3125 18.015625 \r\nQ 18.3125 11.328125 20.140625 9.421875 \r\nQ 21.96875 7.515625 27.59375 7.515625 \r\nL 36.8125 7.515625 \r\nL 36.8125 0 \r\nL 27.59375 0 \r\nQ 17.1875 0 13.234375 3.875 \r\nQ 9.28125 7.765625 9.28125 18.015625 \r\nL 9.28125 47.703125 \r\nL 2.6875 47.703125 \r\nL 2.6875 54.6875 \r\nL 9.28125 54.6875 \r\nL 9.28125 70.21875 \r\nz\r\n\" id=\"DejaVuSans-116\"/>\r\n      </defs>\r\n      <g transform=\"translate(210.497451 239.238438)scale(0.1 -0.1)\">\r\n       <use xlink:href=\"#DejaVuSans-79\"/>\r\n       <use x=\"78.710938\" xlink:href=\"#DejaVuSans-99\"/>\r\n       <use x=\"133.691406\" xlink:href=\"#DejaVuSans-116\"/>\r\n      </g>\r\n     </g>\r\n    </g>\r\n    <g id=\"xtick_5\">\r\n     <g id=\"line2d_5\">\r\n      <g>\r\n       <use style=\"stroke:#000000;stroke-width:0.8;\" x=\"280.869417\" xlink:href=\"#m4916f58345\" y=\"224.64\"/>\r\n      </g>\r\n     </g>\r\n     <g id=\"text_5\">\r\n      <!-- Jan -->\r\n      <g transform=\"translate(273.161604 239.238438)scale(0.1 -0.1)\">\r\n       <use xlink:href=\"#DejaVuSans-74\"/>\r\n       <use x=\"29.492188\" xlink:href=\"#DejaVuSans-97\"/>\r\n       <use x=\"90.771484\" xlink:href=\"#DejaVuSans-110\"/>\r\n      </g>\r\n      <!-- 2021 -->\r\n      <defs>\r\n       <path d=\"M 12.40625 8.296875 \r\nL 28.515625 8.296875 \r\nL 28.515625 63.921875 \r\nL 10.984375 60.40625 \r\nL 10.984375 69.390625 \r\nL 28.421875 72.90625 \r\nL 38.28125 72.90625 \r\nL 38.28125 8.296875 \r\nL 54.390625 8.296875 \r\nL 54.390625 0 \r\nL 12.40625 0 \r\nz\r\n\" id=\"DejaVuSans-49\"/>\r\n      </defs>\r\n      <g transform=\"translate(268.144417 250.43625)scale(0.1 -0.1)\">\r\n       <use xlink:href=\"#DejaVuSans-50\"/>\r\n       <use x=\"63.623047\" xlink:href=\"#DejaVuSans-48\"/>\r\n       <use x=\"127.246094\" xlink:href=\"#DejaVuSans-50\"/>\r\n       <use x=\"190.869141\" xlink:href=\"#DejaVuSans-49\"/>\r\n      </g>\r\n     </g>\r\n    </g>\r\n    <g id=\"xtick_6\">\r\n     <g id=\"line2d_6\">\r\n      <g>\r\n       <use style=\"stroke:#000000;stroke-width:0.8;\" x=\"341.254186\" xlink:href=\"#m4916f58345\" y=\"224.64\"/>\r\n      </g>\r\n     </g>\r\n     <g id=\"text_6\">\r\n      <!-- Apr -->\r\n      <g transform=\"translate(332.604186 239.238438)scale(0.1 -0.1)\">\r\n       <use xlink:href=\"#DejaVuSans-65\"/>\r\n       <use x=\"68.408203\" xlink:href=\"#DejaVuSans-112\"/>\r\n       <use x=\"131.884766\" xlink:href=\"#DejaVuSans-114\"/>\r\n      </g>\r\n     </g>\r\n    </g>\r\n    <g id=\"xtick_7\">\r\n     <g id=\"line2d_7\">\r\n      <g>\r\n       <use style=\"stroke:#000000;stroke-width:0.8;\" x=\"370.104687\" xlink:href=\"#m4916f58345\" y=\"224.64\"/>\r\n      </g>\r\n     </g>\r\n    </g>\r\n    <g id=\"xtick_8\">\r\n     <g id=\"line2d_8\">\r\n      <defs>\r\n       <path d=\"M 0 0 \r\nL 0 2 \r\n\" id=\"m1c96e762e1\" style=\"stroke:#000000;stroke-width:0.6;\"/>\r\n      </defs>\r\n      <g>\r\n       <use style=\"stroke:#000000;stroke-width:0.6;\" x=\"56.103886\" xlink:href=\"#m1c96e762e1\" y=\"224.64\"/>\r\n      </g>\r\n     </g>\r\n    </g>\r\n    <g id=\"xtick_9\">\r\n     <g id=\"line2d_9\">\r\n      <g>\r\n       <use style=\"stroke:#000000;stroke-width:0.6;\" x=\"75.561201\" xlink:href=\"#m1c96e762e1\" y=\"224.64\"/>\r\n      </g>\r\n     </g>\r\n    </g>\r\n    <g id=\"xtick_10\">\r\n     <g id=\"line2d_10\">\r\n      <g>\r\n       <use style=\"stroke:#000000;stroke-width:0.6;\" x=\"116.488655\" xlink:href=\"#m1c96e762e1\" y=\"224.64\"/>\r\n      </g>\r\n     </g>\r\n    </g>\r\n    <g id=\"xtick_11\">\r\n     <g id=\"line2d_11\">\r\n      <g>\r\n       <use style=\"stroke:#000000;stroke-width:0.6;\" x=\"137.287854\" xlink:href=\"#m1c96e762e1\" y=\"224.64\"/>\r\n      </g>\r\n     </g>\r\n    </g>\r\n    <g id=\"xtick_12\">\r\n     <g id=\"line2d_12\">\r\n      <g>\r\n       <use style=\"stroke:#000000;stroke-width:0.6;\" x=\"178.215309\" xlink:href=\"#m1c96e762e1\" y=\"224.64\"/>\r\n      </g>\r\n     </g>\r\n    </g>\r\n    <g id=\"xtick_13\">\r\n     <g id=\"line2d_13\">\r\n      <g>\r\n       <use style=\"stroke:#000000;stroke-width:0.6;\" x=\"199.014507\" xlink:href=\"#m1c96e762e1\" y=\"224.64\"/>\r\n      </g>\r\n     </g>\r\n    </g>\r\n    <g id=\"xtick_14\">\r\n     <g id=\"line2d_14\">\r\n      <g>\r\n       <use style=\"stroke:#000000;stroke-width:0.6;\" x=\"239.941962\" xlink:href=\"#m1c96e762e1\" y=\"224.64\"/>\r\n      </g>\r\n     </g>\r\n    </g>\r\n    <g id=\"xtick_15\">\r\n     <g id=\"line2d_15\">\r\n      <g>\r\n       <use style=\"stroke:#000000;stroke-width:0.6;\" x=\"260.070219\" xlink:href=\"#m1c96e762e1\" y=\"224.64\"/>\r\n      </g>\r\n     </g>\r\n    </g>\r\n    <g id=\"xtick_16\">\r\n     <g id=\"line2d_16\">\r\n      <g>\r\n       <use style=\"stroke:#000000;stroke-width:0.6;\" x=\"301.668615\" xlink:href=\"#m1c96e762e1\" y=\"224.64\"/>\r\n      </g>\r\n     </g>\r\n    </g>\r\n    <g id=\"xtick_17\">\r\n     <g id=\"line2d_17\">\r\n      <g>\r\n       <use style=\"stroke:#000000;stroke-width:0.6;\" x=\"320.454988\" xlink:href=\"#m1c96e762e1\" y=\"224.64\"/>\r\n      </g>\r\n     </g>\r\n    </g>\r\n    <g id=\"xtick_18\">\r\n     <g id=\"line2d_18\">\r\n      <g>\r\n       <use style=\"stroke:#000000;stroke-width:0.6;\" x=\"361.382443\" xlink:href=\"#m1c96e762e1\" y=\"224.64\"/>\r\n      </g>\r\n     </g>\r\n    </g>\r\n   </g>\r\n   <g id=\"matplotlib.axis_2\">\r\n    <g id=\"ytick_1\">\r\n     <g id=\"line2d_19\">\r\n      <defs>\r\n       <path d=\"M 0 0 \r\nL -3.5 0 \r\n\" id=\"m194fb64163\" style=\"stroke:#000000;stroke-width:0.8;\"/>\r\n      </defs>\r\n      <g>\r\n       <use style=\"stroke:#000000;stroke-width:0.8;\" x=\"35.304688\" xlink:href=\"#m194fb64163\" y=\"202.14511\"/>\r\n      </g>\r\n     </g>\r\n     <g id=\"text_7\">\r\n      <!-- −15 -->\r\n      <defs>\r\n       <path d=\"M 10.59375 35.5 \r\nL 73.1875 35.5 \r\nL 73.1875 27.203125 \r\nL 10.59375 27.203125 \r\nz\r\n\" id=\"DejaVuSans-8722\"/>\r\n       <path d=\"M 10.796875 72.90625 \r\nL 49.515625 72.90625 \r\nL 49.515625 64.59375 \r\nL 19.828125 64.59375 \r\nL 19.828125 46.734375 \r\nQ 21.96875 47.46875 24.109375 47.828125 \r\nQ 26.265625 48.1875 28.421875 48.1875 \r\nQ 40.625 48.1875 47.75 41.5 \r\nQ 54.890625 34.8125 54.890625 23.390625 \r\nQ 54.890625 11.625 47.5625 5.09375 \r\nQ 40.234375 -1.421875 26.90625 -1.421875 \r\nQ 22.3125 -1.421875 17.546875 -0.640625 \r\nQ 12.796875 0.140625 7.71875 1.703125 \r\nL 7.71875 11.625 \r\nQ 12.109375 9.234375 16.796875 8.0625 \r\nQ 21.484375 6.890625 26.703125 6.890625 \r\nQ 35.15625 6.890625 40.078125 11.328125 \r\nQ 45.015625 15.765625 45.015625 23.390625 \r\nQ 45.015625 31 40.078125 35.4375 \r\nQ 35.15625 39.890625 26.703125 39.890625 \r\nQ 22.75 39.890625 18.8125 39.015625 \r\nQ 14.890625 38.140625 10.796875 36.28125 \r\nz\r\n\" id=\"DejaVuSans-53\"/>\r\n      </defs>\r\n      <g transform=\"translate(7.2 205.944329)scale(0.1 -0.1)\">\r\n       <use xlink:href=\"#DejaVuSans-8722\"/>\r\n       <use x=\"83.789062\" xlink:href=\"#DejaVuSans-49\"/>\r\n       <use x=\"147.412109\" xlink:href=\"#DejaVuSans-53\"/>\r\n      </g>\r\n     </g>\r\n    </g>\r\n    <g id=\"ytick_2\">\r\n     <g id=\"line2d_20\">\r\n      <g>\r\n       <use style=\"stroke:#000000;stroke-width:0.8;\" x=\"35.304688\" xlink:href=\"#m194fb64163\" y=\"160.447012\"/>\r\n      </g>\r\n     </g>\r\n     <g id=\"text_8\">\r\n      <!-- −10 -->\r\n      <g transform=\"translate(7.2 164.24623)scale(0.1 -0.1)\">\r\n       <use xlink:href=\"#DejaVuSans-8722\"/>\r\n       <use x=\"83.789062\" xlink:href=\"#DejaVuSans-49\"/>\r\n       <use x=\"147.412109\" xlink:href=\"#DejaVuSans-48\"/>\r\n      </g>\r\n     </g>\r\n    </g>\r\n    <g id=\"ytick_3\">\r\n     <g id=\"line2d_21\">\r\n      <g>\r\n       <use style=\"stroke:#000000;stroke-width:0.8;\" x=\"35.304688\" xlink:href=\"#m194fb64163\" y=\"118.748913\"/>\r\n      </g>\r\n     </g>\r\n     <g id=\"text_9\">\r\n      <!-- −5 -->\r\n      <g transform=\"translate(13.5625 122.548132)scale(0.1 -0.1)\">\r\n       <use xlink:href=\"#DejaVuSans-8722\"/>\r\n       <use x=\"83.789062\" xlink:href=\"#DejaVuSans-53\"/>\r\n      </g>\r\n     </g>\r\n    </g>\r\n    <g id=\"ytick_4\">\r\n     <g id=\"line2d_22\">\r\n      <g>\r\n       <use style=\"stroke:#000000;stroke-width:0.8;\" x=\"35.304688\" xlink:href=\"#m194fb64163\" y=\"77.050815\"/>\r\n      </g>\r\n     </g>\r\n     <g id=\"text_10\">\r\n      <!-- 0 -->\r\n      <g transform=\"translate(21.942188 80.850034)scale(0.1 -0.1)\">\r\n       <use xlink:href=\"#DejaVuSans-48\"/>\r\n      </g>\r\n     </g>\r\n    </g>\r\n    <g id=\"ytick_5\">\r\n     <g id=\"line2d_23\">\r\n      <g>\r\n       <use style=\"stroke:#000000;stroke-width:0.8;\" x=\"35.304688\" xlink:href=\"#m194fb64163\" y=\"35.352716\"/>\r\n      </g>\r\n     </g>\r\n     <g id=\"text_11\">\r\n      <!-- 5 -->\r\n      <g transform=\"translate(21.942188 39.151935)scale(0.1 -0.1)\">\r\n       <use xlink:href=\"#DejaVuSans-53\"/>\r\n      </g>\r\n     </g>\r\n    </g>\r\n   </g>\r\n   <g id=\"line2d_24\">\r\n    <path clip-path=\"url(#pc101106a13)\" d=\"M 35.304688 70.328072 \r\nL 35.975629 76.990275 \r\nL 36.646571 68.282825 \r\nL 37.317513 61.131522 \r\nL 37.988455 59.980337 \r\nL 39.330339 53.131212 \r\nL 40.001281 57.655351 \r\nL 40.672223 55.956113 \r\nL 41.343164 58.765589 \r\nL 42.014106 68.548349 \r\nL 42.685048 60.97146 \r\nL 43.35599 64.017828 \r\nL 44.697874 28.154062 \r\nL 45.368816 40.041305 \r\nL 46.039758 29.85265 \r\nL 46.7107 42.877284 \r\nL 47.381641 47.871184 \r\nL 48.052583 39.23092 \r\nL 48.723525 42.470321 \r\nL 49.394467 38.710966 \r\nL 50.065409 38.241663 \r\nL 50.736351 36.09838 \r\nL 51.407293 43.147939 \r\nL 52.078235 34.397181 \r\nL 52.749176 34.973285 \r\nL 53.420118 39.705778 \r\nL 54.09106 41.382437 \r\nL 54.762002 46.331175 \r\nL 55.432944 30.043231 \r\nL 56.103886 28.991223 \r\nL 56.774828 38.767099 \r\nL 57.44577 30.150852 \r\nL 58.116712 43.981274 \r\nL 58.787653 23.706188 \r\nL 59.458595 25.430935 \r\nL 60.129537 19.548783 \r\nL 60.800479 30.904919 \r\nL 61.471421 32.483751 \r\nL 62.142363 28.719988 \r\nL 62.813305 29.036818 \r\nL 63.484247 28.935868 \r\nL 64.155189 29.573362 \r\nL 64.82613 19.804069 \r\nL 65.497072 37.747308 \r\nL 66.168014 39.801375 \r\nL 66.838956 41.137705 \r\nL 67.509898 21.387999 \r\nL 68.18084 21.66936 \r\nL 68.851782 36.270933 \r\nL 69.522724 28.556434 \r\nL 70.193665 27.798384 \r\nL 70.864607 36.268611 \r\nL 71.535549 26.391279 \r\nL 72.206491 20.034518 \r\nL 72.877433 26.731558 \r\nL 73.548375 32.221619 \r\nL 74.219317 46.739219 \r\nL 75.561201 63.426524 \r\nL 76.232142 62.714324 \r\nL 76.903084 54.217148 \r\nL 77.574026 53.439508 \r\nL 78.244968 44.614658 \r\nL 78.91591 43.711046 \r\nL 79.586852 55.689352 \r\nL 80.257794 61.706314 \r\nL 80.928736 65.55156 \r\nL 81.599677 77.51688 \r\nL 82.270619 73.649192 \r\nL 82.941561 74.035451 \r\nL 83.612503 71.254865 \r\nL 84.283445 74.593088 \r\nL 84.954387 73.371261 \r\nL 85.625329 75.606931 \r\nL 86.296271 77.425437 \r\nL 86.967213 70.49153 \r\nL 87.638154 71.720422 \r\nL 88.309096 72.489909 \r\nL 89.65098 98.969973 \r\nL 90.321922 110.097996 \r\nL 91.663806 120.853544 \r\nL 92.334748 123.013397 \r\nL 93.00569 127.160278 \r\nL 93.676631 116.271559 \r\nL 94.347573 108.844461 \r\nL 95.689457 96.870776 \r\nL 96.360399 97.315897 \r\nL 97.031341 99.538327 \r\nL 97.702283 106.868006 \r\nL 98.373225 107.482205 \r\nL 99.044166 110.724944 \r\nL 99.715108 112.075604 \r\nL 100.38605 108.93199 \r\nL 101.056992 109.002642 \r\nL 101.727934 110.755082 \r\nL 102.398876 95.47926 \r\nL 103.069818 105.759501 \r\nL 103.74076 100.50692 \r\nL 104.411702 97.433677 \r\nL 105.082643 97.34651 \r\nL 105.753585 94.939989 \r\nL 106.424527 89.528534 \r\nL 107.095469 101.524643 \r\nL 107.766411 95.977169 \r\nL 108.437353 111.44573 \r\nL 109.108295 111.497501 \r\nL 109.779237 109.838737 \r\nL 111.12112 93.041425 \r\nL 111.792062 88.589641 \r\nL 112.463004 96.50215 \r\nL 113.133946 101.077462 \r\nL 113.804888 109.23246 \r\nL 114.47583 101.585622 \r\nL 115.817714 90.822747 \r\nL 116.488655 95.607736 \r\nL 117.830539 114.967459 \r\nL 118.501481 118.257568 \r\nL 119.172423 132.068112 \r\nL 119.843365 128.700041 \r\nL 120.514307 111.303284 \r\nL 121.185249 103.235548 \r\nL 121.856191 98.138759 \r\nL 122.527132 112.329142 \r\nL 123.198074 116.032864 \r\nL 123.869016 112.676552 \r\nL 124.539958 115.620868 \r\nL 125.2109 124.700755 \r\nL 125.881842 118.948596 \r\nL 126.552784 127.61606 \r\nL 127.223726 113.529282 \r\nL 127.894667 117.300221 \r\nL 128.565609 105.66477 \r\nL 129.236551 108.824369 \r\nL 130.578435 120.167745 \r\nL 131.249377 106.335932 \r\nL 131.920319 112.489943 \r\nL 132.591261 113.367477 \r\nL 133.262203 119.50191 \r\nL 133.933144 111.789285 \r\nL 134.604086 117.789716 \r\nL 135.275028 118.344308 \r\nL 135.94597 112.276842 \r\nL 136.616912 117.825061 \r\nL 137.287854 113.615399 \r\nL 137.958796 112.930613 \r\nL 138.629738 111.854685 \r\nL 139.300679 111.288778 \r\nL 139.971621 110.489851 \r\nL 140.642563 116.810292 \r\nL 141.313505 126.387635 \r\nL 141.984447 125.154782 \r\nL 142.655389 119.32947 \r\nL 143.326331 136.262356 \r\nL 143.997273 148.267319 \r\nL 144.668215 140.339915 \r\nL 145.339156 138.130739 \r\nL 146.010098 150.805955 \r\nL 146.68104 143.051122 \r\nL 147.351982 156.660182 \r\nL 148.022924 156.993951 \r\nL 148.693866 156.66633 \r\nL 149.364808 151.957625 \r\nL 150.03575 154.54929 \r\nL 151.377633 154.772742 \r\nL 152.048575 171.973504 \r\nL 153.390459 182.814616 \r\nL 154.061401 181.030987 \r\nL 154.732343 181.180279 \r\nL 155.403285 181.668918 \r\nL 156.074227 174.814926 \r\nL 156.745168 170.710943 \r\nL 157.41611 182.248475 \r\nL 158.087052 170.853216 \r\nL 158.757994 177.035143 \r\nL 159.428936 180.81591 \r\nL 160.099878 186.492963 \r\nL 161.441762 179.369488 \r\nL 162.112704 177.009213 \r\nL 162.783645 182.64816 \r\nL 163.454587 170.00432 \r\nL 164.796471 161.244799 \r\nL 165.467413 163.108728 \r\nL 166.138355 159.182873 \r\nL 166.809297 183.384656 \r\nL 167.480239 183.198679 \r\nL 168.15118 184.019817 \r\nL 168.822122 176.240855 \r\nL 169.493064 165.742506 \r\nL 170.164006 164.05247 \r\nL 170.834948 166.220428 \r\nL 171.50589 181.384236 \r\nL 172.176832 175.447721 \r\nL 172.847774 173.078108 \r\nL 173.518716 174.639781 \r\nL 174.189657 173.235304 \r\nL 174.860599 173.121837 \r\nL 175.531541 157.270813 \r\nL 176.202483 168.054205 \r\nL 176.873425 160.208173 \r\nL 177.544367 148.349863 \r\nL 178.215309 143.029479 \r\nL 178.886251 144.319079 \r\nL 179.557193 140.615624 \r\nL 180.228134 155.08248 \r\nL 180.899076 149.531057 \r\nL 181.570018 133.926427 \r\nL 182.24096 131.047063 \r\nL 182.911902 132.013072 \r\nL 183.582844 143.175053 \r\nL 184.253786 147.507879 \r\nL 184.924728 142.332346 \r\nL 185.595669 125.263527 \r\nL 186.266611 137.648568 \r\nL 186.937553 138.970044 \r\nL 187.608495 149.115917 \r\nL 188.279437 149.989293 \r\nL 188.950379 154.680955 \r\nL 189.621321 140.776928 \r\nL 190.292263 147.220029 \r\nL 190.963205 137.715465 \r\nL 191.634146 132.259155 \r\nL 192.305088 141.33203 \r\nL 193.646972 129.315118 \r\nL 194.317914 141.620552 \r\nL 194.988856 156.717694 \r\nL 195.659798 162.245824 \r\nL 196.33074 169.928545 \r\nL 197.001681 164.027656 \r\nL 197.672623 142.751864 \r\nL 198.343565 136.411608 \r\nL 199.014507 146.149362 \r\nL 199.685449 130.899128 \r\nL 200.356391 134.314769 \r\nL 201.027333 123.226052 \r\nL 201.698275 124.353416 \r\nL 202.369217 132.109321 \r\nL 203.040158 127.812496 \r\nL 203.7111 121.842642 \r\nL 204.382042 126.012688 \r\nL 205.052984 142.895956 \r\nL 205.723926 123.214256 \r\nL 206.394868 139.817827 \r\nL 207.06581 149.783474 \r\nL 208.407694 175.8554 \r\nL 209.078635 168.836752 \r\nL 209.749577 180.689052 \r\nL 210.420519 178.631443 \r\nL 211.091461 178.307876 \r\nL 211.762403 184.762771 \r\nL 212.433345 178.334538 \r\nL 213.104287 184.637357 \r\nL 213.775229 187.355653 \r\nL 214.44617 194.813901 \r\nL 215.117112 195.957943 \r\nL 215.788054 185.741196 \r\nL 216.458996 192.652448 \r\nL 217.129938 208.05562 \r\nL 217.80088 199.396022 \r\nL 218.471822 197.173618 \r\nL 219.813706 211.267836 \r\nL 220.484647 211.237002 \r\nL 221.155589 208.314896 \r\nL 221.826531 195.690678 \r\nL 222.497473 195.290235 \r\nL 223.168415 191.73607 \r\nL 223.839357 174.690035 \r\nL 224.510299 182.201576 \r\nL 225.181241 187.030862 \r\nL 225.852182 174.199498 \r\nL 226.523124 163.780951 \r\nL 227.194066 171.242041 \r\nL 227.865008 185.062234 \r\nL 228.53595 187.660551 \r\nL 229.206892 184.51066 \r\nL 229.877834 180.088907 \r\nL 230.548776 185.455899 \r\nL 231.219718 187.990091 \r\nL 231.890659 185.200862 \r\nL 232.561601 183.94985 \r\nL 233.232543 188.723015 \r\nL 233.903485 196.056469 \r\nL 234.574427 199.712356 \r\nL 235.245369 202.621442 \r\nL 235.916311 214.756364 \r\nL 236.587253 200.981146 \r\nL 237.929136 191.964268 \r\nL 238.600078 193.728126 \r\nL 239.27102 185.284022 \r\nL 239.941962 189.487122 \r\nL 240.612904 182.213494 \r\nL 241.283846 183.290298 \r\nL 242.62573 154.203488 \r\nL 243.296671 156.936064 \r\nL 243.967613 149.818576 \r\nL 244.638555 141.004089 \r\nL 245.309497 126.340626 \r\nL 245.980439 123.671724 \r\nL 247.322323 141.711922 \r\nL 247.993265 144.108841 \r\nL 248.664207 136.234152 \r\nL 250.00609 124.722759 \r\nL 250.677032 112.387672 \r\nL 251.347974 106.852458 \r\nL 252.018916 99.898099 \r\nL 252.689858 109.470895 \r\nL 253.3608 109.389353 \r\nL 254.031742 96.40384 \r\nL 254.702683 111.589584 \r\nL 255.373625 96.033941 \r\nL 256.044567 91.947249 \r\nL 256.715509 75.786943 \r\nL 257.386451 83.788422 \r\nL 258.057393 80.094125 \r\nL 258.728335 79.202303 \r\nL 259.399277 85.813307 \r\nL 260.070219 98.275974 \r\nL 260.74116 86.967801 \r\nL 261.412102 95.422448 \r\nL 262.083044 96.787492 \r\nL 262.753986 103.490507 \r\nL 263.424928 90.685384 \r\nL 264.09587 88.959117 \r\nL 264.766812 89.6552 \r\nL 265.437754 82.238489 \r\nL 266.108696 78.170882 \r\nL 266.779637 81.172617 \r\nL 267.450579 67.02119 \r\nL 268.121521 61.113508 \r\nL 268.792463 44.232252 \r\nL 269.463405 57.747137 \r\nL 270.134347 53.321556 \r\nL 270.805289 53.633355 \r\nL 271.476231 48.469609 \r\nL 272.147172 49.087043 \r\nL 272.818114 37.685624 \r\nL 273.489056 30.50508 \r\nL 274.159998 45.797764 \r\nL 274.83094 39.516004 \r\nL 275.501882 38.330485 \r\nL 276.172824 41.264357 \r\nL 276.843766 30.367252 \r\nL 277.514708 30.152042 \r\nL 278.185649 47.031999 \r\nL 278.856591 48.579193 \r\nL 279.527533 50.446968 \r\nL 280.198475 42.399273 \r\nL 280.869417 43.407826 \r\nL 281.540359 46.291161 \r\nL 282.211301 46.170918 \r\nL 282.882243 64.850667 \r\nL 283.553184 63.208923 \r\nL 284.224126 50.785838 \r\nL 284.895068 62.012058 \r\nL 285.56601 52.724967 \r\nL 286.236952 40.713066 \r\nL 286.907894 47.77157 \r\nL 287.578836 48.027272 \r\nL 288.249778 36.793781 \r\nL 289.591661 44.370298 \r\nL 290.262603 38.892744 \r\nL 290.933545 17.083636 \r\nL 291.604487 19.337447 \r\nL 292.275429 19.793852 \r\nL 292.946371 27.890054 \r\nL 294.288255 25.635287 \r\nL 294.959197 19.050458 \r\nL 295.630138 19.446894 \r\nL 296.30108 38.898939 \r\nL 296.972022 45.230527 \r\nL 297.642964 42.780587 \r\nL 298.313906 44.67848 \r\nL 298.984848 51.318544 \r\nL 299.65579 39.318016 \r\nL 300.326732 47.462931 \r\nL 300.997673 50.166907 \r\nL 301.668615 72.931977 \r\nL 302.339557 61.295519 \r\nL 303.010499 63.859312 \r\nL 303.681441 50.119522 \r\nL 304.352383 69.981514 \r\nL 305.023325 66.416558 \r\nL 305.694267 68.66565 \r\nL 306.365209 61.270111 \r\nL 307.03615 51.360819 \r\nL 308.378034 43.400741 \r\nL 309.048976 51.833603 \r\nL 309.719918 57.597342 \r\nL 310.39086 57.164119 \r\nL 311.061802 45.567107 \r\nL 311.732744 38.412805 \r\nL 312.403685 57.576426 \r\nL 313.074627 64.37906 \r\nL 313.745569 67.251284 \r\nL 314.416511 74.772313 \r\nL 315.087453 59.968663 \r\nL 315.758395 61.405628 \r\nL 316.429337 50.118998 \r\nL 317.100279 42.312488 \r\nL 317.771221 44.26103 \r\nL 318.442162 39.197697 \r\nL 319.113104 31.34777 \r\nL 319.784046 38.88703 \r\nL 320.454988 43.542205 \r\nL 321.12593 37.262293 \r\nL 321.796872 53.082333 \r\nL 322.467814 56.22839 \r\nL 323.138756 72.415978 \r\nL 323.809698 67.428859 \r\nL 324.480639 67.869538 \r\nL 325.151581 65.408673 \r\nL 325.822523 76.839136 \r\nL 326.493465 65.024722 \r\nL 327.164407 85.519128 \r\nL 327.835349 90.559551 \r\nL 328.506291 93.894535 \r\nL 329.177233 82.167767 \r\nL 329.848174 80.070787 \r\nL 330.519116 79.537641 \r\nL 331.190058 78.176024 \r\nL 331.861 82.440473 \r\nL 332.531942 80.010259 \r\nL 333.202884 82.233408 \r\nL 333.873826 79.095988 \r\nL 334.544768 83.708963 \r\nL 335.21571 97.493571 \r\nL 335.886651 108.641364 \r\nL 336.557593 110.418907 \r\nL 337.228535 120.231402 \r\nL 337.899477 127.956714 \r\nL 338.570419 109.274859 \r\nL 339.241361 104.566179 \r\nL 339.912303 104.738095 \r\nL 340.583245 107.129221 \r\nL 341.254186 116.104595 \r\nL 341.925128 112.940703 \r\nL 342.59607 104.743195 \r\nL 343.267012 101.400931 \r\nL 343.937954 118.833809 \r\nL 344.608896 116.599415 \r\nL 345.279838 131.297465 \r\nL 345.95078 143.175036 \r\nL 346.621722 138.932533 \r\nL 347.292663 144.448242 \r\nL 347.963605 130.61617 \r\nL 348.634547 131.101953 \r\nL 349.305489 139.972377 \r\nL 349.976431 140.545044 \r\nL 350.647373 130.611522 \r\nL 351.318315 130.970659 \r\nL 351.989257 118.06432 \r\nL 352.660199 124.153951 \r\nL 353.33114 132.11279 \r\nL 354.002082 126.80824 \r\nL 354.673024 137.727761 \r\nL 355.343966 138.101993 \r\nL 356.014908 128.107247 \r\nL 356.68585 127.648156 \r\nL 357.356792 116.742389 \r\nL 358.027734 116.494487 \r\nL 358.698675 115.598946 \r\nL 359.369617 111.85468 \r\nL 360.040559 114.308205 \r\nL 360.711501 112.685981 \r\nL 361.382443 112.219605 \r\nL 362.053385 110.013734 \r\nL 362.724327 104.15667 \r\nL 364.066211 120.645104 \r\nL 364.737152 123.563176 \r\nL 365.408094 123.594196 \r\nL 366.079036 120.930277 \r\nL 366.749978 124.383592 \r\nL 367.42092 117.301981 \r\nL 368.091862 107.318188 \r\nL 368.762804 109.975182 \r\nL 369.433746 109.067251 \r\nL 370.104687 111.512686 \r\nL 370.104687 111.512686 \r\n\" style=\"fill:none;stroke:#1f77b4;stroke-linecap:square;stroke-width:1.5;\"/>\r\n   </g>\r\n   <g id=\"patch_3\">\r\n    <path d=\"M 35.304688 224.64 \r\nL 35.304688 7.2 \r\n\" style=\"fill:none;stroke:#000000;stroke-linecap:square;stroke-linejoin:miter;stroke-width:0.8;\"/>\r\n   </g>\r\n   <g id=\"patch_4\">\r\n    <path d=\"M 370.104688 224.64 \r\nL 370.104688 7.2 \r\n\" style=\"fill:none;stroke:#000000;stroke-linecap:square;stroke-linejoin:miter;stroke-width:0.8;\"/>\r\n   </g>\r\n   <g id=\"patch_5\">\r\n    <path d=\"M 35.304688 224.64 \r\nL 370.104687 224.64 \r\n\" style=\"fill:none;stroke:#000000;stroke-linecap:square;stroke-linejoin:miter;stroke-width:0.8;\"/>\r\n   </g>\r\n   <g id=\"patch_6\">\r\n    <path d=\"M 35.304688 7.2 \r\nL 370.104687 7.2 \r\n\" style=\"fill:none;stroke:#000000;stroke-linecap:square;stroke-linejoin:miter;stroke-width:0.8;\"/>\r\n   </g>\r\n  </g>\r\n </g>\r\n <defs>\r\n  <clipPath id=\"pc101106a13\">\r\n   <rect height=\"217.44\" width=\"334.8\" x=\"35.304688\" y=\"7.2\"/>\r\n  </clipPath>\r\n </defs>\r\n</svg>\r\n",
      "image/png": "[encoded data removed]"
     },
     "metadata": {
      "needs_background": "light"
     }
    }
   ],
   "source": [
    "# Time Series Plot\n",
    "ts = pd.Series(np.random.randn(500), index=pd.date_range('1/1/2020', periods = 500))\n",
    "ts = ts.cumsum()\n",
    "ts.plot()"
   ]
  },
  {
   "cell_type": "code",
   "execution_count": 93,
   "metadata": {},
   "outputs": [
    {
     "output_type": "execute_result",
     "data": {
      "text/plain": [
       "<matplotlib.legend.Legend at 0x274c4ac5f10>"
      ]
     },
     "metadata": {},
     "execution_count": 93
    },
    {
     "output_type": "display_data",
     "data": {
      "text/plain": "<Figure size 432x288 with 0 Axes>"
     },
     "metadata": {}
    },
    {
     "output_type": "display_data",
     "data": {
      "text/plain": "<Figure size 432x288 with 1 Axes>",
      "image/svg+xml": "<?xml version=\"1.0\" encoding=\"utf-8\" standalone=\"no\"?>\r\n<!DOCTYPE svg PUBLIC \"-//W3C//DTD SVG 1.1//EN\"\r\n  \"http://www.w3.org/Graphics/SVG/1.1/DTD/svg11.dtd\">\r\n<!-- Created with matplotlib (https://matplotlib.org/) -->\r\n<svg height=\"259.715937pt\" version=\"1.1\" viewBox=\"0 0 377.304687 259.715937\" width=\"377.304687pt\" xmlns=\"http://www.w3.org/2000/svg\" xmlns:xlink=\"http://www.w3.org/1999/xlink\">\r\n <defs>\r\n  <style type=\"text/css\">\r\n*{stroke-linecap:butt;stroke-linejoin:round;}\r\n  </style>\r\n </defs>\r\n <g id=\"figure_1\">\r\n  <g id=\"patch_1\">\r\n   <path d=\"M 0 259.715937 \r\nL 377.304687 259.715937 \r\nL 377.304687 0 \r\nL 0 0 \r\nz\r\n\" style=\"fill:none;\"/>\r\n  </g>\r\n  <g id=\"axes_1\">\r\n   <g id=\"patch_2\">\r\n    <path d=\"M 35.304688 224.64 \r\nL 370.104688 224.64 \r\nL 370.104688 7.2 \r\nL 35.304688 7.2 \r\nz\r\n\" style=\"fill:#ffffff;\"/>\r\n   </g>\r\n   <g id=\"matplotlib.axis_1\">\r\n    <g id=\"xtick_1\">\r\n     <g id=\"line2d_1\">\r\n      <defs>\r\n       <path d=\"M 0 0 \r\nL 0 3.5 \r\n\" id=\"me9b6084360\" style=\"stroke:#000000;stroke-width:0.8;\"/>\r\n      </defs>\r\n      <g>\r\n       <use style=\"stroke:#000000;stroke-width:0.8;\" x=\"35.304688\" xlink:href=\"#me9b6084360\" y=\"224.64\"/>\r\n      </g>\r\n     </g>\r\n     <g id=\"text_1\">\r\n      <!-- Jan -->\r\n      <defs>\r\n       <path d=\"M 9.8125 72.90625 \r\nL 19.671875 72.90625 \r\nL 19.671875 5.078125 \r\nQ 19.671875 -8.109375 14.671875 -14.0625 \r\nQ 9.671875 -20.015625 -1.421875 -20.015625 \r\nL -5.171875 -20.015625 \r\nL -5.171875 -11.71875 \r\nL -2.09375 -11.71875 \r\nQ 4.4375 -11.71875 7.125 -8.046875 \r\nQ 9.8125 -4.390625 9.8125 5.078125 \r\nz\r\n\" id=\"DejaVuSans-74\"/>\r\n       <path d=\"M 34.28125 27.484375 \r\nQ 23.390625 27.484375 19.1875 25 \r\nQ 14.984375 22.515625 14.984375 16.5 \r\nQ 14.984375 11.71875 18.140625 8.90625 \r\nQ 21.296875 6.109375 26.703125 6.109375 \r\nQ 34.1875 6.109375 38.703125 11.40625 \r\nQ 43.21875 16.703125 43.21875 25.484375 \r\nL 43.21875 27.484375 \r\nz\r\nM 52.203125 31.203125 \r\nL 52.203125 0 \r\nL 43.21875 0 \r\nL 43.21875 8.296875 \r\nQ 40.140625 3.328125 35.546875 0.953125 \r\nQ 30.953125 -1.421875 24.3125 -1.421875 \r\nQ 15.921875 -1.421875 10.953125 3.296875 \r\nQ 6 8.015625 6 15.921875 \r\nQ 6 25.140625 12.171875 29.828125 \r\nQ 18.359375 34.515625 30.609375 34.515625 \r\nL 43.21875 34.515625 \r\nL 43.21875 35.40625 \r\nQ 43.21875 41.609375 39.140625 45 \r\nQ 35.0625 48.390625 27.6875 48.390625 \r\nQ 23 48.390625 18.546875 47.265625 \r\nQ 14.109375 46.140625 10.015625 43.890625 \r\nL 10.015625 52.203125 \r\nQ 14.9375 54.109375 19.578125 55.046875 \r\nQ 24.21875 56 28.609375 56 \r\nQ 40.484375 56 46.34375 49.84375 \r\nQ 52.203125 43.703125 52.203125 31.203125 \r\nz\r\n\" id=\"DejaVuSans-97\"/>\r\n       <path d=\"M 54.890625 33.015625 \r\nL 54.890625 0 \r\nL 45.90625 0 \r\nL 45.90625 32.71875 \r\nQ 45.90625 40.484375 42.875 44.328125 \r\nQ 39.84375 48.1875 33.796875 48.1875 \r\nQ 26.515625 48.1875 22.3125 43.546875 \r\nQ 18.109375 38.921875 18.109375 30.90625 \r\nL 18.109375 0 \r\nL 9.078125 0 \r\nL 9.078125 54.6875 \r\nL 18.109375 54.6875 \r\nL 18.109375 46.1875 \r\nQ 21.34375 51.125 25.703125 53.5625 \r\nQ 30.078125 56 35.796875 56 \r\nQ 45.21875 56 50.046875 50.171875 \r\nQ 54.890625 44.34375 54.890625 33.015625 \r\nz\r\n\" id=\"DejaVuSans-110\"/>\r\n      </defs>\r\n      <g transform=\"translate(27.596875 239.238438)scale(0.1 -0.1)\">\r\n       <use xlink:href=\"#DejaVuSans-74\"/>\r\n       <use x=\"29.492188\" xlink:href=\"#DejaVuSans-97\"/>\r\n       <use x=\"90.771484\" xlink:href=\"#DejaVuSans-110\"/>\r\n      </g>\r\n      <!-- 2020 -->\r\n      <defs>\r\n       <path d=\"M 19.1875 8.296875 \r\nL 53.609375 8.296875 \r\nL 53.609375 0 \r\nL 7.328125 0 \r\nL 7.328125 8.296875 \r\nQ 12.9375 14.109375 22.625 23.890625 \r\nQ 32.328125 33.6875 34.8125 36.53125 \r\nQ 39.546875 41.84375 41.421875 45.53125 \r\nQ 43.3125 49.21875 43.3125 52.78125 \r\nQ 43.3125 58.59375 39.234375 62.25 \r\nQ 35.15625 65.921875 28.609375 65.921875 \r\nQ 23.96875 65.921875 18.8125 64.3125 \r\nQ 13.671875 62.703125 7.8125 59.421875 \r\nL 7.8125 69.390625 \r\nQ 13.765625 71.78125 18.9375 73 \r\nQ 24.125 74.21875 28.421875 74.21875 \r\nQ 39.75 74.21875 46.484375 68.546875 \r\nQ 53.21875 62.890625 53.21875 53.421875 \r\nQ 53.21875 48.921875 51.53125 44.890625 \r\nQ 49.859375 40.875 45.40625 35.40625 \r\nQ 44.1875 33.984375 37.640625 27.21875 \r\nQ 31.109375 20.453125 19.1875 8.296875 \r\nz\r\n\" id=\"DejaVuSans-50\"/>\r\n       <path d=\"M 31.78125 66.40625 \r\nQ 24.171875 66.40625 20.328125 58.90625 \r\nQ 16.5 51.421875 16.5 36.375 \r\nQ 16.5 21.390625 20.328125 13.890625 \r\nQ 24.171875 6.390625 31.78125 6.390625 \r\nQ 39.453125 6.390625 43.28125 13.890625 \r\nQ 47.125 21.390625 47.125 36.375 \r\nQ 47.125 51.421875 43.28125 58.90625 \r\nQ 39.453125 66.40625 31.78125 66.40625 \r\nz\r\nM 31.78125 74.21875 \r\nQ 44.046875 74.21875 50.515625 64.515625 \r\nQ 56.984375 54.828125 56.984375 36.375 \r\nQ 56.984375 17.96875 50.515625 8.265625 \r\nQ 44.046875 -1.421875 31.78125 -1.421875 \r\nQ 19.53125 -1.421875 13.0625 8.265625 \r\nQ 6.59375 17.96875 6.59375 36.375 \r\nQ 6.59375 54.828125 13.0625 64.515625 \r\nQ 19.53125 74.21875 31.78125 74.21875 \r\nz\r\n\" id=\"DejaVuSans-48\"/>\r\n      </defs>\r\n      <g transform=\"translate(22.579687 250.43625)scale(0.1 -0.1)\">\r\n       <use xlink:href=\"#DejaVuSans-50\"/>\r\n       <use x=\"63.623047\" xlink:href=\"#DejaVuSans-48\"/>\r\n       <use x=\"127.246094\" xlink:href=\"#DejaVuSans-50\"/>\r\n       <use x=\"190.869141\" xlink:href=\"#DejaVuSans-48\"/>\r\n      </g>\r\n     </g>\r\n    </g>\r\n    <g id=\"xtick_2\">\r\n     <g id=\"line2d_2\">\r\n      <g>\r\n       <use style=\"stroke:#000000;stroke-width:0.8;\" x=\"96.360399\" xlink:href=\"#me9b6084360\" y=\"224.64\"/>\r\n      </g>\r\n     </g>\r\n     <g id=\"text_2\">\r\n      <!-- Apr -->\r\n      <defs>\r\n       <path d=\"M 34.1875 63.1875 \r\nL 20.796875 26.90625 \r\nL 47.609375 26.90625 \r\nz\r\nM 28.609375 72.90625 \r\nL 39.796875 72.90625 \r\nL 67.578125 0 \r\nL 57.328125 0 \r\nL 50.6875 18.703125 \r\nL 17.828125 18.703125 \r\nL 11.1875 0 \r\nL 0.78125 0 \r\nz\r\n\" id=\"DejaVuSans-65\"/>\r\n       <path d=\"M 18.109375 8.203125 \r\nL 18.109375 -20.796875 \r\nL 9.078125 -20.796875 \r\nL 9.078125 54.6875 \r\nL 18.109375 54.6875 \r\nL 18.109375 46.390625 \r\nQ 20.953125 51.265625 25.265625 53.625 \r\nQ 29.59375 56 35.59375 56 \r\nQ 45.5625 56 51.78125 48.09375 \r\nQ 58.015625 40.1875 58.015625 27.296875 \r\nQ 58.015625 14.40625 51.78125 6.484375 \r\nQ 45.5625 -1.421875 35.59375 -1.421875 \r\nQ 29.59375 -1.421875 25.265625 0.953125 \r\nQ 20.953125 3.328125 18.109375 8.203125 \r\nz\r\nM 48.6875 27.296875 \r\nQ 48.6875 37.203125 44.609375 42.84375 \r\nQ 40.53125 48.484375 33.40625 48.484375 \r\nQ 26.265625 48.484375 22.1875 42.84375 \r\nQ 18.109375 37.203125 18.109375 27.296875 \r\nQ 18.109375 17.390625 22.1875 11.75 \r\nQ 26.265625 6.109375 33.40625 6.109375 \r\nQ 40.53125 6.109375 44.609375 11.75 \r\nQ 48.6875 17.390625 48.6875 27.296875 \r\nz\r\n\" id=\"DejaVuSans-112\"/>\r\n       <path d=\"M 41.109375 46.296875 \r\nQ 39.59375 47.171875 37.8125 47.578125 \r\nQ 36.03125 48 33.890625 48 \r\nQ 26.265625 48 22.1875 43.046875 \r\nQ 18.109375 38.09375 18.109375 28.8125 \r\nL 18.109375 0 \r\nL 9.078125 0 \r\nL 9.078125 54.6875 \r\nL 18.109375 54.6875 \r\nL 18.109375 46.1875 \r\nQ 20.953125 51.171875 25.484375 53.578125 \r\nQ 30.03125 56 36.53125 56 \r\nQ 37.453125 56 38.578125 55.875 \r\nQ 39.703125 55.765625 41.0625 55.515625 \r\nz\r\n\" id=\"DejaVuSans-114\"/>\r\n      </defs>\r\n      <g transform=\"translate(87.710399 239.238438)scale(0.1 -0.1)\">\r\n       <use xlink:href=\"#DejaVuSans-65\"/>\r\n       <use x=\"68.408203\" xlink:href=\"#DejaVuSans-112\"/>\r\n       <use x=\"131.884766\" xlink:href=\"#DejaVuSans-114\"/>\r\n      </g>\r\n     </g>\r\n    </g>\r\n    <g id=\"xtick_3\">\r\n     <g id=\"line2d_3\">\r\n      <g>\r\n       <use style=\"stroke:#000000;stroke-width:0.8;\" x=\"157.41611\" xlink:href=\"#me9b6084360\" y=\"224.64\"/>\r\n      </g>\r\n     </g>\r\n     <g id=\"text_3\">\r\n      <!-- Jul -->\r\n      <defs>\r\n       <path d=\"M 8.5 21.578125 \r\nL 8.5 54.6875 \r\nL 17.484375 54.6875 \r\nL 17.484375 21.921875 \r\nQ 17.484375 14.15625 20.5 10.265625 \r\nQ 23.53125 6.390625 29.59375 6.390625 \r\nQ 36.859375 6.390625 41.078125 11.03125 \r\nQ 45.3125 15.671875 45.3125 23.6875 \r\nL 45.3125 54.6875 \r\nL 54.296875 54.6875 \r\nL 54.296875 0 \r\nL 45.3125 0 \r\nL 45.3125 8.40625 \r\nQ 42.046875 3.421875 37.71875 1 \r\nQ 33.40625 -1.421875 27.6875 -1.421875 \r\nQ 18.265625 -1.421875 13.375 4.4375 \r\nQ 8.5 10.296875 8.5 21.578125 \r\nz\r\nM 31.109375 56 \r\nz\r\n\" id=\"DejaVuSans-117\"/>\r\n       <path d=\"M 9.421875 75.984375 \r\nL 18.40625 75.984375 \r\nL 18.40625 0 \r\nL 9.421875 0 \r\nz\r\n\" id=\"DejaVuSans-108\"/>\r\n      </defs>\r\n      <g transform=\"translate(151.383298 239.238438)scale(0.1 -0.1)\">\r\n       <use xlink:href=\"#DejaVuSans-74\"/>\r\n       <use x=\"29.492188\" xlink:href=\"#DejaVuSans-117\"/>\r\n       <use x=\"92.871094\" xlink:href=\"#DejaVuSans-108\"/>\r\n      </g>\r\n     </g>\r\n    </g>\r\n    <g id=\"xtick_4\">\r\n     <g id=\"line2d_4\">\r\n      <g>\r\n       <use style=\"stroke:#000000;stroke-width:0.8;\" x=\"219.142764\" xlink:href=\"#me9b6084360\" y=\"224.64\"/>\r\n      </g>\r\n     </g>\r\n     <g id=\"text_4\">\r\n      <!-- Oct -->\r\n      <defs>\r\n       <path d=\"M 39.40625 66.21875 \r\nQ 28.65625 66.21875 22.328125 58.203125 \r\nQ 16.015625 50.203125 16.015625 36.375 \r\nQ 16.015625 22.609375 22.328125 14.59375 \r\nQ 28.65625 6.59375 39.40625 6.59375 \r\nQ 50.140625 6.59375 56.421875 14.59375 \r\nQ 62.703125 22.609375 62.703125 36.375 \r\nQ 62.703125 50.203125 56.421875 58.203125 \r\nQ 50.140625 66.21875 39.40625 66.21875 \r\nz\r\nM 39.40625 74.21875 \r\nQ 54.734375 74.21875 63.90625 63.9375 \r\nQ 73.09375 53.65625 73.09375 36.375 \r\nQ 73.09375 19.140625 63.90625 8.859375 \r\nQ 54.734375 -1.421875 39.40625 -1.421875 \r\nQ 24.03125 -1.421875 14.8125 8.828125 \r\nQ 5.609375 19.09375 5.609375 36.375 \r\nQ 5.609375 53.65625 14.8125 63.9375 \r\nQ 24.03125 74.21875 39.40625 74.21875 \r\nz\r\n\" id=\"DejaVuSans-79\"/>\r\n       <path d=\"M 48.78125 52.59375 \r\nL 48.78125 44.1875 \r\nQ 44.96875 46.296875 41.140625 47.34375 \r\nQ 37.3125 48.390625 33.40625 48.390625 \r\nQ 24.65625 48.390625 19.8125 42.84375 \r\nQ 14.984375 37.3125 14.984375 27.296875 \r\nQ 14.984375 17.28125 19.8125 11.734375 \r\nQ 24.65625 6.203125 33.40625 6.203125 \r\nQ 37.3125 6.203125 41.140625 7.25 \r\nQ 44.96875 8.296875 48.78125 10.40625 \r\nL 48.78125 2.09375 \r\nQ 45.015625 0.34375 40.984375 -0.53125 \r\nQ 36.96875 -1.421875 32.421875 -1.421875 \r\nQ 20.0625 -1.421875 12.78125 6.34375 \r\nQ 5.515625 14.109375 5.515625 27.296875 \r\nQ 5.515625 40.671875 12.859375 48.328125 \r\nQ 20.21875 56 33.015625 56 \r\nQ 37.15625 56 41.109375 55.140625 \r\nQ 45.0625 54.296875 48.78125 52.59375 \r\nz\r\n\" id=\"DejaVuSans-99\"/>\r\n       <path d=\"M 18.3125 70.21875 \r\nL 18.3125 54.6875 \r\nL 36.8125 54.6875 \r\nL 36.8125 47.703125 \r\nL 18.3125 47.703125 \r\nL 18.3125 18.015625 \r\nQ 18.3125 11.328125 20.140625 9.421875 \r\nQ 21.96875 7.515625 27.59375 7.515625 \r\nL 36.8125 7.515625 \r\nL 36.8125 0 \r\nL 27.59375 0 \r\nQ 17.1875 0 13.234375 3.875 \r\nQ 9.28125 7.765625 9.28125 18.015625 \r\nL 9.28125 47.703125 \r\nL 2.6875 47.703125 \r\nL 2.6875 54.6875 \r\nL 9.28125 54.6875 \r\nL 9.28125 70.21875 \r\nz\r\n\" id=\"DejaVuSans-116\"/>\r\n      </defs>\r\n      <g transform=\"translate(210.497451 239.238438)scale(0.1 -0.1)\">\r\n       <use xlink:href=\"#DejaVuSans-79\"/>\r\n       <use x=\"78.710938\" xlink:href=\"#DejaVuSans-99\"/>\r\n       <use x=\"133.691406\" xlink:href=\"#DejaVuSans-116\"/>\r\n      </g>\r\n     </g>\r\n    </g>\r\n    <g id=\"xtick_5\">\r\n     <g id=\"line2d_5\">\r\n      <g>\r\n       <use style=\"stroke:#000000;stroke-width:0.8;\" x=\"280.869417\" xlink:href=\"#me9b6084360\" y=\"224.64\"/>\r\n      </g>\r\n     </g>\r\n     <g id=\"text_5\">\r\n      <!-- Jan -->\r\n      <g transform=\"translate(273.161604 239.238438)scale(0.1 -0.1)\">\r\n       <use xlink:href=\"#DejaVuSans-74\"/>\r\n       <use x=\"29.492188\" xlink:href=\"#DejaVuSans-97\"/>\r\n       <use x=\"90.771484\" xlink:href=\"#DejaVuSans-110\"/>\r\n      </g>\r\n      <!-- 2021 -->\r\n      <defs>\r\n       <path d=\"M 12.40625 8.296875 \r\nL 28.515625 8.296875 \r\nL 28.515625 63.921875 \r\nL 10.984375 60.40625 \r\nL 10.984375 69.390625 \r\nL 28.421875 72.90625 \r\nL 38.28125 72.90625 \r\nL 38.28125 8.296875 \r\nL 54.390625 8.296875 \r\nL 54.390625 0 \r\nL 12.40625 0 \r\nz\r\n\" id=\"DejaVuSans-49\"/>\r\n      </defs>\r\n      <g transform=\"translate(268.144417 250.43625)scale(0.1 -0.1)\">\r\n       <use xlink:href=\"#DejaVuSans-50\"/>\r\n       <use x=\"63.623047\" xlink:href=\"#DejaVuSans-48\"/>\r\n       <use x=\"127.246094\" xlink:href=\"#DejaVuSans-50\"/>\r\n       <use x=\"190.869141\" xlink:href=\"#DejaVuSans-49\"/>\r\n      </g>\r\n     </g>\r\n    </g>\r\n    <g id=\"xtick_6\">\r\n     <g id=\"line2d_6\">\r\n      <g>\r\n       <use style=\"stroke:#000000;stroke-width:0.8;\" x=\"341.254186\" xlink:href=\"#me9b6084360\" y=\"224.64\"/>\r\n      </g>\r\n     </g>\r\n     <g id=\"text_6\">\r\n      <!-- Apr -->\r\n      <g transform=\"translate(332.604186 239.238438)scale(0.1 -0.1)\">\r\n       <use xlink:href=\"#DejaVuSans-65\"/>\r\n       <use x=\"68.408203\" xlink:href=\"#DejaVuSans-112\"/>\r\n       <use x=\"131.884766\" xlink:href=\"#DejaVuSans-114\"/>\r\n      </g>\r\n     </g>\r\n    </g>\r\n    <g id=\"xtick_7\">\r\n     <g id=\"line2d_7\">\r\n      <g>\r\n       <use style=\"stroke:#000000;stroke-width:0.8;\" x=\"370.104687\" xlink:href=\"#me9b6084360\" y=\"224.64\"/>\r\n      </g>\r\n     </g>\r\n    </g>\r\n    <g id=\"xtick_8\">\r\n     <g id=\"line2d_8\">\r\n      <defs>\r\n       <path d=\"M 0 0 \r\nL 0 2 \r\n\" id=\"mb6fd6226d4\" style=\"stroke:#000000;stroke-width:0.6;\"/>\r\n      </defs>\r\n      <g>\r\n       <use style=\"stroke:#000000;stroke-width:0.6;\" x=\"56.103886\" xlink:href=\"#mb6fd6226d4\" y=\"224.64\"/>\r\n      </g>\r\n     </g>\r\n    </g>\r\n    <g id=\"xtick_9\">\r\n     <g id=\"line2d_9\">\r\n      <g>\r\n       <use style=\"stroke:#000000;stroke-width:0.6;\" x=\"75.561201\" xlink:href=\"#mb6fd6226d4\" y=\"224.64\"/>\r\n      </g>\r\n     </g>\r\n    </g>\r\n    <g id=\"xtick_10\">\r\n     <g id=\"line2d_10\">\r\n      <g>\r\n       <use style=\"stroke:#000000;stroke-width:0.6;\" x=\"116.488655\" xlink:href=\"#mb6fd6226d4\" y=\"224.64\"/>\r\n      </g>\r\n     </g>\r\n    </g>\r\n    <g id=\"xtick_11\">\r\n     <g id=\"line2d_11\">\r\n      <g>\r\n       <use style=\"stroke:#000000;stroke-width:0.6;\" x=\"137.287854\" xlink:href=\"#mb6fd6226d4\" y=\"224.64\"/>\r\n      </g>\r\n     </g>\r\n    </g>\r\n    <g id=\"xtick_12\">\r\n     <g id=\"line2d_12\">\r\n      <g>\r\n       <use style=\"stroke:#000000;stroke-width:0.6;\" x=\"178.215309\" xlink:href=\"#mb6fd6226d4\" y=\"224.64\"/>\r\n      </g>\r\n     </g>\r\n    </g>\r\n    <g id=\"xtick_13\">\r\n     <g id=\"line2d_13\">\r\n      <g>\r\n       <use style=\"stroke:#000000;stroke-width:0.6;\" x=\"199.014507\" xlink:href=\"#mb6fd6226d4\" y=\"224.64\"/>\r\n      </g>\r\n     </g>\r\n    </g>\r\n    <g id=\"xtick_14\">\r\n     <g id=\"line2d_14\">\r\n      <g>\r\n       <use style=\"stroke:#000000;stroke-width:0.6;\" x=\"239.941962\" xlink:href=\"#mb6fd6226d4\" y=\"224.64\"/>\r\n      </g>\r\n     </g>\r\n    </g>\r\n    <g id=\"xtick_15\">\r\n     <g id=\"line2d_15\">\r\n      <g>\r\n       <use style=\"stroke:#000000;stroke-width:0.6;\" x=\"260.070219\" xlink:href=\"#mb6fd6226d4\" y=\"224.64\"/>\r\n      </g>\r\n     </g>\r\n    </g>\r\n    <g id=\"xtick_16\">\r\n     <g id=\"line2d_16\">\r\n      <g>\r\n       <use style=\"stroke:#000000;stroke-width:0.6;\" x=\"301.668615\" xlink:href=\"#mb6fd6226d4\" y=\"224.64\"/>\r\n      </g>\r\n     </g>\r\n    </g>\r\n    <g id=\"xtick_17\">\r\n     <g id=\"line2d_17\">\r\n      <g>\r\n       <use style=\"stroke:#000000;stroke-width:0.6;\" x=\"320.454988\" xlink:href=\"#mb6fd6226d4\" y=\"224.64\"/>\r\n      </g>\r\n     </g>\r\n    </g>\r\n    <g id=\"xtick_18\">\r\n     <g id=\"line2d_18\">\r\n      <g>\r\n       <use style=\"stroke:#000000;stroke-width:0.6;\" x=\"361.382443\" xlink:href=\"#mb6fd6226d4\" y=\"224.64\"/>\r\n      </g>\r\n     </g>\r\n    </g>\r\n   </g>\r\n   <g id=\"matplotlib.axis_2\">\r\n    <g id=\"ytick_1\">\r\n     <g id=\"line2d_19\">\r\n      <defs>\r\n       <path d=\"M 0 0 \r\nL -3.5 0 \r\n\" id=\"meb69176759\" style=\"stroke:#000000;stroke-width:0.8;\"/>\r\n      </defs>\r\n      <g>\r\n       <use style=\"stroke:#000000;stroke-width:0.8;\" x=\"35.304688\" xlink:href=\"#meb69176759\" y=\"199.503052\"/>\r\n      </g>\r\n     </g>\r\n     <g id=\"text_7\">\r\n      <!-- −50 -->\r\n      <defs>\r\n       <path d=\"M 10.59375 35.5 \r\nL 73.1875 35.5 \r\nL 73.1875 27.203125 \r\nL 10.59375 27.203125 \r\nz\r\n\" id=\"DejaVuSans-8722\"/>\r\n       <path d=\"M 10.796875 72.90625 \r\nL 49.515625 72.90625 \r\nL 49.515625 64.59375 \r\nL 19.828125 64.59375 \r\nL 19.828125 46.734375 \r\nQ 21.96875 47.46875 24.109375 47.828125 \r\nQ 26.265625 48.1875 28.421875 48.1875 \r\nQ 40.625 48.1875 47.75 41.5 \r\nQ 54.890625 34.8125 54.890625 23.390625 \r\nQ 54.890625 11.625 47.5625 5.09375 \r\nQ 40.234375 -1.421875 26.90625 -1.421875 \r\nQ 22.3125 -1.421875 17.546875 -0.640625 \r\nQ 12.796875 0.140625 7.71875 1.703125 \r\nL 7.71875 11.625 \r\nQ 12.109375 9.234375 16.796875 8.0625 \r\nQ 21.484375 6.890625 26.703125 6.890625 \r\nQ 35.15625 6.890625 40.078125 11.328125 \r\nQ 45.015625 15.765625 45.015625 23.390625 \r\nQ 45.015625 31 40.078125 35.4375 \r\nQ 35.15625 39.890625 26.703125 39.890625 \r\nQ 22.75 39.890625 18.8125 39.015625 \r\nQ 14.890625 38.140625 10.796875 36.28125 \r\nz\r\n\" id=\"DejaVuSans-53\"/>\r\n      </defs>\r\n      <g transform=\"translate(7.2 203.302271)scale(0.1 -0.1)\">\r\n       <use xlink:href=\"#DejaVuSans-8722\"/>\r\n       <use x=\"83.789062\" xlink:href=\"#DejaVuSans-53\"/>\r\n       <use x=\"147.412109\" xlink:href=\"#DejaVuSans-48\"/>\r\n      </g>\r\n     </g>\r\n    </g>\r\n    <g id=\"ytick_2\">\r\n     <g id=\"line2d_20\">\r\n      <g>\r\n       <use style=\"stroke:#000000;stroke-width:0.8;\" x=\"35.304688\" xlink:href=\"#meb69176759\" y=\"174.049643\"/>\r\n      </g>\r\n     </g>\r\n     <g id=\"text_8\">\r\n      <!-- −40 -->\r\n      <defs>\r\n       <path d=\"M 37.796875 64.3125 \r\nL 12.890625 25.390625 \r\nL 37.796875 25.390625 \r\nz\r\nM 35.203125 72.90625 \r\nL 47.609375 72.90625 \r\nL 47.609375 25.390625 \r\nL 58.015625 25.390625 \r\nL 58.015625 17.1875 \r\nL 47.609375 17.1875 \r\nL 47.609375 0 \r\nL 37.796875 0 \r\nL 37.796875 17.1875 \r\nL 4.890625 17.1875 \r\nL 4.890625 26.703125 \r\nz\r\n\" id=\"DejaVuSans-52\"/>\r\n      </defs>\r\n      <g transform=\"translate(7.2 177.848862)scale(0.1 -0.1)\">\r\n       <use xlink:href=\"#DejaVuSans-8722\"/>\r\n       <use x=\"83.789062\" xlink:href=\"#DejaVuSans-52\"/>\r\n       <use x=\"147.412109\" xlink:href=\"#DejaVuSans-48\"/>\r\n      </g>\r\n     </g>\r\n    </g>\r\n    <g id=\"ytick_3\">\r\n     <g id=\"line2d_21\">\r\n      <g>\r\n       <use style=\"stroke:#000000;stroke-width:0.8;\" x=\"35.304688\" xlink:href=\"#meb69176759\" y=\"148.596234\"/>\r\n      </g>\r\n     </g>\r\n     <g id=\"text_9\">\r\n      <!-- −30 -->\r\n      <defs>\r\n       <path d=\"M 40.578125 39.3125 \r\nQ 47.65625 37.796875 51.625 33 \r\nQ 55.609375 28.21875 55.609375 21.1875 \r\nQ 55.609375 10.40625 48.1875 4.484375 \r\nQ 40.765625 -1.421875 27.09375 -1.421875 \r\nQ 22.515625 -1.421875 17.65625 -0.515625 \r\nQ 12.796875 0.390625 7.625 2.203125 \r\nL 7.625 11.71875 \r\nQ 11.71875 9.328125 16.59375 8.109375 \r\nQ 21.484375 6.890625 26.8125 6.890625 \r\nQ 36.078125 6.890625 40.9375 10.546875 \r\nQ 45.796875 14.203125 45.796875 21.1875 \r\nQ 45.796875 27.640625 41.28125 31.265625 \r\nQ 36.765625 34.90625 28.71875 34.90625 \r\nL 20.21875 34.90625 \r\nL 20.21875 43.015625 \r\nL 29.109375 43.015625 \r\nQ 36.375 43.015625 40.234375 45.921875 \r\nQ 44.09375 48.828125 44.09375 54.296875 \r\nQ 44.09375 59.90625 40.109375 62.90625 \r\nQ 36.140625 65.921875 28.71875 65.921875 \r\nQ 24.65625 65.921875 20.015625 65.03125 \r\nQ 15.375 64.15625 9.8125 62.3125 \r\nL 9.8125 71.09375 \r\nQ 15.4375 72.65625 20.34375 73.4375 \r\nQ 25.25 74.21875 29.59375 74.21875 \r\nQ 40.828125 74.21875 47.359375 69.109375 \r\nQ 53.90625 64.015625 53.90625 55.328125 \r\nQ 53.90625 49.265625 50.4375 45.09375 \r\nQ 46.96875 40.921875 40.578125 39.3125 \r\nz\r\n\" id=\"DejaVuSans-51\"/>\r\n      </defs>\r\n      <g transform=\"translate(7.2 152.395453)scale(0.1 -0.1)\">\r\n       <use xlink:href=\"#DejaVuSans-8722\"/>\r\n       <use x=\"83.789062\" xlink:href=\"#DejaVuSans-51\"/>\r\n       <use x=\"147.412109\" xlink:href=\"#DejaVuSans-48\"/>\r\n      </g>\r\n     </g>\r\n    </g>\r\n    <g id=\"ytick_4\">\r\n     <g id=\"line2d_22\">\r\n      <g>\r\n       <use style=\"stroke:#000000;stroke-width:0.8;\" x=\"35.304688\" xlink:href=\"#meb69176759\" y=\"123.142825\"/>\r\n      </g>\r\n     </g>\r\n     <g id=\"text_10\">\r\n      <!-- −20 -->\r\n      <g transform=\"translate(7.2 126.942044)scale(0.1 -0.1)\">\r\n       <use xlink:href=\"#DejaVuSans-8722\"/>\r\n       <use x=\"83.789062\" xlink:href=\"#DejaVuSans-50\"/>\r\n       <use x=\"147.412109\" xlink:href=\"#DejaVuSans-48\"/>\r\n      </g>\r\n     </g>\r\n    </g>\r\n    <g id=\"ytick_5\">\r\n     <g id=\"line2d_23\">\r\n      <g>\r\n       <use style=\"stroke:#000000;stroke-width:0.8;\" x=\"35.304688\" xlink:href=\"#meb69176759\" y=\"97.689417\"/>\r\n      </g>\r\n     </g>\r\n     <g id=\"text_11\">\r\n      <!-- −10 -->\r\n      <g transform=\"translate(7.2 101.488635)scale(0.1 -0.1)\">\r\n       <use xlink:href=\"#DejaVuSans-8722\"/>\r\n       <use x=\"83.789062\" xlink:href=\"#DejaVuSans-49\"/>\r\n       <use x=\"147.412109\" xlink:href=\"#DejaVuSans-48\"/>\r\n      </g>\r\n     </g>\r\n    </g>\r\n    <g id=\"ytick_6\">\r\n     <g id=\"line2d_24\">\r\n      <g>\r\n       <use style=\"stroke:#000000;stroke-width:0.8;\" x=\"35.304688\" xlink:href=\"#meb69176759\" y=\"72.236008\"/>\r\n      </g>\r\n     </g>\r\n     <g id=\"text_12\">\r\n      <!-- 0 -->\r\n      <g transform=\"translate(21.942188 76.035227)scale(0.1 -0.1)\">\r\n       <use xlink:href=\"#DejaVuSans-48\"/>\r\n      </g>\r\n     </g>\r\n    </g>\r\n    <g id=\"ytick_7\">\r\n     <g id=\"line2d_25\">\r\n      <g>\r\n       <use style=\"stroke:#000000;stroke-width:0.8;\" x=\"35.304688\" xlink:href=\"#meb69176759\" y=\"46.782599\"/>\r\n      </g>\r\n     </g>\r\n     <g id=\"text_13\">\r\n      <!-- 10 -->\r\n      <g transform=\"translate(15.579688 50.581818)scale(0.1 -0.1)\">\r\n       <use xlink:href=\"#DejaVuSans-49\"/>\r\n       <use x=\"63.623047\" xlink:href=\"#DejaVuSans-48\"/>\r\n      </g>\r\n     </g>\r\n    </g>\r\n    <g id=\"ytick_8\">\r\n     <g id=\"line2d_26\">\r\n      <g>\r\n       <use style=\"stroke:#000000;stroke-width:0.8;\" x=\"35.304688\" xlink:href=\"#meb69176759\" y=\"21.32919\"/>\r\n      </g>\r\n     </g>\r\n     <g id=\"text_14\">\r\n      <!-- 20 -->\r\n      <g transform=\"translate(15.579688 25.128409)scale(0.1 -0.1)\">\r\n       <use xlink:href=\"#DejaVuSans-50\"/>\r\n       <use x=\"63.623047\" xlink:href=\"#DejaVuSans-48\"/>\r\n      </g>\r\n     </g>\r\n    </g>\r\n   </g>\r\n   <g id=\"line2d_27\">\r\n    <path clip-path=\"url(#p35c524db0c)\" d=\"M 35.304688 74.415435 \r\nL 35.975629 74.233835 \r\nL 36.646571 76.206671 \r\nL 37.317513 77.082087 \r\nL 37.988455 82.663008 \r\nL 39.330339 87.029409 \r\nL 40.001281 82.951371 \r\nL 40.672223 88.008493 \r\nL 41.343164 89.597624 \r\nL 42.014106 92.009657 \r\nL 42.685048 89.088517 \r\nL 43.35599 90.729453 \r\nL 44.026932 91.243352 \r\nL 44.697874 92.723208 \r\nL 45.368816 88.910324 \r\nL 46.039758 87.704087 \r\nL 46.7107 87.24673 \r\nL 47.381641 85.044051 \r\nL 48.052583 85.086197 \r\nL 48.723525 82.149661 \r\nL 49.394467 83.65976 \r\nL 50.065409 83.360517 \r\nL 50.736351 84.405171 \r\nL 51.407293 82.949789 \r\nL 52.078235 83.503638 \r\nL 52.749176 80.793992 \r\nL 53.420118 80.570406 \r\nL 54.09106 82.238369 \r\nL 54.762002 84.240623 \r\nL 55.432944 83.142103 \r\nL 56.103886 79.61463 \r\nL 56.774828 79.243501 \r\nL 57.44577 83.216223 \r\nL 58.116712 81.874657 \r\nL 58.787653 82.509298 \r\nL 59.458595 86.780776 \r\nL 60.129537 86.821957 \r\nL 60.800479 92.029911 \r\nL 61.471421 89.512088 \r\nL 62.142363 84.694293 \r\nL 62.813305 84.792114 \r\nL 63.484247 85.162462 \r\nL 64.155189 83.640695 \r\nL 64.82613 82.91745 \r\nL 65.497072 84.91285 \r\nL 66.168014 84.449994 \r\nL 66.838956 86.082467 \r\nL 67.509898 84.528912 \r\nL 68.18084 85.076251 \r\nL 68.851782 87.175209 \r\nL 69.522724 88.519915 \r\nL 70.193665 86.931478 \r\nL 70.864607 82.597293 \r\nL 71.535549 81.238334 \r\nL 72.206491 84.245752 \r\nL 72.877433 80.383451 \r\nL 73.548375 78.931275 \r\nL 74.219317 78.787666 \r\nL 74.890259 80.003508 \r\nL 75.561201 82.105092 \r\nL 76.232142 79.444222 \r\nL 76.903084 79.52448 \r\nL 77.574026 76.354864 \r\nL 78.244968 76.51327 \r\nL 79.586852 84.785623 \r\nL 80.928736 85.303624 \r\nL 81.599677 83.476043 \r\nL 82.270619 83.792398 \r\nL 82.941561 84.297881 \r\nL 83.612503 85.272912 \r\nL 84.283445 86.911687 \r\nL 85.625329 91.740733 \r\nL 86.296271 93.939982 \r\nL 86.967213 91.772438 \r\nL 87.638154 93.769653 \r\nL 88.309096 96.399706 \r\nL 88.980038 95.826092 \r\nL 89.65098 94.012605 \r\nL 90.321922 95.373142 \r\nL 90.992864 98.736438 \r\nL 91.663806 103.144648 \r\nL 92.334748 105.983053 \r\nL 93.00569 109.344892 \r\nL 93.676631 113.477758 \r\nL 94.347573 116.221869 \r\nL 95.018515 115.323638 \r\nL 95.689457 113.675239 \r\nL 96.360399 113.106961 \r\nL 97.702283 111.57057 \r\nL 98.373225 110.139384 \r\nL 99.044166 116.384927 \r\nL 100.38605 114.795796 \r\nL 101.056992 114.610372 \r\nL 101.727934 114.049528 \r\nL 102.398876 117.970768 \r\nL 103.74076 118.666469 \r\nL 104.411702 119.228477 \r\nL 105.082643 120.053518 \r\nL 105.753585 121.941404 \r\nL 106.424527 119.132801 \r\nL 107.095469 114.620833 \r\nL 107.766411 113.721872 \r\nL 108.437353 114.396758 \r\nL 109.108295 114.351616 \r\nL 109.779237 109.92074 \r\nL 110.450178 107.474247 \r\nL 111.12112 108.867846 \r\nL 111.792062 107.883017 \r\nL 112.463004 108.166887 \r\nL 113.133946 107.116887 \r\nL 113.804888 108.198535 \r\nL 114.47583 107.313828 \r\nL 115.146772 105.629366 \r\nL 115.817714 105.945929 \r\nL 116.488655 107.308128 \r\nL 117.159597 108.992235 \r\nL 117.830539 107.97623 \r\nL 119.172423 101.11949 \r\nL 119.843365 103.182943 \r\nL 120.514307 105.752484 \r\nL 121.185249 107.106359 \r\nL 121.856191 107.694079 \r\nL 122.527132 109.110578 \r\nL 123.198074 106.832524 \r\nL 125.2109 112.911951 \r\nL 125.881842 116.978549 \r\nL 126.552784 122.329687 \r\nL 127.223726 123.396961 \r\nL 127.894667 121.277208 \r\nL 128.565609 121.116272 \r\nL 129.907493 112.652814 \r\nL 131.249377 116.220356 \r\nL 131.920319 115.288184 \r\nL 132.591261 118.188869 \r\nL 133.262203 118.773462 \r\nL 134.604086 123.824492 \r\nL 135.94597 120.745763 \r\nL 136.616912 119.794015 \r\nL 137.287854 118.14915 \r\nL 137.958796 118.817531 \r\nL 138.629738 119.854167 \r\nL 139.300679 112.76167 \r\nL 139.971621 114.063821 \r\nL 141.313505 118.739699 \r\nL 141.984447 116.678004 \r\nL 142.655389 110.699137 \r\nL 143.326331 109.23234 \r\nL 143.997273 107.411792 \r\nL 144.668215 108.817121 \r\nL 145.339156 112.407918 \r\nL 146.010098 113.386094 \r\nL 146.68104 113.096023 \r\nL 147.351982 111.188577 \r\nL 148.022924 107.099246 \r\nL 148.693866 109.664434 \r\nL 149.364808 107.494824 \r\nL 150.03575 105.98579 \r\nL 150.706692 106.277489 \r\nL 151.377633 102.432977 \r\nL 152.048575 104.13523 \r\nL 152.719517 107.457286 \r\nL 153.390459 103.92185 \r\nL 154.061401 103.397674 \r\nL 154.732343 105.02709 \r\nL 155.403285 104.335566 \r\nL 156.074227 108.135995 \r\nL 156.745168 113.18478 \r\nL 157.41611 115.556247 \r\nL 158.757994 119.611467 \r\nL 159.428936 125.171126 \r\nL 160.099878 125.602256 \r\nL 160.77082 122.669678 \r\nL 161.441762 127.016419 \r\nL 162.112704 122.396557 \r\nL 162.783645 121.13894 \r\nL 163.454587 125.817886 \r\nL 164.125529 123.490904 \r\nL 164.796471 124.000112 \r\nL 165.467413 121.860243 \r\nL 166.138355 118.734396 \r\nL 166.809297 119.854573 \r\nL 167.480239 121.584435 \r\nL 168.15118 119.977241 \r\nL 168.822122 118.811732 \r\nL 169.493064 121.823717 \r\nL 170.164006 116.758727 \r\nL 170.834948 116.422147 \r\nL 171.50589 116.983083 \r\nL 172.176832 115.47313 \r\nL 172.847774 114.755029 \r\nL 173.518716 116.223166 \r\nL 174.189657 114.47609 \r\nL 174.860599 113.223061 \r\nL 175.531541 113.080765 \r\nL 176.202483 115.372698 \r\nL 176.873425 113.177585 \r\nL 177.544367 116.723367 \r\nL 178.215309 118.950614 \r\nL 178.886251 116.307646 \r\nL 179.557193 116.11063 \r\nL 180.228134 113.293422 \r\nL 180.899076 111.678629 \r\nL 181.570018 110.807509 \r\nL 182.24096 111.24989 \r\nL 182.911902 111.181655 \r\nL 183.582844 112.462829 \r\nL 184.253786 109.30426 \r\nL 184.924728 110.074184 \r\nL 185.595669 111.442607 \r\nL 186.266611 108.562511 \r\nL 186.937553 107.168874 \r\nL 187.608495 106.824297 \r\nL 188.279437 110.438602 \r\nL 188.950379 106.259434 \r\nL 189.621321 106.124816 \r\nL 190.292263 103.61941 \r\nL 190.963205 102.71072 \r\nL 191.634146 105.631226 \r\nL 192.305088 105.299205 \r\nL 192.97603 107.282998 \r\nL 193.646972 105.464453 \r\nL 194.317914 108.926162 \r\nL 194.988856 106.490765 \r\nL 195.659798 113.738862 \r\nL 196.33074 118.292889 \r\nL 197.001681 118.492293 \r\nL 197.672623 123.760495 \r\nL 199.014507 127.075815 \r\nL 199.685449 129.80794 \r\nL 200.356391 128.364449 \r\nL 201.027333 126.501064 \r\nL 201.698275 128.368214 \r\nL 202.369217 129.756913 \r\nL 203.040158 133.045204 \r\nL 204.382042 136.840687 \r\nL 205.052984 137.253175 \r\nL 205.723926 137.806942 \r\nL 206.394868 133.780931 \r\nL 207.06581 131.638549 \r\nL 207.736752 132.428465 \r\nL 208.407694 130.726859 \r\nL 209.078635 132.713944 \r\nL 209.749577 132.167426 \r\nL 210.420519 131.321464 \r\nL 211.091461 133.579652 \r\nL 211.762403 135.252067 \r\nL 212.433345 134.690721 \r\nL 213.104287 139.951847 \r\nL 213.775229 143.411317 \r\nL 214.44617 145.256838 \r\nL 215.117112 149.827723 \r\nL 215.788054 150.700251 \r\nL 216.458996 150.997251 \r\nL 217.129938 156.771688 \r\nL 217.80088 154.726256 \r\nL 218.471822 159.34657 \r\nL 219.142764 157.046234 \r\nL 219.813706 156.245592 \r\nL 220.484647 157.386688 \r\nL 221.155589 155.794846 \r\nL 221.826531 155.578922 \r\nL 222.497473 158.8269 \r\nL 223.168415 160.332714 \r\nL 223.839357 163.452163 \r\nL 224.510299 165.215534 \r\nL 225.181241 160.995481 \r\nL 225.852182 160.722254 \r\nL 226.523124 159.744337 \r\nL 227.194066 165.311472 \r\nL 227.865008 165.138811 \r\nL 228.53595 166.56731 \r\nL 229.206892 167.336936 \r\nL 229.877834 167.089876 \r\nL 230.548776 164.686992 \r\nL 231.219718 169.186969 \r\nL 231.890659 169.651627 \r\nL 232.561601 170.296607 \r\nL 233.232543 172.20105 \r\nL 233.903485 177.714372 \r\nL 235.245369 175.206538 \r\nL 235.916311 177.774078 \r\nL 236.587253 177.37246 \r\nL 237.258195 182.150607 \r\nL 237.929136 181.472286 \r\nL 238.600078 185.073478 \r\nL 239.941962 187.805429 \r\nL 240.612904 188.567099 \r\nL 241.283846 190.186069 \r\nL 241.954788 191.033678 \r\nL 242.62573 193.027085 \r\nL 243.296671 193.709468 \r\nL 243.967613 189.214529 \r\nL 244.638555 190.618424 \r\nL 245.309497 192.432163 \r\nL 245.980439 188.460033 \r\nL 246.651381 187.184178 \r\nL 247.322323 185.519469 \r\nL 247.993265 192.664525 \r\nL 248.664207 195.253908 \r\nL 249.335148 195.39088 \r\nL 250.00609 198.437106 \r\nL 250.677032 198.436438 \r\nL 251.347974 200.09344 \r\nL 252.018916 201.086094 \r\nL 252.689858 199.802235 \r\nL 253.3608 198.26744 \r\nL 254.031742 198.082919 \r\nL 254.702683 200.886757 \r\nL 255.373625 197.533634 \r\nL 256.044567 201.238015 \r\nL 256.715509 197.854426 \r\nL 257.386451 200.26265 \r\nL 258.057393 201.471692 \r\nL 258.728335 205.530128 \r\nL 259.399277 207.216049 \r\nL 260.070219 209.78842 \r\nL 260.74116 210.254529 \r\nL 261.412102 212.739554 \r\nL 262.083044 212.131347 \r\nL 262.753986 214.418967 \r\nL 263.424928 214.756364 \r\nL 264.09587 211.847535 \r\nL 264.766812 210.509525 \r\nL 265.437754 208.856229 \r\nL 266.108696 208.126382 \r\nL 266.779637 211.292305 \r\nL 267.450579 210.378678 \r\nL 268.121521 213.446347 \r\nL 268.792463 212.232801 \r\nL 269.463405 210.28813 \r\nL 270.134347 205.926214 \r\nL 270.805289 205.573478 \r\nL 271.476231 207.845182 \r\nL 273.489056 195.731795 \r\nL 274.159998 200.281736 \r\nL 274.83094 199.375277 \r\nL 275.501882 200.263891 \r\nL 276.172824 200.640341 \r\nL 277.514708 198.002815 \r\nL 278.185649 197.315171 \r\nL 278.856591 199.177501 \r\nL 279.527533 202.296699 \r\nL 280.198475 202.299598 \r\nL 280.869417 202.77227 \r\nL 281.540359 201.286066 \r\nL 282.211301 201.987076 \r\nL 282.882243 203.68095 \r\nL 283.553184 202.911097 \r\nL 284.224126 201.896243 \r\nL 284.895068 203.158622 \r\nL 285.56601 203.156127 \r\nL 286.236952 202.647998 \r\nL 286.907894 203.209916 \r\nL 287.578836 205.739872 \r\nL 288.249778 199.699984 \r\nL 288.92072 203.674554 \r\nL 289.591661 200.427921 \r\nL 290.262603 201.726547 \r\nL 290.933545 201.763224 \r\nL 291.604487 194.800232 \r\nL 292.275429 195.577458 \r\nL 292.946371 194.819411 \r\nL 293.617313 198.329397 \r\nL 294.288255 193.716981 \r\nL 294.959197 197.452854 \r\nL 295.630138 195.046447 \r\nL 296.30108 185.25727 \r\nL 296.972022 181.078573 \r\nL 297.642964 181.458207 \r\nL 298.313906 177.327241 \r\nL 299.65579 173.622636 \r\nL 300.997673 175.489866 \r\nL 301.668615 174.961798 \r\nL 302.339557 173.200447 \r\nL 303.010499 177.148268 \r\nL 303.681441 170.484756 \r\nL 304.352383 166.571757 \r\nL 305.023325 170.355351 \r\nL 305.694267 170.852523 \r\nL 307.03615 169.249619 \r\nL 307.707092 170.47191 \r\nL 308.378034 173.013407 \r\nL 309.048976 174.991587 \r\nL 309.719918 175.138659 \r\nL 310.39086 171.169843 \r\nL 311.061802 171.342562 \r\nL 311.732744 170.778974 \r\nL 312.403685 167.029926 \r\nL 313.074627 166.514393 \r\nL 313.745569 166.757909 \r\nL 314.416511 167.899776 \r\nL 315.087453 164.968369 \r\nL 315.758395 164.14848 \r\nL 316.429337 161.568927 \r\nL 317.100279 165.009114 \r\nL 317.771221 165.514391 \r\nL 318.442162 169.903507 \r\nL 319.113104 170.336904 \r\nL 320.454988 169.916221 \r\nL 321.12593 169.463619 \r\nL 321.796872 167.437313 \r\nL 322.467814 165.880271 \r\nL 323.138756 165.785618 \r\nL 323.809698 164.866594 \r\nL 324.480639 161.420727 \r\nL 325.151581 161.996197 \r\nL 325.822523 157.869409 \r\nL 326.493465 158.061866 \r\nL 327.164407 155.635257 \r\nL 327.835349 155.332233 \r\nL 328.506291 158.328336 \r\nL 329.177233 159.045148 \r\nL 329.848174 157.01183 \r\nL 330.519116 159.398487 \r\nL 331.190058 159.070906 \r\nL 331.861 157.534186 \r\nL 332.531942 156.537524 \r\nL 333.202884 155.817718 \r\nL 333.873826 159.11319 \r\nL 334.544768 156.094036 \r\nL 335.21571 156.829289 \r\nL 335.886651 160.187857 \r\nL 336.557593 161.906771 \r\nL 337.228535 165.473138 \r\nL 337.899477 164.154137 \r\nL 338.570419 164.063588 \r\nL 339.241361 165.799153 \r\nL 339.912303 164.59382 \r\nL 340.583245 162.129185 \r\nL 341.254186 160.15529 \r\nL 341.925128 161.594047 \r\nL 342.59607 160.859668 \r\nL 343.937954 154.750523 \r\nL 344.608896 154.140148 \r\nL 345.279838 151.7011 \r\nL 345.95078 150.466405 \r\nL 346.621722 148.893388 \r\nL 347.292663 154.004515 \r\nL 347.963605 151.5035 \r\nL 348.634547 150.539337 \r\nL 349.305489 152.051198 \r\nL 349.976431 153.052108 \r\nL 350.647373 155.033632 \r\nL 351.318315 157.400766 \r\nL 351.989257 156.586826 \r\nL 352.660199 156.141688 \r\nL 353.33114 156.138481 \r\nL 354.002082 156.004244 \r\nL 354.673024 157.609579 \r\nL 355.343966 157.488297 \r\nL 356.014908 157.032255 \r\nL 356.68585 157.417837 \r\nL 357.356792 156.698285 \r\nL 358.027734 157.8072 \r\nL 358.698675 159.953959 \r\nL 359.369617 164.375942 \r\nL 360.040559 166.116065 \r\nL 360.711501 166.168215 \r\nL 361.382443 163.971188 \r\nL 362.053385 163.082253 \r\nL 362.724327 163.53832 \r\nL 363.395269 161.976455 \r\nL 364.066211 164.39433 \r\nL 364.737152 168.624177 \r\nL 365.408094 167.787889 \r\nL 366.079036 170.638147 \r\nL 366.749978 172.736424 \r\nL 367.42092 170.010028 \r\nL 368.091862 169.335332 \r\nL 368.762804 166.688631 \r\nL 369.433746 169.435092 \r\nL 370.104687 168.546995 \r\nL 370.104687 168.546995 \r\n\" style=\"fill:none;stroke:#1f77b4;stroke-linecap:square;stroke-width:1.5;\"/>\r\n   </g>\r\n   <g id=\"line2d_28\">\r\n    <path clip-path=\"url(#p35c524db0c)\" d=\"M 35.304688 71.526233 \r\nL 35.975629 71.55474 \r\nL 36.646571 75.882714 \r\nL 37.317513 75.135746 \r\nL 37.988455 78.565809 \r\nL 38.659397 79.237744 \r\nL 39.330339 78.777068 \r\nL 40.001281 76.137185 \r\nL 40.672223 77.006484 \r\nL 41.343164 75.205783 \r\nL 42.014106 74.713822 \r\nL 42.685048 75.799809 \r\nL 43.35599 75.650991 \r\nL 44.026932 75.080874 \r\nL 44.697874 74.128494 \r\nL 45.368816 74.51301 \r\nL 46.039758 73.395169 \r\nL 46.7107 74.473073 \r\nL 47.381641 73.895704 \r\nL 48.052583 76.932499 \r\nL 48.723525 79.184145 \r\nL 49.394467 78.853882 \r\nL 50.736351 79.910975 \r\nL 51.407293 77.665044 \r\nL 52.078235 73.863029 \r\nL 52.749176 69.091955 \r\nL 53.420118 71.482951 \r\nL 54.09106 68.010673 \r\nL 56.103886 70.108506 \r\nL 56.774828 72.587313 \r\nL 57.44577 71.475711 \r\nL 58.116712 72.598376 \r\nL 58.787653 71.478608 \r\nL 59.458595 75.328359 \r\nL 60.129537 77.849335 \r\nL 60.800479 75.777741 \r\nL 61.471421 77.639915 \r\nL 62.142363 72.686988 \r\nL 62.813305 72.556216 \r\nL 63.484247 70.874787 \r\nL 64.155189 70.326306 \r\nL 64.82613 67.904062 \r\nL 65.497072 68.170418 \r\nL 66.168014 66.886655 \r\nL 66.838956 66.396721 \r\nL 67.509898 65.542845 \r\nL 68.18084 63.813027 \r\nL 68.851782 63.762188 \r\nL 69.522724 66.569199 \r\nL 70.193665 66.747144 \r\nL 70.864607 64.862358 \r\nL 71.535549 70.220946 \r\nL 72.206491 70.298376 \r\nL 72.877433 65.008534 \r\nL 73.548375 63.819659 \r\nL 74.219317 57.872692 \r\nL 74.890259 55.234715 \r\nL 75.561201 53.927113 \r\nL 76.903084 50.109879 \r\nL 77.574026 49.229659 \r\nL 78.244968 47.657923 \r\nL 78.91591 46.979012 \r\nL 79.586852 46.107797 \r\nL 80.257794 48.851559 \r\nL 80.928736 51.047911 \r\nL 81.599677 49.948593 \r\nL 82.270619 52.158339 \r\nL 82.941561 60.154469 \r\nL 83.612503 56.652289 \r\nL 84.954387 65.753645 \r\nL 85.625329 68.508711 \r\nL 86.296271 68.255942 \r\nL 86.967213 65.955568 \r\nL 87.638154 68.968185 \r\nL 88.309096 72.656008 \r\nL 88.980038 72.336477 \r\nL 90.321922 74.841869 \r\nL 90.992864 74.622396 \r\nL 91.663806 75.464079 \r\nL 92.334748 75.19885 \r\nL 93.00569 71.215465 \r\nL 93.676631 68.265888 \r\nL 94.347573 65.978877 \r\nL 95.018515 65.9207 \r\nL 95.689457 64.928405 \r\nL 96.360399 61.083995 \r\nL 97.031341 55.609534 \r\nL 97.702283 60.528457 \r\nL 98.373225 62.807474 \r\nL 99.044166 60.315923 \r\nL 99.715108 60.727476 \r\nL 100.38605 59.850967 \r\nL 101.056992 64.760229 \r\nL 101.727934 60.752417 \r\nL 102.398876 62.69664 \r\nL 103.069818 58.955289 \r\nL 103.74076 57.069973 \r\nL 104.411702 58.046722 \r\nL 105.082643 61.492865 \r\nL 105.753585 63.531814 \r\nL 107.095469 72.704602 \r\nL 107.766411 72.697365 \r\nL 108.437353 70.327233 \r\nL 109.108295 72.581468 \r\nL 109.779237 71.245641 \r\nL 110.450178 72.213165 \r\nL 111.12112 66.71653 \r\nL 111.792062 67.048702 \r\nL 112.463004 65.522184 \r\nL 113.133946 65.98557 \r\nL 113.804888 68.292102 \r\nL 114.47583 65.129058 \r\nL 115.146772 70.300859 \r\nL 115.817714 73.628862 \r\nL 116.488655 73.378876 \r\nL 117.159597 70.220898 \r\nL 117.830539 67.937987 \r\nL 118.501481 68.927994 \r\nL 119.172423 70.172217 \r\nL 119.843365 74.001108 \r\nL 120.514307 76.155486 \r\nL 121.185249 73.520254 \r\nL 121.856191 71.49847 \r\nL 123.869016 77.324802 \r\nL 124.539958 78.68185 \r\nL 125.2109 78.275793 \r\nL 126.552784 79.97026 \r\nL 127.223726 77.80961 \r\nL 127.894667 80.564635 \r\nL 128.565609 85.799528 \r\nL 129.236551 82.809201 \r\nL 129.907493 85.916518 \r\nL 130.578435 84.783033 \r\nL 131.249377 82.589114 \r\nL 131.920319 82.835737 \r\nL 132.591261 79.408009 \r\nL 133.262203 81.748296 \r\nL 133.933144 78.848137 \r\nL 134.604086 78.676917 \r\nL 135.275028 75.819612 \r\nL 136.616912 83.453675 \r\nL 137.287854 81.511131 \r\nL 137.958796 81.558747 \r\nL 138.629738 81.153751 \r\nL 139.300679 81.912678 \r\nL 139.971621 83.635708 \r\nL 140.642563 82.721927 \r\nL 141.313505 82.208417 \r\nL 141.984447 85.879863 \r\nL 142.655389 85.346381 \r\nL 143.326331 87.329115 \r\nL 143.997273 86.811292 \r\nL 144.668215 88.92967 \r\nL 145.339156 90.495412 \r\nL 146.010098 86.027781 \r\nL 146.68104 86.229338 \r\nL 147.351982 86.733975 \r\nL 148.693866 83.55539 \r\nL 149.364808 84.889746 \r\nL 150.706692 78.249 \r\nL 151.377633 79.379596 \r\nL 152.048575 76.391744 \r\nL 152.719517 76.881604 \r\nL 153.390459 74.678166 \r\nL 154.061401 73.113235 \r\nL 154.732343 74.338266 \r\nL 155.403285 73.216471 \r\nL 156.074227 75.140968 \r\nL 156.745168 70.603616 \r\nL 158.087052 74.087711 \r\nL 158.757994 72.044869 \r\nL 159.428936 67.154503 \r\nL 160.099878 68.013367 \r\nL 160.77082 72.135169 \r\nL 161.441762 74.941371 \r\nL 162.112704 76.518893 \r\nL 162.783645 81.104856 \r\nL 163.454587 82.141218 \r\nL 164.125529 80.22138 \r\nL 164.796471 77.862003 \r\nL 165.467413 76.4571 \r\nL 166.138355 73.348719 \r\nL 166.809297 72.205136 \r\nL 167.480239 71.725031 \r\nL 168.15118 73.03656 \r\nL 168.822122 72.804654 \r\nL 169.493064 70.668754 \r\nL 170.164006 70.103822 \r\nL 170.834948 68.777208 \r\nL 171.50589 69.264076 \r\nL 172.176832 69.087695 \r\nL 172.847774 72.671085 \r\nL 173.518716 78.993282 \r\nL 174.189657 79.629177 \r\nL 174.860599 87.070037 \r\nL 175.531541 83.922292 \r\nL 176.202483 84.102371 \r\nL 176.873425 82.278462 \r\nL 177.544367 83.385692 \r\nL 178.215309 83.179317 \r\nL 178.886251 80.58727 \r\nL 179.557193 80.034217 \r\nL 180.228134 85.558369 \r\nL 180.899076 88.898347 \r\nL 181.570018 88.692734 \r\nL 182.24096 86.350263 \r\nL 183.582844 83.655195 \r\nL 184.253786 84.516615 \r\nL 184.924728 83.646007 \r\nL 185.595669 86.501633 \r\nL 186.266611 90.397765 \r\nL 186.937553 88.028847 \r\nL 187.608495 88.242725 \r\nL 188.279437 86.220204 \r\nL 188.950379 83.551278 \r\nL 189.621321 80.078808 \r\nL 190.292263 80.200646 \r\nL 190.963205 78.6735 \r\nL 191.634146 77.68968 \r\nL 192.305088 78.330433 \r\nL 192.97603 79.583933 \r\nL 193.646972 82.843842 \r\nL 194.317914 84.80654 \r\nL 194.988856 84.843242 \r\nL 195.659798 87.029162 \r\nL 196.33074 83.58721 \r\nL 197.001681 85.625511 \r\nL 197.672623 82.842976 \r\nL 198.343565 88.5503 \r\nL 199.014507 91.315172 \r\nL 199.685449 95.937853 \r\nL 200.356391 95.390626 \r\nL 201.027333 94.297247 \r\nL 201.698275 89.242779 \r\nL 202.369217 91.131628 \r\nL 203.040158 92.134074 \r\nL 203.7111 91.633608 \r\nL 204.382042 94.25334 \r\nL 206.394868 86.162162 \r\nL 207.06581 85.236174 \r\nL 207.736752 83.416932 \r\nL 208.407694 84.697234 \r\nL 209.078635 87.727372 \r\nL 209.749577 85.549237 \r\nL 210.420519 86.430827 \r\nL 211.091461 88.498231 \r\nL 211.762403 91.973667 \r\nL 212.433345 91.355108 \r\nL 213.104287 93.675432 \r\nL 213.775229 93.166345 \r\nL 215.117112 102.436576 \r\nL 215.788054 102.626017 \r\nL 216.458996 104.672227 \r\nL 217.129938 105.650547 \r\nL 217.80088 100.686571 \r\nL 218.471822 100.61108 \r\nL 219.142764 97.778222 \r\nL 219.813706 97.643191 \r\nL 220.484647 94.456135 \r\nL 221.155589 94.680949 \r\nL 221.826531 99.55365 \r\nL 222.497473 96.605843 \r\nL 223.168415 98.50891 \r\nL 223.839357 96.608429 \r\nL 224.510299 98.148424 \r\nL 225.181241 98.105395 \r\nL 225.852182 97.764464 \r\nL 226.523124 96.329608 \r\nL 227.194066 97.993489 \r\nL 227.865008 96.174055 \r\nL 228.53595 99.26539 \r\nL 229.206892 100.67208 \r\nL 229.877834 104.76232 \r\nL 230.548776 102.783083 \r\nL 231.219718 102.059781 \r\nL 231.890659 101.031413 \r\nL 232.561601 105.816671 \r\nL 233.232543 112.780145 \r\nL 233.903485 114.101167 \r\nL 234.574427 117.508757 \r\nL 235.245369 116.261808 \r\nL 235.916311 114.73132 \r\nL 236.587253 111.200141 \r\nL 237.929136 111.396022 \r\nL 238.600078 110.231511 \r\nL 239.27102 109.764029 \r\nL 239.941962 110.402666 \r\nL 240.612904 112.654399 \r\nL 241.283846 112.902843 \r\nL 241.954788 112.533908 \r\nL 242.62573 113.903572 \r\nL 243.296671 111.62756 \r\nL 243.967613 106.871048 \r\nL 244.638555 108.883025 \r\nL 245.980439 105.96264 \r\nL 246.651381 106.590235 \r\nL 247.322323 105.890002 \r\nL 247.993265 100.050201 \r\nL 248.664207 102.104961 \r\nL 249.335148 106.174492 \r\nL 250.677032 100.377481 \r\nL 251.347974 99.50953 \r\nL 252.018916 94.642105 \r\nL 252.689858 97.312444 \r\nL 253.3608 95.503512 \r\nL 254.031742 91.881421 \r\nL 254.702683 91.298376 \r\nL 255.373625 88.818776 \r\nL 256.044567 91.356208 \r\nL 256.715509 91.787671 \r\nL 257.386451 88.587959 \r\nL 258.057393 90.475997 \r\nL 258.728335 91.527291 \r\nL 259.399277 91.4383 \r\nL 260.070219 85.766941 \r\nL 260.74116 86.498897 \r\nL 261.412102 89.692695 \r\nL 262.083044 81.058191 \r\nL 262.753986 78.464239 \r\nL 263.424928 83.397663 \r\nL 264.09587 86.974646 \r\nL 264.766812 86.394315 \r\nL 265.437754 84.839955 \r\nL 266.108696 83.96195 \r\nL 268.121521 92.88473 \r\nL 268.792463 98.974005 \r\nL 269.463405 101.418932 \r\nL 270.134347 104.779013 \r\nL 270.805289 110.920976 \r\nL 271.476231 110.746108 \r\nL 272.147172 110.832353 \r\nL 272.818114 112.14981 \r\nL 273.489056 109.538494 \r\nL 274.159998 110.806207 \r\nL 274.83094 110.802981 \r\nL 275.501882 115.713288 \r\nL 276.172824 115.971966 \r\nL 276.843766 114.728404 \r\nL 277.514708 113.895664 \r\nL 278.185649 115.037333 \r\nL 278.856591 115.592542 \r\nL 279.527533 115.299473 \r\nL 280.198475 111.47218 \r\nL 280.869417 106.63374 \r\nL 281.540359 105.58346 \r\nL 282.211301 104.098887 \r\nL 282.882243 108.970957 \r\nL 283.553184 104.995364 \r\nL 284.224126 106.448174 \r\nL 284.895068 108.507761 \r\nL 285.56601 106.531501 \r\nL 286.236952 106.557438 \r\nL 286.907894 104.767772 \r\nL 287.578836 104.79635 \r\nL 288.249778 101.526027 \r\nL 288.92072 102.828039 \r\nL 289.591661 100.531965 \r\nL 290.262603 104.755904 \r\nL 290.933545 102.2499 \r\nL 291.604487 105.400422 \r\nL 292.275429 111.257662 \r\nL 292.946371 114.856581 \r\nL 293.617313 116.775674 \r\nL 294.288255 116.188103 \r\nL 294.959197 116.21437 \r\nL 296.30108 113.876445 \r\nL 296.972022 111.860007 \r\nL 297.642964 112.741885 \r\nL 298.984848 119.738247 \r\nL 299.65579 115.581642 \r\nL 300.326732 114.488273 \r\nL 300.997673 114.501574 \r\nL 301.668615 115.818532 \r\nL 303.010499 112.548947 \r\nL 303.681441 112.838509 \r\nL 304.352383 109.461604 \r\nL 305.023325 113.165113 \r\nL 305.694267 108.43865 \r\nL 306.365209 110.468144 \r\nL 307.03615 109.247287 \r\nL 307.707092 105.844196 \r\nL 308.378034 109.348431 \r\nL 309.048976 110.672361 \r\nL 309.719918 113.040991 \r\nL 310.39086 116.54418 \r\nL 311.061802 117.134709 \r\nL 311.732744 118.849702 \r\nL 312.403685 114.016998 \r\nL 313.074627 115.076645 \r\nL 313.745569 117.898443 \r\nL 314.416511 116.104198 \r\nL 315.087453 116.367519 \r\nL 315.758395 116.976474 \r\nL 316.429337 118.850141 \r\nL 317.100279 117.889187 \r\nL 317.771221 113.44414 \r\nL 318.442162 115.743046 \r\nL 319.113104 112.866629 \r\nL 319.784046 111.520668 \r\nL 320.454988 112.464824 \r\nL 321.12593 111.598979 \r\nL 321.796872 111.600859 \r\nL 323.138756 113.178324 \r\nL 323.809698 112.658087 \r\nL 324.480639 110.665075 \r\nL 325.151581 107.301223 \r\nL 325.822523 107.297464 \r\nL 326.493465 110.856712 \r\nL 327.164407 105.049394 \r\nL 327.835349 107.106572 \r\nL 328.506291 105.793446 \r\nL 329.177233 107.090106 \r\nL 329.848174 107.732818 \r\nL 330.519116 108.130819 \r\nL 331.190058 112.966356 \r\nL 331.861 114.229687 \r\nL 332.531942 114.978118 \r\nL 333.202884 116.312172 \r\nL 333.873826 121.108659 \r\nL 334.544768 119.800845 \r\nL 335.21571 119.910371 \r\nL 335.886651 118.618742 \r\nL 336.557593 119.81666 \r\nL 337.228535 119.419193 \r\nL 337.899477 119.720349 \r\nL 338.570419 116.939507 \r\nL 339.241361 116.362548 \r\nL 340.583245 110.51119 \r\nL 341.254186 111.457886 \r\nL 341.925128 108.261219 \r\nL 342.59607 112.411987 \r\nL 343.267012 112.614411 \r\nL 343.937954 111.375368 \r\nL 344.608896 112.717361 \r\nL 345.279838 113.270493 \r\nL 345.95078 114.192687 \r\nL 347.292663 113.530231 \r\nL 348.634547 112.798228 \r\nL 349.305489 115.034864 \r\nL 349.976431 115.731142 \r\nL 350.647373 109.994269 \r\nL 351.318315 115.185423 \r\nL 351.989257 114.629375 \r\nL 353.33114 116.849204 \r\nL 354.002082 116.469354 \r\nL 354.673024 114.07015 \r\nL 355.343966 109.333849 \r\nL 356.014908 114.717024 \r\nL 356.68585 111.190624 \r\nL 357.356792 109.345045 \r\nL 358.027734 112.8076 \r\nL 359.369617 117.241709 \r\nL 360.711501 124.788835 \r\nL 362.053385 128.446252 \r\nL 362.724327 125.114845 \r\nL 363.395269 128.523357 \r\nL 364.066211 130.281198 \r\nL 364.737152 134.402316 \r\nL 365.408094 136.261747 \r\nL 366.079036 133.678622 \r\nL 366.749978 136.421564 \r\nL 367.42092 131.673018 \r\nL 368.091862 132.50292 \r\nL 368.762804 137.549246 \r\nL 369.433746 134.225197 \r\nL 370.104687 133.938624 \r\nL 370.104687 133.938624 \r\n\" style=\"fill:none;stroke:#ff7f0e;stroke-linecap:square;stroke-width:1.5;\"/>\r\n   </g>\r\n   <g id=\"line2d_29\">\r\n    <path clip-path=\"url(#p35c524db0c)\" d=\"M 35.304688 70.299664 \r\nL 35.975629 68.281236 \r\nL 36.646571 74.797872 \r\nL 37.317513 79.495606 \r\nL 37.988455 77.422847 \r\nL 38.659397 75.807385 \r\nL 39.330339 75.111108 \r\nL 40.001281 76.408239 \r\nL 40.672223 68.849219 \r\nL 41.343164 70.983136 \r\nL 42.014106 72.594673 \r\nL 42.685048 70.175608 \r\nL 43.35599 69.115508 \r\nL 44.026932 70.411352 \r\nL 44.697874 69.650205 \r\nL 45.368816 68.596714 \r\nL 46.039758 67.828911 \r\nL 46.7107 67.904037 \r\nL 47.381641 73.32537 \r\nL 48.052583 74.555528 \r\nL 48.723525 72.748496 \r\nL 49.394467 73.935815 \r\nL 50.065409 74.718958 \r\nL 50.736351 71.682187 \r\nL 51.407293 74.991069 \r\nL 52.078235 72.205644 \r\nL 52.749176 74.650253 \r\nL 53.420118 77.66831 \r\nL 54.09106 81.700177 \r\nL 54.762002 79.9382 \r\nL 55.432944 79.079446 \r\nL 56.103886 79.893665 \r\nL 56.774828 77.676803 \r\nL 57.44577 79.635741 \r\nL 58.116712 83.512482 \r\nL 58.787653 80.602595 \r\nL 59.458595 80.18304 \r\nL 60.129537 75.564857 \r\nL 60.800479 77.517776 \r\nL 61.471421 76.932225 \r\nL 62.813305 68.620326 \r\nL 63.484247 71.175706 \r\nL 64.82613 69.973944 \r\nL 65.497072 69.042767 \r\nL 66.168014 71.275064 \r\nL 66.838956 72.165553 \r\nL 67.509898 75.278823 \r\nL 68.18084 73.618 \r\nL 68.851782 70.210667 \r\nL 69.522724 70.279864 \r\nL 70.193665 68.915964 \r\nL 70.864607 72.570808 \r\nL 71.535549 73.306443 \r\nL 72.877433 68.079654 \r\nL 73.548375 67.517651 \r\nL 74.219317 63.109902 \r\nL 74.890259 66.12134 \r\nL 75.561201 65.750325 \r\nL 76.232142 64.510811 \r\nL 76.903084 68.559347 \r\nL 77.574026 74.737022 \r\nL 78.244968 76.045588 \r\nL 78.91591 73.585693 \r\nL 79.586852 73.390775 \r\nL 80.257794 76.893808 \r\nL 80.928736 81.070162 \r\nL 81.599677 84.300172 \r\nL 82.270619 84.306672 \r\nL 82.941561 85.964966 \r\nL 84.283445 83.472045 \r\nL 84.954387 84.762551 \r\nL 85.625329 88.157266 \r\nL 86.296271 90.242421 \r\nL 86.967213 88.934331 \r\nL 87.638154 89.19446 \r\nL 88.309096 91.106581 \r\nL 88.980038 90.50378 \r\nL 89.65098 88.592209 \r\nL 90.321922 85.684844 \r\nL 90.992864 88.008571 \r\nL 91.663806 89.117951 \r\nL 92.334748 89.147477 \r\nL 93.00569 90.268928 \r\nL 93.676631 89.23636 \r\nL 94.347573 91.578523 \r\nL 95.689457 86.13477 \r\nL 96.360399 84.053163 \r\nL 97.031341 85.473987 \r\nL 97.702283 84.045651 \r\nL 98.373225 81.989683 \r\nL 99.044166 83.916522 \r\nL 99.715108 84.767526 \r\nL 100.38605 85.001545 \r\nL 101.056992 88.149031 \r\nL 101.727934 87.380864 \r\nL 102.398876 88.775044 \r\nL 103.069818 90.732901 \r\nL 103.74076 87.449501 \r\nL 104.411702 84.842615 \r\nL 105.082643 86.443442 \r\nL 105.753585 84.722501 \r\nL 106.424527 85.682017 \r\nL 107.095469 86.154514 \r\nL 107.766411 85.73245 \r\nL 108.437353 82.838332 \r\nL 109.108295 81.473035 \r\nL 109.779237 77.626497 \r\nL 110.450178 81.934261 \r\nL 111.12112 85.160422 \r\nL 111.792062 83.789135 \r\nL 112.463004 83.562067 \r\nL 113.133946 81.220011 \r\nL 115.146772 76.100778 \r\nL 115.817714 80.096142 \r\nL 116.488655 74.459222 \r\nL 117.159597 78.071685 \r\nL 117.830539 76.374733 \r\nL 118.501481 78.375444 \r\nL 119.172423 79.288507 \r\nL 119.843365 79.893624 \r\nL 121.185249 85.03856 \r\nL 122.527132 77.26017 \r\nL 123.198074 76.289826 \r\nL 123.869016 77.740009 \r\nL 124.539958 74.569621 \r\nL 125.2109 73.70834 \r\nL 125.881842 77.659555 \r\nL 126.552784 79.903287 \r\nL 127.223726 76.980105 \r\nL 128.565609 73.40715 \r\nL 129.907493 78.130677 \r\nL 130.578435 78.003052 \r\nL 131.249377 80.932002 \r\nL 132.591261 91.089589 \r\nL 133.262203 88.97564 \r\nL 133.933144 87.472553 \r\nL 134.604086 86.30827 \r\nL 135.275028 86.48236 \r\nL 135.94597 86.085301 \r\nL 136.616912 86.61641 \r\nL 137.287854 82.966056 \r\nL 137.958796 81.95691 \r\nL 138.629738 88.727718 \r\nL 139.300679 87.252373 \r\nL 139.971621 90.002181 \r\nL 140.642563 87.391488 \r\nL 141.984447 84.56302 \r\nL 142.655389 85.27341 \r\nL 143.326331 85.134445 \r\nL 143.997273 86.503508 \r\nL 144.668215 90.381495 \r\nL 145.339156 90.22448 \r\nL 146.010098 90.382283 \r\nL 146.68104 88.960926 \r\nL 147.351982 85.948616 \r\nL 148.022924 83.670168 \r\nL 148.693866 84.308795 \r\nL 150.03575 77.498442 \r\nL 150.706692 82.398744 \r\nL 151.377633 84.95232 \r\nL 152.048575 84.188795 \r\nL 152.719517 88.559443 \r\nL 153.390459 86.183991 \r\nL 154.061401 88.562237 \r\nL 154.732343 83.663528 \r\nL 155.403285 83.333341 \r\nL 156.074227 86.376387 \r\nL 156.745168 87.780901 \r\nL 157.41611 87.038156 \r\nL 158.087052 84.86996 \r\nL 158.757994 78.158727 \r\nL 159.428936 79.497395 \r\nL 160.099878 84.039778 \r\nL 160.77082 83.173792 \r\nL 161.441762 87.047822 \r\nL 162.112704 84.813763 \r\nL 162.783645 86.564936 \r\nL 163.454587 90.729798 \r\nL 164.125529 91.357311 \r\nL 164.796471 90.09604 \r\nL 165.467413 90.422473 \r\nL 166.138355 93.507572 \r\nL 166.809297 93.170671 \r\nL 167.480239 94.524648 \r\nL 168.15118 90.527147 \r\nL 168.822122 87.855873 \r\nL 169.493064 91.220804 \r\nL 170.164006 95.638656 \r\nL 170.834948 96.209775 \r\nL 171.50589 98.287252 \r\nL 172.176832 97.493389 \r\nL 172.847774 98.610218 \r\nL 173.518716 98.017536 \r\nL 174.189657 100.08621 \r\nL 174.860599 100.182989 \r\nL 175.531541 100.726186 \r\nL 176.202483 105.655147 \r\nL 176.873425 101.551459 \r\nL 177.544367 103.556126 \r\nL 178.215309 105.092903 \r\nL 178.886251 108.777689 \r\nL 179.557193 111.765234 \r\nL 180.228134 115.612798 \r\nL 180.899076 110.390243 \r\nL 181.570018 108.200275 \r\nL 182.24096 107.4779 \r\nL 182.911902 108.281922 \r\nL 183.582844 104.593855 \r\nL 184.253786 102.235378 \r\nL 184.924728 101.847923 \r\nL 185.595669 102.674361 \r\nL 186.266611 102.244216 \r\nL 186.937553 102.469755 \r\nL 187.608495 102.142502 \r\nL 188.279437 98.045075 \r\nL 189.621321 100.683301 \r\nL 190.963205 105.786052 \r\nL 191.634146 102.329036 \r\nL 192.305088 102.88984 \r\nL 192.97603 106.82529 \r\nL 193.646972 105.80628 \r\nL 194.317914 105.499433 \r\nL 194.988856 106.497485 \r\nL 195.659798 106.950079 \r\nL 196.33074 106.196511 \r\nL 197.001681 108.491371 \r\nL 197.672623 106.238606 \r\nL 198.343565 109.113029 \r\nL 199.014507 108.214999 \r\nL 199.685449 108.512108 \r\nL 200.356391 105.340927 \r\nL 201.027333 108.574955 \r\nL 201.698275 105.31319 \r\nL 202.369217 106.680638 \r\nL 203.7111 117.191074 \r\nL 204.382042 114.518288 \r\nL 205.052984 116.830406 \r\nL 205.723926 113.490529 \r\nL 206.394868 115.178108 \r\nL 207.06581 113.596226 \r\nL 207.736752 113.477532 \r\nL 208.407694 113.956849 \r\nL 209.078635 116.837337 \r\nL 209.749577 114.860316 \r\nL 210.420519 116.188853 \r\nL 211.091461 116.993973 \r\nL 211.762403 114.849361 \r\nL 212.433345 114.90119 \r\nL 213.104287 116.87179 \r\nL 213.775229 115.67173 \r\nL 214.44617 113.643751 \r\nL 215.117112 113.677269 \r\nL 215.788054 108.022084 \r\nL 217.129938 114.800441 \r\nL 217.80088 116.217569 \r\nL 218.471822 116.893749 \r\nL 219.142764 115.740442 \r\nL 220.484647 121.114594 \r\nL 221.155589 121.46142 \r\nL 221.826531 122.856444 \r\nL 222.497473 122.085644 \r\nL 223.168415 122.927399 \r\nL 223.839357 122.489139 \r\nL 224.510299 121.794891 \r\nL 225.181241 119.884328 \r\nL 225.852182 119.045867 \r\nL 226.523124 120.085225 \r\nL 227.194066 113.43661 \r\nL 229.206892 107.704558 \r\nL 229.877834 105.810237 \r\nL 230.548776 106.613436 \r\nL 231.219718 104.247104 \r\nL 231.890659 100.705181 \r\nL 232.561601 99.722305 \r\nL 233.232543 95.036602 \r\nL 233.903485 95.553696 \r\nL 235.245369 100.021785 \r\nL 235.916311 100.607682 \r\nL 237.258195 105.661761 \r\nL 237.929136 107.797254 \r\nL 238.600078 106.667395 \r\nL 239.27102 106.028715 \r\nL 239.941962 110.857958 \r\nL 240.612904 111.385584 \r\nL 241.283846 114.010372 \r\nL 241.954788 119.157807 \r\nL 242.62573 119.916406 \r\nL 243.296671 119.455273 \r\nL 243.967613 121.232222 \r\nL 244.638555 120.579226 \r\nL 245.309497 121.755977 \r\nL 245.980439 118.390043 \r\nL 246.651381 117.924314 \r\nL 247.322323 118.527185 \r\nL 247.993265 121.469651 \r\nL 249.335148 132.25312 \r\nL 250.00609 130.502211 \r\nL 250.677032 133.654905 \r\nL 251.347974 133.009291 \r\nL 252.018916 132.775042 \r\nL 252.689858 134.509681 \r\nL 254.031742 130.714952 \r\nL 254.702683 134.419579 \r\nL 255.373625 133.481732 \r\nL 256.044567 135.988425 \r\nL 256.715509 134.087648 \r\nL 257.386451 132.916341 \r\nL 258.057393 138.627477 \r\nL 258.728335 139.171231 \r\nL 259.399277 138.526444 \r\nL 260.070219 136.930562 \r\nL 260.74116 130.5495 \r\nL 261.412102 132.093755 \r\nL 262.083044 131.834616 \r\nL 262.753986 129.876125 \r\nL 263.424928 129.253835 \r\nL 264.09587 127.630951 \r\nL 264.766812 127.392669 \r\nL 266.108696 131.257051 \r\nL 266.779637 133.20276 \r\nL 267.450579 132.738632 \r\nL 268.121521 129.542948 \r\nL 268.792463 129.410622 \r\nL 269.463405 131.818325 \r\nL 270.134347 132.043157 \r\nL 270.805289 132.866686 \r\nL 271.476231 131.851982 \r\nL 272.147172 129.265484 \r\nL 273.489056 118.061988 \r\nL 274.159998 114.846511 \r\nL 276.172824 116.191717 \r\nL 276.843766 115.571196 \r\nL 277.514708 120.428349 \r\nL 278.185649 115.642366 \r\nL 278.856591 119.694912 \r\nL 279.527533 120.876851 \r\nL 280.198475 123.459164 \r\nL 280.869417 123.056057 \r\nL 281.540359 121.250968 \r\nL 282.211301 120.641888 \r\nL 282.882243 120.324088 \r\nL 283.553184 123.790295 \r\nL 284.895068 120.088675 \r\nL 285.56601 120.945036 \r\nL 286.236952 121.196886 \r\nL 286.907894 120.967741 \r\nL 287.578836 123.795367 \r\nL 288.249778 123.461873 \r\nL 288.92072 124.045701 \r\nL 289.591661 126.478789 \r\nL 290.262603 127.95008 \r\nL 290.933545 126.851701 \r\nL 291.604487 124.241794 \r\nL 292.275429 123.694689 \r\nL 292.946371 126.15996 \r\nL 293.617313 127.191987 \r\nL 294.288255 127.318266 \r\nL 294.959197 123.885497 \r\nL 295.630138 123.629925 \r\nL 296.30108 123.973521 \r\nL 296.972022 120.641377 \r\nL 297.642964 121.978796 \r\nL 298.313906 118.515654 \r\nL 298.984848 122.844416 \r\nL 299.65579 125.080673 \r\nL 300.326732 126.231642 \r\nL 300.997673 122.999893 \r\nL 301.668615 124.073346 \r\nL 303.010499 129.4659 \r\nL 303.681441 128.990637 \r\nL 304.352383 132.169394 \r\nL 305.023325 136.384279 \r\nL 305.694267 132.91471 \r\nL 306.365209 132.142479 \r\nL 307.03615 134.218884 \r\nL 307.707092 135.029431 \r\nL 308.378034 136.849671 \r\nL 309.048976 135.34191 \r\nL 309.719918 136.522307 \r\nL 310.39086 134.747484 \r\nL 311.061802 131.148622 \r\nL 311.732744 130.600019 \r\nL 312.403685 130.865602 \r\nL 313.074627 135.739921 \r\nL 313.745569 131.367429 \r\nL 314.416511 130.893769 \r\nL 315.087453 130.791993 \r\nL 315.758395 126.615952 \r\nL 316.429337 131.686661 \r\nL 317.771221 136.450609 \r\nL 318.442162 137.230155 \r\nL 319.113104 136.045779 \r\nL 319.784046 138.474735 \r\nL 320.454988 142.152957 \r\nL 321.12593 137.020857 \r\nL 322.467814 139.023243 \r\nL 323.138756 136.093566 \r\nL 323.809698 140.175397 \r\nL 324.480639 142.999511 \r\nL 325.151581 141.815296 \r\nL 325.822523 141.534714 \r\nL 326.493465 139.514416 \r\nL 327.164407 139.450231 \r\nL 327.835349 136.386574 \r\nL 328.506291 136.951776 \r\nL 329.177233 142.950743 \r\nL 330.519116 138.875357 \r\nL 331.190058 137.917529 \r\nL 331.861 138.342434 \r\nL 332.531942 140.842227 \r\nL 333.202884 142.401897 \r\nL 333.873826 143.462946 \r\nL 334.544768 142.173712 \r\nL 335.21571 144.042439 \r\nL 335.886651 142.802824 \r\nL 336.557593 142.341109 \r\nL 337.228535 143.196823 \r\nL 338.570419 148.566174 \r\nL 339.241361 149.605287 \r\nL 339.912303 150.439537 \r\nL 340.583245 146.400748 \r\nL 341.925128 143.12221 \r\nL 342.59607 143.735192 \r\nL 343.267012 146.293434 \r\nL 343.937954 144.451816 \r\nL 344.608896 145.664695 \r\nL 345.95078 150.59392 \r\nL 346.621722 153.856469 \r\nL 347.292663 149.832267 \r\nL 348.634547 154.214316 \r\nL 349.305489 155.323935 \r\nL 349.976431 155.837452 \r\nL 350.647373 153.80655 \r\nL 351.318315 154.804 \r\nL 351.989257 157.73947 \r\nL 352.660199 152.341418 \r\nL 353.33114 151.451246 \r\nL 354.002082 153.396456 \r\nL 354.673024 156.568925 \r\nL 355.343966 157.660257 \r\nL 356.014908 158.981487 \r\nL 356.68585 161.324516 \r\nL 358.027734 155.21285 \r\nL 358.698675 156.203445 \r\nL 359.369617 158.847687 \r\nL 360.040559 158.737349 \r\nL 360.711501 154.424341 \r\nL 361.382443 152.485118 \r\nL 362.053385 152.868723 \r\nL 362.724327 150.919 \r\nL 364.066211 153.474613 \r\nL 364.737152 155.183968 \r\nL 365.408094 152.160625 \r\nL 366.079036 150.514659 \r\nL 367.42092 145.260507 \r\nL 368.091862 144.642035 \r\nL 368.762804 147.728486 \r\nL 369.433746 149.410671 \r\nL 370.104687 145.939134 \r\nL 370.104687 145.939134 \r\n\" style=\"fill:none;stroke:#2ca02c;stroke-linecap:square;stroke-width:1.5;\"/>\r\n   </g>\r\n   <g id=\"line2d_30\">\r\n    <path clip-path=\"url(#p35c524db0c)\" d=\"M 35.304688 73.561433 \r\nL 35.975629 69.987086 \r\nL 36.646571 70.738413 \r\nL 37.988455 75.63615 \r\nL 38.659397 69.758703 \r\nL 39.330339 72.626679 \r\nL 40.001281 76.376275 \r\nL 40.672223 78.648679 \r\nL 41.343164 79.574482 \r\nL 42.014106 78.90189 \r\nL 42.685048 84.732038 \r\nL 43.35599 81.76563 \r\nL 44.026932 84.215509 \r\nL 44.697874 83.888564 \r\nL 45.368816 87.031324 \r\nL 46.7107 83.379566 \r\nL 47.381641 82.154745 \r\nL 49.394467 73.3204 \r\nL 50.065409 77.299251 \r\nL 50.736351 72.255504 \r\nL 51.407293 71.42847 \r\nL 52.078235 73.314694 \r\nL 52.749176 73.1811 \r\nL 53.420118 72.688144 \r\nL 54.09106 77.255033 \r\nL 54.762002 78.314898 \r\nL 55.432944 79.771253 \r\nL 56.103886 80.41731 \r\nL 57.44577 85.075409 \r\nL 58.116712 84.857087 \r\nL 58.787653 85.144507 \r\nL 59.458595 81.481922 \r\nL 60.129537 80.244217 \r\nL 60.800479 79.593308 \r\nL 61.471421 77.93069 \r\nL 62.142363 78.319941 \r\nL 62.813305 83.472563 \r\nL 63.484247 80.645562 \r\nL 64.155189 85.701182 \r\nL 65.497072 78.017292 \r\nL 66.168014 79.919162 \r\nL 66.838956 76.384487 \r\nL 67.509898 77.104274 \r\nL 68.18084 75.492569 \r\nL 68.851782 75.405127 \r\nL 69.522724 72.973192 \r\nL 70.193665 78.717877 \r\nL 70.864607 76.921805 \r\nL 71.535549 80.089936 \r\nL 72.206491 81.355008 \r\nL 72.877433 77.945965 \r\nL 73.548375 73.918818 \r\nL 74.219317 73.633245 \r\nL 74.890259 70.604111 \r\nL 75.561201 69.933687 \r\nL 76.232142 72.670788 \r\nL 76.903084 77.018362 \r\nL 77.574026 73.161162 \r\nL 78.244968 72.761915 \r\nL 79.586852 71.502294 \r\nL 80.257794 73.171707 \r\nL 80.928736 72.823238 \r\nL 81.599677 73.789036 \r\nL 82.270619 71.695375 \r\nL 82.941561 75.629404 \r\nL 84.283445 73.859928 \r\nL 84.954387 70.759892 \r\nL 85.625329 69.289303 \r\nL 86.296271 64.955218 \r\nL 86.967213 62.865983 \r\nL 87.638154 61.45854 \r\nL 88.309096 57.053124 \r\nL 88.980038 59.849409 \r\nL 89.65098 62.07759 \r\nL 90.321922 63.451781 \r\nL 90.992864 58.109351 \r\nL 91.663806 56.994804 \r\nL 92.334748 57.083616 \r\nL 93.00569 60.936997 \r\nL 93.676631 62.978088 \r\nL 94.347573 66.133913 \r\nL 95.018515 72.501239 \r\nL 95.689457 72.215848 \r\nL 96.360399 69.033433 \r\nL 97.031341 70.751529 \r\nL 97.702283 71.574653 \r\nL 98.373225 73.536921 \r\nL 99.044166 75.065504 \r\nL 100.38605 70.2188 \r\nL 101.056992 72.949617 \r\nL 101.727934 74.448511 \r\nL 102.398876 71.064516 \r\nL 103.069818 65.473453 \r\nL 103.74076 61.301429 \r\nL 104.411702 62.417294 \r\nL 105.082643 62.168665 \r\nL 105.753585 61.156669 \r\nL 106.424527 64.706796 \r\nL 107.095469 66.983341 \r\nL 107.766411 66.315097 \r\nL 108.437353 68.473637 \r\nL 109.108295 67.285488 \r\nL 109.779237 61.670836 \r\nL 111.12112 55.589502 \r\nL 111.792062 59.088078 \r\nL 112.463004 54.394038 \r\nL 113.133946 54.418766 \r\nL 114.47583 44.436349 \r\nL 115.146772 49.614365 \r\nL 115.817714 53.168153 \r\nL 116.488655 49.941934 \r\nL 117.159597 49.883177 \r\nL 117.830539 49.451012 \r\nL 118.501481 46.539067 \r\nL 119.172423 49.647469 \r\nL 119.843365 48.444442 \r\nL 120.514307 50.502675 \r\nL 121.185249 50.481733 \r\nL 121.856191 52.150698 \r\nL 122.527132 51.740472 \r\nL 123.198074 48.502969 \r\nL 123.869016 48.534039 \r\nL 124.539958 45.80303 \r\nL 125.881842 51.649819 \r\nL 126.552784 50.009215 \r\nL 127.223726 51.855104 \r\nL 127.894667 49.014639 \r\nL 128.565609 50.997503 \r\nL 129.236551 51.209582 \r\nL 129.907493 48.274769 \r\nL 130.578435 50.521435 \r\nL 131.249377 54.043654 \r\nL 131.920319 56.406554 \r\nL 132.591261 56.600855 \r\nL 133.262203 55.985067 \r\nL 133.933144 55.217825 \r\nL 135.275028 52.857452 \r\nL 135.94597 53.816269 \r\nL 136.616912 53.048764 \r\nL 137.287854 48.325083 \r\nL 137.958796 48.611226 \r\nL 138.629738 55.716768 \r\nL 139.300679 57.579897 \r\nL 139.971621 52.797905 \r\nL 140.642563 51.729919 \r\nL 141.984447 55.995836 \r\nL 142.655389 58.780911 \r\nL 143.326331 60.055674 \r\nL 143.997273 60.637855 \r\nL 144.668215 61.573113 \r\nL 145.339156 53.790689 \r\nL 146.010098 50.793983 \r\nL 146.68104 49.255749 \r\nL 147.351982 49.326305 \r\nL 148.022924 49.818792 \r\nL 148.693866 47.900184 \r\nL 149.364808 46.744609 \r\nL 150.03575 46.287854 \r\nL 150.706692 47.272725 \r\nL 152.048575 46.74246 \r\nL 152.719517 42.080374 \r\nL 153.390459 44.805185 \r\nL 154.061401 43.716974 \r\nL 154.732343 43.183382 \r\nL 155.403285 43.959509 \r\nL 156.074227 42.684021 \r\nL 156.745168 43.048857 \r\nL 157.41611 45.014492 \r\nL 158.757994 46.233164 \r\nL 159.428936 50.151171 \r\nL 160.099878 49.760314 \r\nL 161.441762 46.417951 \r\nL 162.112704 46.465813 \r\nL 162.783645 48.67524 \r\nL 163.454587 49.732791 \r\nL 164.125529 51.467976 \r\nL 164.796471 54.235199 \r\nL 165.467413 54.494135 \r\nL 166.138355 56.658081 \r\nL 166.809297 53.574841 \r\nL 167.480239 54.935768 \r\nL 168.15118 51.235319 \r\nL 168.822122 51.388736 \r\nL 169.493064 50.51579 \r\nL 170.164006 52.127073 \r\nL 170.834948 54.261129 \r\nL 171.50589 58.058395 \r\nL 172.176832 56.333511 \r\nL 172.847774 56.77956 \r\nL 173.518716 51.457126 \r\nL 174.189657 51.016985 \r\nL 174.860599 48.469728 \r\nL 175.531541 47.854814 \r\nL 176.202483 48.724119 \r\nL 176.873425 48.454064 \r\nL 177.544367 46.234999 \r\nL 178.215309 46.818483 \r\nL 178.886251 43.545695 \r\nL 179.557193 47.281878 \r\nL 180.228134 49.072856 \r\nL 180.899076 52.885356 \r\nL 181.570018 50.789276 \r\nL 182.24096 51.004578 \r\nL 182.911902 53.186626 \r\nL 183.582844 50.202099 \r\nL 184.253786 48.957688 \r\nL 184.924728 48.159726 \r\nL 185.595669 48.385522 \r\nL 186.266611 52.25106 \r\nL 186.937553 50.452241 \r\nL 187.608495 50.169076 \r\nL 188.279437 46.265963 \r\nL 188.950379 46.791394 \r\nL 189.621321 42.456318 \r\nL 190.292263 46.01133 \r\nL 190.963205 46.872471 \r\nL 192.305088 43.914796 \r\nL 192.97603 42.710325 \r\nL 193.646972 40.737067 \r\nL 194.317914 47.651251 \r\nL 194.988856 49.871124 \r\nL 195.659798 48.094954 \r\nL 196.33074 45.546925 \r\nL 197.001681 45.394761 \r\nL 198.343565 43.415416 \r\nL 199.685449 34.645742 \r\nL 200.356391 34.421955 \r\nL 201.027333 29.908558 \r\nL 201.698275 32.738582 \r\nL 202.369217 34.985953 \r\nL 203.040158 34.393039 \r\nL 203.7111 37.056016 \r\nL 204.382042 40.872276 \r\nL 205.052984 37.724668 \r\nL 205.723926 37.284134 \r\nL 206.394868 31.3896 \r\nL 207.06581 35.019485 \r\nL 207.736752 31.356304 \r\nL 208.407694 31.94637 \r\nL 209.078635 27.86161 \r\nL 209.749577 29.777696 \r\nL 210.420519 32.697932 \r\nL 211.091461 32.133052 \r\nL 211.762403 35.530232 \r\nL 212.433345 33.381554 \r\nL 213.104287 32.817973 \r\nL 213.775229 29.336758 \r\nL 214.44617 26.628558 \r\nL 215.117112 25.037349 \r\nL 215.788054 24.299055 \r\nL 216.458996 23.277718 \r\nL 217.129938 25.257059 \r\nL 217.80088 32.701701 \r\nL 218.471822 34.887535 \r\nL 219.142764 33.587906 \r\nL 219.813706 39.10706 \r\nL 220.484647 38.911883 \r\nL 221.155589 38.960173 \r\nL 221.826531 35.941091 \r\nL 222.497473 36.924263 \r\nL 223.168415 34.865805 \r\nL 223.839357 35.891817 \r\nL 224.510299 38.195192 \r\nL 225.181241 41.354939 \r\nL 226.523124 37.056824 \r\nL 227.194066 39.002372 \r\nL 227.865008 39.301053 \r\nL 229.206892 42.619341 \r\nL 229.877834 43.370157 \r\nL 230.548776 46.428274 \r\nL 231.219718 50.2692 \r\nL 231.890659 52.24751 \r\nL 232.561601 53.105893 \r\nL 233.232543 52.726943 \r\nL 233.903485 54.698862 \r\nL 234.574427 53.584482 \r\nL 235.245369 52.182548 \r\nL 235.916311 56.489302 \r\nL 236.587253 54.476589 \r\nL 237.258195 53.458062 \r\nL 237.929136 53.802186 \r\nL 238.600078 53.040384 \r\nL 239.27102 53.247393 \r\nL 239.941962 54.941909 \r\nL 240.612904 52.515532 \r\nL 241.283846 53.806066 \r\nL 241.954788 57.038405 \r\nL 242.62573 54.466007 \r\nL 243.296671 57.001609 \r\nL 243.967613 53.462945 \r\nL 244.638555 51.013278 \r\nL 245.309497 47.022101 \r\nL 245.980439 44.430443 \r\nL 246.651381 45.829217 \r\nL 247.322323 46.210977 \r\nL 247.993265 45.533356 \r\nL 248.664207 41.143229 \r\nL 249.335148 38.154932 \r\nL 250.00609 41.503623 \r\nL 250.677032 42.620477 \r\nL 252.018916 43.736612 \r\nL 252.689858 44.663758 \r\nL 253.3608 47.344091 \r\nL 254.031742 47.769464 \r\nL 254.702683 52.26041 \r\nL 255.373625 54.662004 \r\nL 256.044567 50.73761 \r\nL 256.715509 47.913264 \r\nL 257.386451 47.104269 \r\nL 258.057393 50.641959 \r\nL 258.728335 46.809828 \r\nL 259.399277 49.693753 \r\nL 260.070219 48.530842 \r\nL 260.74116 49.839214 \r\nL 261.412102 51.614087 \r\nL 262.083044 55.775921 \r\nL 262.753986 54.986762 \r\nL 263.424928 57.47077 \r\nL 264.09587 59.149564 \r\nL 264.766812 59.065921 \r\nL 265.437754 58.67456 \r\nL 266.108696 60.703663 \r\nL 266.779637 58.641328 \r\nL 267.450579 60.223713 \r\nL 268.121521 62.193469 \r\nL 268.792463 63.320209 \r\nL 269.463405 62.413408 \r\nL 270.805289 58.441477 \r\nL 271.476231 58.952206 \r\nL 272.147172 55.23997 \r\nL 272.818114 55.193775 \r\nL 273.489056 46.030325 \r\nL 274.159998 43.255369 \r\nL 274.83094 45.957724 \r\nL 275.501882 47.369379 \r\nL 276.172824 48.039345 \r\nL 277.514708 51.374255 \r\nL 278.185649 50.230394 \r\nL 278.856591 46.75096 \r\nL 279.527533 44.275216 \r\nL 280.198475 44.045275 \r\nL 280.869417 43.972883 \r\nL 281.540359 42.83732 \r\nL 282.882243 46.841444 \r\nL 283.553184 47.910925 \r\nL 284.224126 47.614216 \r\nL 284.895068 48.088768 \r\nL 285.56601 50.508641 \r\nL 286.236952 50.054349 \r\nL 286.907894 49.189377 \r\nL 287.578836 49.479484 \r\nL 288.249778 50.494424 \r\nL 288.92072 46.009698 \r\nL 289.591661 44.515861 \r\nL 290.262603 44.462559 \r\nL 290.933545 45.584497 \r\nL 291.604487 45.639701 \r\nL 292.275429 42.922618 \r\nL 292.946371 43.511507 \r\nL 293.617313 43.031414 \r\nL 294.288255 45.520577 \r\nL 294.959197 43.702993 \r\nL 295.630138 47.939661 \r\nL 296.30108 45.598154 \r\nL 296.972022 49.019868 \r\nL 297.642964 50.806252 \r\nL 298.313906 47.145951 \r\nL 298.984848 50.062426 \r\nL 299.65579 51.660043 \r\nL 300.997673 49.559501 \r\nL 301.668615 47.658139 \r\nL 303.010499 52.474779 \r\nL 303.681441 53.108516 \r\nL 305.023325 60.640182 \r\nL 305.694267 62.204229 \r\nL 306.365209 61.654235 \r\nL 307.03615 65.418804 \r\nL 307.707092 65.903395 \r\nL 308.378034 69.806938 \r\nL 309.048976 68.926796 \r\nL 309.719918 67.479471 \r\nL 310.39086 67.665701 \r\nL 311.061802 64.486093 \r\nL 311.732744 65.279074 \r\nL 312.403685 63.277781 \r\nL 313.074627 65.877456 \r\nL 313.745569 64.232469 \r\nL 314.416511 64.742527 \r\nL 315.087453 60.894039 \r\nL 315.758395 57.724696 \r\nL 316.429337 58.3534 \r\nL 317.100279 56.434489 \r\nL 317.771221 56.390252 \r\nL 318.442162 58.56356 \r\nL 319.113104 63.69346 \r\nL 319.784046 60.315815 \r\nL 320.454988 59.051832 \r\nL 321.12593 57.341365 \r\nL 321.796872 58.878349 \r\nL 322.467814 58.426574 \r\nL 323.809698 50.396245 \r\nL 324.480639 50.199566 \r\nL 325.151581 54.629324 \r\nL 325.822523 49.935035 \r\nL 327.164407 46.442296 \r\nL 327.835349 47.787663 \r\nL 328.506291 49.473615 \r\nL 329.177233 52.566656 \r\nL 329.848174 54.409878 \r\nL 330.519116 52.262874 \r\nL 331.190058 56.235602 \r\nL 332.531942 51.79754 \r\nL 333.202884 55.284715 \r\nL 333.873826 56.522381 \r\nL 334.544768 55.978001 \r\nL 335.21571 50.171209 \r\nL 335.886651 49.928078 \r\nL 336.557593 48.641805 \r\nL 337.228535 46.32751 \r\nL 337.899477 47.566548 \r\nL 338.570419 44.273786 \r\nL 339.241361 42.706778 \r\nL 339.912303 37.252411 \r\nL 341.254186 43.015217 \r\nL 341.925128 44.457046 \r\nL 342.59607 46.325504 \r\nL 343.267012 45.609509 \r\nL 343.937954 44.001637 \r\nL 344.608896 39.705357 \r\nL 345.279838 33.749713 \r\nL 345.95078 37.177835 \r\nL 346.621722 39.096402 \r\nL 347.292663 44.096626 \r\nL 347.963605 42.185614 \r\nL 348.634547 37.744288 \r\nL 349.976431 32.433421 \r\nL 350.647373 32.867237 \r\nL 352.660199 34.569543 \r\nL 353.33114 31.855451 \r\nL 354.002082 24.249979 \r\nL 354.673024 24.064315 \r\nL 355.343966 21.355357 \r\nL 356.014908 17.083636 \r\nL 356.68585 19.586846 \r\nL 357.356792 20.919643 \r\nL 358.027734 20.128626 \r\nL 358.698675 20.705512 \r\nL 359.369617 19.100397 \r\nL 360.040559 19.886432 \r\nL 360.711501 22.05684 \r\nL 361.382443 20.807794 \r\nL 362.053385 18.796398 \r\nL 362.724327 22.53021 \r\nL 364.066211 27.302547 \r\nL 364.737152 33.844451 \r\nL 365.408094 29.890432 \r\nL 366.079036 30.583205 \r\nL 366.749978 34.086802 \r\nL 367.42092 36.496829 \r\nL 368.762804 39.082169 \r\nL 369.433746 38.775957 \r\nL 370.104687 42.034844 \r\nL 370.104687 42.034844 \r\n\" style=\"fill:none;stroke:#d62728;stroke-linecap:square;stroke-width:1.5;\"/>\r\n   </g>\r\n   <g id=\"patch_3\">\r\n    <path d=\"M 35.304688 224.64 \r\nL 35.304688 7.2 \r\n\" style=\"fill:none;stroke:#000000;stroke-linecap:square;stroke-linejoin:miter;stroke-width:0.8;\"/>\r\n   </g>\r\n   <g id=\"patch_4\">\r\n    <path d=\"M 370.104688 224.64 \r\nL 370.104688 7.2 \r\n\" style=\"fill:none;stroke:#000000;stroke-linecap:square;stroke-linejoin:miter;stroke-width:0.8;\"/>\r\n   </g>\r\n   <g id=\"patch_5\">\r\n    <path d=\"M 35.304688 224.64 \r\nL 370.104687 224.64 \r\n\" style=\"fill:none;stroke:#000000;stroke-linecap:square;stroke-linejoin:miter;stroke-width:0.8;\"/>\r\n   </g>\r\n   <g id=\"patch_6\">\r\n    <path d=\"M 35.304688 7.2 \r\nL 370.104687 7.2 \r\n\" style=\"fill:none;stroke:#000000;stroke-linecap:square;stroke-linejoin:miter;stroke-width:0.8;\"/>\r\n   </g>\r\n   <g id=\"legend_1\">\r\n    <g id=\"patch_7\">\r\n     <path d=\"M 42.304688 219.64 \r\nL 82.004688 219.64 \r\nQ 84.004688 219.64 84.004688 217.64 \r\nL 84.004688 159.9275 \r\nQ 84.004688 157.9275 82.004688 157.9275 \r\nL 42.304688 157.9275 \r\nQ 40.304688 157.9275 40.304688 159.9275 \r\nL 40.304688 217.64 \r\nQ 40.304688 219.64 42.304688 219.64 \r\nz\r\n\" style=\"fill:#ffffff;opacity:0.8;stroke:#cccccc;stroke-linejoin:miter;\"/>\r\n    </g>\r\n    <g id=\"line2d_31\">\r\n     <path d=\"M 44.304688 166.025937 \r\nL 64.304688 166.025937 \r\n\" style=\"fill:none;stroke:#1f77b4;stroke-linecap:square;stroke-width:1.5;\"/>\r\n    </g>\r\n    <g id=\"line2d_32\"/>\r\n    <g id=\"text_15\">\r\n     <!-- A -->\r\n     <g transform=\"translate(72.304688 169.525937)scale(0.1 -0.1)\">\r\n      <use xlink:href=\"#DejaVuSans-65\"/>\r\n     </g>\r\n    </g>\r\n    <g id=\"line2d_33\">\r\n     <path d=\"M 44.304688 180.704062 \r\nL 64.304688 180.704062 \r\n\" style=\"fill:none;stroke:#ff7f0e;stroke-linecap:square;stroke-width:1.5;\"/>\r\n    </g>\r\n    <g id=\"line2d_34\"/>\r\n    <g id=\"text_16\">\r\n     <!-- B -->\r\n     <defs>\r\n      <path d=\"M 19.671875 34.8125 \r\nL 19.671875 8.109375 \r\nL 35.5 8.109375 \r\nQ 43.453125 8.109375 47.28125 11.40625 \r\nQ 51.125 14.703125 51.125 21.484375 \r\nQ 51.125 28.328125 47.28125 31.5625 \r\nQ 43.453125 34.8125 35.5 34.8125 \r\nz\r\nM 19.671875 64.796875 \r\nL 19.671875 42.828125 \r\nL 34.28125 42.828125 \r\nQ 41.5 42.828125 45.03125 45.53125 \r\nQ 48.578125 48.25 48.578125 53.8125 \r\nQ 48.578125 59.328125 45.03125 62.0625 \r\nQ 41.5 64.796875 34.28125 64.796875 \r\nz\r\nM 9.8125 72.90625 \r\nL 35.015625 72.90625 \r\nQ 46.296875 72.90625 52.390625 68.21875 \r\nQ 58.5 63.53125 58.5 54.890625 \r\nQ 58.5 48.1875 55.375 44.234375 \r\nQ 52.25 40.28125 46.1875 39.3125 \r\nQ 53.46875 37.75 57.5 32.78125 \r\nQ 61.53125 27.828125 61.53125 20.40625 \r\nQ 61.53125 10.640625 54.890625 5.3125 \r\nQ 48.25 0 35.984375 0 \r\nL 9.8125 0 \r\nz\r\n\" id=\"DejaVuSans-66\"/>\r\n     </defs>\r\n     <g transform=\"translate(72.304688 184.204062)scale(0.1 -0.1)\">\r\n      <use xlink:href=\"#DejaVuSans-66\"/>\r\n     </g>\r\n    </g>\r\n    <g id=\"line2d_35\">\r\n     <path d=\"M 44.304688 195.382187 \r\nL 64.304688 195.382187 \r\n\" style=\"fill:none;stroke:#2ca02c;stroke-linecap:square;stroke-width:1.5;\"/>\r\n    </g>\r\n    <g id=\"line2d_36\"/>\r\n    <g id=\"text_17\">\r\n     <!-- C -->\r\n     <defs>\r\n      <path d=\"M 64.40625 67.28125 \r\nL 64.40625 56.890625 \r\nQ 59.421875 61.53125 53.78125 63.8125 \r\nQ 48.140625 66.109375 41.796875 66.109375 \r\nQ 29.296875 66.109375 22.65625 58.46875 \r\nQ 16.015625 50.828125 16.015625 36.375 \r\nQ 16.015625 21.96875 22.65625 14.328125 \r\nQ 29.296875 6.6875 41.796875 6.6875 \r\nQ 48.140625 6.6875 53.78125 8.984375 \r\nQ 59.421875 11.28125 64.40625 15.921875 \r\nL 64.40625 5.609375 \r\nQ 59.234375 2.09375 53.4375 0.328125 \r\nQ 47.65625 -1.421875 41.21875 -1.421875 \r\nQ 24.65625 -1.421875 15.125 8.703125 \r\nQ 5.609375 18.84375 5.609375 36.375 \r\nQ 5.609375 53.953125 15.125 64.078125 \r\nQ 24.65625 74.21875 41.21875 74.21875 \r\nQ 47.75 74.21875 53.53125 72.484375 \r\nQ 59.328125 70.75 64.40625 67.28125 \r\nz\r\n\" id=\"DejaVuSans-67\"/>\r\n     </defs>\r\n     <g transform=\"translate(72.304688 198.882187)scale(0.1 -0.1)\">\r\n      <use xlink:href=\"#DejaVuSans-67\"/>\r\n     </g>\r\n    </g>\r\n    <g id=\"line2d_37\">\r\n     <path d=\"M 44.304688 210.060313 \r\nL 64.304688 210.060313 \r\n\" style=\"fill:none;stroke:#d62728;stroke-linecap:square;stroke-width:1.5;\"/>\r\n    </g>\r\n    <g id=\"line2d_38\"/>\r\n    <g id=\"text_18\">\r\n     <!-- D -->\r\n     <defs>\r\n      <path d=\"M 19.671875 64.796875 \r\nL 19.671875 8.109375 \r\nL 31.59375 8.109375 \r\nQ 46.6875 8.109375 53.6875 14.9375 \r\nQ 60.6875 21.78125 60.6875 36.53125 \r\nQ 60.6875 51.171875 53.6875 57.984375 \r\nQ 46.6875 64.796875 31.59375 64.796875 \r\nz\r\nM 9.8125 72.90625 \r\nL 30.078125 72.90625 \r\nQ 51.265625 72.90625 61.171875 64.09375 \r\nQ 71.09375 55.28125 71.09375 36.53125 \r\nQ 71.09375 17.671875 61.125 8.828125 \r\nQ 51.171875 0 30.078125 0 \r\nL 9.8125 0 \r\nz\r\n\" id=\"DejaVuSans-68\"/>\r\n     </defs>\r\n     <g transform=\"translate(72.304688 213.560313)scale(0.1 -0.1)\">\r\n      <use xlink:href=\"#DejaVuSans-68\"/>\r\n     </g>\r\n    </g>\r\n   </g>\r\n  </g>\r\n </g>\r\n <defs>\r\n  <clipPath id=\"p35c524db0c\">\r\n   <rect height=\"217.44\" width=\"334.8\" x=\"35.304688\" y=\"7.2\"/>\r\n  </clipPath>\r\n </defs>\r\n</svg>\r\n",
      "image/png": "[encoded data removed]"
     },
     "metadata": {
      "needs_background": "light"
     }
    }
   ],
   "source": [
    "# DataFrame Plot\n",
    "df = pd.DataFrame(np.random.randn(500, 4), index = ts.index, columns = ['A', 'B', 'C', 'D'])\n",
    "df = df.cumsum()\n",
    "plt.figure(); df.plot(); plt.legend(loc = 'best')"
   ]
  },
  {
   "cell_type": "markdown",
   "metadata": {},
   "source": [
    "## Outuput"
   ]
  },
  {
   "cell_type": "code",
   "execution_count": 94,
   "metadata": {},
   "outputs": [],
   "source": [
    "# Import\n",
    "import os"
   ]
  },
  {
   "cell_type": "code",
   "execution_count": 95,
   "metadata": {},
   "outputs": [
    {
     "output_type": "stream",
     "name": "stderr",
     "text": [
      "'head' is not recognized as an internal or external command,\noperable program or batch file.\n"
     ]
    }
   ],
   "source": [
    "# Verificando se o arquivo existe. No Windows use !type teste-df-output.xlsx\n",
    "!head teste-df-output.xlsx"
   ]
  },
  {
   "cell_type": "code",
   "execution_count": 96,
   "metadata": {},
   "outputs": [],
   "source": [
    "# Gerando um arquivo excel a partir de um Dataframe\n",
    "df.to_excel('teste-df-output.xlsx', sheet_name='Sheet1')"
   ]
  },
  {
   "cell_type": "code",
   "execution_count": 97,
   "metadata": {},
   "outputs": [
    {
     "output_type": "stream",
     "name": "stderr",
     "text": [
      "'head' is not recognized as an internal or external command,\noperable program or batch file.\n"
     ]
    }
   ],
   "source": [
    "# Verificando se o arquivo existe. No Windows use !type teste-df-output.xlsx\n",
    "!head teste-df-output.xlsx"
   ]
  },
  {
   "cell_type": "code",
   "execution_count": 98,
   "metadata": {},
   "outputs": [],
   "source": [
    "# Lendo o arquivo excel para um Dataframe\n",
    "newDf2 = pd.read_excel('teste-df-output.xlsx', 'Sheet1', index_col = None, na_values = ['NA'])"
   ]
  },
  {
   "cell_type": "code",
   "execution_count": 99,
   "metadata": {},
   "outputs": [
    {
     "output_type": "execute_result",
     "data": {
      "text/plain": [
       "  Unnamed: 0         A         B         C         D\n",
       "0 2020-01-01 -0.856242  0.278853  0.760741 -0.520726\n",
       "1 2020-01-02 -0.784896  0.267653  1.553730  0.883544\n",
       "2 2020-01-03 -1.559973 -1.432699 -1.006492  0.588367\n",
       "3 2020-01-04 -1.903902 -1.139234 -2.852112 -0.319762\n",
       "4 2020-01-05 -4.096504 -2.486819 -2.037778 -1.335830"
      ],
      "text/html": "<div>\n<style scoped>\n    .dataframe tbody tr th:only-of-type {\n        vertical-align: middle;\n    }\n\n    .dataframe tbody tr th {\n        vertical-align: top;\n    }\n\n    .dataframe thead th {\n        text-align: right;\n    }\n</style>\n<table border=\"1\" class=\"dataframe\">\n  <thead>\n    <tr style=\"text-align: right;\">\n      <th></th>\n      <th>Unnamed: 0</th>\n      <th>A</th>\n      <th>B</th>\n      <th>C</th>\n      <th>D</th>\n    </tr>\n  </thead>\n  <tbody>\n    <tr>\n      <th>0</th>\n      <td>2020-01-01</td>\n      <td>-0.856242</td>\n      <td>0.278853</td>\n      <td>0.760741</td>\n      <td>-0.520726</td>\n    </tr>\n    <tr>\n      <th>1</th>\n      <td>2020-01-02</td>\n      <td>-0.784896</td>\n      <td>0.267653</td>\n      <td>1.553730</td>\n      <td>0.883544</td>\n    </tr>\n    <tr>\n      <th>2</th>\n      <td>2020-01-03</td>\n      <td>-1.559973</td>\n      <td>-1.432699</td>\n      <td>-1.006492</td>\n      <td>0.588367</td>\n    </tr>\n    <tr>\n      <th>3</th>\n      <td>2020-01-04</td>\n      <td>-1.903902</td>\n      <td>-1.139234</td>\n      <td>-2.852112</td>\n      <td>-0.319762</td>\n    </tr>\n    <tr>\n      <th>4</th>\n      <td>2020-01-05</td>\n      <td>-4.096504</td>\n      <td>-2.486819</td>\n      <td>-2.037778</td>\n      <td>-1.335830</td>\n    </tr>\n  </tbody>\n</table>\n</div>"
     },
     "metadata": {},
     "execution_count": 99
    }
   ],
   "source": [
    "newDf2.head()"
   ]
  },
  {
   "cell_type": "code",
   "execution_count": 100,
   "metadata": {},
   "outputs": [],
   "source": [
    "os.remove('teste-df-output.xlsx')"
   ]
  },
  {
   "cell_type": "code",
   "execution_count": 101,
   "metadata": {},
   "outputs": [
    {
     "output_type": "stream",
     "name": "stderr",
     "text": [
      "'head' is not recognized as an internal or external command,\noperable program or batch file.\n"
     ]
    }
   ],
   "source": [
    "# Verificando se o arquivo existe. No Windows use !type teste-df-output.xlsx\n",
    "!head teste-df-output.xlsx"
   ]
  },
  {
   "cell_type": "markdown",
   "metadata": {},
   "source": [
    "Conheça a Formação Cientista de Dados, um programa completo, 100% online e 100% em português, com mais de 400 horas de carga horária, mais de 1.200 aulas em vídeos e 26 projetos, que vão ajudá-lo a se tornar um dos profissionais mais cobiçados do mercado de análise de dados. Clique no link abaixo, faça sua inscrição, comece hoje mesmo e aumente sua empregabilidade:\n",
    "\n",
    "https://www.datascienceacademy.com.br/pages/formacao-cientista-de-dados"
   ]
  },
  {
   "cell_type": "markdown",
   "metadata": {
    "collapsed": true
   },
   "source": [
    "# Fim"
   ]
  },
  {
   "cell_type": "markdown",
   "metadata": {},
   "source": [
    "### Obrigado - Data Science Academy - <a href=\"http://facebook.com/dsacademybr\">facebook.com/dsacademybr</a>"
   ]
  }
 ],
 "metadata": {
  "kernelspec": {
   "name": "python3",
   "display_name": "Python 3.8.5 64-bit ('base': conda)"
  },
  "language_info": {
   "codemirror_mode": {
    "name": "ipython",
    "version": 3
   },
   "file_extension": ".py",
   "mimetype": "text/x-python",
   "name": "python",
   "nbconvert_exporter": "python",
   "pygments_lexer": "ipython3",
   "version": "3.8.5"
  },
  "interpreter": {
   "hash": "37b864667c87a838126dae16aee321d7eb448b1869c9bbd772bfcbc64f82a685"
  }
 },
 "nbformat": 4,
 "nbformat_minor": 1
}