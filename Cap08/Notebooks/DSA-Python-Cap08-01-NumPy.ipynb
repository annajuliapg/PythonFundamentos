{
 "cells": [
  {
   "cell_type": "markdown",
   "metadata": {},
   "source": [
    "# <font color='blue'>Data Science Academy - Python Fundamentos - Capítulo 8</font>\n",
    "\n",
    "## Download: http://github.com/dsacademybr"
   ]
  },
  {
   "cell_type": "code",
   "execution_count": 1,
   "metadata": {},
   "outputs": [
    {
     "output_type": "stream",
     "name": "stdout",
     "text": [
      "Versão da Linguagem Python Usada Neste Jupyter Notebook: 3.8.5\n"
     ]
    }
   ],
   "source": [
    "# Versão da Linguagem Python\n",
    "from platform import python_version\n",
    "print('Versão da Linguagem Python Usada Neste Jupyter Notebook:', python_version())"
   ]
  },
  {
   "source": [
    "### NumPy"
   ],
   "cell_type": "markdown",
   "metadata": {}
  },
  {
   "source": [
    "Para importar numpy, utilize: \n",
    "import numpy as np"
   ],
   "cell_type": "markdown",
   "metadata": {}
  },
  {
   "source": [
    "\n",
    "Você também pode utilizar: \n",
    "from numpy import *  . Isso evitará a utilização de np., mas este comando importará todos os módulos do NumPy."
   ],
   "cell_type": "markdown",
   "metadata": {}
  },
  {
   "source": [
    "Para atualizar o NumPy, abra o prompt de comando e digite: pip install numpy -U"
   ],
   "cell_type": "markdown",
   "metadata": {}
  },
  {
   "cell_type": "code",
   "execution_count": 2,
   "metadata": {},
   "outputs": [],
   "source": [
    "# Importando o NumPy\n",
    "import numpy as np"
   ]
  },
  {
   "cell_type": "code",
   "execution_count": 3,
   "metadata": {},
   "outputs": [
    {
     "output_type": "execute_result",
     "data": {
      "text/plain": [
       "'1.19.2'"
      ]
     },
     "metadata": {},
     "execution_count": 3
    }
   ],
   "source": [
    "np.__version__"
   ]
  },
  {
   "cell_type": "markdown",
   "metadata": {},
   "source": [
    "## Criando Arrays"
   ]
  },
  {
   "cell_type": "code",
   "execution_count": 4,
   "metadata": {},
   "outputs": [
    {
     "output_type": "stream",
     "name": "stdout",
     "text": [
      "Help on built-in function array in module numpy:\n\narray(...)\n    array(object, dtype=None, *, copy=True, order='K', subok=False, ndmin=0)\n    \n    Create an array.\n    \n    Parameters\n    ----------\n    object : array_like\n        An array, any object exposing the array interface, an object whose\n        __array__ method returns an array, or any (nested) sequence.\n    dtype : data-type, optional\n        The desired data-type for the array.  If not given, then the type will\n        be determined as the minimum type required to hold the objects in the\n        sequence.\n    copy : bool, optional\n        If true (default), then the object is copied.  Otherwise, a copy will\n        only be made if __array__ returns a copy, if obj is a nested sequence,\n        or if a copy is needed to satisfy any of the other requirements\n        (`dtype`, `order`, etc.).\n    order : {'K', 'A', 'C', 'F'}, optional\n        Specify the memory layout of the array. If object is not an array, the\n        newly created array will be in C order (row major) unless 'F' is\n        specified, in which case it will be in Fortran order (column major).\n        If object is an array the following holds.\n    \n        ===== ========= ===================================================\n        order  no copy                     copy=True\n        ===== ========= ===================================================\n        'K'   unchanged F & C order preserved, otherwise most similar order\n        'A'   unchanged F order if input is F and not C, otherwise C order\n        'C'   C order   C order\n        'F'   F order   F order\n        ===== ========= ===================================================\n    \n        When ``copy=False`` and a copy is made for other reasons, the result is\n        the same as if ``copy=True``, with some exceptions for `A`, see the\n        Notes section. The default order is 'K'.\n    subok : bool, optional\n        If True, then sub-classes will be passed-through, otherwise\n        the returned array will be forced to be a base-class array (default).\n    ndmin : int, optional\n        Specifies the minimum number of dimensions that the resulting\n        array should have.  Ones will be pre-pended to the shape as\n        needed to meet this requirement.\n    \n    Returns\n    -------\n    out : ndarray\n        An array object satisfying the specified requirements.\n    \n    See Also\n    --------\n    empty_like : Return an empty array with shape and type of input.\n    ones_like : Return an array of ones with shape and type of input.\n    zeros_like : Return an array of zeros with shape and type of input.\n    full_like : Return a new array with shape of input filled with value.\n    empty : Return a new uninitialized array.\n    ones : Return a new array setting values to one.\n    zeros : Return a new array setting values to zero.\n    full : Return a new array of given shape filled with value.\n    \n    \n    Notes\n    -----\n    When order is 'A' and `object` is an array in neither 'C' nor 'F' order,\n    and a copy is forced by a change in dtype, then the order of the result is\n    not necessarily 'C' as expected. This is likely a bug.\n    \n    Examples\n    --------\n    >>> np.array([1, 2, 3])\n    array([1, 2, 3])\n    \n    Upcasting:\n    \n    >>> np.array([1, 2, 3.0])\n    array([ 1.,  2.,  3.])\n    \n    More than one dimension:\n    \n    >>> np.array([[1, 2], [3, 4]])\n    array([[1, 2],\n           [3, 4]])\n    \n    Minimum dimensions 2:\n    \n    >>> np.array([1, 2, 3], ndmin=2)\n    array([[1, 2, 3]])\n    \n    Type provided:\n    \n    >>> np.array([1, 2, 3], dtype=complex)\n    array([ 1.+0.j,  2.+0.j,  3.+0.j])\n    \n    Data-type consisting of more than one element:\n    \n    >>> x = np.array([(1,2),(3,4)],dtype=[('a','<i4'),('b','<i4')])\n    >>> x['a']\n    array([1, 3])\n    \n    Creating an array from sub-classes:\n    \n    >>> np.array(np.mat('1 2; 3 4'))\n    array([[1, 2],\n           [3, 4]])\n    \n    >>> np.array(np.mat('1 2; 3 4'), subok=True)\n    matrix([[1, 2],\n            [3, 4]])\n\n"
     ]
    }
   ],
   "source": [
    "# Help\n",
    "help(np.array)"
   ]
  },
  {
   "cell_type": "code",
   "execution_count": 5,
   "metadata": {},
   "outputs": [],
   "source": [
    "# Array criado a partir de uma lista:\n",
    "vetor1 = np.array([0, 1, 2, 3, 4, 5, 6, 7, 8])"
   ]
  },
  {
   "cell_type": "code",
   "execution_count": 6,
   "metadata": {},
   "outputs": [
    {
     "output_type": "stream",
     "name": "stdout",
     "text": [
      "[0 1 2 3 4 5 6 7 8]\n"
     ]
    }
   ],
   "source": [
    "print(vetor1)"
   ]
  },
  {
   "cell_type": "code",
   "execution_count": 7,
   "metadata": {},
   "outputs": [
    {
     "output_type": "execute_result",
     "data": {
      "text/plain": [
       "numpy.ndarray"
      ]
     },
     "metadata": {},
     "execution_count": 7
    }
   ],
   "source": [
    "# Um objeto do tipo ndarray é um recipiente multidimensional de itens do mesmo tipo e tamanho.\n",
    "type(vetor1)"
   ]
  },
  {
   "cell_type": "code",
   "execution_count": 8,
   "metadata": {},
   "outputs": [
    {
     "output_type": "execute_result",
     "data": {
      "text/plain": [
       "array([ 0,  1,  3,  6, 10, 15, 21, 28, 36], dtype=int32)"
      ]
     },
     "metadata": {},
     "execution_count": 8
    }
   ],
   "source": [
    "# Usando métodos do array NumPy\n",
    "vetor1.cumsum()"
   ]
  },
  {
   "cell_type": "code",
   "execution_count": 9,
   "metadata": {},
   "outputs": [],
   "source": [
    "# Criando uma lista. Perceba como listas e arrays são objetos diferentes, com diferentes propriedades\n",
    "lst = [0, 1, 2, 3, 4, 5, 6, 7, 8]"
   ]
  },
  {
   "cell_type": "code",
   "execution_count": 10,
   "metadata": {},
   "outputs": [
    {
     "output_type": "execute_result",
     "data": {
      "text/plain": [
       "[0, 1, 2, 3, 4, 5, 6, 7, 8]"
      ]
     },
     "metadata": {},
     "execution_count": 10
    }
   ],
   "source": [
    "lst"
   ]
  },
  {
   "cell_type": "code",
   "execution_count": 11,
   "metadata": {},
   "outputs": [
    {
     "output_type": "execute_result",
     "data": {
      "text/plain": [
       "list"
      ]
     },
     "metadata": {},
     "execution_count": 11
    }
   ],
   "source": [
    "type(lst)"
   ]
  },
  {
   "cell_type": "code",
   "execution_count": 12,
   "metadata": {},
   "outputs": [
    {
     "output_type": "execute_result",
     "data": {
      "text/plain": [
       "0"
      ]
     },
     "metadata": {},
     "execution_count": 12
    }
   ],
   "source": [
    "# Imprimindo na tela um elemento específico no array\n",
    "vetor1[0] "
   ]
  },
  {
   "cell_type": "code",
   "execution_count": 13,
   "metadata": {},
   "outputs": [],
   "source": [
    "# Alterando um elemento do array\n",
    "vetor1[0] = 100"
   ]
  },
  {
   "cell_type": "code",
   "execution_count": 14,
   "metadata": {},
   "outputs": [
    {
     "output_type": "stream",
     "name": "stdout",
     "text": [
      "[100   1   2   3   4   5   6   7   8]\n"
     ]
    }
   ],
   "source": [
    "print(vetor1)"
   ]
  },
  {
   "cell_type": "code",
   "execution_count": 15,
   "metadata": {},
   "outputs": [
    {
     "output_type": "error",
     "ename": "ValueError",
     "evalue": "invalid literal for int() with base 10: 'Novo elemento'",
     "traceback": [
      "\u001b[1;31m---------------------------------------------------------------------------\u001b[0m",
      "\u001b[1;31mValueError\u001b[0m                                Traceback (most recent call last)",
      "\u001b[1;32m<ipython-input-15-982158d30410>\u001b[0m in \u001b[0;36m<module>\u001b[1;34m\u001b[0m\n\u001b[0;32m      1\u001b[0m \u001b[1;31m# Não é possível incluir elemento de outro tipo\u001b[0m\u001b[1;33m\u001b[0m\u001b[1;33m\u001b[0m\u001b[1;33m\u001b[0m\u001b[0m\n\u001b[1;32m----> 2\u001b[1;33m \u001b[0mvetor1\u001b[0m\u001b[1;33m[\u001b[0m\u001b[1;36m0\u001b[0m\u001b[1;33m]\u001b[0m \u001b[1;33m=\u001b[0m \u001b[1;34m'Novo elemento'\u001b[0m\u001b[1;33m\u001b[0m\u001b[1;33m\u001b[0m\u001b[0m\n\u001b[0m",
      "\u001b[1;31mValueError\u001b[0m: invalid literal for int() with base 10: 'Novo elemento'"
     ]
    }
   ],
   "source": [
    "# Não é possível incluir elemento de outro tipo\n",
    "vetor1[0] = 'Novo elemento'"
   ]
  },
  {
   "cell_type": "code",
   "execution_count": null,
   "metadata": {},
   "outputs": [],
   "source": [
    "# Verificando o formato do array\n",
    "print(vetor1.shape)"
   ]
  },
  {
   "cell_type": "markdown",
   "metadata": {},
   "source": [
    "## Funções NumPy"
   ]
  },
  {
   "cell_type": "code",
   "execution_count": 17,
   "metadata": {},
   "outputs": [],
   "source": [
    "# A função arange cria um vetor contendo uma progressão aritmética a partir de um intervalo - start, stop, step\n",
    "vetor2 = np.arange(0., 4.5, .5)"
   ]
  },
  {
   "cell_type": "code",
   "execution_count": 18,
   "metadata": {},
   "outputs": [
    {
     "output_type": "stream",
     "name": "stdout",
     "text": [
      "[0.  0.5 1.  1.5 2.  2.5 3.  3.5 4. ]\n"
     ]
    }
   ],
   "source": [
    "print(vetor2)"
   ]
  },
  {
   "cell_type": "code",
   "execution_count": 19,
   "metadata": {},
   "outputs": [
    {
     "output_type": "execute_result",
     "data": {
      "text/plain": [
       "numpy.ndarray"
      ]
     },
     "metadata": {},
     "execution_count": 19
    }
   ],
   "source": [
    "# Verificando o tipo do objeto\n",
    "type(vetor2)"
   ]
  },
  {
   "cell_type": "code",
   "execution_count": 20,
   "metadata": {},
   "outputs": [
    {
     "output_type": "execute_result",
     "data": {
      "text/plain": [
       "(9,)"
      ]
     },
     "metadata": {},
     "execution_count": 20
    }
   ],
   "source": [
    "# Formato do array\n",
    "np.shape(vetor2)"
   ]
  },
  {
   "cell_type": "code",
   "execution_count": 21,
   "metadata": {},
   "outputs": [
    {
     "output_type": "stream",
     "name": "stdout",
     "text": [
      "float64\n"
     ]
    }
   ],
   "source": [
    "print (vetor2.dtype)"
   ]
  },
  {
   "cell_type": "code",
   "execution_count": 22,
   "metadata": {},
   "outputs": [
    {
     "output_type": "stream",
     "name": "stdout",
     "text": [
      "[1.   1.25 1.5  1.75 2.   2.25 2.5  2.75 3.   3.25 3.5  3.75 4.   4.25\n 4.5  4.75 5.   5.25 5.5  5.75 6.   6.25 6.5  6.75 7.   7.25 7.5  7.75\n 8.   8.25 8.5  8.75 9.   9.25 9.5  9.75]\n"
     ]
    }
   ],
   "source": [
    "x = np.arange(1, 10, 0.25)\n",
    "print(x)"
   ]
  },
  {
   "cell_type": "code",
   "execution_count": 23,
   "metadata": {},
   "outputs": [
    {
     "output_type": "stream",
     "name": "stdout",
     "text": [
      "[0. 0. 0. 0. 0. 0. 0. 0. 0. 0.]\n"
     ]
    }
   ],
   "source": [
    "print(np.zeros(10))"
   ]
  },
  {
   "cell_type": "code",
   "execution_count": 24,
   "metadata": {},
   "outputs": [],
   "source": [
    "# Retorna 1 nas posições em diagonal e 0 no restante\n",
    "z = np.eye(3)"
   ]
  },
  {
   "cell_type": "code",
   "execution_count": 25,
   "metadata": {},
   "outputs": [
    {
     "output_type": "execute_result",
     "data": {
      "text/plain": [
       "array([[1., 0., 0.],\n",
       "       [0., 1., 0.],\n",
       "       [0., 0., 1.]])"
      ]
     },
     "metadata": {},
     "execution_count": 25
    }
   ],
   "source": [
    "z"
   ]
  },
  {
   "cell_type": "code",
   "execution_count": 26,
   "metadata": {},
   "outputs": [],
   "source": [
    "# Os valores passados como parâmetro, formam uma diagonal\n",
    "d = np.diag(np.array([1, 2, 3, 4]))"
   ]
  },
  {
   "cell_type": "code",
   "execution_count": 27,
   "metadata": {},
   "outputs": [
    {
     "output_type": "execute_result",
     "data": {
      "text/plain": [
       "array([[1, 0, 0, 0],\n",
       "       [0, 2, 0, 0],\n",
       "       [0, 0, 3, 0],\n",
       "       [0, 0, 0, 4]])"
      ]
     },
     "metadata": {},
     "execution_count": 27
    }
   ],
   "source": [
    "d"
   ]
  },
  {
   "cell_type": "code",
   "execution_count": 28,
   "metadata": {},
   "outputs": [],
   "source": [
    "# Array de números complexos\n",
    "c = np.array([1+2j, 3+4j, 5+6*1j])"
   ]
  },
  {
   "cell_type": "code",
   "execution_count": 29,
   "metadata": {},
   "outputs": [
    {
     "output_type": "execute_result",
     "data": {
      "text/plain": [
       "array([1.+2.j, 3.+4.j, 5.+6.j])"
      ]
     },
     "metadata": {},
     "execution_count": 29
    }
   ],
   "source": [
    "c"
   ]
  },
  {
   "cell_type": "code",
   "execution_count": 30,
   "metadata": {},
   "outputs": [],
   "source": [
    "# Array de valores booleanos\n",
    "b = np.array([True, False, False, True])"
   ]
  },
  {
   "cell_type": "code",
   "execution_count": 31,
   "metadata": {},
   "outputs": [
    {
     "output_type": "execute_result",
     "data": {
      "text/plain": [
       "array([ True, False, False,  True])"
      ]
     },
     "metadata": {},
     "execution_count": 31
    }
   ],
   "source": [
    "b"
   ]
  },
  {
   "cell_type": "code",
   "execution_count": 32,
   "metadata": {},
   "outputs": [],
   "source": [
    "# Array de strings\n",
    "s = np.array(['Python', 'R', 'Julia'])"
   ]
  },
  {
   "cell_type": "code",
   "execution_count": 33,
   "metadata": {},
   "outputs": [
    {
     "output_type": "execute_result",
     "data": {
      "text/plain": [
       "array(['Python', 'R', 'Julia'], dtype='<U6')"
      ]
     },
     "metadata": {},
     "execution_count": 33
    }
   ],
   "source": [
    "s"
   ]
  },
  {
   "cell_type": "code",
   "execution_count": 34,
   "metadata": {},
   "outputs": [
    {
     "output_type": "execute_result",
     "data": {
      "text/plain": [
       "array([ 0.        ,  0.20408163,  0.40816327,  0.6122449 ,  0.81632653,\n",
       "        1.02040816,  1.2244898 ,  1.42857143,  1.63265306,  1.83673469,\n",
       "        2.04081633,  2.24489796,  2.44897959,  2.65306122,  2.85714286,\n",
       "        3.06122449,  3.26530612,  3.46938776,  3.67346939,  3.87755102,\n",
       "        4.08163265,  4.28571429,  4.48979592,  4.69387755,  4.89795918,\n",
       "        5.10204082,  5.30612245,  5.51020408,  5.71428571,  5.91836735,\n",
       "        6.12244898,  6.32653061,  6.53061224,  6.73469388,  6.93877551,\n",
       "        7.14285714,  7.34693878,  7.55102041,  7.75510204,  7.95918367,\n",
       "        8.16326531,  8.36734694,  8.57142857,  8.7755102 ,  8.97959184,\n",
       "        9.18367347,  9.3877551 ,  9.59183673,  9.79591837, 10.        ])"
      ]
     },
     "metadata": {},
     "execution_count": 34
    }
   ],
   "source": [
    "# O método linspace (linearly spaced vector) retorna um número de \n",
    "# valores igualmente distribuídos no intervalo especificado \n",
    "np.linspace(0, 10)"
   ]
  },
  {
   "cell_type": "code",
   "execution_count": 35,
   "metadata": {},
   "outputs": [
    {
     "output_type": "stream",
     "name": "stdout",
     "text": [
      "[ 0.          0.71428571  1.42857143  2.14285714  2.85714286  3.57142857\n  4.28571429  5.          5.71428571  6.42857143  7.14285714  7.85714286\n  8.57142857  9.28571429 10.        ]\n"
     ]
    }
   ],
   "source": [
    "print(np.linspace(0, 10, 15))"
   ]
  },
  {
   "cell_type": "code",
   "execution_count": 36,
   "metadata": {},
   "outputs": [
    {
     "output_type": "stream",
     "name": "stdout",
     "text": [
      "[1.00000000e+00 3.59381366e+00 1.29154967e+01 4.64158883e+01\n 1.66810054e+02 5.99484250e+02 2.15443469e+03 7.74263683e+03\n 2.78255940e+04 1.00000000e+05]\n"
     ]
    }
   ],
   "source": [
    "print(np.logspace(0, 5, 10))"
   ]
  },
  {
   "cell_type": "markdown",
   "metadata": {},
   "source": [
    "## Criando Matrizes"
   ]
  },
  {
   "cell_type": "code",
   "execution_count": 37,
   "metadata": {},
   "outputs": [],
   "source": [
    "# Criando uma matriz\n",
    "matriz = np.array([[1,2,3],[4,5,6]]) "
   ]
  },
  {
   "cell_type": "code",
   "execution_count": 38,
   "metadata": {},
   "outputs": [
    {
     "output_type": "stream",
     "name": "stdout",
     "text": [
      "[[1 2 3]\n [4 5 6]]\n"
     ]
    }
   ],
   "source": [
    "print(matriz)"
   ]
  },
  {
   "cell_type": "code",
   "execution_count": 39,
   "metadata": {},
   "outputs": [
    {
     "output_type": "stream",
     "name": "stdout",
     "text": [
      "(2, 3)\n"
     ]
    }
   ],
   "source": [
    "print(matriz.shape)"
   ]
  },
  {
   "cell_type": "code",
   "execution_count": 40,
   "metadata": {},
   "outputs": [],
   "source": [
    "# Criando uma matriz 2x3 apenas com números \"1\"\n",
    "matriz1 = np.ones((2,3))"
   ]
  },
  {
   "cell_type": "code",
   "execution_count": 41,
   "metadata": {},
   "outputs": [
    {
     "output_type": "stream",
     "name": "stdout",
     "text": [
      "[[1. 1. 1.]\n [1. 1. 1.]]\n"
     ]
    }
   ],
   "source": [
    "print(matriz1)"
   ]
  },
  {
   "cell_type": "code",
   "execution_count": 42,
   "metadata": {},
   "outputs": [
    {
     "output_type": "execute_result",
     "data": {
      "text/plain": [
       "numpy.ndarray"
      ]
     },
     "metadata": {},
     "execution_count": 42
    }
   ],
   "source": [
    "type(matriz1)"
   ]
  },
  {
   "cell_type": "code",
   "execution_count": 43,
   "metadata": {},
   "outputs": [],
   "source": [
    "# Criando uma matriz a partir de uma lista de listas\n",
    "lista = [[13,81,22], [0, 34, 59], [21, 48, 94]]"
   ]
  },
  {
   "cell_type": "code",
   "execution_count": 44,
   "metadata": {},
   "outputs": [],
   "source": [
    "# A função matrix cria uma matria a partir de uma sequência\n",
    "matriz2 = np.matrix(lista)"
   ]
  },
  {
   "cell_type": "code",
   "execution_count": 45,
   "metadata": {},
   "outputs": [
    {
     "output_type": "execute_result",
     "data": {
      "text/plain": [
       "matrix([[13, 81, 22],\n",
       "        [ 0, 34, 59],\n",
       "        [21, 48, 94]])"
      ]
     },
     "metadata": {},
     "execution_count": 45
    }
   ],
   "source": [
    "matriz2"
   ]
  },
  {
   "cell_type": "code",
   "execution_count": 46,
   "metadata": {},
   "outputs": [
    {
     "output_type": "execute_result",
     "data": {
      "text/plain": [
       "numpy.matrix"
      ]
     },
     "metadata": {},
     "execution_count": 46
    }
   ],
   "source": [
    "type(matriz2)"
   ]
  },
  {
   "cell_type": "code",
   "execution_count": 47,
   "metadata": {},
   "outputs": [
    {
     "output_type": "execute_result",
     "data": {
      "text/plain": [
       "(3, 3)"
      ]
     },
     "metadata": {},
     "execution_count": 47
    }
   ],
   "source": [
    "# Formato da matriz\n",
    "np.shape(matriz2)"
   ]
  },
  {
   "cell_type": "code",
   "execution_count": 48,
   "metadata": {},
   "outputs": [
    {
     "output_type": "execute_result",
     "data": {
      "text/plain": [
       "9"
      ]
     },
     "metadata": {},
     "execution_count": 48
    }
   ],
   "source": [
    "matriz2.size"
   ]
  },
  {
   "cell_type": "code",
   "execution_count": 49,
   "metadata": {},
   "outputs": [
    {
     "output_type": "stream",
     "name": "stdout",
     "text": [
      "int32\n"
     ]
    }
   ],
   "source": [
    "print(matriz2.dtype)"
   ]
  },
  {
   "cell_type": "code",
   "execution_count": 50,
   "metadata": {},
   "outputs": [
    {
     "output_type": "execute_result",
     "data": {
      "text/plain": [
       "4"
      ]
     },
     "metadata": {},
     "execution_count": 50
    }
   ],
   "source": [
    "matriz2.itemsize"
   ]
  },
  {
   "cell_type": "code",
   "execution_count": 51,
   "metadata": {},
   "outputs": [
    {
     "output_type": "execute_result",
     "data": {
      "text/plain": [
       "36"
      ]
     },
     "metadata": {},
     "execution_count": 51
    }
   ],
   "source": [
    "matriz2.nbytes"
   ]
  },
  {
   "cell_type": "code",
   "execution_count": 52,
   "metadata": {
    "scrolled": true
   },
   "outputs": [
    {
     "output_type": "stream",
     "name": "stdout",
     "text": [
      "48\n"
     ]
    }
   ],
   "source": [
    "print(matriz2[2,1])"
   ]
  },
  {
   "cell_type": "code",
   "execution_count": 53,
   "metadata": {},
   "outputs": [],
   "source": [
    "# Alterando um elemento da matriz\n",
    "matriz2[1,0] = 100"
   ]
  },
  {
   "cell_type": "code",
   "execution_count": 54,
   "metadata": {},
   "outputs": [
    {
     "output_type": "execute_result",
     "data": {
      "text/plain": [
       "matrix([[ 13,  81,  22],\n",
       "        [100,  34,  59],\n",
       "        [ 21,  48,  94]])"
      ]
     },
     "metadata": {},
     "execution_count": 54
    }
   ],
   "source": [
    "matriz2"
   ]
  },
  {
   "cell_type": "code",
   "execution_count": 55,
   "metadata": {},
   "outputs": [
    {
     "output_type": "stream",
     "name": "stdout",
     "text": [
      "int32 float64 float64\n"
     ]
    }
   ],
   "source": [
    "x = np.array([1, 2])  # NumPy decide o tipo dos dados\n",
    "y = np.array([1.0, 2.0])  # NumPy decide o tipo dos dados\n",
    "z = np.array([1, 2], dtype=np.float64)  # Forçamos um tipo de dado em particular\n",
    "\n",
    "print (x.dtype, y.dtype, z.dtype)"
   ]
  },
  {
   "cell_type": "code",
   "execution_count": 56,
   "metadata": {},
   "outputs": [],
   "source": [
    "matriz3 = np.array([[24, 76], [35, 89]], dtype=float)"
   ]
  },
  {
   "cell_type": "code",
   "execution_count": 57,
   "metadata": {},
   "outputs": [
    {
     "output_type": "execute_result",
     "data": {
      "text/plain": [
       "array([[24., 76.],\n",
       "       [35., 89.]])"
      ]
     },
     "metadata": {},
     "execution_count": 57
    }
   ],
   "source": [
    "matriz3"
   ]
  },
  {
   "cell_type": "code",
   "execution_count": 58,
   "metadata": {},
   "outputs": [
    {
     "output_type": "execute_result",
     "data": {
      "text/plain": [
       "8"
      ]
     },
     "metadata": {},
     "execution_count": 58
    }
   ],
   "source": [
    "matriz3.itemsize"
   ]
  },
  {
   "cell_type": "code",
   "execution_count": 59,
   "metadata": {},
   "outputs": [
    {
     "output_type": "execute_result",
     "data": {
      "text/plain": [
       "32"
      ]
     },
     "metadata": {},
     "execution_count": 59
    }
   ],
   "source": [
    "matriz3.nbytes"
   ]
  },
  {
   "cell_type": "code",
   "execution_count": 60,
   "metadata": {},
   "outputs": [
    {
     "output_type": "execute_result",
     "data": {
      "text/plain": [
       "2"
      ]
     },
     "metadata": {},
     "execution_count": 60
    }
   ],
   "source": [
    "matriz3.ndim"
   ]
  },
  {
   "cell_type": "code",
   "execution_count": 61,
   "metadata": {},
   "outputs": [
    {
     "output_type": "execute_result",
     "data": {
      "text/plain": [
       "89.0"
      ]
     },
     "metadata": {},
     "execution_count": 61
    }
   ],
   "source": [
    "matriz3[1,1]"
   ]
  },
  {
   "cell_type": "code",
   "execution_count": 62,
   "metadata": {},
   "outputs": [],
   "source": [
    "matriz3[1,1] = 100"
   ]
  },
  {
   "cell_type": "code",
   "execution_count": 63,
   "metadata": {},
   "outputs": [
    {
     "output_type": "execute_result",
     "data": {
      "text/plain": [
       "array([[ 24.,  76.],\n",
       "       [ 35., 100.]])"
      ]
     },
     "metadata": {},
     "execution_count": 63
    }
   ],
   "source": [
    "matriz3"
   ]
  },
  {
   "cell_type": "markdown",
   "metadata": {},
   "source": [
    "## Usando o Método random() do NumPy"
   ]
  },
  {
   "cell_type": "code",
   "execution_count": 64,
   "metadata": {},
   "outputs": [
    {
     "output_type": "stream",
     "name": "stdout",
     "text": [
      "[0.53372338 0.38709726 0.05537117 0.97029538 0.23633014 0.55875555\n 0.5547711  0.21899561 0.47784301 0.03812086]\n"
     ]
    }
   ],
   "source": [
    "print(np.random.rand(10))"
   ]
  },
  {
   "cell_type": "code",
   "execution_count": 65,
   "metadata": {},
   "outputs": [],
   "source": [
    "import matplotlib.pyplot as plt\n",
    "%matplotlib inline"
   ]
  },
  {
   "cell_type": "code",
   "execution_count": 66,
   "metadata": {},
   "outputs": [
    {
     "output_type": "execute_result",
     "data": {
      "text/plain": [
       "'3.2.1'"
      ]
     },
     "metadata": {},
     "execution_count": 66
    }
   ],
   "source": [
    "import matplotlib as mat\n",
    "mat.__version__"
   ]
  },
  {
   "cell_type": "code",
   "execution_count": 67,
   "metadata": {},
   "outputs": [
    {
     "output_type": "stream",
     "name": "stdout",
     "text": [
      "[0.59126854 0.02042562 0.11654196 0.06727569 0.83477385 0.28328765\n 0.6777041  0.60991583 0.08277854 0.762735  ]\n"
     ]
    }
   ],
   "source": [
    "print(np.random.rand(10))"
   ]
  },
  {
   "cell_type": "code",
   "execution_count": 68,
   "metadata": {},
   "outputs": [
    {
     "output_type": "display_data",
     "data": {
      "text/plain": "<Figure size 432x288 with 1 Axes>",
      "image/svg+xml": "<?xml version=\"1.0\" encoding=\"utf-8\" standalone=\"no\"?>\r\n<!DOCTYPE svg PUBLIC \"-//W3C//DTD SVG 1.1//EN\"\r\n  \"http://www.w3.org/Graphics/SVG/1.1/DTD/svg11.dtd\">\r\n<!-- Created with matplotlib (https://matplotlib.org/) -->\r\n<svg height=\"249.103945pt\" version=\"1.1\" viewBox=\"0 0 375.2875 249.103945\" width=\"375.2875pt\" xmlns=\"http://www.w3.org/2000/svg\" xmlns:xlink=\"http://www.w3.org/1999/xlink\">\r\n <defs>\r\n  <style type=\"text/css\">\r\n*{stroke-linecap:butt;stroke-linejoin:round;}\r\n  </style>\r\n </defs>\r\n <g id=\"figure_1\">\r\n  <g id=\"patch_1\">\r\n   <path d=\"M 0 249.103945 \r\nL 375.2875 249.103945 \r\nL 375.2875 0 \r\nL 0 0 \r\nz\r\n\" style=\"fill:none;\"/>\r\n  </g>\r\n  <g id=\"axes_1\">\r\n   <g id=\"patch_2\">\r\n    <path d=\"M 33.2875 225.22582 \r\nL 368.0875 225.22582 \r\nL 368.0875 7.78582 \r\nL 33.2875 7.78582 \r\nz\r\n\" style=\"fill:#ffffff;\"/>\r\n   </g>\r\n   <g id=\"patch_3\">\r\n    <path clip-path=\"url(#p9510759589)\" d=\"M 48.505682 225.22582 \r\nL 78.942045 225.22582 \r\nL 78.942045 53.844539 \r\nL 48.505682 53.844539 \r\nz\r\n\" style=\"fill:#1f77b4;\"/>\r\n   </g>\r\n   <g id=\"patch_4\">\r\n    <path clip-path=\"url(#p9510759589)\" d=\"M 78.942045 225.22582 \r\nL 109.378409 225.22582 \r\nL 109.378409 37.777544 \r\nL 78.942045 37.777544 \r\nz\r\n\" style=\"fill:#1f77b4;\"/>\r\n   </g>\r\n   <g id=\"patch_5\">\r\n    <path clip-path=\"url(#p9510759589)\" d=\"M 109.378409 225.22582 \r\nL 139.814773 225.22582 \r\nL 139.814773 28.851435 \r\nL 109.378409 28.851435 \r\nz\r\n\" style=\"fill:#1f77b4;\"/>\r\n   </g>\r\n   <g id=\"patch_6\">\r\n    <path clip-path=\"url(#p9510759589)\" d=\"M 139.814773 225.22582 \r\nL 170.251136 225.22582 \r\nL 170.251136 75.267199 \r\nL 139.814773 75.267199 \r\nz\r\n\" style=\"fill:#1f77b4;\"/>\r\n   </g>\r\n   <g id=\"patch_7\">\r\n    <path clip-path=\"url(#p9510759589)\" d=\"M 170.251136 225.22582 \r\nL 200.6875 225.22582 \r\nL 200.6875 52.059317 \r\nL 170.251136 52.059317 \r\nz\r\n\" style=\"fill:#1f77b4;\"/>\r\n   </g>\r\n   <g id=\"patch_8\">\r\n    <path clip-path=\"url(#p9510759589)\" d=\"M 200.6875 225.22582 \r\nL 231.123864 225.22582 \r\nL 231.123864 55.629761 \r\nL 200.6875 55.629761 \r\nz\r\n\" style=\"fill:#1f77b4;\"/>\r\n   </g>\r\n   <g id=\"patch_9\">\r\n    <path clip-path=\"url(#p9510759589)\" d=\"M 231.123864 225.22582 \r\nL 261.560227 225.22582 \r\nL 261.560227 57.414982 \r\nL 231.123864 57.414982 \r\nz\r\n\" style=\"fill:#1f77b4;\"/>\r\n   </g>\r\n   <g id=\"patch_10\">\r\n    <path clip-path=\"url(#p9510759589)\" d=\"M 261.560227 225.22582 \r\nL 291.996591 225.22582 \r\nL 291.996591 18.140105 \r\nL 261.560227 18.140105 \r\nz\r\n\" style=\"fill:#1f77b4;\"/>\r\n   </g>\r\n   <g id=\"patch_11\">\r\n    <path clip-path=\"url(#p9510759589)\" d=\"M 291.996591 225.22582 \r\nL 322.432955 225.22582 \r\nL 322.432955 34.207101 \r\nL 291.996591 34.207101 \r\nz\r\n\" style=\"fill:#1f77b4;\"/>\r\n   </g>\r\n   <g id=\"patch_12\">\r\n    <path clip-path=\"url(#p9510759589)\" d=\"M 322.432955 225.22582 \r\nL 352.869318 225.22582 \r\nL 352.869318 53.844539 \r\nL 322.432955 53.844539 \r\nz\r\n\" style=\"fill:#1f77b4;\"/>\r\n   </g>\r\n   <g id=\"matplotlib.axis_1\">\r\n    <g id=\"xtick_1\">\r\n     <g id=\"line2d_1\">\r\n      <defs>\r\n       <path d=\"M 0 0 \r\nL 0 3.5 \r\n\" id=\"m67bdd12cb2\" style=\"stroke:#000000;stroke-width:0.8;\"/>\r\n      </defs>\r\n      <g>\r\n       <use style=\"stroke:#000000;stroke-width:0.8;\" x=\"48.37586\" xlink:href=\"#m67bdd12cb2\" y=\"225.22582\"/>\r\n      </g>\r\n     </g>\r\n     <g id=\"text_1\">\r\n      <!-- 0.0 -->\r\n      <defs>\r\n       <path d=\"M 31.78125 66.40625 \r\nQ 24.171875 66.40625 20.328125 58.90625 \r\nQ 16.5 51.421875 16.5 36.375 \r\nQ 16.5 21.390625 20.328125 13.890625 \r\nQ 24.171875 6.390625 31.78125 6.390625 \r\nQ 39.453125 6.390625 43.28125 13.890625 \r\nQ 47.125 21.390625 47.125 36.375 \r\nQ 47.125 51.421875 43.28125 58.90625 \r\nQ 39.453125 66.40625 31.78125 66.40625 \r\nz\r\nM 31.78125 74.21875 \r\nQ 44.046875 74.21875 50.515625 64.515625 \r\nQ 56.984375 54.828125 56.984375 36.375 \r\nQ 56.984375 17.96875 50.515625 8.265625 \r\nQ 44.046875 -1.421875 31.78125 -1.421875 \r\nQ 19.53125 -1.421875 13.0625 8.265625 \r\nQ 6.59375 17.96875 6.59375 36.375 \r\nQ 6.59375 54.828125 13.0625 64.515625 \r\nQ 19.53125 74.21875 31.78125 74.21875 \r\nz\r\n\" id=\"DejaVuSans-48\"/>\r\n       <path d=\"M 10.6875 12.40625 \r\nL 21 12.40625 \r\nL 21 0 \r\nL 10.6875 0 \r\nz\r\n\" id=\"DejaVuSans-46\"/>\r\n      </defs>\r\n      <g transform=\"translate(40.424297 239.824257)scale(0.1 -0.1)\">\r\n       <use xlink:href=\"#DejaVuSans-48\"/>\r\n       <use x=\"63.623047\" xlink:href=\"#DejaVuSans-46\"/>\r\n       <use x=\"95.410156\" xlink:href=\"#DejaVuSans-48\"/>\r\n      </g>\r\n     </g>\r\n    </g>\r\n    <g id=\"xtick_2\">\r\n     <g id=\"line2d_2\">\r\n      <g>\r\n       <use style=\"stroke:#000000;stroke-width:0.8;\" x=\"109.348292\" xlink:href=\"#m67bdd12cb2\" y=\"225.22582\"/>\r\n      </g>\r\n     </g>\r\n     <g id=\"text_2\">\r\n      <!-- 0.2 -->\r\n      <defs>\r\n       <path d=\"M 19.1875 8.296875 \r\nL 53.609375 8.296875 \r\nL 53.609375 0 \r\nL 7.328125 0 \r\nL 7.328125 8.296875 \r\nQ 12.9375 14.109375 22.625 23.890625 \r\nQ 32.328125 33.6875 34.8125 36.53125 \r\nQ 39.546875 41.84375 41.421875 45.53125 \r\nQ 43.3125 49.21875 43.3125 52.78125 \r\nQ 43.3125 58.59375 39.234375 62.25 \r\nQ 35.15625 65.921875 28.609375 65.921875 \r\nQ 23.96875 65.921875 18.8125 64.3125 \r\nQ 13.671875 62.703125 7.8125 59.421875 \r\nL 7.8125 69.390625 \r\nQ 13.765625 71.78125 18.9375 73 \r\nQ 24.125 74.21875 28.421875 74.21875 \r\nQ 39.75 74.21875 46.484375 68.546875 \r\nQ 53.21875 62.890625 53.21875 53.421875 \r\nQ 53.21875 48.921875 51.53125 44.890625 \r\nQ 49.859375 40.875 45.40625 35.40625 \r\nQ 44.1875 33.984375 37.640625 27.21875 \r\nQ 31.109375 20.453125 19.1875 8.296875 \r\nz\r\n\" id=\"DejaVuSans-50\"/>\r\n      </defs>\r\n      <g transform=\"translate(101.396729 239.824257)scale(0.1 -0.1)\">\r\n       <use xlink:href=\"#DejaVuSans-48\"/>\r\n       <use x=\"63.623047\" xlink:href=\"#DejaVuSans-46\"/>\r\n       <use x=\"95.410156\" xlink:href=\"#DejaVuSans-50\"/>\r\n      </g>\r\n     </g>\r\n    </g>\r\n    <g id=\"xtick_3\">\r\n     <g id=\"line2d_3\">\r\n      <g>\r\n       <use style=\"stroke:#000000;stroke-width:0.8;\" x=\"170.320723\" xlink:href=\"#m67bdd12cb2\" y=\"225.22582\"/>\r\n      </g>\r\n     </g>\r\n     <g id=\"text_3\">\r\n      <!-- 0.4 -->\r\n      <defs>\r\n       <path d=\"M 37.796875 64.3125 \r\nL 12.890625 25.390625 \r\nL 37.796875 25.390625 \r\nz\r\nM 35.203125 72.90625 \r\nL 47.609375 72.90625 \r\nL 47.609375 25.390625 \r\nL 58.015625 25.390625 \r\nL 58.015625 17.1875 \r\nL 47.609375 17.1875 \r\nL 47.609375 0 \r\nL 37.796875 0 \r\nL 37.796875 17.1875 \r\nL 4.890625 17.1875 \r\nL 4.890625 26.703125 \r\nz\r\n\" id=\"DejaVuSans-52\"/>\r\n      </defs>\r\n      <g transform=\"translate(162.369161 239.824257)scale(0.1 -0.1)\">\r\n       <use xlink:href=\"#DejaVuSans-48\"/>\r\n       <use x=\"63.623047\" xlink:href=\"#DejaVuSans-46\"/>\r\n       <use x=\"95.410156\" xlink:href=\"#DejaVuSans-52\"/>\r\n      </g>\r\n     </g>\r\n    </g>\r\n    <g id=\"xtick_4\">\r\n     <g id=\"line2d_4\">\r\n      <g>\r\n       <use style=\"stroke:#000000;stroke-width:0.8;\" x=\"231.293155\" xlink:href=\"#m67bdd12cb2\" y=\"225.22582\"/>\r\n      </g>\r\n     </g>\r\n     <g id=\"text_4\">\r\n      <!-- 0.6 -->\r\n      <defs>\r\n       <path d=\"M 33.015625 40.375 \r\nQ 26.375 40.375 22.484375 35.828125 \r\nQ 18.609375 31.296875 18.609375 23.390625 \r\nQ 18.609375 15.53125 22.484375 10.953125 \r\nQ 26.375 6.390625 33.015625 6.390625 \r\nQ 39.65625 6.390625 43.53125 10.953125 \r\nQ 47.40625 15.53125 47.40625 23.390625 \r\nQ 47.40625 31.296875 43.53125 35.828125 \r\nQ 39.65625 40.375 33.015625 40.375 \r\nz\r\nM 52.59375 71.296875 \r\nL 52.59375 62.3125 \r\nQ 48.875 64.0625 45.09375 64.984375 \r\nQ 41.3125 65.921875 37.59375 65.921875 \r\nQ 27.828125 65.921875 22.671875 59.328125 \r\nQ 17.53125 52.734375 16.796875 39.40625 \r\nQ 19.671875 43.65625 24.015625 45.921875 \r\nQ 28.375 48.1875 33.59375 48.1875 \r\nQ 44.578125 48.1875 50.953125 41.515625 \r\nQ 57.328125 34.859375 57.328125 23.390625 \r\nQ 57.328125 12.15625 50.6875 5.359375 \r\nQ 44.046875 -1.421875 33.015625 -1.421875 \r\nQ 20.359375 -1.421875 13.671875 8.265625 \r\nQ 6.984375 17.96875 6.984375 36.375 \r\nQ 6.984375 53.65625 15.1875 63.9375 \r\nQ 23.390625 74.21875 37.203125 74.21875 \r\nQ 40.921875 74.21875 44.703125 73.484375 \r\nQ 48.484375 72.75 52.59375 71.296875 \r\nz\r\n\" id=\"DejaVuSans-54\"/>\r\n      </defs>\r\n      <g transform=\"translate(223.341592 239.824257)scale(0.1 -0.1)\">\r\n       <use xlink:href=\"#DejaVuSans-48\"/>\r\n       <use x=\"63.623047\" xlink:href=\"#DejaVuSans-46\"/>\r\n       <use x=\"95.410156\" xlink:href=\"#DejaVuSans-54\"/>\r\n      </g>\r\n     </g>\r\n    </g>\r\n    <g id=\"xtick_5\">\r\n     <g id=\"line2d_5\">\r\n      <g>\r\n       <use style=\"stroke:#000000;stroke-width:0.8;\" x=\"292.265586\" xlink:href=\"#m67bdd12cb2\" y=\"225.22582\"/>\r\n      </g>\r\n     </g>\r\n     <g id=\"text_5\">\r\n      <!-- 0.8 -->\r\n      <defs>\r\n       <path d=\"M 31.78125 34.625 \r\nQ 24.75 34.625 20.71875 30.859375 \r\nQ 16.703125 27.09375 16.703125 20.515625 \r\nQ 16.703125 13.921875 20.71875 10.15625 \r\nQ 24.75 6.390625 31.78125 6.390625 \r\nQ 38.8125 6.390625 42.859375 10.171875 \r\nQ 46.921875 13.96875 46.921875 20.515625 \r\nQ 46.921875 27.09375 42.890625 30.859375 \r\nQ 38.875 34.625 31.78125 34.625 \r\nz\r\nM 21.921875 38.8125 \r\nQ 15.578125 40.375 12.03125 44.71875 \r\nQ 8.5 49.078125 8.5 55.328125 \r\nQ 8.5 64.0625 14.71875 69.140625 \r\nQ 20.953125 74.21875 31.78125 74.21875 \r\nQ 42.671875 74.21875 48.875 69.140625 \r\nQ 55.078125 64.0625 55.078125 55.328125 \r\nQ 55.078125 49.078125 51.53125 44.71875 \r\nQ 48 40.375 41.703125 38.8125 \r\nQ 48.828125 37.15625 52.796875 32.3125 \r\nQ 56.78125 27.484375 56.78125 20.515625 \r\nQ 56.78125 9.90625 50.3125 4.234375 \r\nQ 43.84375 -1.421875 31.78125 -1.421875 \r\nQ 19.734375 -1.421875 13.25 4.234375 \r\nQ 6.78125 9.90625 6.78125 20.515625 \r\nQ 6.78125 27.484375 10.78125 32.3125 \r\nQ 14.796875 37.15625 21.921875 38.8125 \r\nz\r\nM 18.3125 54.390625 \r\nQ 18.3125 48.734375 21.84375 45.5625 \r\nQ 25.390625 42.390625 31.78125 42.390625 \r\nQ 38.140625 42.390625 41.71875 45.5625 \r\nQ 45.3125 48.734375 45.3125 54.390625 \r\nQ 45.3125 60.0625 41.71875 63.234375 \r\nQ 38.140625 66.40625 31.78125 66.40625 \r\nQ 25.390625 66.40625 21.84375 63.234375 \r\nQ 18.3125 60.0625 18.3125 54.390625 \r\nz\r\n\" id=\"DejaVuSans-56\"/>\r\n      </defs>\r\n      <g transform=\"translate(284.314024 239.824257)scale(0.1 -0.1)\">\r\n       <use xlink:href=\"#DejaVuSans-48\"/>\r\n       <use x=\"63.623047\" xlink:href=\"#DejaVuSans-46\"/>\r\n       <use x=\"95.410156\" xlink:href=\"#DejaVuSans-56\"/>\r\n      </g>\r\n     </g>\r\n    </g>\r\n    <g id=\"xtick_6\">\r\n     <g id=\"line2d_6\">\r\n      <g>\r\n       <use style=\"stroke:#000000;stroke-width:0.8;\" x=\"353.238018\" xlink:href=\"#m67bdd12cb2\" y=\"225.22582\"/>\r\n      </g>\r\n     </g>\r\n     <g id=\"text_6\">\r\n      <!-- 1.0 -->\r\n      <defs>\r\n       <path d=\"M 12.40625 8.296875 \r\nL 28.515625 8.296875 \r\nL 28.515625 63.921875 \r\nL 10.984375 60.40625 \r\nL 10.984375 69.390625 \r\nL 28.421875 72.90625 \r\nL 38.28125 72.90625 \r\nL 38.28125 8.296875 \r\nL 54.390625 8.296875 \r\nL 54.390625 0 \r\nL 12.40625 0 \r\nz\r\n\" id=\"DejaVuSans-49\"/>\r\n      </defs>\r\n      <g transform=\"translate(345.286456 239.824257)scale(0.1 -0.1)\">\r\n       <use xlink:href=\"#DejaVuSans-49\"/>\r\n       <use x=\"63.623047\" xlink:href=\"#DejaVuSans-46\"/>\r\n       <use x=\"95.410156\" xlink:href=\"#DejaVuSans-48\"/>\r\n      </g>\r\n     </g>\r\n    </g>\r\n   </g>\r\n   <g id=\"matplotlib.axis_2\">\r\n    <g id=\"ytick_1\">\r\n     <g id=\"line2d_7\">\r\n      <defs>\r\n       <path d=\"M 0 0 \r\nL -3.5 0 \r\n\" id=\"mfa6b74385f\" style=\"stroke:#000000;stroke-width:0.8;\"/>\r\n      </defs>\r\n      <g>\r\n       <use style=\"stroke:#000000;stroke-width:0.8;\" x=\"33.2875\" xlink:href=\"#mfa6b74385f\" y=\"225.22582\"/>\r\n      </g>\r\n     </g>\r\n     <g id=\"text_7\">\r\n      <!-- 0 -->\r\n      <g transform=\"translate(19.925 229.025038)scale(0.1 -0.1)\">\r\n       <use xlink:href=\"#DejaVuSans-48\"/>\r\n      </g>\r\n     </g>\r\n    </g>\r\n    <g id=\"ytick_2\">\r\n     <g id=\"line2d_8\">\r\n      <g>\r\n       <use style=\"stroke:#000000;stroke-width:0.8;\" x=\"33.2875\" xlink:href=\"#mfa6b74385f\" y=\"189.521386\"/>\r\n      </g>\r\n     </g>\r\n     <g id=\"text_8\">\r\n      <!-- 20 -->\r\n      <g transform=\"translate(13.5625 193.320605)scale(0.1 -0.1)\">\r\n       <use xlink:href=\"#DejaVuSans-50\"/>\r\n       <use x=\"63.623047\" xlink:href=\"#DejaVuSans-48\"/>\r\n      </g>\r\n     </g>\r\n    </g>\r\n    <g id=\"ytick_3\">\r\n     <g id=\"line2d_9\">\r\n      <g>\r\n       <use style=\"stroke:#000000;stroke-width:0.8;\" x=\"33.2875\" xlink:href=\"#mfa6b74385f\" y=\"153.816953\"/>\r\n      </g>\r\n     </g>\r\n     <g id=\"text_9\">\r\n      <!-- 40 -->\r\n      <g transform=\"translate(13.5625 157.616171)scale(0.1 -0.1)\">\r\n       <use xlink:href=\"#DejaVuSans-52\"/>\r\n       <use x=\"63.623047\" xlink:href=\"#DejaVuSans-48\"/>\r\n      </g>\r\n     </g>\r\n    </g>\r\n    <g id=\"ytick_4\">\r\n     <g id=\"line2d_10\">\r\n      <g>\r\n       <use style=\"stroke:#000000;stroke-width:0.8;\" x=\"33.2875\" xlink:href=\"#mfa6b74385f\" y=\"118.112519\"/>\r\n      </g>\r\n     </g>\r\n     <g id=\"text_10\">\r\n      <!-- 60 -->\r\n      <g transform=\"translate(13.5625 121.911738)scale(0.1 -0.1)\">\r\n       <use xlink:href=\"#DejaVuSans-54\"/>\r\n       <use x=\"63.623047\" xlink:href=\"#DejaVuSans-48\"/>\r\n      </g>\r\n     </g>\r\n    </g>\r\n    <g id=\"ytick_5\">\r\n     <g id=\"line2d_11\">\r\n      <g>\r\n       <use style=\"stroke:#000000;stroke-width:0.8;\" x=\"33.2875\" xlink:href=\"#mfa6b74385f\" y=\"82.408086\"/>\r\n      </g>\r\n     </g>\r\n     <g id=\"text_11\">\r\n      <!-- 80 -->\r\n      <g transform=\"translate(13.5625 86.207304)scale(0.1 -0.1)\">\r\n       <use xlink:href=\"#DejaVuSans-56\"/>\r\n       <use x=\"63.623047\" xlink:href=\"#DejaVuSans-48\"/>\r\n      </g>\r\n     </g>\r\n    </g>\r\n    <g id=\"ytick_6\">\r\n     <g id=\"line2d_12\">\r\n      <g>\r\n       <use style=\"stroke:#000000;stroke-width:0.8;\" x=\"33.2875\" xlink:href=\"#mfa6b74385f\" y=\"46.703652\"/>\r\n      </g>\r\n     </g>\r\n     <g id=\"text_12\">\r\n      <!-- 100 -->\r\n      <g transform=\"translate(7.2 50.502871)scale(0.1 -0.1)\">\r\n       <use xlink:href=\"#DejaVuSans-49\"/>\r\n       <use x=\"63.623047\" xlink:href=\"#DejaVuSans-48\"/>\r\n       <use x=\"127.246094\" xlink:href=\"#DejaVuSans-48\"/>\r\n      </g>\r\n     </g>\r\n    </g>\r\n    <g id=\"ytick_7\">\r\n     <g id=\"line2d_13\">\r\n      <g>\r\n       <use style=\"stroke:#000000;stroke-width:0.8;\" x=\"33.2875\" xlink:href=\"#mfa6b74385f\" y=\"10.999219\"/>\r\n      </g>\r\n     </g>\r\n     <g id=\"text_13\">\r\n      <!-- 120 -->\r\n      <g transform=\"translate(7.2 14.798437)scale(0.1 -0.1)\">\r\n       <use xlink:href=\"#DejaVuSans-49\"/>\r\n       <use x=\"63.623047\" xlink:href=\"#DejaVuSans-50\"/>\r\n       <use x=\"127.246094\" xlink:href=\"#DejaVuSans-48\"/>\r\n      </g>\r\n     </g>\r\n    </g>\r\n   </g>\r\n   <g id=\"patch_13\">\r\n    <path d=\"M 33.2875 225.22582 \r\nL 33.2875 7.78582 \r\n\" style=\"fill:none;stroke:#000000;stroke-linecap:square;stroke-linejoin:miter;stroke-width:0.8;\"/>\r\n   </g>\r\n   <g id=\"patch_14\">\r\n    <path d=\"M 368.0875 225.22582 \r\nL 368.0875 7.78582 \r\n\" style=\"fill:none;stroke:#000000;stroke-linecap:square;stroke-linejoin:miter;stroke-width:0.8;\"/>\r\n   </g>\r\n   <g id=\"patch_15\">\r\n    <path d=\"M 33.2875 225.22582 \r\nL 368.0875 225.22582 \r\n\" style=\"fill:none;stroke:#000000;stroke-linecap:square;stroke-linejoin:miter;stroke-width:0.8;\"/>\r\n   </g>\r\n   <g id=\"patch_16\">\r\n    <path d=\"M 33.2875 7.78582 \r\nL 368.0875 7.78582 \r\n\" style=\"fill:none;stroke:#000000;stroke-linecap:square;stroke-linejoin:miter;stroke-width:0.8;\"/>\r\n   </g>\r\n  </g>\r\n </g>\r\n <defs>\r\n  <clipPath id=\"p9510759589\">\r\n   <rect height=\"217.44\" width=\"334.8\" x=\"33.2875\" y=\"7.78582\"/>\r\n  </clipPath>\r\n </defs>\r\n</svg>\r\n",
      "image/png": "[encoded data removed]"
     },
     "metadata": {
      "needs_background": "light"
     }
    }
   ],
   "source": [
    "plt.show((plt.hist(np.random.rand(1000))))"
   ]
  },
  {
   "cell_type": "code",
   "execution_count": 69,
   "metadata": {},
   "outputs": [
    {
     "output_type": "stream",
     "name": "stdout",
     "text": [
      "[[-1.43216395 -0.92792819 -0.14248544 -0.75894616  0.93868234]\n [-0.66150757  0.9906225  -1.16256588  0.40118113 -1.26156238]\n [-0.82565852 -0.4752016   0.97803131 -1.77233552  2.08765528]\n [ 0.29286314  0.49841916  0.76360452 -0.8228593   2.30098094]\n [-1.02870647  0.76408833 -1.17704666 -0.2704509   1.88657747]]\n"
     ]
    }
   ],
   "source": [
    "print(np.random.randn(5,5))"
   ]
  },
  {
   "cell_type": "code",
   "execution_count": 70,
   "metadata": {},
   "outputs": [
    {
     "output_type": "display_data",
     "data": {
      "text/plain": "<Figure size 432x288 with 1 Axes>",
      "image/svg+xml": "<?xml version=\"1.0\" encoding=\"utf-8\" standalone=\"no\"?>\r\n<!DOCTYPE svg PUBLIC \"-//W3C//DTD SVG 1.1//EN\"\r\n  \"http://www.w3.org/Graphics/SVG/1.1/DTD/svg11.dtd\">\r\n<!-- Created with matplotlib (https://matplotlib.org/) -->\r\n<svg height=\"248.518125pt\" version=\"1.1\" viewBox=\"0 0 375.2875 248.518125\" width=\"375.2875pt\" xmlns=\"http://www.w3.org/2000/svg\" xmlns:xlink=\"http://www.w3.org/1999/xlink\">\r\n <defs>\r\n  <style type=\"text/css\">\r\n*{stroke-linecap:butt;stroke-linejoin:round;}\r\n  </style>\r\n </defs>\r\n <g id=\"figure_1\">\r\n  <g id=\"patch_1\">\r\n   <path d=\"M 0 248.518125 \r\nL 375.2875 248.518125 \r\nL 375.2875 0 \r\nL 0 0 \r\nz\r\n\" style=\"fill:none;\"/>\r\n  </g>\r\n  <g id=\"axes_1\">\r\n   <g id=\"patch_2\">\r\n    <path d=\"M 33.2875 224.64 \r\nL 368.0875 224.64 \r\nL 368.0875 7.2 \r\nL 33.2875 7.2 \r\nz\r\n\" style=\"fill:#ffffff;\"/>\r\n   </g>\r\n   <g id=\"patch_3\">\r\n    <path clip-path=\"url(#pa55fd6f7f7)\" d=\"M 48.505682 224.64 \r\nL 78.942045 224.64 \r\nL 78.942045 210.718271 \r\nL 48.505682 210.718271 \r\nz\r\n\" style=\"fill:#1f77b4;\"/>\r\n   </g>\r\n   <g id=\"patch_4\">\r\n    <path clip-path=\"url(#pa55fd6f7f7)\" d=\"M 78.942045 224.64 \r\nL 109.378409 224.64 \r\nL 109.378409 184.61503 \r\nL 78.942045 184.61503 \r\nz\r\n\" style=\"fill:#1f77b4;\"/>\r\n   </g>\r\n   <g id=\"patch_5\">\r\n    <path clip-path=\"url(#pa55fd6f7f7)\" d=\"M 109.378409 224.64 \r\nL 139.814773 224.64 \r\nL 139.814773 128.928115 \r\nL 109.378409 128.928115 \r\nz\r\n\" style=\"fill:#1f77b4;\"/>\r\n   </g>\r\n   <g id=\"patch_6\">\r\n    <path clip-path=\"url(#pa55fd6f7f7)\" d=\"M 139.814773 224.64 \r\nL 170.251136 224.64 \r\nL 170.251136 54.968932 \r\nL 139.814773 54.968932 \r\nz\r\n\" style=\"fill:#1f77b4;\"/>\r\n   </g>\r\n   <g id=\"patch_7\">\r\n    <path clip-path=\"url(#pa55fd6f7f7)\" d=\"M 170.251136 224.64 \r\nL 200.6875 224.64 \r\nL 200.6875 17.554286 \r\nL 170.251136 17.554286 \r\nz\r\n\" style=\"fill:#1f77b4;\"/>\r\n   </g>\r\n   <g id=\"patch_8\">\r\n    <path clip-path=\"url(#pa55fd6f7f7)\" d=\"M 200.6875 224.64 \r\nL 231.123864 224.64 \r\nL 231.123864 32.346122 \r\nL 200.6875 32.346122 \r\nz\r\n\" style=\"fill:#1f77b4;\"/>\r\n   </g>\r\n   <g id=\"patch_9\">\r\n    <path clip-path=\"url(#pa55fd6f7f7)\" d=\"M 231.123864 224.64 \r\nL 261.560227 224.64 \r\nL 261.560227 128.058007 \r\nL 231.123864 128.058007 \r\nz\r\n\" style=\"fill:#1f77b4;\"/>\r\n   </g>\r\n   <g id=\"patch_10\">\r\n    <path clip-path=\"url(#pa55fd6f7f7)\" d=\"M 261.560227 224.64 \r\nL 291.996591 224.64 \r\nL 291.996591 184.61503 \r\nL 261.560227 184.61503 \r\nz\r\n\" style=\"fill:#1f77b4;\"/>\r\n   </g>\r\n   <g id=\"patch_11\">\r\n    <path clip-path=\"url(#pa55fd6f7f7)\" d=\"M 291.996591 224.64 \r\nL 322.432955 224.64 \r\nL 322.432955 210.718271 \r\nL 291.996591 210.718271 \r\nz\r\n\" style=\"fill:#1f77b4;\"/>\r\n   </g>\r\n   <g id=\"patch_12\">\r\n    <path clip-path=\"url(#pa55fd6f7f7)\" d=\"M 322.432955 224.64 \r\nL 352.869318 224.64 \r\nL 352.869318 223.769892 \r\nL 322.432955 223.769892 \r\nz\r\n\" style=\"fill:#1f77b4;\"/>\r\n   </g>\r\n   <g id=\"matplotlib.axis_1\">\r\n    <g id=\"xtick_1\">\r\n     <g id=\"line2d_1\">\r\n      <defs>\r\n       <path d=\"M 0 0 \r\nL 0 3.5 \r\n\" id=\"mecc7ae815e\" style=\"stroke:#000000;stroke-width:0.8;\"/>\r\n      </defs>\r\n      <g>\r\n       <use style=\"stroke:#000000;stroke-width:0.8;\" x=\"44.244408\" xlink:href=\"#mecc7ae815e\" y=\"224.64\"/>\r\n      </g>\r\n     </g>\r\n     <g id=\"text_1\">\r\n      <!-- −3 -->\r\n      <defs>\r\n       <path d=\"M 10.59375 35.5 \r\nL 73.1875 35.5 \r\nL 73.1875 27.203125 \r\nL 10.59375 27.203125 \r\nz\r\n\" id=\"DejaVuSans-8722\"/>\r\n       <path d=\"M 40.578125 39.3125 \r\nQ 47.65625 37.796875 51.625 33 \r\nQ 55.609375 28.21875 55.609375 21.1875 \r\nQ 55.609375 10.40625 48.1875 4.484375 \r\nQ 40.765625 -1.421875 27.09375 -1.421875 \r\nQ 22.515625 -1.421875 17.65625 -0.515625 \r\nQ 12.796875 0.390625 7.625 2.203125 \r\nL 7.625 11.71875 \r\nQ 11.71875 9.328125 16.59375 8.109375 \r\nQ 21.484375 6.890625 26.8125 6.890625 \r\nQ 36.078125 6.890625 40.9375 10.546875 \r\nQ 45.796875 14.203125 45.796875 21.1875 \r\nQ 45.796875 27.640625 41.28125 31.265625 \r\nQ 36.765625 34.90625 28.71875 34.90625 \r\nL 20.21875 34.90625 \r\nL 20.21875 43.015625 \r\nL 29.109375 43.015625 \r\nQ 36.375 43.015625 40.234375 45.921875 \r\nQ 44.09375 48.828125 44.09375 54.296875 \r\nQ 44.09375 59.90625 40.109375 62.90625 \r\nQ 36.140625 65.921875 28.71875 65.921875 \r\nQ 24.65625 65.921875 20.015625 65.03125 \r\nQ 15.375 64.15625 9.8125 62.3125 \r\nL 9.8125 71.09375 \r\nQ 15.4375 72.65625 20.34375 73.4375 \r\nQ 25.25 74.21875 29.59375 74.21875 \r\nQ 40.828125 74.21875 47.359375 69.109375 \r\nQ 53.90625 64.015625 53.90625 55.328125 \r\nQ 53.90625 49.265625 50.4375 45.09375 \r\nQ 46.96875 40.921875 40.578125 39.3125 \r\nz\r\n\" id=\"DejaVuSans-51\"/>\r\n      </defs>\r\n      <g transform=\"translate(36.873314 239.238438)scale(0.1 -0.1)\">\r\n       <use xlink:href=\"#DejaVuSans-8722\"/>\r\n       <use x=\"83.789062\" xlink:href=\"#DejaVuSans-51\"/>\r\n      </g>\r\n     </g>\r\n    </g>\r\n    <g id=\"xtick_2\">\r\n     <g id=\"line2d_2\">\r\n      <g>\r\n       <use style=\"stroke:#000000;stroke-width:0.8;\" x=\"92.102126\" xlink:href=\"#mecc7ae815e\" y=\"224.64\"/>\r\n      </g>\r\n     </g>\r\n     <g id=\"text_2\">\r\n      <!-- −2 -->\r\n      <defs>\r\n       <path d=\"M 19.1875 8.296875 \r\nL 53.609375 8.296875 \r\nL 53.609375 0 \r\nL 7.328125 0 \r\nL 7.328125 8.296875 \r\nQ 12.9375 14.109375 22.625 23.890625 \r\nQ 32.328125 33.6875 34.8125 36.53125 \r\nQ 39.546875 41.84375 41.421875 45.53125 \r\nQ 43.3125 49.21875 43.3125 52.78125 \r\nQ 43.3125 58.59375 39.234375 62.25 \r\nQ 35.15625 65.921875 28.609375 65.921875 \r\nQ 23.96875 65.921875 18.8125 64.3125 \r\nQ 13.671875 62.703125 7.8125 59.421875 \r\nL 7.8125 69.390625 \r\nQ 13.765625 71.78125 18.9375 73 \r\nQ 24.125 74.21875 28.421875 74.21875 \r\nQ 39.75 74.21875 46.484375 68.546875 \r\nQ 53.21875 62.890625 53.21875 53.421875 \r\nQ 53.21875 48.921875 51.53125 44.890625 \r\nQ 49.859375 40.875 45.40625 35.40625 \r\nQ 44.1875 33.984375 37.640625 27.21875 \r\nQ 31.109375 20.453125 19.1875 8.296875 \r\nz\r\n\" id=\"DejaVuSans-50\"/>\r\n      </defs>\r\n      <g transform=\"translate(84.731032 239.238438)scale(0.1 -0.1)\">\r\n       <use xlink:href=\"#DejaVuSans-8722\"/>\r\n       <use x=\"83.789062\" xlink:href=\"#DejaVuSans-50\"/>\r\n      </g>\r\n     </g>\r\n    </g>\r\n    <g id=\"xtick_3\">\r\n     <g id=\"line2d_3\">\r\n      <g>\r\n       <use style=\"stroke:#000000;stroke-width:0.8;\" x=\"139.959844\" xlink:href=\"#mecc7ae815e\" y=\"224.64\"/>\r\n      </g>\r\n     </g>\r\n     <g id=\"text_3\">\r\n      <!-- −1 -->\r\n      <defs>\r\n       <path d=\"M 12.40625 8.296875 \r\nL 28.515625 8.296875 \r\nL 28.515625 63.921875 \r\nL 10.984375 60.40625 \r\nL 10.984375 69.390625 \r\nL 28.421875 72.90625 \r\nL 38.28125 72.90625 \r\nL 38.28125 8.296875 \r\nL 54.390625 8.296875 \r\nL 54.390625 0 \r\nL 12.40625 0 \r\nz\r\n\" id=\"DejaVuSans-49\"/>\r\n      </defs>\r\n      <g transform=\"translate(132.58875 239.238438)scale(0.1 -0.1)\">\r\n       <use xlink:href=\"#DejaVuSans-8722\"/>\r\n       <use x=\"83.789062\" xlink:href=\"#DejaVuSans-49\"/>\r\n      </g>\r\n     </g>\r\n    </g>\r\n    <g id=\"xtick_4\">\r\n     <g id=\"line2d_4\">\r\n      <g>\r\n       <use style=\"stroke:#000000;stroke-width:0.8;\" x=\"187.817563\" xlink:href=\"#mecc7ae815e\" y=\"224.64\"/>\r\n      </g>\r\n     </g>\r\n     <g id=\"text_4\">\r\n      <!-- 0 -->\r\n      <defs>\r\n       <path d=\"M 31.78125 66.40625 \r\nQ 24.171875 66.40625 20.328125 58.90625 \r\nQ 16.5 51.421875 16.5 36.375 \r\nQ 16.5 21.390625 20.328125 13.890625 \r\nQ 24.171875 6.390625 31.78125 6.390625 \r\nQ 39.453125 6.390625 43.28125 13.890625 \r\nQ 47.125 21.390625 47.125 36.375 \r\nQ 47.125 51.421875 43.28125 58.90625 \r\nQ 39.453125 66.40625 31.78125 66.40625 \r\nz\r\nM 31.78125 74.21875 \r\nQ 44.046875 74.21875 50.515625 64.515625 \r\nQ 56.984375 54.828125 56.984375 36.375 \r\nQ 56.984375 17.96875 50.515625 8.265625 \r\nQ 44.046875 -1.421875 31.78125 -1.421875 \r\nQ 19.53125 -1.421875 13.0625 8.265625 \r\nQ 6.59375 17.96875 6.59375 36.375 \r\nQ 6.59375 54.828125 13.0625 64.515625 \r\nQ 19.53125 74.21875 31.78125 74.21875 \r\nz\r\n\" id=\"DejaVuSans-48\"/>\r\n      </defs>\r\n      <g transform=\"translate(184.636313 239.238438)scale(0.1 -0.1)\">\r\n       <use xlink:href=\"#DejaVuSans-48\"/>\r\n      </g>\r\n     </g>\r\n    </g>\r\n    <g id=\"xtick_5\">\r\n     <g id=\"line2d_5\">\r\n      <g>\r\n       <use style=\"stroke:#000000;stroke-width:0.8;\" x=\"235.675281\" xlink:href=\"#mecc7ae815e\" y=\"224.64\"/>\r\n      </g>\r\n     </g>\r\n     <g id=\"text_5\">\r\n      <!-- 1 -->\r\n      <g transform=\"translate(232.494031 239.238438)scale(0.1 -0.1)\">\r\n       <use xlink:href=\"#DejaVuSans-49\"/>\r\n      </g>\r\n     </g>\r\n    </g>\r\n    <g id=\"xtick_6\">\r\n     <g id=\"line2d_6\">\r\n      <g>\r\n       <use style=\"stroke:#000000;stroke-width:0.8;\" x=\"283.532999\" xlink:href=\"#mecc7ae815e\" y=\"224.64\"/>\r\n      </g>\r\n     </g>\r\n     <g id=\"text_6\">\r\n      <!-- 2 -->\r\n      <g transform=\"translate(280.351749 239.238438)scale(0.1 -0.1)\">\r\n       <use xlink:href=\"#DejaVuSans-50\"/>\r\n      </g>\r\n     </g>\r\n    </g>\r\n    <g id=\"xtick_7\">\r\n     <g id=\"line2d_7\">\r\n      <g>\r\n       <use style=\"stroke:#000000;stroke-width:0.8;\" x=\"331.390718\" xlink:href=\"#mecc7ae815e\" y=\"224.64\"/>\r\n      </g>\r\n     </g>\r\n     <g id=\"text_7\">\r\n      <!-- 3 -->\r\n      <g transform=\"translate(328.209468 239.238438)scale(0.1 -0.1)\">\r\n       <use xlink:href=\"#DejaVuSans-51\"/>\r\n      </g>\r\n     </g>\r\n    </g>\r\n   </g>\r\n   <g id=\"matplotlib.axis_2\">\r\n    <g id=\"ytick_1\">\r\n     <g id=\"line2d_8\">\r\n      <defs>\r\n       <path d=\"M 0 0 \r\nL -3.5 0 \r\n\" id=\"meeeb6121bc\" style=\"stroke:#000000;stroke-width:0.8;\"/>\r\n      </defs>\r\n      <g>\r\n       <use style=\"stroke:#000000;stroke-width:0.8;\" x=\"33.2875\" xlink:href=\"#meeeb6121bc\" y=\"224.64\"/>\r\n      </g>\r\n     </g>\r\n     <g id=\"text_8\">\r\n      <!-- 0 -->\r\n      <g transform=\"translate(19.925 228.439219)scale(0.1 -0.1)\">\r\n       <use xlink:href=\"#DejaVuSans-48\"/>\r\n      </g>\r\n     </g>\r\n    </g>\r\n    <g id=\"ytick_2\">\r\n     <g id=\"line2d_9\">\r\n      <g>\r\n       <use style=\"stroke:#000000;stroke-width:0.8;\" x=\"33.2875\" xlink:href=\"#meeeb6121bc\" y=\"181.134598\"/>\r\n      </g>\r\n     </g>\r\n     <g id=\"text_9\">\r\n      <!-- 50 -->\r\n      <defs>\r\n       <path d=\"M 10.796875 72.90625 \r\nL 49.515625 72.90625 \r\nL 49.515625 64.59375 \r\nL 19.828125 64.59375 \r\nL 19.828125 46.734375 \r\nQ 21.96875 47.46875 24.109375 47.828125 \r\nQ 26.265625 48.1875 28.421875 48.1875 \r\nQ 40.625 48.1875 47.75 41.5 \r\nQ 54.890625 34.8125 54.890625 23.390625 \r\nQ 54.890625 11.625 47.5625 5.09375 \r\nQ 40.234375 -1.421875 26.90625 -1.421875 \r\nQ 22.3125 -1.421875 17.546875 -0.640625 \r\nQ 12.796875 0.140625 7.71875 1.703125 \r\nL 7.71875 11.625 \r\nQ 12.109375 9.234375 16.796875 8.0625 \r\nQ 21.484375 6.890625 26.703125 6.890625 \r\nQ 35.15625 6.890625 40.078125 11.328125 \r\nQ 45.015625 15.765625 45.015625 23.390625 \r\nQ 45.015625 31 40.078125 35.4375 \r\nQ 35.15625 39.890625 26.703125 39.890625 \r\nQ 22.75 39.890625 18.8125 39.015625 \r\nQ 14.890625 38.140625 10.796875 36.28125 \r\nz\r\n\" id=\"DejaVuSans-53\"/>\r\n      </defs>\r\n      <g transform=\"translate(13.5625 184.933817)scale(0.1 -0.1)\">\r\n       <use xlink:href=\"#DejaVuSans-53\"/>\r\n       <use x=\"63.623047\" xlink:href=\"#DejaVuSans-48\"/>\r\n      </g>\r\n     </g>\r\n    </g>\r\n    <g id=\"ytick_3\">\r\n     <g id=\"line2d_10\">\r\n      <g>\r\n       <use style=\"stroke:#000000;stroke-width:0.8;\" x=\"33.2875\" xlink:href=\"#meeeb6121bc\" y=\"137.629196\"/>\r\n      </g>\r\n     </g>\r\n     <g id=\"text_10\">\r\n      <!-- 100 -->\r\n      <g transform=\"translate(7.2 141.428414)scale(0.1 -0.1)\">\r\n       <use xlink:href=\"#DejaVuSans-49\"/>\r\n       <use x=\"63.623047\" xlink:href=\"#DejaVuSans-48\"/>\r\n       <use x=\"127.246094\" xlink:href=\"#DejaVuSans-48\"/>\r\n      </g>\r\n     </g>\r\n    </g>\r\n    <g id=\"ytick_4\">\r\n     <g id=\"line2d_11\">\r\n      <g>\r\n       <use style=\"stroke:#000000;stroke-width:0.8;\" x=\"33.2875\" xlink:href=\"#meeeb6121bc\" y=\"94.123794\"/>\r\n      </g>\r\n     </g>\r\n     <g id=\"text_11\">\r\n      <!-- 150 -->\r\n      <g transform=\"translate(7.2 97.923012)scale(0.1 -0.1)\">\r\n       <use xlink:href=\"#DejaVuSans-49\"/>\r\n       <use x=\"63.623047\" xlink:href=\"#DejaVuSans-53\"/>\r\n       <use x=\"127.246094\" xlink:href=\"#DejaVuSans-48\"/>\r\n      </g>\r\n     </g>\r\n    </g>\r\n    <g id=\"ytick_5\">\r\n     <g id=\"line2d_12\">\r\n      <g>\r\n       <use style=\"stroke:#000000;stroke-width:0.8;\" x=\"33.2875\" xlink:href=\"#meeeb6121bc\" y=\"50.618391\"/>\r\n      </g>\r\n     </g>\r\n     <g id=\"text_12\">\r\n      <!-- 200 -->\r\n      <g transform=\"translate(7.2 54.41761)scale(0.1 -0.1)\">\r\n       <use xlink:href=\"#DejaVuSans-50\"/>\r\n       <use x=\"63.623047\" xlink:href=\"#DejaVuSans-48\"/>\r\n       <use x=\"127.246094\" xlink:href=\"#DejaVuSans-48\"/>\r\n      </g>\r\n     </g>\r\n    </g>\r\n   </g>\r\n   <g id=\"patch_13\">\r\n    <path d=\"M 33.2875 224.64 \r\nL 33.2875 7.2 \r\n\" style=\"fill:none;stroke:#000000;stroke-linecap:square;stroke-linejoin:miter;stroke-width:0.8;\"/>\r\n   </g>\r\n   <g id=\"patch_14\">\r\n    <path d=\"M 368.0875 224.64 \r\nL 368.0875 7.2 \r\n\" style=\"fill:none;stroke:#000000;stroke-linecap:square;stroke-linejoin:miter;stroke-width:0.8;\"/>\r\n   </g>\r\n   <g id=\"patch_15\">\r\n    <path d=\"M 33.2875 224.64 \r\nL 368.0875 224.64 \r\n\" style=\"fill:none;stroke:#000000;stroke-linecap:square;stroke-linejoin:miter;stroke-width:0.8;\"/>\r\n   </g>\r\n   <g id=\"patch_16\">\r\n    <path d=\"M 33.2875 7.2 \r\nL 368.0875 7.2 \r\n\" style=\"fill:none;stroke:#000000;stroke-linecap:square;stroke-linejoin:miter;stroke-width:0.8;\"/>\r\n   </g>\r\n  </g>\r\n </g>\r\n <defs>\r\n  <clipPath id=\"pa55fd6f7f7\">\r\n   <rect height=\"217.44\" width=\"334.8\" x=\"33.2875\" y=\"7.2\"/>\r\n  </clipPath>\r\n </defs>\r\n</svg>\r\n",
      "image/png": "[encoded data removed]"
     },
     "metadata": {
      "needs_background": "light"
     }
    }
   ],
   "source": [
    "plt.show(plt.hist(np.random.randn(1000)))"
   ]
  },
  {
   "cell_type": "code",
   "execution_count": 71,
   "metadata": {},
   "outputs": [
    {
     "output_type": "execute_result",
     "data": {
      "text/plain": [
       "<matplotlib.colorbar.Colorbar at 0x1e62dc076d0>"
      ]
     },
     "metadata": {},
     "execution_count": 71
    },
    {
     "output_type": "display_data",
     "data": {
      "text/plain": "<Figure size 432x288 with 2 Axes>",
      "image/svg+xml": "<?xml version=\"1.0\" encoding=\"utf-8\" standalone=\"no\"?>\r\n<!DOCTYPE svg PUBLIC \"-//W3C//DTD SVG 1.1//EN\"\r\n  \"http://www.w3.org/Graphics/SVG/1.1/DTD/svg11.dtd\">\r\n<!-- Created with matplotlib (https://matplotlib.org/) -->\r\n<svg height=\"248.693344pt\" version=\"1.1\" viewBox=\"0 0 302.080125 248.693344\" width=\"302.080125pt\" xmlns=\"http://www.w3.org/2000/svg\" xmlns:xlink=\"http://www.w3.org/1999/xlink\">\r\n <defs>\r\n  <style type=\"text/css\">\r\n*{stroke-linecap:butt;stroke-linejoin:round;}\r\n  </style>\r\n </defs>\r\n <g id=\"figure_1\">\r\n  <g id=\"patch_1\">\r\n   <path d=\"M 0 248.693344 \r\nL 302.080125 248.693344 \r\nL 302.080125 0 \r\nL 0 0 \r\nz\r\n\" style=\"fill:none;\"/>\r\n  </g>\r\n  <g id=\"axes_1\">\r\n   <g id=\"patch_2\">\r\n    <path d=\"M 26.925 224.815219 \r\nL 244.365 224.815219 \r\nL 244.365 7.375219 \r\nL 26.925 7.375219 \r\nz\r\n\" style=\"fill:#ffffff;\"/>\r\n   </g>\r\n   <g clip-path=\"url(#pd5c01f7030)\">\r\n    <image height=\"218\" id=\"imageb2f6913263\" transform=\"scale(1 -1)translate(0 -218)\" width=\"218\" x=\"26.925\" xlink:href=\"data:image/png;base64,\r\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\" y=\"-6.815219\"/>\r\n   </g>\r\n   <g id=\"matplotlib.axis_1\">\r\n    <g id=\"xtick_1\">\r\n     <g id=\"line2d_1\">\r\n      <defs>\r\n       <path d=\"M 0 0 \r\nL 0 3.5 \r\n\" id=\"m76240c9200\" style=\"stroke:#000000;stroke-width:0.8;\"/>\r\n      </defs>\r\n      <g>\r\n       <use style=\"stroke:#000000;stroke-width:0.8;\" x=\"30.549\" xlink:href=\"#m76240c9200\" y=\"224.815219\"/>\r\n      </g>\r\n     </g>\r\n     <g id=\"text_1\">\r\n      <!-- 0 -->\r\n      <defs>\r\n       <path d=\"M 31.78125 66.40625 \r\nQ 24.171875 66.40625 20.328125 58.90625 \r\nQ 16.5 51.421875 16.5 36.375 \r\nQ 16.5 21.390625 20.328125 13.890625 \r\nQ 24.171875 6.390625 31.78125 6.390625 \r\nQ 39.453125 6.390625 43.28125 13.890625 \r\nQ 47.125 21.390625 47.125 36.375 \r\nQ 47.125 51.421875 43.28125 58.90625 \r\nQ 39.453125 66.40625 31.78125 66.40625 \r\nz\r\nM 31.78125 74.21875 \r\nQ 44.046875 74.21875 50.515625 64.515625 \r\nQ 56.984375 54.828125 56.984375 36.375 \r\nQ 56.984375 17.96875 50.515625 8.265625 \r\nQ 44.046875 -1.421875 31.78125 -1.421875 \r\nQ 19.53125 -1.421875 13.0625 8.265625 \r\nQ 6.59375 17.96875 6.59375 36.375 \r\nQ 6.59375 54.828125 13.0625 64.515625 \r\nQ 19.53125 74.21875 31.78125 74.21875 \r\nz\r\n\" id=\"DejaVuSans-48\"/>\r\n      </defs>\r\n      <g transform=\"translate(27.36775 239.413656)scale(0.1 -0.1)\">\r\n       <use xlink:href=\"#DejaVuSans-48\"/>\r\n      </g>\r\n     </g>\r\n    </g>\r\n    <g id=\"xtick_2\">\r\n     <g id=\"line2d_2\">\r\n      <g>\r\n       <use style=\"stroke:#000000;stroke-width:0.8;\" x=\"66.789\" xlink:href=\"#m76240c9200\" y=\"224.815219\"/>\r\n      </g>\r\n     </g>\r\n     <g id=\"text_2\">\r\n      <!-- 5 -->\r\n      <defs>\r\n       <path d=\"M 10.796875 72.90625 \r\nL 49.515625 72.90625 \r\nL 49.515625 64.59375 \r\nL 19.828125 64.59375 \r\nL 19.828125 46.734375 \r\nQ 21.96875 47.46875 24.109375 47.828125 \r\nQ 26.265625 48.1875 28.421875 48.1875 \r\nQ 40.625 48.1875 47.75 41.5 \r\nQ 54.890625 34.8125 54.890625 23.390625 \r\nQ 54.890625 11.625 47.5625 5.09375 \r\nQ 40.234375 -1.421875 26.90625 -1.421875 \r\nQ 22.3125 -1.421875 17.546875 -0.640625 \r\nQ 12.796875 0.140625 7.71875 1.703125 \r\nL 7.71875 11.625 \r\nQ 12.109375 9.234375 16.796875 8.0625 \r\nQ 21.484375 6.890625 26.703125 6.890625 \r\nQ 35.15625 6.890625 40.078125 11.328125 \r\nQ 45.015625 15.765625 45.015625 23.390625 \r\nQ 45.015625 31 40.078125 35.4375 \r\nQ 35.15625 39.890625 26.703125 39.890625 \r\nQ 22.75 39.890625 18.8125 39.015625 \r\nQ 14.890625 38.140625 10.796875 36.28125 \r\nz\r\n\" id=\"DejaVuSans-53\"/>\r\n      </defs>\r\n      <g transform=\"translate(63.60775 239.413656)scale(0.1 -0.1)\">\r\n       <use xlink:href=\"#DejaVuSans-53\"/>\r\n      </g>\r\n     </g>\r\n    </g>\r\n    <g id=\"xtick_3\">\r\n     <g id=\"line2d_3\">\r\n      <g>\r\n       <use style=\"stroke:#000000;stroke-width:0.8;\" x=\"103.029\" xlink:href=\"#m76240c9200\" y=\"224.815219\"/>\r\n      </g>\r\n     </g>\r\n     <g id=\"text_3\">\r\n      <!-- 10 -->\r\n      <defs>\r\n       <path d=\"M 12.40625 8.296875 \r\nL 28.515625 8.296875 \r\nL 28.515625 63.921875 \r\nL 10.984375 60.40625 \r\nL 10.984375 69.390625 \r\nL 28.421875 72.90625 \r\nL 38.28125 72.90625 \r\nL 38.28125 8.296875 \r\nL 54.390625 8.296875 \r\nL 54.390625 0 \r\nL 12.40625 0 \r\nz\r\n\" id=\"DejaVuSans-49\"/>\r\n      </defs>\r\n      <g transform=\"translate(96.6665 239.413656)scale(0.1 -0.1)\">\r\n       <use xlink:href=\"#DejaVuSans-49\"/>\r\n       <use x=\"63.623047\" xlink:href=\"#DejaVuSans-48\"/>\r\n      </g>\r\n     </g>\r\n    </g>\r\n    <g id=\"xtick_4\">\r\n     <g id=\"line2d_4\">\r\n      <g>\r\n       <use style=\"stroke:#000000;stroke-width:0.8;\" x=\"139.269\" xlink:href=\"#m76240c9200\" y=\"224.815219\"/>\r\n      </g>\r\n     </g>\r\n     <g id=\"text_4\">\r\n      <!-- 15 -->\r\n      <g transform=\"translate(132.9065 239.413656)scale(0.1 -0.1)\">\r\n       <use xlink:href=\"#DejaVuSans-49\"/>\r\n       <use x=\"63.623047\" xlink:href=\"#DejaVuSans-53\"/>\r\n      </g>\r\n     </g>\r\n    </g>\r\n    <g id=\"xtick_5\">\r\n     <g id=\"line2d_5\">\r\n      <g>\r\n       <use style=\"stroke:#000000;stroke-width:0.8;\" x=\"175.509\" xlink:href=\"#m76240c9200\" y=\"224.815219\"/>\r\n      </g>\r\n     </g>\r\n     <g id=\"text_5\">\r\n      <!-- 20 -->\r\n      <defs>\r\n       <path d=\"M 19.1875 8.296875 \r\nL 53.609375 8.296875 \r\nL 53.609375 0 \r\nL 7.328125 0 \r\nL 7.328125 8.296875 \r\nQ 12.9375 14.109375 22.625 23.890625 \r\nQ 32.328125 33.6875 34.8125 36.53125 \r\nQ 39.546875 41.84375 41.421875 45.53125 \r\nQ 43.3125 49.21875 43.3125 52.78125 \r\nQ 43.3125 58.59375 39.234375 62.25 \r\nQ 35.15625 65.921875 28.609375 65.921875 \r\nQ 23.96875 65.921875 18.8125 64.3125 \r\nQ 13.671875 62.703125 7.8125 59.421875 \r\nL 7.8125 69.390625 \r\nQ 13.765625 71.78125 18.9375 73 \r\nQ 24.125 74.21875 28.421875 74.21875 \r\nQ 39.75 74.21875 46.484375 68.546875 \r\nQ 53.21875 62.890625 53.21875 53.421875 \r\nQ 53.21875 48.921875 51.53125 44.890625 \r\nQ 49.859375 40.875 45.40625 35.40625 \r\nQ 44.1875 33.984375 37.640625 27.21875 \r\nQ 31.109375 20.453125 19.1875 8.296875 \r\nz\r\n\" id=\"DejaVuSans-50\"/>\r\n      </defs>\r\n      <g transform=\"translate(169.1465 239.413656)scale(0.1 -0.1)\">\r\n       <use xlink:href=\"#DejaVuSans-50\"/>\r\n       <use x=\"63.623047\" xlink:href=\"#DejaVuSans-48\"/>\r\n      </g>\r\n     </g>\r\n    </g>\r\n    <g id=\"xtick_6\">\r\n     <g id=\"line2d_6\">\r\n      <g>\r\n       <use style=\"stroke:#000000;stroke-width:0.8;\" x=\"211.749\" xlink:href=\"#m76240c9200\" y=\"224.815219\"/>\r\n      </g>\r\n     </g>\r\n     <g id=\"text_6\">\r\n      <!-- 25 -->\r\n      <g transform=\"translate(205.3865 239.413656)scale(0.1 -0.1)\">\r\n       <use xlink:href=\"#DejaVuSans-50\"/>\r\n       <use x=\"63.623047\" xlink:href=\"#DejaVuSans-53\"/>\r\n      </g>\r\n     </g>\r\n    </g>\r\n   </g>\r\n   <g id=\"matplotlib.axis_2\">\r\n    <g id=\"ytick_1\">\r\n     <g id=\"line2d_7\">\r\n      <defs>\r\n       <path d=\"M 0 0 \r\nL -3.5 0 \r\n\" id=\"mee1ca77895\" style=\"stroke:#000000;stroke-width:0.8;\"/>\r\n      </defs>\r\n      <g>\r\n       <use style=\"stroke:#000000;stroke-width:0.8;\" x=\"26.925\" xlink:href=\"#mee1ca77895\" y=\"10.999219\"/>\r\n      </g>\r\n     </g>\r\n     <g id=\"text_7\">\r\n      <!-- 0 -->\r\n      <g transform=\"translate(13.5625 14.798437)scale(0.1 -0.1)\">\r\n       <use xlink:href=\"#DejaVuSans-48\"/>\r\n      </g>\r\n     </g>\r\n    </g>\r\n    <g id=\"ytick_2\">\r\n     <g id=\"line2d_8\">\r\n      <g>\r\n       <use style=\"stroke:#000000;stroke-width:0.8;\" x=\"26.925\" xlink:href=\"#mee1ca77895\" y=\"47.239219\"/>\r\n      </g>\r\n     </g>\r\n     <g id=\"text_8\">\r\n      <!-- 5 -->\r\n      <g transform=\"translate(13.5625 51.038437)scale(0.1 -0.1)\">\r\n       <use xlink:href=\"#DejaVuSans-53\"/>\r\n      </g>\r\n     </g>\r\n    </g>\r\n    <g id=\"ytick_3\">\r\n     <g id=\"line2d_9\">\r\n      <g>\r\n       <use style=\"stroke:#000000;stroke-width:0.8;\" x=\"26.925\" xlink:href=\"#mee1ca77895\" y=\"83.479219\"/>\r\n      </g>\r\n     </g>\r\n     <g id=\"text_9\">\r\n      <!-- 10 -->\r\n      <g transform=\"translate(7.2 87.278437)scale(0.1 -0.1)\">\r\n       <use xlink:href=\"#DejaVuSans-49\"/>\r\n       <use x=\"63.623047\" xlink:href=\"#DejaVuSans-48\"/>\r\n      </g>\r\n     </g>\r\n    </g>\r\n    <g id=\"ytick_4\">\r\n     <g id=\"line2d_10\">\r\n      <g>\r\n       <use style=\"stroke:#000000;stroke-width:0.8;\" x=\"26.925\" xlink:href=\"#mee1ca77895\" y=\"119.719219\"/>\r\n      </g>\r\n     </g>\r\n     <g id=\"text_10\">\r\n      <!-- 15 -->\r\n      <g transform=\"translate(7.2 123.518437)scale(0.1 -0.1)\">\r\n       <use xlink:href=\"#DejaVuSans-49\"/>\r\n       <use x=\"63.623047\" xlink:href=\"#DejaVuSans-53\"/>\r\n      </g>\r\n     </g>\r\n    </g>\r\n    <g id=\"ytick_5\">\r\n     <g id=\"line2d_11\">\r\n      <g>\r\n       <use style=\"stroke:#000000;stroke-width:0.8;\" x=\"26.925\" xlink:href=\"#mee1ca77895\" y=\"155.959219\"/>\r\n      </g>\r\n     </g>\r\n     <g id=\"text_11\">\r\n      <!-- 20 -->\r\n      <g transform=\"translate(7.2 159.758437)scale(0.1 -0.1)\">\r\n       <use xlink:href=\"#DejaVuSans-50\"/>\r\n       <use x=\"63.623047\" xlink:href=\"#DejaVuSans-48\"/>\r\n      </g>\r\n     </g>\r\n    </g>\r\n    <g id=\"ytick_6\">\r\n     <g id=\"line2d_12\">\r\n      <g>\r\n       <use style=\"stroke:#000000;stroke-width:0.8;\" x=\"26.925\" xlink:href=\"#mee1ca77895\" y=\"192.199219\"/>\r\n      </g>\r\n     </g>\r\n     <g id=\"text_12\">\r\n      <!-- 25 -->\r\n      <g transform=\"translate(7.2 195.998437)scale(0.1 -0.1)\">\r\n       <use xlink:href=\"#DejaVuSans-50\"/>\r\n       <use x=\"63.623047\" xlink:href=\"#DejaVuSans-53\"/>\r\n      </g>\r\n     </g>\r\n    </g>\r\n   </g>\r\n   <g id=\"patch_3\">\r\n    <path d=\"M 26.925 224.815219 \r\nL 26.925 7.375219 \r\n\" style=\"fill:none;stroke:#000000;stroke-linecap:square;stroke-linejoin:miter;stroke-width:0.8;\"/>\r\n   </g>\r\n   <g id=\"patch_4\">\r\n    <path d=\"M 244.365 224.815219 \r\nL 244.365 7.375219 \r\n\" style=\"fill:none;stroke:#000000;stroke-linecap:square;stroke-linejoin:miter;stroke-width:0.8;\"/>\r\n   </g>\r\n   <g id=\"patch_5\">\r\n    <path d=\"M 26.925 224.815219 \r\nL 244.365 224.815219 \r\n\" style=\"fill:none;stroke:#000000;stroke-linecap:square;stroke-linejoin:miter;stroke-width:0.8;\"/>\r\n   </g>\r\n   <g id=\"patch_6\">\r\n    <path d=\"M 26.925 7.375219 \r\nL 244.365 7.375219 \r\n\" style=\"fill:none;stroke:#000000;stroke-linecap:square;stroke-linejoin:miter;stroke-width:0.8;\"/>\r\n   </g>\r\n  </g>\r\n  <g id=\"axes_2\">\r\n   <g id=\"patch_7\">\r\n    <path clip-path=\"url(#p5ec4576eae)\" d=\"M 261.105 224.815219 \r\nL 261.105 223.965844 \r\nL 261.105 8.224594 \r\nL 261.105 7.375219 \r\nL 271.977 7.375219 \r\nL 271.977 8.224594 \r\nL 271.977 223.965844 \r\nL 271.977 224.815219 \r\nz\r\n\" style=\"fill:#ffffff;stroke:#ffffff;stroke-linejoin:miter;stroke-width:0.01;\"/>\r\n   </g>\r\n   <image height=\"217\" id=\"imagefa7e10a414\" transform=\"scale(1 -1)translate(0 -217)\" width=\"11\" x=\"261\" xlink:href=\"data:image/png;base64,\r\niVBORw0KGgoAAAANSUhEUgAAAAsAAADZCAYAAAD2WsoCAAAABHNCSVQICAgIfAhkiAAAANpJREFUaIHtWbsOxDAII720veX+/3PpmhFHojKcO1uWH4Qo6viZuQW/+YkizWweCBhiPtOYSQxCzFcac8Xo8maDJDrIIIlm1f2ODJJVULFuEoMV684z2L5ubf5t5vabv6LBinWTGESYhyOvNgOopwGiQTAkA7jbMg2SRAdMP43BPOa8NNobJJlnSIbq3mauWLc2/wquOBuqexvcvm6SNNobJJlnXfTbYCgNEs2QjHEDYJvdwUpjBX85ZLQ3GD/e/5CGDL4D1q5bwe1nI88gyfoiSSMOHu4e/oPwAGX9DUg1wT6oAAAAAElFTkSuQmCC\" y=\"-7\"/>\r\n   <g id=\"matplotlib.axis_3\"/>\r\n   <g id=\"matplotlib.axis_4\">\r\n    <g id=\"ytick_7\">\r\n     <g id=\"line2d_13\">\r\n      <defs>\r\n       <path d=\"M 0 0 \r\nL 3.5 0 \r\n\" id=\"m759371990d\" style=\"stroke:#000000;stroke-width:0.8;\"/>\r\n      </defs>\r\n      <g>\r\n       <use style=\"stroke:#000000;stroke-width:0.8;\" x=\"271.977\" xlink:href=\"#m759371990d\" y=\"181.359762\"/>\r\n      </g>\r\n     </g>\r\n     <g id=\"text_13\">\r\n      <!-- 0.2 -->\r\n      <defs>\r\n       <path d=\"M 10.6875 12.40625 \r\nL 21 12.40625 \r\nL 21 0 \r\nL 10.6875 0 \r\nz\r\n\" id=\"DejaVuSans-46\"/>\r\n      </defs>\r\n      <g transform=\"translate(278.977 185.158981)scale(0.1 -0.1)\">\r\n       <use xlink:href=\"#DejaVuSans-48\"/>\r\n       <use x=\"63.623047\" xlink:href=\"#DejaVuSans-46\"/>\r\n       <use x=\"95.410156\" xlink:href=\"#DejaVuSans-50\"/>\r\n      </g>\r\n     </g>\r\n    </g>\r\n    <g id=\"ytick_8\">\r\n     <g id=\"line2d_14\">\r\n      <g>\r\n       <use style=\"stroke:#000000;stroke-width:0.8;\" x=\"271.977\" xlink:href=\"#m759371990d\" y=\"137.833218\"/>\r\n      </g>\r\n     </g>\r\n     <g id=\"text_14\">\r\n      <!-- 0.4 -->\r\n      <defs>\r\n       <path d=\"M 37.796875 64.3125 \r\nL 12.890625 25.390625 \r\nL 37.796875 25.390625 \r\nz\r\nM 35.203125 72.90625 \r\nL 47.609375 72.90625 \r\nL 47.609375 25.390625 \r\nL 58.015625 25.390625 \r\nL 58.015625 17.1875 \r\nL 47.609375 17.1875 \r\nL 47.609375 0 \r\nL 37.796875 0 \r\nL 37.796875 17.1875 \r\nL 4.890625 17.1875 \r\nL 4.890625 26.703125 \r\nz\r\n\" id=\"DejaVuSans-52\"/>\r\n      </defs>\r\n      <g transform=\"translate(278.977 141.632437)scale(0.1 -0.1)\">\r\n       <use xlink:href=\"#DejaVuSans-48\"/>\r\n       <use x=\"63.623047\" xlink:href=\"#DejaVuSans-46\"/>\r\n       <use x=\"95.410156\" xlink:href=\"#DejaVuSans-52\"/>\r\n      </g>\r\n     </g>\r\n    </g>\r\n    <g id=\"ytick_9\">\r\n     <g id=\"line2d_15\">\r\n      <g>\r\n       <use style=\"stroke:#000000;stroke-width:0.8;\" x=\"271.977\" xlink:href=\"#m759371990d\" y=\"94.306673\"/>\r\n      </g>\r\n     </g>\r\n     <g id=\"text_15\">\r\n      <!-- 0.6 -->\r\n      <defs>\r\n       <path d=\"M 33.015625 40.375 \r\nQ 26.375 40.375 22.484375 35.828125 \r\nQ 18.609375 31.296875 18.609375 23.390625 \r\nQ 18.609375 15.53125 22.484375 10.953125 \r\nQ 26.375 6.390625 33.015625 6.390625 \r\nQ 39.65625 6.390625 43.53125 10.953125 \r\nQ 47.40625 15.53125 47.40625 23.390625 \r\nQ 47.40625 31.296875 43.53125 35.828125 \r\nQ 39.65625 40.375 33.015625 40.375 \r\nz\r\nM 52.59375 71.296875 \r\nL 52.59375 62.3125 \r\nQ 48.875 64.0625 45.09375 64.984375 \r\nQ 41.3125 65.921875 37.59375 65.921875 \r\nQ 27.828125 65.921875 22.671875 59.328125 \r\nQ 17.53125 52.734375 16.796875 39.40625 \r\nQ 19.671875 43.65625 24.015625 45.921875 \r\nQ 28.375 48.1875 33.59375 48.1875 \r\nQ 44.578125 48.1875 50.953125 41.515625 \r\nQ 57.328125 34.859375 57.328125 23.390625 \r\nQ 57.328125 12.15625 50.6875 5.359375 \r\nQ 44.046875 -1.421875 33.015625 -1.421875 \r\nQ 20.359375 -1.421875 13.671875 8.265625 \r\nQ 6.984375 17.96875 6.984375 36.375 \r\nQ 6.984375 53.65625 15.1875 63.9375 \r\nQ 23.390625 74.21875 37.203125 74.21875 \r\nQ 40.921875 74.21875 44.703125 73.484375 \r\nQ 48.484375 72.75 52.59375 71.296875 \r\nz\r\n\" id=\"DejaVuSans-54\"/>\r\n      </defs>\r\n      <g transform=\"translate(278.977 98.105892)scale(0.1 -0.1)\">\r\n       <use xlink:href=\"#DejaVuSans-48\"/>\r\n       <use x=\"63.623047\" xlink:href=\"#DejaVuSans-46\"/>\r\n       <use x=\"95.410156\" xlink:href=\"#DejaVuSans-54\"/>\r\n      </g>\r\n     </g>\r\n    </g>\r\n    <g id=\"ytick_10\">\r\n     <g id=\"line2d_16\">\r\n      <g>\r\n       <use style=\"stroke:#000000;stroke-width:0.8;\" x=\"271.977\" xlink:href=\"#m759371990d\" y=\"50.780128\"/>\r\n      </g>\r\n     </g>\r\n     <g id=\"text_16\">\r\n      <!-- 0.8 -->\r\n      <defs>\r\n       <path d=\"M 31.78125 34.625 \r\nQ 24.75 34.625 20.71875 30.859375 \r\nQ 16.703125 27.09375 16.703125 20.515625 \r\nQ 16.703125 13.921875 20.71875 10.15625 \r\nQ 24.75 6.390625 31.78125 6.390625 \r\nQ 38.8125 6.390625 42.859375 10.171875 \r\nQ 46.921875 13.96875 46.921875 20.515625 \r\nQ 46.921875 27.09375 42.890625 30.859375 \r\nQ 38.875 34.625 31.78125 34.625 \r\nz\r\nM 21.921875 38.8125 \r\nQ 15.578125 40.375 12.03125 44.71875 \r\nQ 8.5 49.078125 8.5 55.328125 \r\nQ 8.5 64.0625 14.71875 69.140625 \r\nQ 20.953125 74.21875 31.78125 74.21875 \r\nQ 42.671875 74.21875 48.875 69.140625 \r\nQ 55.078125 64.0625 55.078125 55.328125 \r\nQ 55.078125 49.078125 51.53125 44.71875 \r\nQ 48 40.375 41.703125 38.8125 \r\nQ 48.828125 37.15625 52.796875 32.3125 \r\nQ 56.78125 27.484375 56.78125 20.515625 \r\nQ 56.78125 9.90625 50.3125 4.234375 \r\nQ 43.84375 -1.421875 31.78125 -1.421875 \r\nQ 19.734375 -1.421875 13.25 4.234375 \r\nQ 6.78125 9.90625 6.78125 20.515625 \r\nQ 6.78125 27.484375 10.78125 32.3125 \r\nQ 14.796875 37.15625 21.921875 38.8125 \r\nz\r\nM 18.3125 54.390625 \r\nQ 18.3125 48.734375 21.84375 45.5625 \r\nQ 25.390625 42.390625 31.78125 42.390625 \r\nQ 38.140625 42.390625 41.71875 45.5625 \r\nQ 45.3125 48.734375 45.3125 54.390625 \r\nQ 45.3125 60.0625 41.71875 63.234375 \r\nQ 38.140625 66.40625 31.78125 66.40625 \r\nQ 25.390625 66.40625 21.84375 63.234375 \r\nQ 18.3125 60.0625 18.3125 54.390625 \r\nz\r\n\" id=\"DejaVuSans-56\"/>\r\n      </defs>\r\n      <g transform=\"translate(278.977 54.579347)scale(0.1 -0.1)\">\r\n       <use xlink:href=\"#DejaVuSans-48\"/>\r\n       <use x=\"63.623047\" xlink:href=\"#DejaVuSans-46\"/>\r\n       <use x=\"95.410156\" xlink:href=\"#DejaVuSans-56\"/>\r\n      </g>\r\n     </g>\r\n    </g>\r\n   </g>\r\n   <g id=\"patch_8\">\r\n    <path d=\"M 261.105 224.815219 \r\nL 261.105 223.965844 \r\nL 261.105 8.224594 \r\nL 261.105 7.375219 \r\nL 271.977 7.375219 \r\nL 271.977 8.224594 \r\nL 271.977 223.965844 \r\nL 271.977 224.815219 \r\nz\r\n\" style=\"fill:none;stroke:#000000;stroke-linejoin:miter;stroke-width:0.8;\"/>\r\n   </g>\r\n  </g>\r\n </g>\r\n <defs>\r\n  <clipPath id=\"pd5c01f7030\">\r\n   <rect height=\"217.44\" width=\"217.44\" x=\"26.925\" y=\"7.375219\"/>\r\n  </clipPath>\r\n  <clipPath id=\"p5ec4576eae\">\r\n   <rect height=\"217.44\" width=\"10.872\" x=\"261.105\" y=\"7.375219\"/>\r\n  </clipPath>\r\n </defs>\r\n</svg>\r\n",
      "image/png": "[encoded data removed]"
     },
     "metadata": {
      "needs_background": "light"
     }
    }
   ],
   "source": [
    "imagem = np.random.rand(30, 30)\n",
    "plt.imshow(imagem, cmap = plt.cm.hot)    \n",
    "plt.colorbar()"
   ]
  },
  {
   "cell_type": "markdown",
   "metadata": {},
   "source": [
    "## Operações com datasets"
   ]
  },
  {
   "cell_type": "code",
   "execution_count": 72,
   "metadata": {},
   "outputs": [],
   "source": [
    "import os\n",
    "filename = os.path.join('iris.csv')"
   ]
  },
  {
   "cell_type": "code",
   "execution_count": 73,
   "metadata": {},
   "outputs": [
    {
     "output_type": "stream",
     "name": "stdout",
     "text": [
      "sepal_length,sepal_width,petal_length,petal_width,species\n5.1,3.5,1.4,0.2,setosa\n4.9,3,1.4,0.2,setosa\n4.7,3.2,1.3,0.2,setosa\n4.6,3.1,1.5,0.2,setosa\n5,3.6,1.4,0.2,setosa\n5.4,3.9,1.7,0.4,setosa\n4.6,3.4,1.4,0.3,setosa\n5,3.4,1.5,0.2,setosa\n4.4,2.9,1.4,0.2,setosa\n4.9,3.1,1.5,0.1,setosa\n5.4,3.7,1.5,0.2,setosa\n4.8,3.4,1.6,0.2,setosa\n4.8,3,1.4,0.1,setosa\n4.3,3,1.1,0.1,setosa\n5.8,4,1.2,0.2,setosa\n5.7,4.4,1.5,0.4,setosa\n5.4,3.9,1.3,0.4,setosa\n5.1,3.5,1.4,0.3,setosa\n5.7,3.8,1.7,0.3,setosa\n5.1,3.8,1.5,0.3,setosa\n5.4,3.4,1.7,0.2,setosa\n5.1,3.7,1.5,0.4,setosa\n4.6,3.6,1,0.2,setosa\n5.1,3.3,1.7,0.5,setosa\n4.8,3.4,1.9,0.2,setosa\n5,3,1.6,0.2,setosa\n5,3.4,1.6,0.4,setosa\n5.2,3.5,1.5,0.2,setosa\n5.2,3.4,1.4,0.2,setosa\n4.7,3.2,1.6,0.2,setosa\n4.8,3.1,1.6,0.2,setosa\n5.4,3.4,1.5,0.4,setosa\n5.2,4.1,1.5,0.1,setosa\n5.5,4.2,1.4,0.2,setosa\n4.9,3.1,1.5,0.1,setosa\n5,3.2,1.2,0.2,setosa\n5.5,3.5,1.3,0.2,setosa\n4.9,3.1,1.5,0.1,setosa\n4.4,3,1.3,0.2,setosa\n5.1,3.4,1.5,0.2,setosa\n5,3.5,1.3,0.3,setosa\n4.5,2.3,1.3,0.3,setosa\n4.4,3.2,1.3,0.2,setosa\n5,3.5,1.6,0.6,setosa\n5.1,3.8,1.9,0.4,setosa\n4.8,3,1.4,0.3,setosa\n5.1,3.8,1.6,0.2,setosa\n4.6,3.2,1.4,0.2,setosa\n5.3,3.7,1.5,0.2,setosa\n5,3.3,1.4,0.2,setosa\n7,3.2,4.7,1.4,versicolor\n6.4,3.2,4.5,1.5,versicolor\n6.9,3.1,4.9,1.5,versicolor\n5.5,2.3,4,1.3,versicolor\n6.5,2.8,4.6,1.5,versicolor\n5.7,2.8,4.5,1.3,versicolor\n6.3,3.3,4.7,1.6,versicolor\n4.9,2.4,3.3,1,versicolor\n6.6,2.9,4.6,1.3,versicolor\n5.2,2.7,3.9,1.4,versicolor\n5,2,3.5,1,versicolor\n5.9,3,4.2,1.5,versicolor\n6,2.2,4,1,versicolor\n6.1,2.9,4.7,1.4,versicolor\n5.6,2.9,3.6,1.3,versicolor\n6.7,3.1,4.4,1.4,versicolor\n5.6,3,4.5,1.5,versicolor\n5.8,2.7,4.1,1,versicolor\n6.2,2.2,4.5,1.5,versicolor\n5.6,2.5,3.9,1.1,versicolor\n5.9,3.2,4.8,1.8,versicolor\n6.1,2.8,4,1.3,versicolor\n6.3,2.5,4.9,1.5,versicolor\n6.1,2.8,4.7,1.2,versicolor\n6.4,2.9,4.3,1.3,versicolor\n6.6,3,4.4,1.4,versicolor\n6.8,2.8,4.8,1.4,versicolor\n6.7,3,5,1.7,versicolor\n6,2.9,4.5,1.5,versicolor\n5.7,2.6,3.5,1,versicolor\n5.5,2.4,3.8,1.1,versicolor\n5.5,2.4,3.7,1,versicolor\n5.8,2.7,3.9,1.2,versicolor\n6,2.7,5.1,1.6,versicolor\n5.4,3,4.5,1.5,versicolor\n6,3.4,4.5,1.6,versicolor\n6.7,3.1,4.7,1.5,versicolor\n6.3,2.3,4.4,1.3,versicolor\n5.6,3,4.1,1.3,versicolor\n5.5,2.5,4,1.3,versicolor\n5.5,2.6,4.4,1.2,versicolor\n6.1,3,4.6,1.4,versicolor\n5.8,2.6,4,1.2,versicolor\n5,2.3,3.3,1,versicolor\n5.6,2.7,4.2,1.3,versicolor\n5.7,3,4.2,1.2,versicolor\n5.7,2.9,4.2,1.3,versicolor\n6.2,2.9,4.3,1.3,versicolor\n5.1,2.5,3,1.1,versicolor\n5.7,2.8,4.1,1.3,versicolor\n6.3,3.3,6,2.5,virginica\n5.8,2.7,5.1,1.9,virginica\n7.1,3,5.9,2.1,virginica\n6.3,2.9,5.6,1.8,virginica\n6.5,3,5.8,2.2,virginica\n7.6,3,6.6,2.1,virginica\n4.9,2.5,4.5,1.7,virginica\n7.3,2.9,6.3,1.8,virginica\n6.7,2.5,5.8,1.8,virginica\n7.2,3.6,6.1,2.5,virginica\n6.5,3.2,5.1,2,virginica\n6.4,2.7,5.3,1.9,virginica\n6.8,3,5.5,2.1,virginica\n5.7,2.5,5,2,virginica\n5.8,2.8,5.1,2.4,virginica\n6.4,3.2,5.3,2.3,virginica\n6.5,3,5.5,1.8,virginica\n7.7,3.8,6.7,2.2,virginica\n7.7,2.6,6.9,2.3,virginica\n6,2.2,5,1.5,virginica\n6.9,3.2,5.7,2.3,virginica\n5.6,2.8,4.9,2,virginica\n7.7,2.8,6.7,2,virginica\n6.3,2.7,4.9,1.8,virginica\n6.7,3.3,5.7,2.1,virginica\n7.2,3.2,6,1.8,virginica\n6.2,2.8,4.8,1.8,virginica\n6.1,3,4.9,1.8,virginica\n6.4,2.8,5.6,2.1,virginica\n7.2,3,5.8,1.6,virginica\n7.4,2.8,6.1,1.9,virginica\n7.9,3.8,6.4,2,virginica\n6.4,2.8,5.6,2.2,virginica\n6.3,2.8,5.1,1.5,virginica\n6.1,2.6,5.6,1.4,virginica\n7.7,3,6.1,2.3,virginica\n6.3,3.4,5.6,2.4,virginica\n6.4,3.1,5.5,1.8,virginica\n6,3,4.8,1.8,virginica\n6.9,3.1,5.4,2.1,virginica\n6.7,3.1,5.6,2.4,virginica\n6.9,3.1,5.1,2.3,virginica\n5.8,2.7,5.1,1.9,virginica\n6.8,3.2,5.9,2.3,virginica\n6.7,3.3,5.7,2.5,virginica\n6.7,3,5.2,2.3,virginica\n6.3,2.5,5,1.9,virginica\n6.5,3,5.2,2,virginica\n6.2,3.4,5.4,2.3,virginica\n5.9,3,5.1,1.8,virginica\n"
     ]
    }
   ],
   "source": [
    "# No Windows use !more iris.csv. Mac ou Linux use !head iris.csv\n",
    "!more iris.csv\n",
    "#!more iris.csv"
   ]
  },
  {
   "cell_type": "code",
   "execution_count": 74,
   "metadata": {},
   "outputs": [
    {
     "output_type": "stream",
     "name": "stdout",
     "text": [
      "[[5.1 3.5 1.4 0.2]\n [4.9 3.  1.4 0.2]\n [4.7 3.2 1.3 0.2]\n [4.6 3.1 1.5 0.2]\n [5.  3.6 1.4 0.2]\n [5.4 3.9 1.7 0.4]\n [4.6 3.4 1.4 0.3]\n [5.  3.4 1.5 0.2]\n [4.4 2.9 1.4 0.2]\n [4.9 3.1 1.5 0.1]\n [5.4 3.7 1.5 0.2]\n [4.8 3.4 1.6 0.2]\n [4.8 3.  1.4 0.1]\n [4.3 3.  1.1 0.1]\n [5.8 4.  1.2 0.2]\n [5.7 4.4 1.5 0.4]\n [5.4 3.9 1.3 0.4]\n [5.1 3.5 1.4 0.3]\n [5.7 3.8 1.7 0.3]\n [5.1 3.8 1.5 0.3]\n [5.4 3.4 1.7 0.2]\n [5.1 3.7 1.5 0.4]\n [4.6 3.6 1.  0.2]\n [5.1 3.3 1.7 0.5]\n [4.8 3.4 1.9 0.2]\n [5.  3.  1.6 0.2]\n [5.  3.4 1.6 0.4]\n [5.2 3.5 1.5 0.2]\n [5.2 3.4 1.4 0.2]\n [4.7 3.2 1.6 0.2]\n [4.8 3.1 1.6 0.2]\n [5.4 3.4 1.5 0.4]\n [5.2 4.1 1.5 0.1]\n [5.5 4.2 1.4 0.2]\n [4.9 3.1 1.5 0.1]\n [5.  3.2 1.2 0.2]\n [5.5 3.5 1.3 0.2]\n [4.9 3.1 1.5 0.1]\n [4.4 3.  1.3 0.2]\n [5.1 3.4 1.5 0.2]\n [5.  3.5 1.3 0.3]\n [4.5 2.3 1.3 0.3]\n [4.4 3.2 1.3 0.2]\n [5.  3.5 1.6 0.6]\n [5.1 3.8 1.9 0.4]\n [4.8 3.  1.4 0.3]\n [5.1 3.8 1.6 0.2]\n [4.6 3.2 1.4 0.2]\n [5.3 3.7 1.5 0.2]\n [5.  3.3 1.4 0.2]\n [7.  3.2 4.7 1.4]\n [6.4 3.2 4.5 1.5]\n [6.9 3.1 4.9 1.5]\n [5.5 2.3 4.  1.3]\n [6.5 2.8 4.6 1.5]\n [5.7 2.8 4.5 1.3]\n [6.3 3.3 4.7 1.6]\n [4.9 2.4 3.3 1. ]\n [6.6 2.9 4.6 1.3]\n [5.2 2.7 3.9 1.4]\n [5.  2.  3.5 1. ]\n [5.9 3.  4.2 1.5]\n [6.  2.2 4.  1. ]\n [6.1 2.9 4.7 1.4]\n [5.6 2.9 3.6 1.3]\n [6.7 3.1 4.4 1.4]\n [5.6 3.  4.5 1.5]\n [5.8 2.7 4.1 1. ]\n [6.2 2.2 4.5 1.5]\n [5.6 2.5 3.9 1.1]\n [5.9 3.2 4.8 1.8]\n [6.1 2.8 4.  1.3]\n [6.3 2.5 4.9 1.5]\n [6.1 2.8 4.7 1.2]\n [6.4 2.9 4.3 1.3]\n [6.6 3.  4.4 1.4]\n [6.8 2.8 4.8 1.4]\n [6.7 3.  5.  1.7]\n [6.  2.9 4.5 1.5]\n [5.7 2.6 3.5 1. ]\n [5.5 2.4 3.8 1.1]\n [5.5 2.4 3.7 1. ]\n [5.8 2.7 3.9 1.2]\n [6.  2.7 5.1 1.6]\n [5.4 3.  4.5 1.5]\n [6.  3.4 4.5 1.6]\n [6.7 3.1 4.7 1.5]\n [6.3 2.3 4.4 1.3]\n [5.6 3.  4.1 1.3]\n [5.5 2.5 4.  1.3]\n [5.5 2.6 4.4 1.2]\n [6.1 3.  4.6 1.4]\n [5.8 2.6 4.  1.2]\n [5.  2.3 3.3 1. ]\n [5.6 2.7 4.2 1.3]\n [5.7 3.  4.2 1.2]\n [5.7 2.9 4.2 1.3]\n [6.2 2.9 4.3 1.3]\n [5.1 2.5 3.  1.1]\n [5.7 2.8 4.1 1.3]\n [6.3 3.3 6.  2.5]\n [5.8 2.7 5.1 1.9]\n [7.1 3.  5.9 2.1]\n [6.3 2.9 5.6 1.8]\n [6.5 3.  5.8 2.2]\n [7.6 3.  6.6 2.1]\n [4.9 2.5 4.5 1.7]\n [7.3 2.9 6.3 1.8]\n [6.7 2.5 5.8 1.8]\n [7.2 3.6 6.1 2.5]\n [6.5 3.2 5.1 2. ]\n [6.4 2.7 5.3 1.9]\n [6.8 3.  5.5 2.1]\n [5.7 2.5 5.  2. ]\n [5.8 2.8 5.1 2.4]\n [6.4 3.2 5.3 2.3]\n [6.5 3.  5.5 1.8]\n [7.7 3.8 6.7 2.2]\n [7.7 2.6 6.9 2.3]\n [6.  2.2 5.  1.5]\n [6.9 3.2 5.7 2.3]\n [5.6 2.8 4.9 2. ]\n [7.7 2.8 6.7 2. ]\n [6.3 2.7 4.9 1.8]\n [6.7 3.3 5.7 2.1]\n [7.2 3.2 6.  1.8]\n [6.2 2.8 4.8 1.8]\n [6.1 3.  4.9 1.8]\n [6.4 2.8 5.6 2.1]\n [7.2 3.  5.8 1.6]\n [7.4 2.8 6.1 1.9]\n [7.9 3.8 6.4 2. ]\n [6.4 2.8 5.6 2.2]\n [6.3 2.8 5.1 1.5]\n [6.1 2.6 5.6 1.4]\n [7.7 3.  6.1 2.3]\n [6.3 3.4 5.6 2.4]\n [6.4 3.1 5.5 1.8]\n [6.  3.  4.8 1.8]\n [6.9 3.1 5.4 2.1]\n [6.7 3.1 5.6 2.4]\n [6.9 3.1 5.1 2.3]\n [5.8 2.7 5.1 1.9]\n [6.8 3.2 5.9 2.3]\n [6.7 3.3 5.7 2.5]\n [6.7 3.  5.2 2.3]\n [6.3 2.5 5.  1.9]\n [6.5 3.  5.2 2. ]\n [6.2 3.4 5.4 2.3]\n [5.9 3.  5.1 1.8]]\n"
     ]
    }
   ],
   "source": [
    "# Carregando um dataset para dentro de um array\n",
    "arquivo = np.loadtxt(filename, delimiter=',', usecols=(0,1,2,3), skiprows=1)\n",
    "print (arquivo)"
   ]
  },
  {
   "cell_type": "code",
   "execution_count": 75,
   "metadata": {},
   "outputs": [
    {
     "output_type": "execute_result",
     "data": {
      "text/plain": [
       "numpy.ndarray"
      ]
     },
     "metadata": {},
     "execution_count": 75
    }
   ],
   "source": [
    "type(arquivo)"
   ]
  },
  {
   "cell_type": "code",
   "execution_count": 76,
   "metadata": {},
   "outputs": [
    {
     "output_type": "display_data",
     "data": {
      "text/plain": "<Figure size 432x288 with 1 Axes>",
      "image/svg+xml": "<?xml version=\"1.0\" encoding=\"utf-8\" standalone=\"no\"?>\r\n<!DOCTYPE svg PUBLIC \"-//W3C//DTD SVG 1.1//EN\"\r\n  \"http://www.w3.org/Graphics/SVG/1.1/DTD/svg11.dtd\">\r\n<!-- Created with matplotlib (https://matplotlib.org/) -->\r\n<svg height=\"250.670071pt\" version=\"1.1\" viewBox=\"0 0 373.291051 250.670071\" width=\"373.291051pt\" xmlns=\"http://www.w3.org/2000/svg\" xmlns:xlink=\"http://www.w3.org/1999/xlink\">\r\n <defs>\r\n  <style type=\"text/css\">\r\n*{stroke-linecap:butt;stroke-linejoin:round;}\r\n  </style>\r\n </defs>\r\n <g id=\"figure_1\">\r\n  <g id=\"patch_1\">\r\n   <path d=\"M 0 250.670071 \r\nL 373.291051 250.670071 \r\nL 373.291051 0 \r\nL 0 0 \r\nz\r\n\" style=\"fill:none;\"/>\r\n  </g>\r\n  <g id=\"axes_1\">\r\n   <g id=\"patch_2\">\r\n    <path d=\"M 30.103125 226.791946 \r\nL 364.903125 226.791946 \r\nL 364.903125 9.351946 \r\nL 30.103125 9.351946 \r\nz\r\n\" style=\"fill:#ffffff;\"/>\r\n   </g>\r\n   <g id=\"matplotlib.axis_1\">\r\n    <g id=\"xtick_1\">\r\n     <g id=\"line2d_1\">\r\n      <defs>\r\n       <path d=\"M 0 0 \r\nL 0 3.5 \r\n\" id=\"ma68c2397bb\" style=\"stroke:#000000;stroke-width:0.8;\"/>\r\n      </defs>\r\n      <g>\r\n       <use style=\"stroke:#000000;stroke-width:0.8;\" x=\"62.230398\" xlink:href=\"#ma68c2397bb\" y=\"226.791946\"/>\r\n      </g>\r\n     </g>\r\n     <g id=\"text_1\">\r\n      <!-- 4.5 -->\r\n      <defs>\r\n       <path d=\"M 37.796875 64.3125 \r\nL 12.890625 25.390625 \r\nL 37.796875 25.390625 \r\nz\r\nM 35.203125 72.90625 \r\nL 47.609375 72.90625 \r\nL 47.609375 25.390625 \r\nL 58.015625 25.390625 \r\nL 58.015625 17.1875 \r\nL 47.609375 17.1875 \r\nL 47.609375 0 \r\nL 37.796875 0 \r\nL 37.796875 17.1875 \r\nL 4.890625 17.1875 \r\nL 4.890625 26.703125 \r\nz\r\n\" id=\"DejaVuSans-52\"/>\r\n       <path d=\"M 10.6875 12.40625 \r\nL 21 12.40625 \r\nL 21 0 \r\nL 10.6875 0 \r\nz\r\n\" id=\"DejaVuSans-46\"/>\r\n       <path d=\"M 10.796875 72.90625 \r\nL 49.515625 72.90625 \r\nL 49.515625 64.59375 \r\nL 19.828125 64.59375 \r\nL 19.828125 46.734375 \r\nQ 21.96875 47.46875 24.109375 47.828125 \r\nQ 26.265625 48.1875 28.421875 48.1875 \r\nQ 40.625 48.1875 47.75 41.5 \r\nQ 54.890625 34.8125 54.890625 23.390625 \r\nQ 54.890625 11.625 47.5625 5.09375 \r\nQ 40.234375 -1.421875 26.90625 -1.421875 \r\nQ 22.3125 -1.421875 17.546875 -0.640625 \r\nQ 12.796875 0.140625 7.71875 1.703125 \r\nL 7.71875 11.625 \r\nQ 12.109375 9.234375 16.796875 8.0625 \r\nQ 21.484375 6.890625 26.703125 6.890625 \r\nQ 35.15625 6.890625 40.078125 11.328125 \r\nQ 45.015625 15.765625 45.015625 23.390625 \r\nQ 45.015625 31 40.078125 35.4375 \r\nQ 35.15625 39.890625 26.703125 39.890625 \r\nQ 22.75 39.890625 18.8125 39.015625 \r\nQ 14.890625 38.140625 10.796875 36.28125 \r\nz\r\n\" id=\"DejaVuSans-53\"/>\r\n      </defs>\r\n      <g transform=\"translate(54.278835 241.390384)scale(0.1 -0.1)\">\r\n       <use xlink:href=\"#DejaVuSans-52\"/>\r\n       <use x=\"63.623047\" xlink:href=\"#DejaVuSans-46\"/>\r\n       <use x=\"95.410156\" xlink:href=\"#DejaVuSans-53\"/>\r\n      </g>\r\n     </g>\r\n    </g>\r\n    <g id=\"xtick_2\">\r\n     <g id=\"line2d_2\">\r\n      <g>\r\n       <use style=\"stroke:#000000;stroke-width:0.8;\" x=\"104.503125\" xlink:href=\"#ma68c2397bb\" y=\"226.791946\"/>\r\n      </g>\r\n     </g>\r\n     <g id=\"text_2\">\r\n      <!-- 5.0 -->\r\n      <defs>\r\n       <path d=\"M 31.78125 66.40625 \r\nQ 24.171875 66.40625 20.328125 58.90625 \r\nQ 16.5 51.421875 16.5 36.375 \r\nQ 16.5 21.390625 20.328125 13.890625 \r\nQ 24.171875 6.390625 31.78125 6.390625 \r\nQ 39.453125 6.390625 43.28125 13.890625 \r\nQ 47.125 21.390625 47.125 36.375 \r\nQ 47.125 51.421875 43.28125 58.90625 \r\nQ 39.453125 66.40625 31.78125 66.40625 \r\nz\r\nM 31.78125 74.21875 \r\nQ 44.046875 74.21875 50.515625 64.515625 \r\nQ 56.984375 54.828125 56.984375 36.375 \r\nQ 56.984375 17.96875 50.515625 8.265625 \r\nQ 44.046875 -1.421875 31.78125 -1.421875 \r\nQ 19.53125 -1.421875 13.0625 8.265625 \r\nQ 6.59375 17.96875 6.59375 36.375 \r\nQ 6.59375 54.828125 13.0625 64.515625 \r\nQ 19.53125 74.21875 31.78125 74.21875 \r\nz\r\n\" id=\"DejaVuSans-48\"/>\r\n      </defs>\r\n      <g transform=\"translate(96.551563 241.390384)scale(0.1 -0.1)\">\r\n       <use xlink:href=\"#DejaVuSans-53\"/>\r\n       <use x=\"63.623047\" xlink:href=\"#DejaVuSans-46\"/>\r\n       <use x=\"95.410156\" xlink:href=\"#DejaVuSans-48\"/>\r\n      </g>\r\n     </g>\r\n    </g>\r\n    <g id=\"xtick_3\">\r\n     <g id=\"line2d_3\">\r\n      <g>\r\n       <use style=\"stroke:#000000;stroke-width:0.8;\" x=\"146.775852\" xlink:href=\"#ma68c2397bb\" y=\"226.791946\"/>\r\n      </g>\r\n     </g>\r\n     <g id=\"text_3\">\r\n      <!-- 5.5 -->\r\n      <g transform=\"translate(138.82429 241.390384)scale(0.1 -0.1)\">\r\n       <use xlink:href=\"#DejaVuSans-53\"/>\r\n       <use x=\"63.623047\" xlink:href=\"#DejaVuSans-46\"/>\r\n       <use x=\"95.410156\" xlink:href=\"#DejaVuSans-53\"/>\r\n      </g>\r\n     </g>\r\n    </g>\r\n    <g id=\"xtick_4\">\r\n     <g id=\"line2d_4\">\r\n      <g>\r\n       <use style=\"stroke:#000000;stroke-width:0.8;\" x=\"189.04858\" xlink:href=\"#ma68c2397bb\" y=\"226.791946\"/>\r\n      </g>\r\n     </g>\r\n     <g id=\"text_4\">\r\n      <!-- 6.0 -->\r\n      <defs>\r\n       <path d=\"M 33.015625 40.375 \r\nQ 26.375 40.375 22.484375 35.828125 \r\nQ 18.609375 31.296875 18.609375 23.390625 \r\nQ 18.609375 15.53125 22.484375 10.953125 \r\nQ 26.375 6.390625 33.015625 6.390625 \r\nQ 39.65625 6.390625 43.53125 10.953125 \r\nQ 47.40625 15.53125 47.40625 23.390625 \r\nQ 47.40625 31.296875 43.53125 35.828125 \r\nQ 39.65625 40.375 33.015625 40.375 \r\nz\r\nM 52.59375 71.296875 \r\nL 52.59375 62.3125 \r\nQ 48.875 64.0625 45.09375 64.984375 \r\nQ 41.3125 65.921875 37.59375 65.921875 \r\nQ 27.828125 65.921875 22.671875 59.328125 \r\nQ 17.53125 52.734375 16.796875 39.40625 \r\nQ 19.671875 43.65625 24.015625 45.921875 \r\nQ 28.375 48.1875 33.59375 48.1875 \r\nQ 44.578125 48.1875 50.953125 41.515625 \r\nQ 57.328125 34.859375 57.328125 23.390625 \r\nQ 57.328125 12.15625 50.6875 5.359375 \r\nQ 44.046875 -1.421875 33.015625 -1.421875 \r\nQ 20.359375 -1.421875 13.671875 8.265625 \r\nQ 6.984375 17.96875 6.984375 36.375 \r\nQ 6.984375 53.65625 15.1875 63.9375 \r\nQ 23.390625 74.21875 37.203125 74.21875 \r\nQ 40.921875 74.21875 44.703125 73.484375 \r\nQ 48.484375 72.75 52.59375 71.296875 \r\nz\r\n\" id=\"DejaVuSans-54\"/>\r\n      </defs>\r\n      <g transform=\"translate(181.097017 241.390384)scale(0.1 -0.1)\">\r\n       <use xlink:href=\"#DejaVuSans-54\"/>\r\n       <use x=\"63.623047\" xlink:href=\"#DejaVuSans-46\"/>\r\n       <use x=\"95.410156\" xlink:href=\"#DejaVuSans-48\"/>\r\n      </g>\r\n     </g>\r\n    </g>\r\n    <g id=\"xtick_5\">\r\n     <g id=\"line2d_5\">\r\n      <g>\r\n       <use style=\"stroke:#000000;stroke-width:0.8;\" x=\"231.321307\" xlink:href=\"#ma68c2397bb\" y=\"226.791946\"/>\r\n      </g>\r\n     </g>\r\n     <g id=\"text_5\">\r\n      <!-- 6.5 -->\r\n      <g transform=\"translate(223.369744 241.390384)scale(0.1 -0.1)\">\r\n       <use xlink:href=\"#DejaVuSans-54\"/>\r\n       <use x=\"63.623047\" xlink:href=\"#DejaVuSans-46\"/>\r\n       <use x=\"95.410156\" xlink:href=\"#DejaVuSans-53\"/>\r\n      </g>\r\n     </g>\r\n    </g>\r\n    <g id=\"xtick_6\">\r\n     <g id=\"line2d_6\">\r\n      <g>\r\n       <use style=\"stroke:#000000;stroke-width:0.8;\" x=\"273.594034\" xlink:href=\"#ma68c2397bb\" y=\"226.791946\"/>\r\n      </g>\r\n     </g>\r\n     <g id=\"text_6\">\r\n      <!-- 7.0 -->\r\n      <defs>\r\n       <path d=\"M 8.203125 72.90625 \r\nL 55.078125 72.90625 \r\nL 55.078125 68.703125 \r\nL 28.609375 0 \r\nL 18.3125 0 \r\nL 43.21875 64.59375 \r\nL 8.203125 64.59375 \r\nz\r\n\" id=\"DejaVuSans-55\"/>\r\n      </defs>\r\n      <g transform=\"translate(265.642472 241.390384)scale(0.1 -0.1)\">\r\n       <use xlink:href=\"#DejaVuSans-55\"/>\r\n       <use x=\"63.623047\" xlink:href=\"#DejaVuSans-46\"/>\r\n       <use x=\"95.410156\" xlink:href=\"#DejaVuSans-48\"/>\r\n      </g>\r\n     </g>\r\n    </g>\r\n    <g id=\"xtick_7\">\r\n     <g id=\"line2d_7\">\r\n      <g>\r\n       <use style=\"stroke:#000000;stroke-width:0.8;\" x=\"315.866761\" xlink:href=\"#ma68c2397bb\" y=\"226.791946\"/>\r\n      </g>\r\n     </g>\r\n     <g id=\"text_7\">\r\n      <!-- 7.5 -->\r\n      <g transform=\"translate(307.915199 241.390384)scale(0.1 -0.1)\">\r\n       <use xlink:href=\"#DejaVuSans-55\"/>\r\n       <use x=\"63.623047\" xlink:href=\"#DejaVuSans-46\"/>\r\n       <use x=\"95.410156\" xlink:href=\"#DejaVuSans-53\"/>\r\n      </g>\r\n     </g>\r\n    </g>\r\n    <g id=\"xtick_8\">\r\n     <g id=\"line2d_8\">\r\n      <g>\r\n       <use style=\"stroke:#000000;stroke-width:0.8;\" x=\"358.139489\" xlink:href=\"#ma68c2397bb\" y=\"226.791946\"/>\r\n      </g>\r\n     </g>\r\n     <g id=\"text_8\">\r\n      <!-- 8.0 -->\r\n      <defs>\r\n       <path d=\"M 31.78125 34.625 \r\nQ 24.75 34.625 20.71875 30.859375 \r\nQ 16.703125 27.09375 16.703125 20.515625 \r\nQ 16.703125 13.921875 20.71875 10.15625 \r\nQ 24.75 6.390625 31.78125 6.390625 \r\nQ 38.8125 6.390625 42.859375 10.171875 \r\nQ 46.921875 13.96875 46.921875 20.515625 \r\nQ 46.921875 27.09375 42.890625 30.859375 \r\nQ 38.875 34.625 31.78125 34.625 \r\nz\r\nM 21.921875 38.8125 \r\nQ 15.578125 40.375 12.03125 44.71875 \r\nQ 8.5 49.078125 8.5 55.328125 \r\nQ 8.5 64.0625 14.71875 69.140625 \r\nQ 20.953125 74.21875 31.78125 74.21875 \r\nQ 42.671875 74.21875 48.875 69.140625 \r\nQ 55.078125 64.0625 55.078125 55.328125 \r\nQ 55.078125 49.078125 51.53125 44.71875 \r\nQ 48 40.375 41.703125 38.8125 \r\nQ 48.828125 37.15625 52.796875 32.3125 \r\nQ 56.78125 27.484375 56.78125 20.515625 \r\nQ 56.78125 9.90625 50.3125 4.234375 \r\nQ 43.84375 -1.421875 31.78125 -1.421875 \r\nQ 19.734375 -1.421875 13.25 4.234375 \r\nQ 6.78125 9.90625 6.78125 20.515625 \r\nQ 6.78125 27.484375 10.78125 32.3125 \r\nQ 14.796875 37.15625 21.921875 38.8125 \r\nz\r\nM 18.3125 54.390625 \r\nQ 18.3125 48.734375 21.84375 45.5625 \r\nQ 25.390625 42.390625 31.78125 42.390625 \r\nQ 38.140625 42.390625 41.71875 45.5625 \r\nQ 45.3125 48.734375 45.3125 54.390625 \r\nQ 45.3125 60.0625 41.71875 63.234375 \r\nQ 38.140625 66.40625 31.78125 66.40625 \r\nQ 25.390625 66.40625 21.84375 63.234375 \r\nQ 18.3125 60.0625 18.3125 54.390625 \r\nz\r\n\" id=\"DejaVuSans-56\"/>\r\n      </defs>\r\n      <g transform=\"translate(350.187926 241.390384)scale(0.1 -0.1)\">\r\n       <use xlink:href=\"#DejaVuSans-56\"/>\r\n       <use x=\"63.623047\" xlink:href=\"#DejaVuSans-46\"/>\r\n       <use x=\"95.410156\" xlink:href=\"#DejaVuSans-48\"/>\r\n      </g>\r\n     </g>\r\n    </g>\r\n   </g>\r\n   <g id=\"matplotlib.axis_2\">\r\n    <g id=\"ytick_1\">\r\n     <g id=\"line2d_9\">\r\n      <defs>\r\n       <path d=\"M 0 0 \r\nL -3.5 0 \r\n\" id=\"m5a6ab927b6\" style=\"stroke:#000000;stroke-width:0.8;\"/>\r\n      </defs>\r\n      <g>\r\n       <use style=\"stroke:#000000;stroke-width:0.8;\" x=\"30.103125\" xlink:href=\"#m5a6ab927b6\" y=\"216.90831\"/>\r\n      </g>\r\n     </g>\r\n     <g id=\"text_9\">\r\n      <!-- 2.0 -->\r\n      <defs>\r\n       <path d=\"M 19.1875 8.296875 \r\nL 53.609375 8.296875 \r\nL 53.609375 0 \r\nL 7.328125 0 \r\nL 7.328125 8.296875 \r\nQ 12.9375 14.109375 22.625 23.890625 \r\nQ 32.328125 33.6875 34.8125 36.53125 \r\nQ 39.546875 41.84375 41.421875 45.53125 \r\nQ 43.3125 49.21875 43.3125 52.78125 \r\nQ 43.3125 58.59375 39.234375 62.25 \r\nQ 35.15625 65.921875 28.609375 65.921875 \r\nQ 23.96875 65.921875 18.8125 64.3125 \r\nQ 13.671875 62.703125 7.8125 59.421875 \r\nL 7.8125 69.390625 \r\nQ 13.765625 71.78125 18.9375 73 \r\nQ 24.125 74.21875 28.421875 74.21875 \r\nQ 39.75 74.21875 46.484375 68.546875 \r\nQ 53.21875 62.890625 53.21875 53.421875 \r\nQ 53.21875 48.921875 51.53125 44.890625 \r\nQ 49.859375 40.875 45.40625 35.40625 \r\nQ 44.1875 33.984375 37.640625 27.21875 \r\nQ 31.109375 20.453125 19.1875 8.296875 \r\nz\r\n\" id=\"DejaVuSans-50\"/>\r\n      </defs>\r\n      <g transform=\"translate(7.2 220.707528)scale(0.1 -0.1)\">\r\n       <use xlink:href=\"#DejaVuSans-50\"/>\r\n       <use x=\"63.623047\" xlink:href=\"#DejaVuSans-46\"/>\r\n       <use x=\"95.410156\" xlink:href=\"#DejaVuSans-48\"/>\r\n      </g>\r\n     </g>\r\n    </g>\r\n    <g id=\"ytick_2\">\r\n     <g id=\"line2d_10\">\r\n      <g>\r\n       <use style=\"stroke:#000000;stroke-width:0.8;\" x=\"30.103125\" xlink:href=\"#m5a6ab927b6\" y=\"175.726491\"/>\r\n      </g>\r\n     </g>\r\n     <g id=\"text_10\">\r\n      <!-- 2.5 -->\r\n      <g transform=\"translate(7.2 179.52571)scale(0.1 -0.1)\">\r\n       <use xlink:href=\"#DejaVuSans-50\"/>\r\n       <use x=\"63.623047\" xlink:href=\"#DejaVuSans-46\"/>\r\n       <use x=\"95.410156\" xlink:href=\"#DejaVuSans-53\"/>\r\n      </g>\r\n     </g>\r\n    </g>\r\n    <g id=\"ytick_3\">\r\n     <g id=\"line2d_11\">\r\n      <g>\r\n       <use style=\"stroke:#000000;stroke-width:0.8;\" x=\"30.103125\" xlink:href=\"#m5a6ab927b6\" y=\"134.544673\"/>\r\n      </g>\r\n     </g>\r\n     <g id=\"text_11\">\r\n      <!-- 3.0 -->\r\n      <defs>\r\n       <path d=\"M 40.578125 39.3125 \r\nQ 47.65625 37.796875 51.625 33 \r\nQ 55.609375 28.21875 55.609375 21.1875 \r\nQ 55.609375 10.40625 48.1875 4.484375 \r\nQ 40.765625 -1.421875 27.09375 -1.421875 \r\nQ 22.515625 -1.421875 17.65625 -0.515625 \r\nQ 12.796875 0.390625 7.625 2.203125 \r\nL 7.625 11.71875 \r\nQ 11.71875 9.328125 16.59375 8.109375 \r\nQ 21.484375 6.890625 26.8125 6.890625 \r\nQ 36.078125 6.890625 40.9375 10.546875 \r\nQ 45.796875 14.203125 45.796875 21.1875 \r\nQ 45.796875 27.640625 41.28125 31.265625 \r\nQ 36.765625 34.90625 28.71875 34.90625 \r\nL 20.21875 34.90625 \r\nL 20.21875 43.015625 \r\nL 29.109375 43.015625 \r\nQ 36.375 43.015625 40.234375 45.921875 \r\nQ 44.09375 48.828125 44.09375 54.296875 \r\nQ 44.09375 59.90625 40.109375 62.90625 \r\nQ 36.140625 65.921875 28.71875 65.921875 \r\nQ 24.65625 65.921875 20.015625 65.03125 \r\nQ 15.375 64.15625 9.8125 62.3125 \r\nL 9.8125 71.09375 \r\nQ 15.4375 72.65625 20.34375 73.4375 \r\nQ 25.25 74.21875 29.59375 74.21875 \r\nQ 40.828125 74.21875 47.359375 69.109375 \r\nQ 53.90625 64.015625 53.90625 55.328125 \r\nQ 53.90625 49.265625 50.4375 45.09375 \r\nQ 46.96875 40.921875 40.578125 39.3125 \r\nz\r\n\" id=\"DejaVuSans-51\"/>\r\n      </defs>\r\n      <g transform=\"translate(7.2 138.343892)scale(0.1 -0.1)\">\r\n       <use xlink:href=\"#DejaVuSans-51\"/>\r\n       <use x=\"63.623047\" xlink:href=\"#DejaVuSans-46\"/>\r\n       <use x=\"95.410156\" xlink:href=\"#DejaVuSans-48\"/>\r\n      </g>\r\n     </g>\r\n    </g>\r\n    <g id=\"ytick_4\">\r\n     <g id=\"line2d_12\">\r\n      <g>\r\n       <use style=\"stroke:#000000;stroke-width:0.8;\" x=\"30.103125\" xlink:href=\"#m5a6ab927b6\" y=\"93.362855\"/>\r\n      </g>\r\n     </g>\r\n     <g id=\"text_12\">\r\n      <!-- 3.5 -->\r\n      <g transform=\"translate(7.2 97.162074)scale(0.1 -0.1)\">\r\n       <use xlink:href=\"#DejaVuSans-51\"/>\r\n       <use x=\"63.623047\" xlink:href=\"#DejaVuSans-46\"/>\r\n       <use x=\"95.410156\" xlink:href=\"#DejaVuSans-53\"/>\r\n      </g>\r\n     </g>\r\n    </g>\r\n    <g id=\"ytick_5\">\r\n     <g id=\"line2d_13\">\r\n      <g>\r\n       <use style=\"stroke:#000000;stroke-width:0.8;\" x=\"30.103125\" xlink:href=\"#m5a6ab927b6\" y=\"52.181037\"/>\r\n      </g>\r\n     </g>\r\n     <g id=\"text_13\">\r\n      <!-- 4.0 -->\r\n      <g transform=\"translate(7.2 55.980256)scale(0.1 -0.1)\">\r\n       <use xlink:href=\"#DejaVuSans-52\"/>\r\n       <use x=\"63.623047\" xlink:href=\"#DejaVuSans-46\"/>\r\n       <use x=\"95.410156\" xlink:href=\"#DejaVuSans-48\"/>\r\n      </g>\r\n     </g>\r\n    </g>\r\n    <g id=\"ytick_6\">\r\n     <g id=\"line2d_14\">\r\n      <g>\r\n       <use style=\"stroke:#000000;stroke-width:0.8;\" x=\"30.103125\" xlink:href=\"#m5a6ab927b6\" y=\"10.999219\"/>\r\n      </g>\r\n     </g>\r\n     <g id=\"text_14\">\r\n      <!-- 4.5 -->\r\n      <g transform=\"translate(7.2 14.798437)scale(0.1 -0.1)\">\r\n       <use xlink:href=\"#DejaVuSans-52\"/>\r\n       <use x=\"63.623047\" xlink:href=\"#DejaVuSans-46\"/>\r\n       <use x=\"95.410156\" xlink:href=\"#DejaVuSans-53\"/>\r\n      </g>\r\n     </g>\r\n    </g>\r\n   </g>\r\n   <g id=\"line2d_15\">\r\n    <defs>\r\n     <path d=\"M 0 4 \r\nC 1.060812 4 2.078319 3.578535 2.828427 2.828427 \r\nC 3.578535 2.078319 4 1.060812 4 0 \r\nC 4 -1.060812 3.578535 -2.078319 2.828427 -2.828427 \r\nC 2.078319 -3.578535 1.060812 -4 0 -4 \r\nC -1.060812 -4 -2.078319 -3.578535 -2.828427 -2.828427 \r\nC -3.578535 -2.078319 -4 -1.060812 -4 0 \r\nC -4 1.060812 -3.578535 2.078319 -2.828427 2.828427 \r\nC -2.078319 3.578535 -1.060812 4 0 4 \r\nz\r\n\" id=\"m34ebcfffd1\" style=\"stroke:#1f77b4;stroke-opacity:0.75;\"/>\r\n    </defs>\r\n    <g clip-path=\"url(#pd835c6e5b1)\">\r\n     <use style=\"fill:#1f77b4;fill-opacity:0.75;stroke:#1f77b4;stroke-opacity:0.75;\" x=\"112.95767\" xlink:href=\"#m34ebcfffd1\" y=\"93.362855\"/>\r\n     <use style=\"fill:#1f77b4;fill-opacity:0.75;stroke:#1f77b4;stroke-opacity:0.75;\" x=\"96.04858\" xlink:href=\"#m34ebcfffd1\" y=\"134.544673\"/>\r\n     <use style=\"fill:#1f77b4;fill-opacity:0.75;stroke:#1f77b4;stroke-opacity:0.75;\" x=\"79.139489\" xlink:href=\"#m34ebcfffd1\" y=\"118.071946\"/>\r\n     <use style=\"fill:#1f77b4;fill-opacity:0.75;stroke:#1f77b4;stroke-opacity:0.75;\" x=\"70.684943\" xlink:href=\"#m34ebcfffd1\" y=\"126.30831\"/>\r\n     <use style=\"fill:#1f77b4;fill-opacity:0.75;stroke:#1f77b4;stroke-opacity:0.75;\" x=\"104.503125\" xlink:href=\"#m34ebcfffd1\" y=\"85.126491\"/>\r\n     <use style=\"fill:#1f77b4;fill-opacity:0.75;stroke:#1f77b4;stroke-opacity:0.75;\" x=\"138.321307\" xlink:href=\"#m34ebcfffd1\" y=\"60.417401\"/>\r\n     <use style=\"fill:#1f77b4;fill-opacity:0.75;stroke:#1f77b4;stroke-opacity:0.75;\" x=\"70.684943\" xlink:href=\"#m34ebcfffd1\" y=\"101.599219\"/>\r\n     <use style=\"fill:#1f77b4;fill-opacity:0.75;stroke:#1f77b4;stroke-opacity:0.75;\" x=\"104.503125\" xlink:href=\"#m34ebcfffd1\" y=\"101.599219\"/>\r\n     <use style=\"fill:#1f77b4;fill-opacity:0.75;stroke:#1f77b4;stroke-opacity:0.75;\" x=\"53.775852\" xlink:href=\"#m34ebcfffd1\" y=\"142.781037\"/>\r\n     <use style=\"fill:#1f77b4;fill-opacity:0.75;stroke:#1f77b4;stroke-opacity:0.75;\" x=\"96.04858\" xlink:href=\"#m34ebcfffd1\" y=\"126.30831\"/>\r\n     <use style=\"fill:#1f77b4;fill-opacity:0.75;stroke:#1f77b4;stroke-opacity:0.75;\" x=\"138.321307\" xlink:href=\"#m34ebcfffd1\" y=\"76.890128\"/>\r\n     <use style=\"fill:#1f77b4;fill-opacity:0.75;stroke:#1f77b4;stroke-opacity:0.75;\" x=\"87.594034\" xlink:href=\"#m34ebcfffd1\" y=\"101.599219\"/>\r\n     <use style=\"fill:#1f77b4;fill-opacity:0.75;stroke:#1f77b4;stroke-opacity:0.75;\" x=\"87.594034\" xlink:href=\"#m34ebcfffd1\" y=\"134.544673\"/>\r\n     <use style=\"fill:#1f77b4;fill-opacity:0.75;stroke:#1f77b4;stroke-opacity:0.75;\" x=\"45.321307\" xlink:href=\"#m34ebcfffd1\" y=\"134.544673\"/>\r\n     <use style=\"fill:#1f77b4;fill-opacity:0.75;stroke:#1f77b4;stroke-opacity:0.75;\" x=\"172.139489\" xlink:href=\"#m34ebcfffd1\" y=\"52.181037\"/>\r\n     <use style=\"fill:#1f77b4;fill-opacity:0.75;stroke:#1f77b4;stroke-opacity:0.75;\" x=\"163.684943\" xlink:href=\"#m34ebcfffd1\" y=\"19.235582\"/>\r\n     <use style=\"fill:#1f77b4;fill-opacity:0.75;stroke:#1f77b4;stroke-opacity:0.75;\" x=\"138.321307\" xlink:href=\"#m34ebcfffd1\" y=\"60.417401\"/>\r\n     <use style=\"fill:#1f77b4;fill-opacity:0.75;stroke:#1f77b4;stroke-opacity:0.75;\" x=\"112.95767\" xlink:href=\"#m34ebcfffd1\" y=\"93.362855\"/>\r\n     <use style=\"fill:#1f77b4;fill-opacity:0.75;stroke:#1f77b4;stroke-opacity:0.75;\" x=\"163.684943\" xlink:href=\"#m34ebcfffd1\" y=\"68.653764\"/>\r\n     <use style=\"fill:#1f77b4;fill-opacity:0.75;stroke:#1f77b4;stroke-opacity:0.75;\" x=\"112.95767\" xlink:href=\"#m34ebcfffd1\" y=\"68.653764\"/>\r\n     <use style=\"fill:#1f77b4;fill-opacity:0.75;stroke:#1f77b4;stroke-opacity:0.75;\" x=\"138.321307\" xlink:href=\"#m34ebcfffd1\" y=\"101.599219\"/>\r\n     <use style=\"fill:#1f77b4;fill-opacity:0.75;stroke:#1f77b4;stroke-opacity:0.75;\" x=\"112.95767\" xlink:href=\"#m34ebcfffd1\" y=\"76.890128\"/>\r\n     <use style=\"fill:#1f77b4;fill-opacity:0.75;stroke:#1f77b4;stroke-opacity:0.75;\" x=\"70.684943\" xlink:href=\"#m34ebcfffd1\" y=\"85.126491\"/>\r\n     <use style=\"fill:#1f77b4;fill-opacity:0.75;stroke:#1f77b4;stroke-opacity:0.75;\" x=\"112.95767\" xlink:href=\"#m34ebcfffd1\" y=\"109.835582\"/>\r\n     <use style=\"fill:#1f77b4;fill-opacity:0.75;stroke:#1f77b4;stroke-opacity:0.75;\" x=\"87.594034\" xlink:href=\"#m34ebcfffd1\" y=\"101.599219\"/>\r\n     <use style=\"fill:#1f77b4;fill-opacity:0.75;stroke:#1f77b4;stroke-opacity:0.75;\" x=\"104.503125\" xlink:href=\"#m34ebcfffd1\" y=\"134.544673\"/>\r\n     <use style=\"fill:#1f77b4;fill-opacity:0.75;stroke:#1f77b4;stroke-opacity:0.75;\" x=\"104.503125\" xlink:href=\"#m34ebcfffd1\" y=\"101.599219\"/>\r\n     <use style=\"fill:#1f77b4;fill-opacity:0.75;stroke:#1f77b4;stroke-opacity:0.75;\" x=\"121.412216\" xlink:href=\"#m34ebcfffd1\" y=\"93.362855\"/>\r\n     <use style=\"fill:#1f77b4;fill-opacity:0.75;stroke:#1f77b4;stroke-opacity:0.75;\" x=\"121.412216\" xlink:href=\"#m34ebcfffd1\" y=\"101.599219\"/>\r\n     <use style=\"fill:#1f77b4;fill-opacity:0.75;stroke:#1f77b4;stroke-opacity:0.75;\" x=\"79.139489\" xlink:href=\"#m34ebcfffd1\" y=\"118.071946\"/>\r\n     <use style=\"fill:#1f77b4;fill-opacity:0.75;stroke:#1f77b4;stroke-opacity:0.75;\" x=\"87.594034\" xlink:href=\"#m34ebcfffd1\" y=\"126.30831\"/>\r\n     <use style=\"fill:#1f77b4;fill-opacity:0.75;stroke:#1f77b4;stroke-opacity:0.75;\" x=\"138.321307\" xlink:href=\"#m34ebcfffd1\" y=\"101.599219\"/>\r\n     <use style=\"fill:#1f77b4;fill-opacity:0.75;stroke:#1f77b4;stroke-opacity:0.75;\" x=\"121.412216\" xlink:href=\"#m34ebcfffd1\" y=\"43.944673\"/>\r\n     <use style=\"fill:#1f77b4;fill-opacity:0.75;stroke:#1f77b4;stroke-opacity:0.75;\" x=\"146.775852\" xlink:href=\"#m34ebcfffd1\" y=\"35.70831\"/>\r\n     <use style=\"fill:#1f77b4;fill-opacity:0.75;stroke:#1f77b4;stroke-opacity:0.75;\" x=\"96.04858\" xlink:href=\"#m34ebcfffd1\" y=\"126.30831\"/>\r\n     <use style=\"fill:#1f77b4;fill-opacity:0.75;stroke:#1f77b4;stroke-opacity:0.75;\" x=\"104.503125\" xlink:href=\"#m34ebcfffd1\" y=\"118.071946\"/>\r\n     <use style=\"fill:#1f77b4;fill-opacity:0.75;stroke:#1f77b4;stroke-opacity:0.75;\" x=\"146.775852\" xlink:href=\"#m34ebcfffd1\" y=\"93.362855\"/>\r\n     <use style=\"fill:#1f77b4;fill-opacity:0.75;stroke:#1f77b4;stroke-opacity:0.75;\" x=\"96.04858\" xlink:href=\"#m34ebcfffd1\" y=\"126.30831\"/>\r\n     <use style=\"fill:#1f77b4;fill-opacity:0.75;stroke:#1f77b4;stroke-opacity:0.75;\" x=\"53.775852\" xlink:href=\"#m34ebcfffd1\" y=\"134.544673\"/>\r\n     <use style=\"fill:#1f77b4;fill-opacity:0.75;stroke:#1f77b4;stroke-opacity:0.75;\" x=\"112.95767\" xlink:href=\"#m34ebcfffd1\" y=\"101.599219\"/>\r\n     <use style=\"fill:#1f77b4;fill-opacity:0.75;stroke:#1f77b4;stroke-opacity:0.75;\" x=\"104.503125\" xlink:href=\"#m34ebcfffd1\" y=\"93.362855\"/>\r\n     <use style=\"fill:#1f77b4;fill-opacity:0.75;stroke:#1f77b4;stroke-opacity:0.75;\" x=\"62.230398\" xlink:href=\"#m34ebcfffd1\" y=\"192.199219\"/>\r\n     <use style=\"fill:#1f77b4;fill-opacity:0.75;stroke:#1f77b4;stroke-opacity:0.75;\" x=\"53.775852\" xlink:href=\"#m34ebcfffd1\" y=\"118.071946\"/>\r\n     <use style=\"fill:#1f77b4;fill-opacity:0.75;stroke:#1f77b4;stroke-opacity:0.75;\" x=\"104.503125\" xlink:href=\"#m34ebcfffd1\" y=\"93.362855\"/>\r\n     <use style=\"fill:#1f77b4;fill-opacity:0.75;stroke:#1f77b4;stroke-opacity:0.75;\" x=\"112.95767\" xlink:href=\"#m34ebcfffd1\" y=\"68.653764\"/>\r\n     <use style=\"fill:#1f77b4;fill-opacity:0.75;stroke:#1f77b4;stroke-opacity:0.75;\" x=\"87.594034\" xlink:href=\"#m34ebcfffd1\" y=\"134.544673\"/>\r\n     <use style=\"fill:#1f77b4;fill-opacity:0.75;stroke:#1f77b4;stroke-opacity:0.75;\" x=\"112.95767\" xlink:href=\"#m34ebcfffd1\" y=\"68.653764\"/>\r\n     <use style=\"fill:#1f77b4;fill-opacity:0.75;stroke:#1f77b4;stroke-opacity:0.75;\" x=\"70.684943\" xlink:href=\"#m34ebcfffd1\" y=\"118.071946\"/>\r\n     <use style=\"fill:#1f77b4;fill-opacity:0.75;stroke:#1f77b4;stroke-opacity:0.75;\" x=\"129.866761\" xlink:href=\"#m34ebcfffd1\" y=\"76.890128\"/>\r\n     <use style=\"fill:#1f77b4;fill-opacity:0.75;stroke:#1f77b4;stroke-opacity:0.75;\" x=\"104.503125\" xlink:href=\"#m34ebcfffd1\" y=\"109.835582\"/>\r\n     <use style=\"fill:#1f77b4;fill-opacity:0.75;stroke:#1f77b4;stroke-opacity:0.75;\" x=\"273.594034\" xlink:href=\"#m34ebcfffd1\" y=\"118.071946\"/>\r\n     <use style=\"fill:#1f77b4;fill-opacity:0.75;stroke:#1f77b4;stroke-opacity:0.75;\" x=\"222.866761\" xlink:href=\"#m34ebcfffd1\" y=\"118.071946\"/>\r\n     <use style=\"fill:#1f77b4;fill-opacity:0.75;stroke:#1f77b4;stroke-opacity:0.75;\" x=\"265.139489\" xlink:href=\"#m34ebcfffd1\" y=\"126.30831\"/>\r\n     <use style=\"fill:#1f77b4;fill-opacity:0.75;stroke:#1f77b4;stroke-opacity:0.75;\" x=\"146.775852\" xlink:href=\"#m34ebcfffd1\" y=\"192.199219\"/>\r\n     <use style=\"fill:#1f77b4;fill-opacity:0.75;stroke:#1f77b4;stroke-opacity:0.75;\" x=\"231.321307\" xlink:href=\"#m34ebcfffd1\" y=\"151.017401\"/>\r\n     <use style=\"fill:#1f77b4;fill-opacity:0.75;stroke:#1f77b4;stroke-opacity:0.75;\" x=\"163.684943\" xlink:href=\"#m34ebcfffd1\" y=\"151.017401\"/>\r\n     <use style=\"fill:#1f77b4;fill-opacity:0.75;stroke:#1f77b4;stroke-opacity:0.75;\" x=\"214.412216\" xlink:href=\"#m34ebcfffd1\" y=\"109.835582\"/>\r\n     <use style=\"fill:#1f77b4;fill-opacity:0.75;stroke:#1f77b4;stroke-opacity:0.75;\" x=\"96.04858\" xlink:href=\"#m34ebcfffd1\" y=\"183.962855\"/>\r\n     <use style=\"fill:#1f77b4;fill-opacity:0.75;stroke:#1f77b4;stroke-opacity:0.75;\" x=\"239.775852\" xlink:href=\"#m34ebcfffd1\" y=\"142.781037\"/>\r\n     <use style=\"fill:#1f77b4;fill-opacity:0.75;stroke:#1f77b4;stroke-opacity:0.75;\" x=\"121.412216\" xlink:href=\"#m34ebcfffd1\" y=\"159.253764\"/>\r\n     <use style=\"fill:#1f77b4;fill-opacity:0.75;stroke:#1f77b4;stroke-opacity:0.75;\" x=\"104.503125\" xlink:href=\"#m34ebcfffd1\" y=\"216.90831\"/>\r\n     <use style=\"fill:#1f77b4;fill-opacity:0.75;stroke:#1f77b4;stroke-opacity:0.75;\" x=\"180.594034\" xlink:href=\"#m34ebcfffd1\" y=\"134.544673\"/>\r\n     <use style=\"fill:#1f77b4;fill-opacity:0.75;stroke:#1f77b4;stroke-opacity:0.75;\" x=\"189.04858\" xlink:href=\"#m34ebcfffd1\" y=\"200.435582\"/>\r\n     <use style=\"fill:#1f77b4;fill-opacity:0.75;stroke:#1f77b4;stroke-opacity:0.75;\" x=\"197.503125\" xlink:href=\"#m34ebcfffd1\" y=\"142.781037\"/>\r\n     <use style=\"fill:#1f77b4;fill-opacity:0.75;stroke:#1f77b4;stroke-opacity:0.75;\" x=\"155.230398\" xlink:href=\"#m34ebcfffd1\" y=\"142.781037\"/>\r\n     <use style=\"fill:#1f77b4;fill-opacity:0.75;stroke:#1f77b4;stroke-opacity:0.75;\" x=\"248.230398\" xlink:href=\"#m34ebcfffd1\" y=\"126.30831\"/>\r\n     <use style=\"fill:#1f77b4;fill-opacity:0.75;stroke:#1f77b4;stroke-opacity:0.75;\" x=\"155.230398\" xlink:href=\"#m34ebcfffd1\" y=\"134.544673\"/>\r\n     <use style=\"fill:#1f77b4;fill-opacity:0.75;stroke:#1f77b4;stroke-opacity:0.75;\" x=\"172.139489\" xlink:href=\"#m34ebcfffd1\" y=\"159.253764\"/>\r\n     <use style=\"fill:#1f77b4;fill-opacity:0.75;stroke:#1f77b4;stroke-opacity:0.75;\" x=\"205.95767\" xlink:href=\"#m34ebcfffd1\" y=\"200.435582\"/>\r\n     <use style=\"fill:#1f77b4;fill-opacity:0.75;stroke:#1f77b4;stroke-opacity:0.75;\" x=\"155.230398\" xlink:href=\"#m34ebcfffd1\" y=\"175.726491\"/>\r\n     <use style=\"fill:#1f77b4;fill-opacity:0.75;stroke:#1f77b4;stroke-opacity:0.75;\" x=\"180.594034\" xlink:href=\"#m34ebcfffd1\" y=\"118.071946\"/>\r\n     <use style=\"fill:#1f77b4;fill-opacity:0.75;stroke:#1f77b4;stroke-opacity:0.75;\" x=\"197.503125\" xlink:href=\"#m34ebcfffd1\" y=\"151.017401\"/>\r\n     <use style=\"fill:#1f77b4;fill-opacity:0.75;stroke:#1f77b4;stroke-opacity:0.75;\" x=\"214.412216\" xlink:href=\"#m34ebcfffd1\" y=\"175.726491\"/>\r\n     <use style=\"fill:#1f77b4;fill-opacity:0.75;stroke:#1f77b4;stroke-opacity:0.75;\" x=\"197.503125\" xlink:href=\"#m34ebcfffd1\" y=\"151.017401\"/>\r\n     <use style=\"fill:#1f77b4;fill-opacity:0.75;stroke:#1f77b4;stroke-opacity:0.75;\" x=\"222.866761\" xlink:href=\"#m34ebcfffd1\" y=\"142.781037\"/>\r\n     <use style=\"fill:#1f77b4;fill-opacity:0.75;stroke:#1f77b4;stroke-opacity:0.75;\" x=\"239.775852\" xlink:href=\"#m34ebcfffd1\" y=\"134.544673\"/>\r\n     <use style=\"fill:#1f77b4;fill-opacity:0.75;stroke:#1f77b4;stroke-opacity:0.75;\" x=\"256.684943\" xlink:href=\"#m34ebcfffd1\" y=\"151.017401\"/>\r\n     <use style=\"fill:#1f77b4;fill-opacity:0.75;stroke:#1f77b4;stroke-opacity:0.75;\" x=\"248.230398\" xlink:href=\"#m34ebcfffd1\" y=\"134.544673\"/>\r\n     <use style=\"fill:#1f77b4;fill-opacity:0.75;stroke:#1f77b4;stroke-opacity:0.75;\" x=\"189.04858\" xlink:href=\"#m34ebcfffd1\" y=\"142.781037\"/>\r\n     <use style=\"fill:#1f77b4;fill-opacity:0.75;stroke:#1f77b4;stroke-opacity:0.75;\" x=\"163.684943\" xlink:href=\"#m34ebcfffd1\" y=\"167.490128\"/>\r\n     <use style=\"fill:#1f77b4;fill-opacity:0.75;stroke:#1f77b4;stroke-opacity:0.75;\" x=\"146.775852\" xlink:href=\"#m34ebcfffd1\" y=\"183.962855\"/>\r\n     <use style=\"fill:#1f77b4;fill-opacity:0.75;stroke:#1f77b4;stroke-opacity:0.75;\" x=\"146.775852\" xlink:href=\"#m34ebcfffd1\" y=\"183.962855\"/>\r\n     <use style=\"fill:#1f77b4;fill-opacity:0.75;stroke:#1f77b4;stroke-opacity:0.75;\" x=\"172.139489\" xlink:href=\"#m34ebcfffd1\" y=\"159.253764\"/>\r\n     <use style=\"fill:#1f77b4;fill-opacity:0.75;stroke:#1f77b4;stroke-opacity:0.75;\" x=\"189.04858\" xlink:href=\"#m34ebcfffd1\" y=\"159.253764\"/>\r\n     <use style=\"fill:#1f77b4;fill-opacity:0.75;stroke:#1f77b4;stroke-opacity:0.75;\" x=\"138.321307\" xlink:href=\"#m34ebcfffd1\" y=\"134.544673\"/>\r\n     <use style=\"fill:#1f77b4;fill-opacity:0.75;stroke:#1f77b4;stroke-opacity:0.75;\" x=\"189.04858\" xlink:href=\"#m34ebcfffd1\" y=\"101.599219\"/>\r\n     <use style=\"fill:#1f77b4;fill-opacity:0.75;stroke:#1f77b4;stroke-opacity:0.75;\" x=\"248.230398\" xlink:href=\"#m34ebcfffd1\" y=\"126.30831\"/>\r\n     <use style=\"fill:#1f77b4;fill-opacity:0.75;stroke:#1f77b4;stroke-opacity:0.75;\" x=\"214.412216\" xlink:href=\"#m34ebcfffd1\" y=\"192.199219\"/>\r\n     <use style=\"fill:#1f77b4;fill-opacity:0.75;stroke:#1f77b4;stroke-opacity:0.75;\" x=\"155.230398\" xlink:href=\"#m34ebcfffd1\" y=\"134.544673\"/>\r\n     <use style=\"fill:#1f77b4;fill-opacity:0.75;stroke:#1f77b4;stroke-opacity:0.75;\" x=\"146.775852\" xlink:href=\"#m34ebcfffd1\" y=\"175.726491\"/>\r\n     <use style=\"fill:#1f77b4;fill-opacity:0.75;stroke:#1f77b4;stroke-opacity:0.75;\" x=\"146.775852\" xlink:href=\"#m34ebcfffd1\" y=\"167.490128\"/>\r\n     <use style=\"fill:#1f77b4;fill-opacity:0.75;stroke:#1f77b4;stroke-opacity:0.75;\" x=\"197.503125\" xlink:href=\"#m34ebcfffd1\" y=\"134.544673\"/>\r\n     <use style=\"fill:#1f77b4;fill-opacity:0.75;stroke:#1f77b4;stroke-opacity:0.75;\" x=\"172.139489\" xlink:href=\"#m34ebcfffd1\" y=\"167.490128\"/>\r\n     <use style=\"fill:#1f77b4;fill-opacity:0.75;stroke:#1f77b4;stroke-opacity:0.75;\" x=\"104.503125\" xlink:href=\"#m34ebcfffd1\" y=\"192.199219\"/>\r\n     <use style=\"fill:#1f77b4;fill-opacity:0.75;stroke:#1f77b4;stroke-opacity:0.75;\" x=\"155.230398\" xlink:href=\"#m34ebcfffd1\" y=\"159.253764\"/>\r\n     <use style=\"fill:#1f77b4;fill-opacity:0.75;stroke:#1f77b4;stroke-opacity:0.75;\" x=\"163.684943\" xlink:href=\"#m34ebcfffd1\" y=\"134.544673\"/>\r\n     <use style=\"fill:#1f77b4;fill-opacity:0.75;stroke:#1f77b4;stroke-opacity:0.75;\" x=\"163.684943\" xlink:href=\"#m34ebcfffd1\" y=\"142.781037\"/>\r\n     <use style=\"fill:#1f77b4;fill-opacity:0.75;stroke:#1f77b4;stroke-opacity:0.75;\" x=\"205.95767\" xlink:href=\"#m34ebcfffd1\" y=\"142.781037\"/>\r\n     <use style=\"fill:#1f77b4;fill-opacity:0.75;stroke:#1f77b4;stroke-opacity:0.75;\" x=\"112.95767\" xlink:href=\"#m34ebcfffd1\" y=\"175.726491\"/>\r\n     <use style=\"fill:#1f77b4;fill-opacity:0.75;stroke:#1f77b4;stroke-opacity:0.75;\" x=\"163.684943\" xlink:href=\"#m34ebcfffd1\" y=\"151.017401\"/>\r\n     <use style=\"fill:#1f77b4;fill-opacity:0.75;stroke:#1f77b4;stroke-opacity:0.75;\" x=\"214.412216\" xlink:href=\"#m34ebcfffd1\" y=\"109.835582\"/>\r\n     <use style=\"fill:#1f77b4;fill-opacity:0.75;stroke:#1f77b4;stroke-opacity:0.75;\" x=\"172.139489\" xlink:href=\"#m34ebcfffd1\" y=\"159.253764\"/>\r\n     <use style=\"fill:#1f77b4;fill-opacity:0.75;stroke:#1f77b4;stroke-opacity:0.75;\" x=\"282.04858\" xlink:href=\"#m34ebcfffd1\" y=\"134.544673\"/>\r\n     <use style=\"fill:#1f77b4;fill-opacity:0.75;stroke:#1f77b4;stroke-opacity:0.75;\" x=\"214.412216\" xlink:href=\"#m34ebcfffd1\" y=\"142.781037\"/>\r\n     <use style=\"fill:#1f77b4;fill-opacity:0.75;stroke:#1f77b4;stroke-opacity:0.75;\" x=\"231.321307\" xlink:href=\"#m34ebcfffd1\" y=\"134.544673\"/>\r\n     <use style=\"fill:#1f77b4;fill-opacity:0.75;stroke:#1f77b4;stroke-opacity:0.75;\" x=\"324.321307\" xlink:href=\"#m34ebcfffd1\" y=\"134.544673\"/>\r\n     <use style=\"fill:#1f77b4;fill-opacity:0.75;stroke:#1f77b4;stroke-opacity:0.75;\" x=\"96.04858\" xlink:href=\"#m34ebcfffd1\" y=\"175.726491\"/>\r\n     <use style=\"fill:#1f77b4;fill-opacity:0.75;stroke:#1f77b4;stroke-opacity:0.75;\" x=\"298.95767\" xlink:href=\"#m34ebcfffd1\" y=\"142.781037\"/>\r\n     <use style=\"fill:#1f77b4;fill-opacity:0.75;stroke:#1f77b4;stroke-opacity:0.75;\" x=\"248.230398\" xlink:href=\"#m34ebcfffd1\" y=\"175.726491\"/>\r\n     <use style=\"fill:#1f77b4;fill-opacity:0.75;stroke:#1f77b4;stroke-opacity:0.75;\" x=\"290.503125\" xlink:href=\"#m34ebcfffd1\" y=\"85.126491\"/>\r\n     <use style=\"fill:#1f77b4;fill-opacity:0.75;stroke:#1f77b4;stroke-opacity:0.75;\" x=\"231.321307\" xlink:href=\"#m34ebcfffd1\" y=\"118.071946\"/>\r\n     <use style=\"fill:#1f77b4;fill-opacity:0.75;stroke:#1f77b4;stroke-opacity:0.75;\" x=\"222.866761\" xlink:href=\"#m34ebcfffd1\" y=\"159.253764\"/>\r\n     <use style=\"fill:#1f77b4;fill-opacity:0.75;stroke:#1f77b4;stroke-opacity:0.75;\" x=\"256.684943\" xlink:href=\"#m34ebcfffd1\" y=\"134.544673\"/>\r\n     <use style=\"fill:#1f77b4;fill-opacity:0.75;stroke:#1f77b4;stroke-opacity:0.75;\" x=\"163.684943\" xlink:href=\"#m34ebcfffd1\" y=\"175.726491\"/>\r\n     <use style=\"fill:#1f77b4;fill-opacity:0.75;stroke:#1f77b4;stroke-opacity:0.75;\" x=\"172.139489\" xlink:href=\"#m34ebcfffd1\" y=\"151.017401\"/>\r\n     <use style=\"fill:#1f77b4;fill-opacity:0.75;stroke:#1f77b4;stroke-opacity:0.75;\" x=\"222.866761\" xlink:href=\"#m34ebcfffd1\" y=\"118.071946\"/>\r\n     <use style=\"fill:#1f77b4;fill-opacity:0.75;stroke:#1f77b4;stroke-opacity:0.75;\" x=\"231.321307\" xlink:href=\"#m34ebcfffd1\" y=\"134.544673\"/>\r\n     <use style=\"fill:#1f77b4;fill-opacity:0.75;stroke:#1f77b4;stroke-opacity:0.75;\" x=\"332.775852\" xlink:href=\"#m34ebcfffd1\" y=\"68.653764\"/>\r\n     <use style=\"fill:#1f77b4;fill-opacity:0.75;stroke:#1f77b4;stroke-opacity:0.75;\" x=\"332.775852\" xlink:href=\"#m34ebcfffd1\" y=\"167.490128\"/>\r\n     <use style=\"fill:#1f77b4;fill-opacity:0.75;stroke:#1f77b4;stroke-opacity:0.75;\" x=\"189.04858\" xlink:href=\"#m34ebcfffd1\" y=\"200.435582\"/>\r\n     <use style=\"fill:#1f77b4;fill-opacity:0.75;stroke:#1f77b4;stroke-opacity:0.75;\" x=\"265.139489\" xlink:href=\"#m34ebcfffd1\" y=\"118.071946\"/>\r\n     <use style=\"fill:#1f77b4;fill-opacity:0.75;stroke:#1f77b4;stroke-opacity:0.75;\" x=\"155.230398\" xlink:href=\"#m34ebcfffd1\" y=\"151.017401\"/>\r\n     <use style=\"fill:#1f77b4;fill-opacity:0.75;stroke:#1f77b4;stroke-opacity:0.75;\" x=\"332.775852\" xlink:href=\"#m34ebcfffd1\" y=\"151.017401\"/>\r\n     <use style=\"fill:#1f77b4;fill-opacity:0.75;stroke:#1f77b4;stroke-opacity:0.75;\" x=\"214.412216\" xlink:href=\"#m34ebcfffd1\" y=\"159.253764\"/>\r\n     <use style=\"fill:#1f77b4;fill-opacity:0.75;stroke:#1f77b4;stroke-opacity:0.75;\" x=\"248.230398\" xlink:href=\"#m34ebcfffd1\" y=\"109.835582\"/>\r\n     <use style=\"fill:#1f77b4;fill-opacity:0.75;stroke:#1f77b4;stroke-opacity:0.75;\" x=\"290.503125\" xlink:href=\"#m34ebcfffd1\" y=\"118.071946\"/>\r\n     <use style=\"fill:#1f77b4;fill-opacity:0.75;stroke:#1f77b4;stroke-opacity:0.75;\" x=\"205.95767\" xlink:href=\"#m34ebcfffd1\" y=\"151.017401\"/>\r\n     <use style=\"fill:#1f77b4;fill-opacity:0.75;stroke:#1f77b4;stroke-opacity:0.75;\" x=\"197.503125\" xlink:href=\"#m34ebcfffd1\" y=\"134.544673\"/>\r\n     <use style=\"fill:#1f77b4;fill-opacity:0.75;stroke:#1f77b4;stroke-opacity:0.75;\" x=\"222.866761\" xlink:href=\"#m34ebcfffd1\" y=\"151.017401\"/>\r\n     <use style=\"fill:#1f77b4;fill-opacity:0.75;stroke:#1f77b4;stroke-opacity:0.75;\" x=\"290.503125\" xlink:href=\"#m34ebcfffd1\" y=\"134.544673\"/>\r\n     <use style=\"fill:#1f77b4;fill-opacity:0.75;stroke:#1f77b4;stroke-opacity:0.75;\" x=\"307.412216\" xlink:href=\"#m34ebcfffd1\" y=\"151.017401\"/>\r\n     <use style=\"fill:#1f77b4;fill-opacity:0.75;stroke:#1f77b4;stroke-opacity:0.75;\" x=\"349.684943\" xlink:href=\"#m34ebcfffd1\" y=\"68.653764\"/>\r\n     <use style=\"fill:#1f77b4;fill-opacity:0.75;stroke:#1f77b4;stroke-opacity:0.75;\" x=\"222.866761\" xlink:href=\"#m34ebcfffd1\" y=\"151.017401\"/>\r\n     <use style=\"fill:#1f77b4;fill-opacity:0.75;stroke:#1f77b4;stroke-opacity:0.75;\" x=\"214.412216\" xlink:href=\"#m34ebcfffd1\" y=\"151.017401\"/>\r\n     <use style=\"fill:#1f77b4;fill-opacity:0.75;stroke:#1f77b4;stroke-opacity:0.75;\" x=\"197.503125\" xlink:href=\"#m34ebcfffd1\" y=\"167.490128\"/>\r\n     <use style=\"fill:#1f77b4;fill-opacity:0.75;stroke:#1f77b4;stroke-opacity:0.75;\" x=\"332.775852\" xlink:href=\"#m34ebcfffd1\" y=\"134.544673\"/>\r\n     <use style=\"fill:#1f77b4;fill-opacity:0.75;stroke:#1f77b4;stroke-opacity:0.75;\" x=\"214.412216\" xlink:href=\"#m34ebcfffd1\" y=\"101.599219\"/>\r\n     <use style=\"fill:#1f77b4;fill-opacity:0.75;stroke:#1f77b4;stroke-opacity:0.75;\" x=\"222.866761\" xlink:href=\"#m34ebcfffd1\" y=\"126.30831\"/>\r\n     <use style=\"fill:#1f77b4;fill-opacity:0.75;stroke:#1f77b4;stroke-opacity:0.75;\" x=\"189.04858\" xlink:href=\"#m34ebcfffd1\" y=\"134.544673\"/>\r\n     <use style=\"fill:#1f77b4;fill-opacity:0.75;stroke:#1f77b4;stroke-opacity:0.75;\" x=\"265.139489\" xlink:href=\"#m34ebcfffd1\" y=\"126.30831\"/>\r\n     <use style=\"fill:#1f77b4;fill-opacity:0.75;stroke:#1f77b4;stroke-opacity:0.75;\" x=\"248.230398\" xlink:href=\"#m34ebcfffd1\" y=\"126.30831\"/>\r\n     <use style=\"fill:#1f77b4;fill-opacity:0.75;stroke:#1f77b4;stroke-opacity:0.75;\" x=\"265.139489\" xlink:href=\"#m34ebcfffd1\" y=\"126.30831\"/>\r\n     <use style=\"fill:#1f77b4;fill-opacity:0.75;stroke:#1f77b4;stroke-opacity:0.75;\" x=\"172.139489\" xlink:href=\"#m34ebcfffd1\" y=\"159.253764\"/>\r\n     <use style=\"fill:#1f77b4;fill-opacity:0.75;stroke:#1f77b4;stroke-opacity:0.75;\" x=\"256.684943\" xlink:href=\"#m34ebcfffd1\" y=\"118.071946\"/>\r\n     <use style=\"fill:#1f77b4;fill-opacity:0.75;stroke:#1f77b4;stroke-opacity:0.75;\" x=\"248.230398\" xlink:href=\"#m34ebcfffd1\" y=\"109.835582\"/>\r\n     <use style=\"fill:#1f77b4;fill-opacity:0.75;stroke:#1f77b4;stroke-opacity:0.75;\" x=\"248.230398\" xlink:href=\"#m34ebcfffd1\" y=\"134.544673\"/>\r\n     <use style=\"fill:#1f77b4;fill-opacity:0.75;stroke:#1f77b4;stroke-opacity:0.75;\" x=\"214.412216\" xlink:href=\"#m34ebcfffd1\" y=\"175.726491\"/>\r\n     <use style=\"fill:#1f77b4;fill-opacity:0.75;stroke:#1f77b4;stroke-opacity:0.75;\" x=\"231.321307\" xlink:href=\"#m34ebcfffd1\" y=\"134.544673\"/>\r\n     <use style=\"fill:#1f77b4;fill-opacity:0.75;stroke:#1f77b4;stroke-opacity:0.75;\" x=\"205.95767\" xlink:href=\"#m34ebcfffd1\" y=\"101.599219\"/>\r\n     <use style=\"fill:#1f77b4;fill-opacity:0.75;stroke:#1f77b4;stroke-opacity:0.75;\" x=\"180.594034\" xlink:href=\"#m34ebcfffd1\" y=\"134.544673\"/>\r\n    </g>\r\n   </g>\r\n   <g id=\"patch_3\">\r\n    <path d=\"M 30.103125 226.791946 \r\nL 30.103125 9.351946 \r\n\" style=\"fill:none;stroke:#000000;stroke-linecap:square;stroke-linejoin:miter;stroke-width:0.8;\"/>\r\n   </g>\r\n   <g id=\"patch_4\">\r\n    <path d=\"M 364.903125 226.791946 \r\nL 364.903125 9.351946 \r\n\" style=\"fill:none;stroke:#000000;stroke-linecap:square;stroke-linejoin:miter;stroke-width:0.8;\"/>\r\n   </g>\r\n   <g id=\"patch_5\">\r\n    <path d=\"M 30.103125 226.791946 \r\nL 364.903125 226.791946 \r\n\" style=\"fill:none;stroke:#000000;stroke-linecap:square;stroke-linejoin:miter;stroke-width:0.8;\"/>\r\n   </g>\r\n   <g id=\"patch_6\">\r\n    <path d=\"M 30.103125 9.351946 \r\nL 364.903125 9.351946 \r\n\" style=\"fill:none;stroke:#000000;stroke-linecap:square;stroke-linejoin:miter;stroke-width:0.8;\"/>\r\n   </g>\r\n  </g>\r\n </g>\r\n <defs>\r\n  <clipPath id=\"pd835c6e5b1\">\r\n   <rect height=\"217.44\" width=\"334.8\" x=\"30.103125\" y=\"9.351946\"/>\r\n  </clipPath>\r\n </defs>\r\n</svg>\r\n",
      "image/png": "[encoded data removed]"
     },
     "metadata": {
      "needs_background": "light"
     }
    }
   ],
   "source": [
    "# Gerando um plot a partir de um arquivo usando o NumPy\n",
    "var1, var2 = np.loadtxt(filename, delimiter=',', usecols=(0,1), skiprows=1, unpack=True)\n",
    "plt.show(plt.plot(var1, var2, 'o', markersize=8, alpha=0.75))"
   ]
  },
  {
   "cell_type": "markdown",
   "metadata": {},
   "source": [
    "## Estatística"
   ]
  },
  {
   "cell_type": "code",
   "execution_count": 77,
   "metadata": {},
   "outputs": [],
   "source": [
    "# Criando um array\n",
    "A = np.array([15, 23, 63, 94, 75])"
   ]
  },
  {
   "cell_type": "code",
   "execution_count": 78,
   "metadata": {},
   "outputs": [
    {
     "output_type": "execute_result",
     "data": {
      "text/plain": [
       "54.0"
      ]
     },
     "metadata": {},
     "execution_count": 78
    }
   ],
   "source": [
    "# Em estatística a média é o valor que aponta para onde mais se concentram os dados de uma distribuição.\n",
    "np.mean(A)"
   ]
  },
  {
   "cell_type": "code",
   "execution_count": 79,
   "metadata": {},
   "outputs": [
    {
     "output_type": "execute_result",
     "data": {
      "text/plain": [
       "30.34468652004828"
      ]
     },
     "metadata": {},
     "execution_count": 79
    }
   ],
   "source": [
    "# O desvio padrão mostra o quanto de variação ou \"dispersão\" existe em \n",
    "# relação à média (ou valor esperado). \n",
    "# Um baixo desvio padrão indica que os dados tendem a estar próximos da média.\n",
    "# Um desvio padrão alto indica que os dados estão espalhados por uma gama de valores.\n",
    "np.std(A)"
   ]
  },
  {
   "cell_type": "code",
   "execution_count": 80,
   "metadata": {},
   "outputs": [
    {
     "output_type": "execute_result",
     "data": {
      "text/plain": [
       "920.8"
      ]
     },
     "metadata": {},
     "execution_count": 80
    }
   ],
   "source": [
    "# Variância de uma variável aleatória é uma medida da sua dispersão \n",
    "# estatística, indicando \"o quão longe\" em geral os seus valores se \n",
    "# encontram do valor esperado\n",
    "np.var(A)"
   ]
  },
  {
   "cell_type": "code",
   "execution_count": 81,
   "metadata": {},
   "outputs": [],
   "source": [
    "d = np.arange(1, 10)"
   ]
  },
  {
   "cell_type": "code",
   "execution_count": 82,
   "metadata": {},
   "outputs": [
    {
     "output_type": "execute_result",
     "data": {
      "text/plain": [
       "array([1, 2, 3, 4, 5, 6, 7, 8, 9])"
      ]
     },
     "metadata": {},
     "execution_count": 82
    }
   ],
   "source": [
    "d"
   ]
  },
  {
   "cell_type": "code",
   "execution_count": 83,
   "metadata": {},
   "outputs": [
    {
     "output_type": "execute_result",
     "data": {
      "text/plain": [
       "45"
      ]
     },
     "metadata": {},
     "execution_count": 83
    }
   ],
   "source": [
    "np.sum(d)"
   ]
  },
  {
   "cell_type": "code",
   "execution_count": 84,
   "metadata": {},
   "outputs": [
    {
     "output_type": "execute_result",
     "data": {
      "text/plain": [
       "362880"
      ]
     },
     "metadata": {},
     "execution_count": 84
    }
   ],
   "source": [
    "# Retorna o produto dos elementos\n",
    "np.prod(d)"
   ]
  },
  {
   "cell_type": "code",
   "execution_count": 85,
   "metadata": {},
   "outputs": [
    {
     "output_type": "execute_result",
     "data": {
      "text/plain": [
       "array([ 1,  3,  6, 10, 15, 21, 28, 36, 45], dtype=int32)"
      ]
     },
     "metadata": {},
     "execution_count": 85
    }
   ],
   "source": [
    "# Soma acumulada dos elementos\n",
    "np.cumsum(d)"
   ]
  },
  {
   "cell_type": "code",
   "execution_count": 86,
   "metadata": {},
   "outputs": [
    {
     "output_type": "stream",
     "name": "stdout",
     "text": [
      "[ 0.07300347 -0.00996295] (2,)\n"
     ]
    }
   ],
   "source": [
    "a = np.random.randn(400,2)\n",
    "m = a.mean(0)\n",
    "print (m, m.shape)"
   ]
  },
  {
   "cell_type": "code",
   "execution_count": 87,
   "metadata": {},
   "outputs": [
    {
     "output_type": "display_data",
     "data": {
      "text/plain": "<Figure size 432x288 with 1 Axes>",
      "image/svg+xml": "<?xml version=\"1.0\" encoding=\"utf-8\" standalone=\"no\"?>\r\n<!DOCTYPE svg PUBLIC \"-//W3C//DTD SVG 1.1//EN\"\r\n  \"http://www.w3.org/Graphics/SVG/1.1/DTD/svg11.dtd\">\r\n<!-- Created with matplotlib (https://matplotlib.org/) -->\r\n<svg height=\"248.518125pt\" version=\"1.1\" viewBox=\"0 0 370.942187 248.518125\" width=\"370.942187pt\" xmlns=\"http://www.w3.org/2000/svg\" xmlns:xlink=\"http://www.w3.org/1999/xlink\">\r\n <defs>\r\n  <style type=\"text/css\">\r\n*{stroke-linecap:butt;stroke-linejoin:round;}\r\n  </style>\r\n </defs>\r\n <g id=\"figure_1\">\r\n  <g id=\"patch_1\">\r\n   <path d=\"M 0 248.518125 \r\nL 370.942187 248.518125 \r\nL 370.942187 0 \r\nL 0 0 \r\nz\r\n\" style=\"fill:none;\"/>\r\n  </g>\r\n  <g id=\"axes_1\">\r\n   <g id=\"patch_2\">\r\n    <path d=\"M 28.942188 224.64 \r\nL 363.742188 224.64 \r\nL 363.742188 7.2 \r\nL 28.942188 7.2 \r\nz\r\n\" style=\"fill:#ffffff;\"/>\r\n   </g>\r\n   <g id=\"matplotlib.axis_1\">\r\n    <g id=\"xtick_1\">\r\n     <g id=\"line2d_1\">\r\n      <defs>\r\n       <path d=\"M 0 0 \r\nL 0 3.5 \r\n\" id=\"m1d5915423d\" style=\"stroke:#000000;stroke-width:0.8;\"/>\r\n      </defs>\r\n      <g>\r\n       <use style=\"stroke:#000000;stroke-width:0.8;\" x=\"74.030897\" xlink:href=\"#m1d5915423d\" y=\"224.64\"/>\r\n      </g>\r\n     </g>\r\n     <g id=\"text_1\">\r\n      <!-- −2 -->\r\n      <defs>\r\n       <path d=\"M 10.59375 35.5 \r\nL 73.1875 35.5 \r\nL 73.1875 27.203125 \r\nL 10.59375 27.203125 \r\nz\r\n\" id=\"DejaVuSans-8722\"/>\r\n       <path d=\"M 19.1875 8.296875 \r\nL 53.609375 8.296875 \r\nL 53.609375 0 \r\nL 7.328125 0 \r\nL 7.328125 8.296875 \r\nQ 12.9375 14.109375 22.625 23.890625 \r\nQ 32.328125 33.6875 34.8125 36.53125 \r\nQ 39.546875 41.84375 41.421875 45.53125 \r\nQ 43.3125 49.21875 43.3125 52.78125 \r\nQ 43.3125 58.59375 39.234375 62.25 \r\nQ 35.15625 65.921875 28.609375 65.921875 \r\nQ 23.96875 65.921875 18.8125 64.3125 \r\nQ 13.671875 62.703125 7.8125 59.421875 \r\nL 7.8125 69.390625 \r\nQ 13.765625 71.78125 18.9375 73 \r\nQ 24.125 74.21875 28.421875 74.21875 \r\nQ 39.75 74.21875 46.484375 68.546875 \r\nQ 53.21875 62.890625 53.21875 53.421875 \r\nQ 53.21875 48.921875 51.53125 44.890625 \r\nQ 49.859375 40.875 45.40625 35.40625 \r\nQ 44.1875 33.984375 37.640625 27.21875 \r\nQ 31.109375 20.453125 19.1875 8.296875 \r\nz\r\n\" id=\"DejaVuSans-50\"/>\r\n      </defs>\r\n      <g transform=\"translate(66.659804 239.238437)scale(0.1 -0.1)\">\r\n       <use xlink:href=\"#DejaVuSans-8722\"/>\r\n       <use x=\"83.789062\" xlink:href=\"#DejaVuSans-50\"/>\r\n      </g>\r\n     </g>\r\n    </g>\r\n    <g id=\"xtick_2\">\r\n     <g id=\"line2d_2\">\r\n      <g>\r\n       <use style=\"stroke:#000000;stroke-width:0.8;\" x=\"124.630154\" xlink:href=\"#m1d5915423d\" y=\"224.64\"/>\r\n      </g>\r\n     </g>\r\n     <g id=\"text_2\">\r\n      <!-- −1 -->\r\n      <defs>\r\n       <path d=\"M 12.40625 8.296875 \r\nL 28.515625 8.296875 \r\nL 28.515625 63.921875 \r\nL 10.984375 60.40625 \r\nL 10.984375 69.390625 \r\nL 28.421875 72.90625 \r\nL 38.28125 72.90625 \r\nL 38.28125 8.296875 \r\nL 54.390625 8.296875 \r\nL 54.390625 0 \r\nL 12.40625 0 \r\nz\r\n\" id=\"DejaVuSans-49\"/>\r\n      </defs>\r\n      <g transform=\"translate(117.25906 239.238437)scale(0.1 -0.1)\">\r\n       <use xlink:href=\"#DejaVuSans-8722\"/>\r\n       <use x=\"83.789062\" xlink:href=\"#DejaVuSans-49\"/>\r\n      </g>\r\n     </g>\r\n    </g>\r\n    <g id=\"xtick_3\">\r\n     <g id=\"line2d_3\">\r\n      <g>\r\n       <use style=\"stroke:#000000;stroke-width:0.8;\" x=\"175.229411\" xlink:href=\"#m1d5915423d\" y=\"224.64\"/>\r\n      </g>\r\n     </g>\r\n     <g id=\"text_3\">\r\n      <!-- 0 -->\r\n      <defs>\r\n       <path d=\"M 31.78125 66.40625 \r\nQ 24.171875 66.40625 20.328125 58.90625 \r\nQ 16.5 51.421875 16.5 36.375 \r\nQ 16.5 21.390625 20.328125 13.890625 \r\nQ 24.171875 6.390625 31.78125 6.390625 \r\nQ 39.453125 6.390625 43.28125 13.890625 \r\nQ 47.125 21.390625 47.125 36.375 \r\nQ 47.125 51.421875 43.28125 58.90625 \r\nQ 39.453125 66.40625 31.78125 66.40625 \r\nz\r\nM 31.78125 74.21875 \r\nQ 44.046875 74.21875 50.515625 64.515625 \r\nQ 56.984375 54.828125 56.984375 36.375 \r\nQ 56.984375 17.96875 50.515625 8.265625 \r\nQ 44.046875 -1.421875 31.78125 -1.421875 \r\nQ 19.53125 -1.421875 13.0625 8.265625 \r\nQ 6.59375 17.96875 6.59375 36.375 \r\nQ 6.59375 54.828125 13.0625 64.515625 \r\nQ 19.53125 74.21875 31.78125 74.21875 \r\nz\r\n\" id=\"DejaVuSans-48\"/>\r\n      </defs>\r\n      <g transform=\"translate(172.048161 239.238437)scale(0.1 -0.1)\">\r\n       <use xlink:href=\"#DejaVuSans-48\"/>\r\n      </g>\r\n     </g>\r\n    </g>\r\n    <g id=\"xtick_4\">\r\n     <g id=\"line2d_4\">\r\n      <g>\r\n       <use style=\"stroke:#000000;stroke-width:0.8;\" x=\"225.828667\" xlink:href=\"#m1d5915423d\" y=\"224.64\"/>\r\n      </g>\r\n     </g>\r\n     <g id=\"text_4\">\r\n      <!-- 1 -->\r\n      <g transform=\"translate(222.647417 239.238437)scale(0.1 -0.1)\">\r\n       <use xlink:href=\"#DejaVuSans-49\"/>\r\n      </g>\r\n     </g>\r\n    </g>\r\n    <g id=\"xtick_5\">\r\n     <g id=\"line2d_5\">\r\n      <g>\r\n       <use style=\"stroke:#000000;stroke-width:0.8;\" x=\"276.427924\" xlink:href=\"#m1d5915423d\" y=\"224.64\"/>\r\n      </g>\r\n     </g>\r\n     <g id=\"text_5\">\r\n      <!-- 2 -->\r\n      <g transform=\"translate(273.246674 239.238437)scale(0.1 -0.1)\">\r\n       <use xlink:href=\"#DejaVuSans-50\"/>\r\n      </g>\r\n     </g>\r\n    </g>\r\n    <g id=\"xtick_6\">\r\n     <g id=\"line2d_6\">\r\n      <g>\r\n       <use style=\"stroke:#000000;stroke-width:0.8;\" x=\"327.027181\" xlink:href=\"#m1d5915423d\" y=\"224.64\"/>\r\n      </g>\r\n     </g>\r\n     <g id=\"text_6\">\r\n      <!-- 3 -->\r\n      <defs>\r\n       <path d=\"M 40.578125 39.3125 \r\nQ 47.65625 37.796875 51.625 33 \r\nQ 55.609375 28.21875 55.609375 21.1875 \r\nQ 55.609375 10.40625 48.1875 4.484375 \r\nQ 40.765625 -1.421875 27.09375 -1.421875 \r\nQ 22.515625 -1.421875 17.65625 -0.515625 \r\nQ 12.796875 0.390625 7.625 2.203125 \r\nL 7.625 11.71875 \r\nQ 11.71875 9.328125 16.59375 8.109375 \r\nQ 21.484375 6.890625 26.8125 6.890625 \r\nQ 36.078125 6.890625 40.9375 10.546875 \r\nQ 45.796875 14.203125 45.796875 21.1875 \r\nQ 45.796875 27.640625 41.28125 31.265625 \r\nQ 36.765625 34.90625 28.71875 34.90625 \r\nL 20.21875 34.90625 \r\nL 20.21875 43.015625 \r\nL 29.109375 43.015625 \r\nQ 36.375 43.015625 40.234375 45.921875 \r\nQ 44.09375 48.828125 44.09375 54.296875 \r\nQ 44.09375 59.90625 40.109375 62.90625 \r\nQ 36.140625 65.921875 28.71875 65.921875 \r\nQ 24.65625 65.921875 20.015625 65.03125 \r\nQ 15.375 64.15625 9.8125 62.3125 \r\nL 9.8125 71.09375 \r\nQ 15.4375 72.65625 20.34375 73.4375 \r\nQ 25.25 74.21875 29.59375 74.21875 \r\nQ 40.828125 74.21875 47.359375 69.109375 \r\nQ 53.90625 64.015625 53.90625 55.328125 \r\nQ 53.90625 49.265625 50.4375 45.09375 \r\nQ 46.96875 40.921875 40.578125 39.3125 \r\nz\r\n\" id=\"DejaVuSans-51\"/>\r\n      </defs>\r\n      <g transform=\"translate(323.845931 239.238437)scale(0.1 -0.1)\">\r\n       <use xlink:href=\"#DejaVuSans-51\"/>\r\n      </g>\r\n     </g>\r\n    </g>\r\n   </g>\r\n   <g id=\"matplotlib.axis_2\">\r\n    <g id=\"ytick_1\">\r\n     <g id=\"line2d_7\">\r\n      <defs>\r\n       <path d=\"M 0 0 \r\nL -3.5 0 \r\n\" id=\"m048606c191\" style=\"stroke:#000000;stroke-width:0.8;\"/>\r\n      </defs>\r\n      <g>\r\n       <use style=\"stroke:#000000;stroke-width:0.8;\" x=\"28.942188\" xlink:href=\"#m048606c191\" y=\"219.075371\"/>\r\n      </g>\r\n     </g>\r\n     <g id=\"text_7\">\r\n      <!-- −3 -->\r\n      <g transform=\"translate(7.2 222.87459)scale(0.1 -0.1)\">\r\n       <use xlink:href=\"#DejaVuSans-8722\"/>\r\n       <use x=\"83.789062\" xlink:href=\"#DejaVuSans-51\"/>\r\n      </g>\r\n     </g>\r\n    </g>\r\n    <g id=\"ytick_2\">\r\n     <g id=\"line2d_8\">\r\n      <g>\r\n       <use style=\"stroke:#000000;stroke-width:0.8;\" x=\"28.942188\" xlink:href=\"#m048606c191\" y=\"187.867299\"/>\r\n      </g>\r\n     </g>\r\n     <g id=\"text_8\">\r\n      <!-- −2 -->\r\n      <g transform=\"translate(7.2 191.666518)scale(0.1 -0.1)\">\r\n       <use xlink:href=\"#DejaVuSans-8722\"/>\r\n       <use x=\"83.789062\" xlink:href=\"#DejaVuSans-50\"/>\r\n      </g>\r\n     </g>\r\n    </g>\r\n    <g id=\"ytick_3\">\r\n     <g id=\"line2d_9\">\r\n      <g>\r\n       <use style=\"stroke:#000000;stroke-width:0.8;\" x=\"28.942188\" xlink:href=\"#m048606c191\" y=\"156.659227\"/>\r\n      </g>\r\n     </g>\r\n     <g id=\"text_9\">\r\n      <!-- −1 -->\r\n      <g transform=\"translate(7.2 160.458446)scale(0.1 -0.1)\">\r\n       <use xlink:href=\"#DejaVuSans-8722\"/>\r\n       <use x=\"83.789062\" xlink:href=\"#DejaVuSans-49\"/>\r\n      </g>\r\n     </g>\r\n    </g>\r\n    <g id=\"ytick_4\">\r\n     <g id=\"line2d_10\">\r\n      <g>\r\n       <use style=\"stroke:#000000;stroke-width:0.8;\" x=\"28.942188\" xlink:href=\"#m048606c191\" y=\"125.451154\"/>\r\n      </g>\r\n     </g>\r\n     <g id=\"text_10\">\r\n      <!-- 0 -->\r\n      <g transform=\"translate(15.579688 129.250373)scale(0.1 -0.1)\">\r\n       <use xlink:href=\"#DejaVuSans-48\"/>\r\n      </g>\r\n     </g>\r\n    </g>\r\n    <g id=\"ytick_5\">\r\n     <g id=\"line2d_11\">\r\n      <g>\r\n       <use style=\"stroke:#000000;stroke-width:0.8;\" x=\"28.942188\" xlink:href=\"#m048606c191\" y=\"94.243082\"/>\r\n      </g>\r\n     </g>\r\n     <g id=\"text_11\">\r\n      <!-- 1 -->\r\n      <g transform=\"translate(15.579688 98.042301)scale(0.1 -0.1)\">\r\n       <use xlink:href=\"#DejaVuSans-49\"/>\r\n      </g>\r\n     </g>\r\n    </g>\r\n    <g id=\"ytick_6\">\r\n     <g id=\"line2d_12\">\r\n      <g>\r\n       <use style=\"stroke:#000000;stroke-width:0.8;\" x=\"28.942188\" xlink:href=\"#m048606c191\" y=\"63.03501\"/>\r\n      </g>\r\n     </g>\r\n     <g id=\"text_12\">\r\n      <!-- 2 -->\r\n      <g transform=\"translate(15.579688 66.834229)scale(0.1 -0.1)\">\r\n       <use xlink:href=\"#DejaVuSans-50\"/>\r\n      </g>\r\n     </g>\r\n    </g>\r\n    <g id=\"ytick_7\">\r\n     <g id=\"line2d_13\">\r\n      <g>\r\n       <use style=\"stroke:#000000;stroke-width:0.8;\" x=\"28.942188\" xlink:href=\"#m048606c191\" y=\"31.826938\"/>\r\n      </g>\r\n     </g>\r\n     <g id=\"text_13\">\r\n      <!-- 3 -->\r\n      <g transform=\"translate(15.579688 35.626156)scale(0.1 -0.1)\">\r\n       <use xlink:href=\"#DejaVuSans-51\"/>\r\n      </g>\r\n     </g>\r\n    </g>\r\n   </g>\r\n   <g id=\"line2d_14\">\r\n    <defs>\r\n     <path d=\"M 0 2.5 \r\nC 0.663008 2.5 1.29895 2.236584 1.767767 1.767767 \r\nC 2.236584 1.29895 2.5 0.663008 2.5 0 \r\nC 2.5 -0.663008 2.236584 -1.29895 1.767767 -1.767767 \r\nC 1.29895 -2.236584 0.663008 -2.5 0 -2.5 \r\nC -0.663008 -2.5 -1.29895 -2.236584 -1.767767 -1.767767 \r\nC -2.236584 -1.29895 -2.5 -0.663008 -2.5 0 \r\nC -2.5 0.663008 -2.236584 1.29895 -1.767767 1.767767 \r\nC -1.29895 2.236584 -0.663008 2.5 0 2.5 \r\nz\r\n\" id=\"m099be6a1d5\" style=\"stroke:#1f77b4;stroke-opacity:0.5;\"/>\r\n    </defs>\r\n    <g clip-path=\"url(#p7ec7904a6f)\">\r\n     <use style=\"fill:#1f77b4;fill-opacity:0.5;stroke:#1f77b4;stroke-opacity:0.5;\" x=\"215.161493\" xlink:href=\"#m099be6a1d5\" y=\"96.476311\"/>\r\n     <use style=\"fill:#1f77b4;fill-opacity:0.5;stroke:#1f77b4;stroke-opacity:0.5;\" x=\"294.227299\" xlink:href=\"#m099be6a1d5\" y=\"111.679503\"/>\r\n     <use style=\"fill:#1f77b4;fill-opacity:0.5;stroke:#1f77b4;stroke-opacity:0.5;\" x=\"157.308478\" xlink:href=\"#m099be6a1d5\" y=\"97.966956\"/>\r\n     <use style=\"fill:#1f77b4;fill-opacity:0.5;stroke:#1f77b4;stroke-opacity:0.5;\" x=\"205.138156\" xlink:href=\"#m099be6a1d5\" y=\"102.019693\"/>\r\n     <use style=\"fill:#1f77b4;fill-opacity:0.5;stroke:#1f77b4;stroke-opacity:0.5;\" x=\"234.898149\" xlink:href=\"#m099be6a1d5\" y=\"136.02456\"/>\r\n     <use style=\"fill:#1f77b4;fill-opacity:0.5;stroke:#1f77b4;stroke-opacity:0.5;\" x=\"187.496405\" xlink:href=\"#m099be6a1d5\" y=\"191.158089\"/>\r\n     <use style=\"fill:#1f77b4;fill-opacity:0.5;stroke:#1f77b4;stroke-opacity:0.5;\" x=\"184.741259\" xlink:href=\"#m099be6a1d5\" y=\"95.939814\"/>\r\n     <use style=\"fill:#1f77b4;fill-opacity:0.5;stroke:#1f77b4;stroke-opacity:0.5;\" x=\"118.557701\" xlink:href=\"#m099be6a1d5\" y=\"149.325394\"/>\r\n     <use style=\"fill:#1f77b4;fill-opacity:0.5;stroke:#1f77b4;stroke-opacity:0.5;\" x=\"162.219391\" xlink:href=\"#m099be6a1d5\" y=\"117.447489\"/>\r\n     <use style=\"fill:#1f77b4;fill-opacity:0.5;stroke:#1f77b4;stroke-opacity:0.5;\" x=\"221.07341\" xlink:href=\"#m099be6a1d5\" y=\"127.694878\"/>\r\n     <use style=\"fill:#1f77b4;fill-opacity:0.5;stroke:#1f77b4;stroke-opacity:0.5;\" x=\"149.697288\" xlink:href=\"#m099be6a1d5\" y=\"73.365267\"/>\r\n     <use style=\"fill:#1f77b4;fill-opacity:0.5;stroke:#1f77b4;stroke-opacity:0.5;\" x=\"156.485683\" xlink:href=\"#m099be6a1d5\" y=\"126.367977\"/>\r\n     <use style=\"fill:#1f77b4;fill-opacity:0.5;stroke:#1f77b4;stroke-opacity:0.5;\" x=\"112.509555\" xlink:href=\"#m099be6a1d5\" y=\"93.511013\"/>\r\n     <use style=\"fill:#1f77b4;fill-opacity:0.5;stroke:#1f77b4;stroke-opacity:0.5;\" x=\"250.555664\" xlink:href=\"#m099be6a1d5\" y=\"128.505435\"/>\r\n     <use style=\"fill:#1f77b4;fill-opacity:0.5;stroke:#1f77b4;stroke-opacity:0.5;\" x=\"178.780357\" xlink:href=\"#m099be6a1d5\" y=\"167.646197\"/>\r\n     <use style=\"fill:#1f77b4;fill-opacity:0.5;stroke:#1f77b4;stroke-opacity:0.5;\" x=\"231.71551\" xlink:href=\"#m099be6a1d5\" y=\"162.082818\"/>\r\n     <use style=\"fill:#1f77b4;fill-opacity:0.5;stroke:#1f77b4;stroke-opacity:0.5;\" x=\"124.871888\" xlink:href=\"#m099be6a1d5\" y=\"94.826586\"/>\r\n     <use style=\"fill:#1f77b4;fill-opacity:0.5;stroke:#1f77b4;stroke-opacity:0.5;\" x=\"113.584279\" xlink:href=\"#m099be6a1d5\" y=\"75.059746\"/>\r\n     <use style=\"fill:#1f77b4;fill-opacity:0.5;stroke:#1f77b4;stroke-opacity:0.5;\" x=\"218.323079\" xlink:href=\"#m099be6a1d5\" y=\"89.270798\"/>\r\n     <use style=\"fill:#1f77b4;fill-opacity:0.5;stroke:#1f77b4;stroke-opacity:0.5;\" x=\"224.124928\" xlink:href=\"#m099be6a1d5\" y=\"85.766052\"/>\r\n     <use style=\"fill:#1f77b4;fill-opacity:0.5;stroke:#1f77b4;stroke-opacity:0.5;\" x=\"160.139893\" xlink:href=\"#m099be6a1d5\" y=\"70.428091\"/>\r\n     <use style=\"fill:#1f77b4;fill-opacity:0.5;stroke:#1f77b4;stroke-opacity:0.5;\" x=\"148.435706\" xlink:href=\"#m099be6a1d5\" y=\"121.245095\"/>\r\n     <use style=\"fill:#1f77b4;fill-opacity:0.5;stroke:#1f77b4;stroke-opacity:0.5;\" x=\"228.096348\" xlink:href=\"#m099be6a1d5\" y=\"140.107362\"/>\r\n     <use style=\"fill:#1f77b4;fill-opacity:0.5;stroke:#1f77b4;stroke-opacity:0.5;\" x=\"73.960066\" xlink:href=\"#m099be6a1d5\" y=\"118.734799\"/>\r\n     <use style=\"fill:#1f77b4;fill-opacity:0.5;stroke:#1f77b4;stroke-opacity:0.5;\" x=\"133.713834\" xlink:href=\"#m099be6a1d5\" y=\"198.294086\"/>\r\n     <use style=\"fill:#1f77b4;fill-opacity:0.5;stroke:#1f77b4;stroke-opacity:0.5;\" x=\"171.39498\" xlink:href=\"#m099be6a1d5\" y=\"156.477557\"/>\r\n     <use style=\"fill:#1f77b4;fill-opacity:0.5;stroke:#1f77b4;stroke-opacity:0.5;\" x=\"131.697111\" xlink:href=\"#m099be6a1d5\" y=\"155.355887\"/>\r\n     <use style=\"fill:#1f77b4;fill-opacity:0.5;stroke:#1f77b4;stroke-opacity:0.5;\" x=\"167.271695\" xlink:href=\"#m099be6a1d5\" y=\"69.746965\"/>\r\n     <use style=\"fill:#1f77b4;fill-opacity:0.5;stroke:#1f77b4;stroke-opacity:0.5;\" x=\"174.01395\" xlink:href=\"#m099be6a1d5\" y=\"149.4961\"/>\r\n     <use style=\"fill:#1f77b4;fill-opacity:0.5;stroke:#1f77b4;stroke-opacity:0.5;\" x=\"226.138695\" xlink:href=\"#m099be6a1d5\" y=\"139.028272\"/>\r\n     <use style=\"fill:#1f77b4;fill-opacity:0.5;stroke:#1f77b4;stroke-opacity:0.5;\" x=\"140.641297\" xlink:href=\"#m099be6a1d5\" y=\"86.771417\"/>\r\n     <use style=\"fill:#1f77b4;fill-opacity:0.5;stroke:#1f77b4;stroke-opacity:0.5;\" x=\"201.864055\" xlink:href=\"#m099be6a1d5\" y=\"87.516807\"/>\r\n     <use style=\"fill:#1f77b4;fill-opacity:0.5;stroke:#1f77b4;stroke-opacity:0.5;\" x=\"175.722392\" xlink:href=\"#m099be6a1d5\" y=\"183.028598\"/>\r\n     <use style=\"fill:#1f77b4;fill-opacity:0.5;stroke:#1f77b4;stroke-opacity:0.5;\" x=\"258.13738\" xlink:href=\"#m099be6a1d5\" y=\"178.26935\"/>\r\n     <use style=\"fill:#1f77b4;fill-opacity:0.5;stroke:#1f77b4;stroke-opacity:0.5;\" x=\"230.750066\" xlink:href=\"#m099be6a1d5\" y=\"158.639602\"/>\r\n     <use style=\"fill:#1f77b4;fill-opacity:0.5;stroke:#1f77b4;stroke-opacity:0.5;\" x=\"211.159063\" xlink:href=\"#m099be6a1d5\" y=\"170.838054\"/>\r\n     <use style=\"fill:#1f77b4;fill-opacity:0.5;stroke:#1f77b4;stroke-opacity:0.5;\" x=\"148.976486\" xlink:href=\"#m099be6a1d5\" y=\"142.524407\"/>\r\n     <use style=\"fill:#1f77b4;fill-opacity:0.5;stroke:#1f77b4;stroke-opacity:0.5;\" x=\"148.555286\" xlink:href=\"#m099be6a1d5\" y=\"67.653937\"/>\r\n     <use style=\"fill:#1f77b4;fill-opacity:0.5;stroke:#1f77b4;stroke-opacity:0.5;\" x=\"149.141783\" xlink:href=\"#m099be6a1d5\" y=\"134.332621\"/>\r\n     <use style=\"fill:#1f77b4;fill-opacity:0.5;stroke:#1f77b4;stroke-opacity:0.5;\" x=\"259.959937\" xlink:href=\"#m099be6a1d5\" y=\"139.536252\"/>\r\n     <use style=\"fill:#1f77b4;fill-opacity:0.5;stroke:#1f77b4;stroke-opacity:0.5;\" x=\"206.56632\" xlink:href=\"#m099be6a1d5\" y=\"89.104734\"/>\r\n     <use style=\"fill:#1f77b4;fill-opacity:0.5;stroke:#1f77b4;stroke-opacity:0.5;\" x=\"194.398451\" xlink:href=\"#m099be6a1d5\" y=\"61.304111\"/>\r\n     <use style=\"fill:#1f77b4;fill-opacity:0.5;stroke:#1f77b4;stroke-opacity:0.5;\" x=\"98.44242\" xlink:href=\"#m099be6a1d5\" y=\"176.93076\"/>\r\n     <use style=\"fill:#1f77b4;fill-opacity:0.5;stroke:#1f77b4;stroke-opacity:0.5;\" x=\"85.608579\" xlink:href=\"#m099be6a1d5\" y=\"113.390523\"/>\r\n     <use style=\"fill:#1f77b4;fill-opacity:0.5;stroke:#1f77b4;stroke-opacity:0.5;\" x=\"117.980856\" xlink:href=\"#m099be6a1d5\" y=\"156.082108\"/>\r\n     <use style=\"fill:#1f77b4;fill-opacity:0.5;stroke:#1f77b4;stroke-opacity:0.5;\" x=\"183.035279\" xlink:href=\"#m099be6a1d5\" y=\"158.022878\"/>\r\n     <use style=\"fill:#1f77b4;fill-opacity:0.5;stroke:#1f77b4;stroke-opacity:0.5;\" x=\"123.124948\" xlink:href=\"#m099be6a1d5\" y=\"87.932789\"/>\r\n     <use style=\"fill:#1f77b4;fill-opacity:0.5;stroke:#1f77b4;stroke-opacity:0.5;\" x=\"199.22045\" xlink:href=\"#m099be6a1d5\" y=\"99.515959\"/>\r\n     <use style=\"fill:#1f77b4;fill-opacity:0.5;stroke:#1f77b4;stroke-opacity:0.5;\" x=\"168.55363\" xlink:href=\"#m099be6a1d5\" y=\"132.31408\"/>\r\n     <use style=\"fill:#1f77b4;fill-opacity:0.5;stroke:#1f77b4;stroke-opacity:0.5;\" x=\"240.523148\" xlink:href=\"#m099be6a1d5\" y=\"143.835346\"/>\r\n     <use style=\"fill:#1f77b4;fill-opacity:0.5;stroke:#1f77b4;stroke-opacity:0.5;\" x=\"204.639109\" xlink:href=\"#m099be6a1d5\" y=\"144.686909\"/>\r\n     <use style=\"fill:#1f77b4;fill-opacity:0.5;stroke:#1f77b4;stroke-opacity:0.5;\" x=\"167.587411\" xlink:href=\"#m099be6a1d5\" y=\"126.311132\"/>\r\n     <use style=\"fill:#1f77b4;fill-opacity:0.5;stroke:#1f77b4;stroke-opacity:0.5;\" x=\"171.862847\" xlink:href=\"#m099be6a1d5\" y=\"120.594514\"/>\r\n     <use style=\"fill:#1f77b4;fill-opacity:0.5;stroke:#1f77b4;stroke-opacity:0.5;\" x=\"178.431032\" xlink:href=\"#m099be6a1d5\" y=\"137.240465\"/>\r\n     <use style=\"fill:#1f77b4;fill-opacity:0.5;stroke:#1f77b4;stroke-opacity:0.5;\" x=\"181.97196\" xlink:href=\"#m099be6a1d5\" y=\"115.043952\"/>\r\n     <use style=\"fill:#1f77b4;fill-opacity:0.5;stroke:#1f77b4;stroke-opacity:0.5;\" x=\"172.40099\" xlink:href=\"#m099be6a1d5\" y=\"120.644477\"/>\r\n     <use style=\"fill:#1f77b4;fill-opacity:0.5;stroke:#1f77b4;stroke-opacity:0.5;\" x=\"161.98628\" xlink:href=\"#m099be6a1d5\" y=\"158.749177\"/>\r\n     <use style=\"fill:#1f77b4;fill-opacity:0.5;stroke:#1f77b4;stroke-opacity:0.5;\" x=\"250.924004\" xlink:href=\"#m099be6a1d5\" y=\"115.261311\"/>\r\n     <use style=\"fill:#1f77b4;fill-opacity:0.5;stroke:#1f77b4;stroke-opacity:0.5;\" x=\"222.832268\" xlink:href=\"#m099be6a1d5\" y=\"116.182148\"/>\r\n     <use style=\"fill:#1f77b4;fill-opacity:0.5;stroke:#1f77b4;stroke-opacity:0.5;\" x=\"214.334141\" xlink:href=\"#m099be6a1d5\" y=\"165.774191\"/>\r\n     <use style=\"fill:#1f77b4;fill-opacity:0.5;stroke:#1f77b4;stroke-opacity:0.5;\" x=\"89.498343\" xlink:href=\"#m099be6a1d5\" y=\"114.326402\"/>\r\n     <use style=\"fill:#1f77b4;fill-opacity:0.5;stroke:#1f77b4;stroke-opacity:0.5;\" x=\"95.755476\" xlink:href=\"#m099be6a1d5\" y=\"69.292371\"/>\r\n     <use style=\"fill:#1f77b4;fill-opacity:0.5;stroke:#1f77b4;stroke-opacity:0.5;\" x=\"186.455073\" xlink:href=\"#m099be6a1d5\" y=\"166.692565\"/>\r\n     <use style=\"fill:#1f77b4;fill-opacity:0.5;stroke:#1f77b4;stroke-opacity:0.5;\" x=\"295.928303\" xlink:href=\"#m099be6a1d5\" y=\"89.863512\"/>\r\n     <use style=\"fill:#1f77b4;fill-opacity:0.5;stroke:#1f77b4;stroke-opacity:0.5;\" x=\"189.539497\" xlink:href=\"#m099be6a1d5\" y=\"122.313833\"/>\r\n     <use style=\"fill:#1f77b4;fill-opacity:0.5;stroke:#1f77b4;stroke-opacity:0.5;\" x=\"197.701366\" xlink:href=\"#m099be6a1d5\" y=\"79.379748\"/>\r\n     <use style=\"fill:#1f77b4;fill-opacity:0.5;stroke:#1f77b4;stroke-opacity:0.5;\" x=\"296.922241\" xlink:href=\"#m099be6a1d5\" y=\"125.593367\"/>\r\n     <use style=\"fill:#1f77b4;fill-opacity:0.5;stroke:#1f77b4;stroke-opacity:0.5;\" x=\"190.520474\" xlink:href=\"#m099be6a1d5\" y=\"114.2315\"/>\r\n     <use style=\"fill:#1f77b4;fill-opacity:0.5;stroke:#1f77b4;stroke-opacity:0.5;\" x=\"159.396876\" xlink:href=\"#m099be6a1d5\" y=\"110.206589\"/>\r\n     <use style=\"fill:#1f77b4;fill-opacity:0.5;stroke:#1f77b4;stroke-opacity:0.5;\" x=\"211.239115\" xlink:href=\"#m099be6a1d5\" y=\"81.517719\"/>\r\n     <use style=\"fill:#1f77b4;fill-opacity:0.5;stroke:#1f77b4;stroke-opacity:0.5;\" x=\"94.754381\" xlink:href=\"#m099be6a1d5\" y=\"133.235018\"/>\r\n     <use style=\"fill:#1f77b4;fill-opacity:0.5;stroke:#1f77b4;stroke-opacity:0.5;\" x=\"172.199216\" xlink:href=\"#m099be6a1d5\" y=\"128.371894\"/>\r\n     <use style=\"fill:#1f77b4;fill-opacity:0.5;stroke:#1f77b4;stroke-opacity:0.5;\" x=\"171.695061\" xlink:href=\"#m099be6a1d5\" y=\"171.814959\"/>\r\n     <use style=\"fill:#1f77b4;fill-opacity:0.5;stroke:#1f77b4;stroke-opacity:0.5;\" x=\"285.833652\" xlink:href=\"#m099be6a1d5\" y=\"149.043452\"/>\r\n     <use style=\"fill:#1f77b4;fill-opacity:0.5;stroke:#1f77b4;stroke-opacity:0.5;\" x=\"116.009655\" xlink:href=\"#m099be6a1d5\" y=\"155.486463\"/>\r\n     <use style=\"fill:#1f77b4;fill-opacity:0.5;stroke:#1f77b4;stroke-opacity:0.5;\" x=\"230.51993\" xlink:href=\"#m099be6a1d5\" y=\"125.958151\"/>\r\n     <use style=\"fill:#1f77b4;fill-opacity:0.5;stroke:#1f77b4;stroke-opacity:0.5;\" x=\"168.526019\" xlink:href=\"#m099be6a1d5\" y=\"144.56529\"/>\r\n     <use style=\"fill:#1f77b4;fill-opacity:0.5;stroke:#1f77b4;stroke-opacity:0.5;\" x=\"183.44492\" xlink:href=\"#m099be6a1d5\" y=\"70.99195\"/>\r\n     <use style=\"fill:#1f77b4;fill-opacity:0.5;stroke:#1f77b4;stroke-opacity:0.5;\" x=\"169.00783\" xlink:href=\"#m099be6a1d5\" y=\"93.034147\"/>\r\n     <use style=\"fill:#1f77b4;fill-opacity:0.5;stroke:#1f77b4;stroke-opacity:0.5;\" x=\"172.655848\" xlink:href=\"#m099be6a1d5\" y=\"110.51423\"/>\r\n     <use style=\"fill:#1f77b4;fill-opacity:0.5;stroke:#1f77b4;stroke-opacity:0.5;\" x=\"271.269577\" xlink:href=\"#m099be6a1d5\" y=\"49.489779\"/>\r\n     <use style=\"fill:#1f77b4;fill-opacity:0.5;stroke:#1f77b4;stroke-opacity:0.5;\" x=\"136.480818\" xlink:href=\"#m099be6a1d5\" y=\"152.771119\"/>\r\n     <use style=\"fill:#1f77b4;fill-opacity:0.5;stroke:#1f77b4;stroke-opacity:0.5;\" x=\"206.701286\" xlink:href=\"#m099be6a1d5\" y=\"174.856311\"/>\r\n     <use style=\"fill:#1f77b4;fill-opacity:0.5;stroke:#1f77b4;stroke-opacity:0.5;\" x=\"154.546814\" xlink:href=\"#m099be6a1d5\" y=\"148.167664\"/>\r\n     <use style=\"fill:#1f77b4;fill-opacity:0.5;stroke:#1f77b4;stroke-opacity:0.5;\" x=\"183.392142\" xlink:href=\"#m099be6a1d5\" y=\"95.704108\"/>\r\n     <use style=\"fill:#1f77b4;fill-opacity:0.5;stroke:#1f77b4;stroke-opacity:0.5;\" x=\"179.937035\" xlink:href=\"#m099be6a1d5\" y=\"59.181024\"/>\r\n     <use style=\"fill:#1f77b4;fill-opacity:0.5;stroke:#1f77b4;stroke-opacity:0.5;\" x=\"184.15412\" xlink:href=\"#m099be6a1d5\" y=\"100.157939\"/>\r\n     <use style=\"fill:#1f77b4;fill-opacity:0.5;stroke:#1f77b4;stroke-opacity:0.5;\" x=\"176.85368\" xlink:href=\"#m099be6a1d5\" y=\"180.853776\"/>\r\n     <use style=\"fill:#1f77b4;fill-opacity:0.5;stroke:#1f77b4;stroke-opacity:0.5;\" x=\"147.343345\" xlink:href=\"#m099be6a1d5\" y=\"165.706584\"/>\r\n     <use style=\"fill:#1f77b4;fill-opacity:0.5;stroke:#1f77b4;stroke-opacity:0.5;\" x=\"203.952225\" xlink:href=\"#m099be6a1d5\" y=\"138.136759\"/>\r\n     <use style=\"fill:#1f77b4;fill-opacity:0.5;stroke:#1f77b4;stroke-opacity:0.5;\" x=\"97.448131\" xlink:href=\"#m099be6a1d5\" y=\"145.651256\"/>\r\n     <use style=\"fill:#1f77b4;fill-opacity:0.5;stroke:#1f77b4;stroke-opacity:0.5;\" x=\"180.597075\" xlink:href=\"#m099be6a1d5\" y=\"93.660927\"/>\r\n     <use style=\"fill:#1f77b4;fill-opacity:0.5;stroke:#1f77b4;stroke-opacity:0.5;\" x=\"191.914167\" xlink:href=\"#m099be6a1d5\" y=\"141.006312\"/>\r\n     <use style=\"fill:#1f77b4;fill-opacity:0.5;stroke:#1f77b4;stroke-opacity:0.5;\" x=\"221.123018\" xlink:href=\"#m099be6a1d5\" y=\"143.480117\"/>\r\n     <use style=\"fill:#1f77b4;fill-opacity:0.5;stroke:#1f77b4;stroke-opacity:0.5;\" x=\"162.267116\" xlink:href=\"#m099be6a1d5\" y=\"100.314877\"/>\r\n     <use style=\"fill:#1f77b4;fill-opacity:0.5;stroke:#1f77b4;stroke-opacity:0.5;\" x=\"176.459572\" xlink:href=\"#m099be6a1d5\" y=\"104.258568\"/>\r\n     <use style=\"fill:#1f77b4;fill-opacity:0.5;stroke:#1f77b4;stroke-opacity:0.5;\" x=\"268.584834\" xlink:href=\"#m099be6a1d5\" y=\"174.239236\"/>\r\n     <use style=\"fill:#1f77b4;fill-opacity:0.5;stroke:#1f77b4;stroke-opacity:0.5;\" x=\"170.455041\" xlink:href=\"#m099be6a1d5\" y=\"156.229535\"/>\r\n     <use style=\"fill:#1f77b4;fill-opacity:0.5;stroke:#1f77b4;stroke-opacity:0.5;\" x=\"276.035036\" xlink:href=\"#m099be6a1d5\" y=\"106.445875\"/>\r\n     <use style=\"fill:#1f77b4;fill-opacity:0.5;stroke:#1f77b4;stroke-opacity:0.5;\" x=\"160.350881\" xlink:href=\"#m099be6a1d5\" y=\"105.858732\"/>\r\n     <use style=\"fill:#1f77b4;fill-opacity:0.5;stroke:#1f77b4;stroke-opacity:0.5;\" x=\"183.168502\" xlink:href=\"#m099be6a1d5\" y=\"133.530501\"/>\r\n     <use style=\"fill:#1f77b4;fill-opacity:0.5;stroke:#1f77b4;stroke-opacity:0.5;\" x=\"233.113053\" xlink:href=\"#m099be6a1d5\" y=\"112.804289\"/>\r\n     <use style=\"fill:#1f77b4;fill-opacity:0.5;stroke:#1f77b4;stroke-opacity:0.5;\" x=\"180.353285\" xlink:href=\"#m099be6a1d5\" y=\"138.418912\"/>\r\n     <use style=\"fill:#1f77b4;fill-opacity:0.5;stroke:#1f77b4;stroke-opacity:0.5;\" x=\"228.64006\" xlink:href=\"#m099be6a1d5\" y=\"102.922035\"/>\r\n     <use style=\"fill:#1f77b4;fill-opacity:0.5;stroke:#1f77b4;stroke-opacity:0.5;\" x=\"190.898023\" xlink:href=\"#m099be6a1d5\" y=\"117.851555\"/>\r\n     <use style=\"fill:#1f77b4;fill-opacity:0.5;stroke:#1f77b4;stroke-opacity:0.5;\" x=\"128.568191\" xlink:href=\"#m099be6a1d5\" y=\"119.21506\"/>\r\n     <use style=\"fill:#1f77b4;fill-opacity:0.5;stroke:#1f77b4;stroke-opacity:0.5;\" x=\"213.758039\" xlink:href=\"#m099be6a1d5\" y=\"111.513547\"/>\r\n     <use style=\"fill:#1f77b4;fill-opacity:0.5;stroke:#1f77b4;stroke-opacity:0.5;\" x=\"104.177794\" xlink:href=\"#m099be6a1d5\" y=\"109.168224\"/>\r\n     <use style=\"fill:#1f77b4;fill-opacity:0.5;stroke:#1f77b4;stroke-opacity:0.5;\" x=\"197.765961\" xlink:href=\"#m099be6a1d5\" y=\"148.753188\"/>\r\n     <use style=\"fill:#1f77b4;fill-opacity:0.5;stroke:#1f77b4;stroke-opacity:0.5;\" x=\"160.758241\" xlink:href=\"#m099be6a1d5\" y=\"89.574986\"/>\r\n     <use style=\"fill:#1f77b4;fill-opacity:0.5;stroke:#1f77b4;stroke-opacity:0.5;\" x=\"64.855306\" xlink:href=\"#m099be6a1d5\" y=\"147.023202\"/>\r\n     <use style=\"fill:#1f77b4;fill-opacity:0.5;stroke:#1f77b4;stroke-opacity:0.5;\" x=\"69.102497\" xlink:href=\"#m099be6a1d5\" y=\"184.952332\"/>\r\n     <use style=\"fill:#1f77b4;fill-opacity:0.5;stroke:#1f77b4;stroke-opacity:0.5;\" x=\"81.419285\" xlink:href=\"#m099be6a1d5\" y=\"122.038818\"/>\r\n     <use style=\"fill:#1f77b4;fill-opacity:0.5;stroke:#1f77b4;stroke-opacity:0.5;\" x=\"234.753876\" xlink:href=\"#m099be6a1d5\" y=\"93.138458\"/>\r\n     <use style=\"fill:#1f77b4;fill-opacity:0.5;stroke:#1f77b4;stroke-opacity:0.5;\" x=\"217.865278\" xlink:href=\"#m099be6a1d5\" y=\"164.168917\"/>\r\n     <use style=\"fill:#1f77b4;fill-opacity:0.5;stroke:#1f77b4;stroke-opacity:0.5;\" x=\"203.31538\" xlink:href=\"#m099be6a1d5\" y=\"157.074127\"/>\r\n     <use style=\"fill:#1f77b4;fill-opacity:0.5;stroke:#1f77b4;stroke-opacity:0.5;\" x=\"105.079771\" xlink:href=\"#m099be6a1d5\" y=\"126.52598\"/>\r\n     <use style=\"fill:#1f77b4;fill-opacity:0.5;stroke:#1f77b4;stroke-opacity:0.5;\" x=\"228.841478\" xlink:href=\"#m099be6a1d5\" y=\"192.741047\"/>\r\n     <use style=\"fill:#1f77b4;fill-opacity:0.5;stroke:#1f77b4;stroke-opacity:0.5;\" x=\"175.26954\" xlink:href=\"#m099be6a1d5\" y=\"126.360398\"/>\r\n     <use style=\"fill:#1f77b4;fill-opacity:0.5;stroke:#1f77b4;stroke-opacity:0.5;\" x=\"187.267927\" xlink:href=\"#m099be6a1d5\" y=\"156.924405\"/>\r\n     <use style=\"fill:#1f77b4;fill-opacity:0.5;stroke:#1f77b4;stroke-opacity:0.5;\" x=\"302.868722\" xlink:href=\"#m099be6a1d5\" y=\"72.688072\"/>\r\n     <use style=\"fill:#1f77b4;fill-opacity:0.5;stroke:#1f77b4;stroke-opacity:0.5;\" x=\"180.193513\" xlink:href=\"#m099be6a1d5\" y=\"148.22413\"/>\r\n     <use style=\"fill:#1f77b4;fill-opacity:0.5;stroke:#1f77b4;stroke-opacity:0.5;\" x=\"163.709117\" xlink:href=\"#m099be6a1d5\" y=\"90.199255\"/>\r\n     <use style=\"fill:#1f77b4;fill-opacity:0.5;stroke:#1f77b4;stroke-opacity:0.5;\" x=\"127.941247\" xlink:href=\"#m099be6a1d5\" y=\"190.385917\"/>\r\n     <use style=\"fill:#1f77b4;fill-opacity:0.5;stroke:#1f77b4;stroke-opacity:0.5;\" x=\"94.001297\" xlink:href=\"#m099be6a1d5\" y=\"159.541601\"/>\r\n     <use style=\"fill:#1f77b4;fill-opacity:0.5;stroke:#1f77b4;stroke-opacity:0.5;\" x=\"121.648896\" xlink:href=\"#m099be6a1d5\" y=\"104.144223\"/>\r\n     <use style=\"fill:#1f77b4;fill-opacity:0.5;stroke:#1f77b4;stroke-opacity:0.5;\" x=\"136.664854\" xlink:href=\"#m099be6a1d5\" y=\"134.240216\"/>\r\n     <use style=\"fill:#1f77b4;fill-opacity:0.5;stroke:#1f77b4;stroke-opacity:0.5;\" x=\"123.577108\" xlink:href=\"#m099be6a1d5\" y=\"81.511943\"/>\r\n     <use style=\"fill:#1f77b4;fill-opacity:0.5;stroke:#1f77b4;stroke-opacity:0.5;\" x=\"175.798519\" xlink:href=\"#m099be6a1d5\" y=\"90.017426\"/>\r\n     <use style=\"fill:#1f77b4;fill-opacity:0.5;stroke:#1f77b4;stroke-opacity:0.5;\" x=\"169.59946\" xlink:href=\"#m099be6a1d5\" y=\"150.749043\"/>\r\n     <use style=\"fill:#1f77b4;fill-opacity:0.5;stroke:#1f77b4;stroke-opacity:0.5;\" x=\"156.023795\" xlink:href=\"#m099be6a1d5\" y=\"169.978991\"/>\r\n     <use style=\"fill:#1f77b4;fill-opacity:0.5;stroke:#1f77b4;stroke-opacity:0.5;\" x=\"199.009503\" xlink:href=\"#m099be6a1d5\" y=\"123.882095\"/>\r\n     <use style=\"fill:#1f77b4;fill-opacity:0.5;stroke:#1f77b4;stroke-opacity:0.5;\" x=\"201.095313\" xlink:href=\"#m099be6a1d5\" y=\"84.229976\"/>\r\n     <use style=\"fill:#1f77b4;fill-opacity:0.5;stroke:#1f77b4;stroke-opacity:0.5;\" x=\"149.518248\" xlink:href=\"#m099be6a1d5\" y=\"156.531142\"/>\r\n     <use style=\"fill:#1f77b4;fill-opacity:0.5;stroke:#1f77b4;stroke-opacity:0.5;\" x=\"123.746738\" xlink:href=\"#m099be6a1d5\" y=\"80.502954\"/>\r\n     <use style=\"fill:#1f77b4;fill-opacity:0.5;stroke:#1f77b4;stroke-opacity:0.5;\" x=\"182.696904\" xlink:href=\"#m099be6a1d5\" y=\"150.469015\"/>\r\n     <use style=\"fill:#1f77b4;fill-opacity:0.5;stroke:#1f77b4;stroke-opacity:0.5;\" x=\"129.621336\" xlink:href=\"#m099be6a1d5\" y=\"125.935585\"/>\r\n     <use style=\"fill:#1f77b4;fill-opacity:0.5;stroke:#1f77b4;stroke-opacity:0.5;\" x=\"191.236471\" xlink:href=\"#m099be6a1d5\" y=\"133.642637\"/>\r\n     <use style=\"fill:#1f77b4;fill-opacity:0.5;stroke:#1f77b4;stroke-opacity:0.5;\" x=\"126.656787\" xlink:href=\"#m099be6a1d5\" y=\"141.885161\"/>\r\n     <use style=\"fill:#1f77b4;fill-opacity:0.5;stroke:#1f77b4;stroke-opacity:0.5;\" x=\"270.375043\" xlink:href=\"#m099be6a1d5\" y=\"137.893273\"/>\r\n     <use style=\"fill:#1f77b4;fill-opacity:0.5;stroke:#1f77b4;stroke-opacity:0.5;\" x=\"187.732217\" xlink:href=\"#m099be6a1d5\" y=\"177.109523\"/>\r\n     <use style=\"fill:#1f77b4;fill-opacity:0.5;stroke:#1f77b4;stroke-opacity:0.5;\" x=\"133.014405\" xlink:href=\"#m099be6a1d5\" y=\"96.526478\"/>\r\n     <use style=\"fill:#1f77b4;fill-opacity:0.5;stroke:#1f77b4;stroke-opacity:0.5;\" x=\"106.014892\" xlink:href=\"#m099be6a1d5\" y=\"94.314094\"/>\r\n     <use style=\"fill:#1f77b4;fill-opacity:0.5;stroke:#1f77b4;stroke-opacity:0.5;\" x=\"197.438172\" xlink:href=\"#m099be6a1d5\" y=\"139.554962\"/>\r\n     <use style=\"fill:#1f77b4;fill-opacity:0.5;stroke:#1f77b4;stroke-opacity:0.5;\" x=\"44.160369\" xlink:href=\"#m099be6a1d5\" y=\"131.642531\"/>\r\n     <use style=\"fill:#1f77b4;fill-opacity:0.5;stroke:#1f77b4;stroke-opacity:0.5;\" x=\"186.490567\" xlink:href=\"#m099be6a1d5\" y=\"124.424634\"/>\r\n     <use style=\"fill:#1f77b4;fill-opacity:0.5;stroke:#1f77b4;stroke-opacity:0.5;\" x=\"199.268077\" xlink:href=\"#m099be6a1d5\" y=\"129.932108\"/>\r\n     <use style=\"fill:#1f77b4;fill-opacity:0.5;stroke:#1f77b4;stroke-opacity:0.5;\" x=\"187.327175\" xlink:href=\"#m099be6a1d5\" y=\"157.646546\"/>\r\n     <use style=\"fill:#1f77b4;fill-opacity:0.5;stroke:#1f77b4;stroke-opacity:0.5;\" x=\"126.381591\" xlink:href=\"#m099be6a1d5\" y=\"120.080222\"/>\r\n     <use style=\"fill:#1f77b4;fill-opacity:0.5;stroke:#1f77b4;stroke-opacity:0.5;\" x=\"179.598111\" xlink:href=\"#m099be6a1d5\" y=\"157.971624\"/>\r\n     <use style=\"fill:#1f77b4;fill-opacity:0.5;stroke:#1f77b4;stroke-opacity:0.5;\" x=\"141.225971\" xlink:href=\"#m099be6a1d5\" y=\"138.967251\"/>\r\n     <use style=\"fill:#1f77b4;fill-opacity:0.5;stroke:#1f77b4;stroke-opacity:0.5;\" x=\"186.9113\" xlink:href=\"#m099be6a1d5\" y=\"164.037082\"/>\r\n     <use style=\"fill:#1f77b4;fill-opacity:0.5;stroke:#1f77b4;stroke-opacity:0.5;\" x=\"286.059624\" xlink:href=\"#m099be6a1d5\" y=\"59.31014\"/>\r\n     <use style=\"fill:#1f77b4;fill-opacity:0.5;stroke:#1f77b4;stroke-opacity:0.5;\" x=\"236.968599\" xlink:href=\"#m099be6a1d5\" y=\"106.805537\"/>\r\n     <use style=\"fill:#1f77b4;fill-opacity:0.5;stroke:#1f77b4;stroke-opacity:0.5;\" x=\"304.236197\" xlink:href=\"#m099be6a1d5\" y=\"86.321427\"/>\r\n     <use style=\"fill:#1f77b4;fill-opacity:0.5;stroke:#1f77b4;stroke-opacity:0.5;\" x=\"133.904146\" xlink:href=\"#m099be6a1d5\" y=\"93.276209\"/>\r\n     <use style=\"fill:#1f77b4;fill-opacity:0.5;stroke:#1f77b4;stroke-opacity:0.5;\" x=\"205.91032\" xlink:href=\"#m099be6a1d5\" y=\"127.989172\"/>\r\n     <use style=\"fill:#1f77b4;fill-opacity:0.5;stroke:#1f77b4;stroke-opacity:0.5;\" x=\"206.966007\" xlink:href=\"#m099be6a1d5\" y=\"135.52019\"/>\r\n     <use style=\"fill:#1f77b4;fill-opacity:0.5;stroke:#1f77b4;stroke-opacity:0.5;\" x=\"179.843143\" xlink:href=\"#m099be6a1d5\" y=\"140.854612\"/>\r\n     <use style=\"fill:#1f77b4;fill-opacity:0.5;stroke:#1f77b4;stroke-opacity:0.5;\" x=\"197.382243\" xlink:href=\"#m099be6a1d5\" y=\"122.626409\"/>\r\n     <use style=\"fill:#1f77b4;fill-opacity:0.5;stroke:#1f77b4;stroke-opacity:0.5;\" x=\"114.039571\" xlink:href=\"#m099be6a1d5\" y=\"70.347326\"/>\r\n     <use style=\"fill:#1f77b4;fill-opacity:0.5;stroke:#1f77b4;stroke-opacity:0.5;\" x=\"302.985124\" xlink:href=\"#m099be6a1d5\" y=\"109.880285\"/>\r\n     <use style=\"fill:#1f77b4;fill-opacity:0.5;stroke:#1f77b4;stroke-opacity:0.5;\" x=\"152.586199\" xlink:href=\"#m099be6a1d5\" y=\"83.94235\"/>\r\n     <use style=\"fill:#1f77b4;fill-opacity:0.5;stroke:#1f77b4;stroke-opacity:0.5;\" x=\"164.169624\" xlink:href=\"#m099be6a1d5\" y=\"145.848354\"/>\r\n     <use style=\"fill:#1f77b4;fill-opacity:0.5;stroke:#1f77b4;stroke-opacity:0.5;\" x=\"163.554136\" xlink:href=\"#m099be6a1d5\" y=\"114.729146\"/>\r\n     <use style=\"fill:#1f77b4;fill-opacity:0.5;stroke:#1f77b4;stroke-opacity:0.5;\" x=\"119.51768\" xlink:href=\"#m099be6a1d5\" y=\"127.137216\"/>\r\n     <use style=\"fill:#1f77b4;fill-opacity:0.5;stroke:#1f77b4;stroke-opacity:0.5;\" x=\"137.488155\" xlink:href=\"#m099be6a1d5\" y=\"145.411996\"/>\r\n     <use style=\"fill:#1f77b4;fill-opacity:0.5;stroke:#1f77b4;stroke-opacity:0.5;\" x=\"218.993148\" xlink:href=\"#m099be6a1d5\" y=\"116.530399\"/>\r\n     <use style=\"fill:#1f77b4;fill-opacity:0.5;stroke:#1f77b4;stroke-opacity:0.5;\" x=\"211.470078\" xlink:href=\"#m099be6a1d5\" y=\"17.083636\"/>\r\n     <use style=\"fill:#1f77b4;fill-opacity:0.5;stroke:#1f77b4;stroke-opacity:0.5;\" x=\"155.745507\" xlink:href=\"#m099be6a1d5\" y=\"162.477021\"/>\r\n     <use style=\"fill:#1f77b4;fill-opacity:0.5;stroke:#1f77b4;stroke-opacity:0.5;\" x=\"116.372178\" xlink:href=\"#m099be6a1d5\" y=\"168.092534\"/>\r\n     <use style=\"fill:#1f77b4;fill-opacity:0.5;stroke:#1f77b4;stroke-opacity:0.5;\" x=\"268.097081\" xlink:href=\"#m099be6a1d5\" y=\"53.500198\"/>\r\n     <use style=\"fill:#1f77b4;fill-opacity:0.5;stroke:#1f77b4;stroke-opacity:0.5;\" x=\"146.121008\" xlink:href=\"#m099be6a1d5\" y=\"140.862971\"/>\r\n     <use style=\"fill:#1f77b4;fill-opacity:0.5;stroke:#1f77b4;stroke-opacity:0.5;\" x=\"141.061233\" xlink:href=\"#m099be6a1d5\" y=\"129.953356\"/>\r\n     <use style=\"fill:#1f77b4;fill-opacity:0.5;stroke:#1f77b4;stroke-opacity:0.5;\" x=\"135.432822\" xlink:href=\"#m099be6a1d5\" y=\"117.409971\"/>\r\n     <use style=\"fill:#1f77b4;fill-opacity:0.5;stroke:#1f77b4;stroke-opacity:0.5;\" x=\"176.249529\" xlink:href=\"#m099be6a1d5\" y=\"94.3278\"/>\r\n     <use style=\"fill:#1f77b4;fill-opacity:0.5;stroke:#1f77b4;stroke-opacity:0.5;\" x=\"206.449335\" xlink:href=\"#m099be6a1d5\" y=\"100.461178\"/>\r\n     <use style=\"fill:#1f77b4;fill-opacity:0.5;stroke:#1f77b4;stroke-opacity:0.5;\" x=\"164.583591\" xlink:href=\"#m099be6a1d5\" y=\"131.561362\"/>\r\n     <use style=\"fill:#1f77b4;fill-opacity:0.5;stroke:#1f77b4;stroke-opacity:0.5;\" x=\"273.450766\" xlink:href=\"#m099be6a1d5\" y=\"141.961335\"/>\r\n     <use style=\"fill:#1f77b4;fill-opacity:0.5;stroke:#1f77b4;stroke-opacity:0.5;\" x=\"153.184496\" xlink:href=\"#m099be6a1d5\" y=\"107.507925\"/>\r\n     <use style=\"fill:#1f77b4;fill-opacity:0.5;stroke:#1f77b4;stroke-opacity:0.5;\" x=\"159.610831\" xlink:href=\"#m099be6a1d5\" y=\"127.283614\"/>\r\n     <use style=\"fill:#1f77b4;fill-opacity:0.5;stroke:#1f77b4;stroke-opacity:0.5;\" x=\"225.21285\" xlink:href=\"#m099be6a1d5\" y=\"111.639933\"/>\r\n     <use style=\"fill:#1f77b4;fill-opacity:0.5;stroke:#1f77b4;stroke-opacity:0.5;\" x=\"288.473357\" xlink:href=\"#m099be6a1d5\" y=\"133.479094\"/>\r\n     <use style=\"fill:#1f77b4;fill-opacity:0.5;stroke:#1f77b4;stroke-opacity:0.5;\" x=\"219.174127\" xlink:href=\"#m099be6a1d5\" y=\"142.653137\"/>\r\n     <use style=\"fill:#1f77b4;fill-opacity:0.5;stroke:#1f77b4;stroke-opacity:0.5;\" x=\"227.661572\" xlink:href=\"#m099be6a1d5\" y=\"172.583598\"/>\r\n     <use style=\"fill:#1f77b4;fill-opacity:0.5;stroke:#1f77b4;stroke-opacity:0.5;\" x=\"205.874672\" xlink:href=\"#m099be6a1d5\" y=\"177.181623\"/>\r\n     <use style=\"fill:#1f77b4;fill-opacity:0.5;stroke:#1f77b4;stroke-opacity:0.5;\" x=\"166.877666\" xlink:href=\"#m099be6a1d5\" y=\"112.765717\"/>\r\n     <use style=\"fill:#1f77b4;fill-opacity:0.5;stroke:#1f77b4;stroke-opacity:0.5;\" x=\"211.910394\" xlink:href=\"#m099be6a1d5\" y=\"131.966339\"/>\r\n     <use style=\"fill:#1f77b4;fill-opacity:0.5;stroke:#1f77b4;stroke-opacity:0.5;\" x=\"183.889853\" xlink:href=\"#m099be6a1d5\" y=\"117.272653\"/>\r\n     <use style=\"fill:#1f77b4;fill-opacity:0.5;stroke:#1f77b4;stroke-opacity:0.5;\" x=\"171.925227\" xlink:href=\"#m099be6a1d5\" y=\"180.586467\"/>\r\n     <use style=\"fill:#1f77b4;fill-opacity:0.5;stroke:#1f77b4;stroke-opacity:0.5;\" x=\"153.923131\" xlink:href=\"#m099be6a1d5\" y=\"89.759203\"/>\r\n     <use style=\"fill:#1f77b4;fill-opacity:0.5;stroke:#1f77b4;stroke-opacity:0.5;\" x=\"107.878696\" xlink:href=\"#m099be6a1d5\" y=\"100.946969\"/>\r\n     <use style=\"fill:#1f77b4;fill-opacity:0.5;stroke:#1f77b4;stroke-opacity:0.5;\" x=\"158.51164\" xlink:href=\"#m099be6a1d5\" y=\"138.506751\"/>\r\n     <use style=\"fill:#1f77b4;fill-opacity:0.5;stroke:#1f77b4;stroke-opacity:0.5;\" x=\"166.259322\" xlink:href=\"#m099be6a1d5\" y=\"133.229702\"/>\r\n     <use style=\"fill:#1f77b4;fill-opacity:0.5;stroke:#1f77b4;stroke-opacity:0.5;\" x=\"179.102592\" xlink:href=\"#m099be6a1d5\" y=\"159.532672\"/>\r\n     <use style=\"fill:#1f77b4;fill-opacity:0.5;stroke:#1f77b4;stroke-opacity:0.5;\" x=\"258.862354\" xlink:href=\"#m099be6a1d5\" y=\"76.407538\"/>\r\n     <use style=\"fill:#1f77b4;fill-opacity:0.5;stroke:#1f77b4;stroke-opacity:0.5;\" x=\"120.438542\" xlink:href=\"#m099be6a1d5\" y=\"140.35294\"/>\r\n     <use style=\"fill:#1f77b4;fill-opacity:0.5;stroke:#1f77b4;stroke-opacity:0.5;\" x=\"209.272546\" xlink:href=\"#m099be6a1d5\" y=\"97.325742\"/>\r\n     <use style=\"fill:#1f77b4;fill-opacity:0.5;stroke:#1f77b4;stroke-opacity:0.5;\" x=\"88.028054\" xlink:href=\"#m099be6a1d5\" y=\"132.464223\"/>\r\n     <use style=\"fill:#1f77b4;fill-opacity:0.5;stroke:#1f77b4;stroke-opacity:0.5;\" x=\"174.756799\" xlink:href=\"#m099be6a1d5\" y=\"90.501457\"/>\r\n     <use style=\"fill:#1f77b4;fill-opacity:0.5;stroke:#1f77b4;stroke-opacity:0.5;\" x=\"197.30253\" xlink:href=\"#m099be6a1d5\" y=\"102.904286\"/>\r\n     <use style=\"fill:#1f77b4;fill-opacity:0.5;stroke:#1f77b4;stroke-opacity:0.5;\" x=\"193.445385\" xlink:href=\"#m099be6a1d5\" y=\"169.839987\"/>\r\n     <use style=\"fill:#1f77b4;fill-opacity:0.5;stroke:#1f77b4;stroke-opacity:0.5;\" x=\"152.033523\" xlink:href=\"#m099be6a1d5\" y=\"208.067819\"/>\r\n     <use style=\"fill:#1f77b4;fill-opacity:0.5;stroke:#1f77b4;stroke-opacity:0.5;\" x=\"167.709241\" xlink:href=\"#m099be6a1d5\" y=\"122.635541\"/>\r\n     <use style=\"fill:#1f77b4;fill-opacity:0.5;stroke:#1f77b4;stroke-opacity:0.5;\" x=\"159.034495\" xlink:href=\"#m099be6a1d5\" y=\"140.892116\"/>\r\n     <use style=\"fill:#1f77b4;fill-opacity:0.5;stroke:#1f77b4;stroke-opacity:0.5;\" x=\"114.994262\" xlink:href=\"#m099be6a1d5\" y=\"151.365688\"/>\r\n     <use style=\"fill:#1f77b4;fill-opacity:0.5;stroke:#1f77b4;stroke-opacity:0.5;\" x=\"160.812813\" xlink:href=\"#m099be6a1d5\" y=\"138.547328\"/>\r\n     <use style=\"fill:#1f77b4;fill-opacity:0.5;stroke:#1f77b4;stroke-opacity:0.5;\" x=\"165.720675\" xlink:href=\"#m099be6a1d5\" y=\"151.429723\"/>\r\n     <use style=\"fill:#1f77b4;fill-opacity:0.5;stroke:#1f77b4;stroke-opacity:0.5;\" x=\"185.523203\" xlink:href=\"#m099be6a1d5\" y=\"126.424814\"/>\r\n     <use style=\"fill:#1f77b4;fill-opacity:0.5;stroke:#1f77b4;stroke-opacity:0.5;\" x=\"257.89377\" xlink:href=\"#m099be6a1d5\" y=\"99.009294\"/>\r\n     <use style=\"fill:#1f77b4;fill-opacity:0.5;stroke:#1f77b4;stroke-opacity:0.5;\" x=\"153.329523\" xlink:href=\"#m099be6a1d5\" y=\"60.823791\"/>\r\n     <use style=\"fill:#1f77b4;fill-opacity:0.5;stroke:#1f77b4;stroke-opacity:0.5;\" x=\"78.868228\" xlink:href=\"#m099be6a1d5\" y=\"211.213688\"/>\r\n     <use style=\"fill:#1f77b4;fill-opacity:0.5;stroke:#1f77b4;stroke-opacity:0.5;\" x=\"190.609229\" xlink:href=\"#m099be6a1d5\" y=\"139.668455\"/>\r\n     <use style=\"fill:#1f77b4;fill-opacity:0.5;stroke:#1f77b4;stroke-opacity:0.5;\" x=\"215.923968\" xlink:href=\"#m099be6a1d5\" y=\"156.869719\"/>\r\n     <use style=\"fill:#1f77b4;fill-opacity:0.5;stroke:#1f77b4;stroke-opacity:0.5;\" x=\"195.681193\" xlink:href=\"#m099be6a1d5\" y=\"116.198807\"/>\r\n     <use style=\"fill:#1f77b4;fill-opacity:0.5;stroke:#1f77b4;stroke-opacity:0.5;\" x=\"211.992975\" xlink:href=\"#m099be6a1d5\" y=\"112.389161\"/>\r\n     <use style=\"fill:#1f77b4;fill-opacity:0.5;stroke:#1f77b4;stroke-opacity:0.5;\" x=\"197.733263\" xlink:href=\"#m099be6a1d5\" y=\"123.361343\"/>\r\n     <use style=\"fill:#1f77b4;fill-opacity:0.5;stroke:#1f77b4;stroke-opacity:0.5;\" x=\"193.066419\" xlink:href=\"#m099be6a1d5\" y=\"124.269286\"/>\r\n     <use style=\"fill:#1f77b4;fill-opacity:0.5;stroke:#1f77b4;stroke-opacity:0.5;\" x=\"183.453702\" xlink:href=\"#m099be6a1d5\" y=\"134.550618\"/>\r\n     <use style=\"fill:#1f77b4;fill-opacity:0.5;stroke:#1f77b4;stroke-opacity:0.5;\" x=\"245.907117\" xlink:href=\"#m099be6a1d5\" y=\"119.98902\"/>\r\n     <use style=\"fill:#1f77b4;fill-opacity:0.5;stroke:#1f77b4;stroke-opacity:0.5;\" x=\"62.113701\" xlink:href=\"#m099be6a1d5\" y=\"122.764439\"/>\r\n     <use style=\"fill:#1f77b4;fill-opacity:0.5;stroke:#1f77b4;stroke-opacity:0.5;\" x=\"165.591507\" xlink:href=\"#m099be6a1d5\" y=\"116.388306\"/>\r\n     <use style=\"fill:#1f77b4;fill-opacity:0.5;stroke:#1f77b4;stroke-opacity:0.5;\" x=\"216.832095\" xlink:href=\"#m099be6a1d5\" y=\"156.885319\"/>\r\n     <use style=\"fill:#1f77b4;fill-opacity:0.5;stroke:#1f77b4;stroke-opacity:0.5;\" x=\"161.236314\" xlink:href=\"#m099be6a1d5\" y=\"133.09595\"/>\r\n     <use style=\"fill:#1f77b4;fill-opacity:0.5;stroke:#1f77b4;stroke-opacity:0.5;\" x=\"254.324594\" xlink:href=\"#m099be6a1d5\" y=\"143.441113\"/>\r\n     <use style=\"fill:#1f77b4;fill-opacity:0.5;stroke:#1f77b4;stroke-opacity:0.5;\" x=\"247.021172\" xlink:href=\"#m099be6a1d5\" y=\"155.707319\"/>\r\n     <use style=\"fill:#1f77b4;fill-opacity:0.5;stroke:#1f77b4;stroke-opacity:0.5;\" x=\"237.685967\" xlink:href=\"#m099be6a1d5\" y=\"52.191941\"/>\r\n     <use style=\"fill:#1f77b4;fill-opacity:0.5;stroke:#1f77b4;stroke-opacity:0.5;\" x=\"153.08556\" xlink:href=\"#m099be6a1d5\" y=\"96.534764\"/>\r\n     <use style=\"fill:#1f77b4;fill-opacity:0.5;stroke:#1f77b4;stroke-opacity:0.5;\" x=\"239.320786\" xlink:href=\"#m099be6a1d5\" y=\"105.458104\"/>\r\n     <use style=\"fill:#1f77b4;fill-opacity:0.5;stroke:#1f77b4;stroke-opacity:0.5;\" x=\"99.189776\" xlink:href=\"#m099be6a1d5\" y=\"133.360045\"/>\r\n     <use style=\"fill:#1f77b4;fill-opacity:0.5;stroke:#1f77b4;stroke-opacity:0.5;\" x=\"168.208382\" xlink:href=\"#m099be6a1d5\" y=\"181.790247\"/>\r\n     <use style=\"fill:#1f77b4;fill-opacity:0.5;stroke:#1f77b4;stroke-opacity:0.5;\" x=\"176.725357\" xlink:href=\"#m099be6a1d5\" y=\"101.734473\"/>\r\n     <use style=\"fill:#1f77b4;fill-opacity:0.5;stroke:#1f77b4;stroke-opacity:0.5;\" x=\"180.359815\" xlink:href=\"#m099be6a1d5\" y=\"100.139539\"/>\r\n     <use style=\"fill:#1f77b4;fill-opacity:0.5;stroke:#1f77b4;stroke-opacity:0.5;\" x=\"174.572534\" xlink:href=\"#m099be6a1d5\" y=\"123.362371\"/>\r\n     <use style=\"fill:#1f77b4;fill-opacity:0.5;stroke:#1f77b4;stroke-opacity:0.5;\" x=\"248.874288\" xlink:href=\"#m099be6a1d5\" y=\"55.09582\"/>\r\n     <use style=\"fill:#1f77b4;fill-opacity:0.5;stroke:#1f77b4;stroke-opacity:0.5;\" x=\"190.181555\" xlink:href=\"#m099be6a1d5\" y=\"129.082438\"/>\r\n     <use style=\"fill:#1f77b4;fill-opacity:0.5;stroke:#1f77b4;stroke-opacity:0.5;\" x=\"143.439844\" xlink:href=\"#m099be6a1d5\" y=\"118.030464\"/>\r\n     <use style=\"fill:#1f77b4;fill-opacity:0.5;stroke:#1f77b4;stroke-opacity:0.5;\" x=\"251.515435\" xlink:href=\"#m099be6a1d5\" y=\"62.500047\"/>\r\n     <use style=\"fill:#1f77b4;fill-opacity:0.5;stroke:#1f77b4;stroke-opacity:0.5;\" x=\"220.470052\" xlink:href=\"#m099be6a1d5\" y=\"56.415335\"/>\r\n     <use style=\"fill:#1f77b4;fill-opacity:0.5;stroke:#1f77b4;stroke-opacity:0.5;\" x=\"182.964003\" xlink:href=\"#m099be6a1d5\" y=\"149.158011\"/>\r\n     <use style=\"fill:#1f77b4;fill-opacity:0.5;stroke:#1f77b4;stroke-opacity:0.5;\" x=\"248.443934\" xlink:href=\"#m099be6a1d5\" y=\"156.658169\"/>\r\n     <use style=\"fill:#1f77b4;fill-opacity:0.5;stroke:#1f77b4;stroke-opacity:0.5;\" x=\"167.915555\" xlink:href=\"#m099be6a1d5\" y=\"126.343055\"/>\r\n     <use style=\"fill:#1f77b4;fill-opacity:0.5;stroke:#1f77b4;stroke-opacity:0.5;\" x=\"275.857487\" xlink:href=\"#m099be6a1d5\" y=\"126.976392\"/>\r\n     <use style=\"fill:#1f77b4;fill-opacity:0.5;stroke:#1f77b4;stroke-opacity:0.5;\" x=\"134.703751\" xlink:href=\"#m099be6a1d5\" y=\"149.119944\"/>\r\n     <use style=\"fill:#1f77b4;fill-opacity:0.5;stroke:#1f77b4;stroke-opacity:0.5;\" x=\"96.241795\" xlink:href=\"#m099be6a1d5\" y=\"137.133661\"/>\r\n     <use style=\"fill:#1f77b4;fill-opacity:0.5;stroke:#1f77b4;stroke-opacity:0.5;\" x=\"175.483606\" xlink:href=\"#m099be6a1d5\" y=\"133.282233\"/>\r\n     <use style=\"fill:#1f77b4;fill-opacity:0.5;stroke:#1f77b4;stroke-opacity:0.5;\" x=\"200.229029\" xlink:href=\"#m099be6a1d5\" y=\"152.199537\"/>\r\n     <use style=\"fill:#1f77b4;fill-opacity:0.5;stroke:#1f77b4;stroke-opacity:0.5;\" x=\"219.907476\" xlink:href=\"#m099be6a1d5\" y=\"138.101781\"/>\r\n     <use style=\"fill:#1f77b4;fill-opacity:0.5;stroke:#1f77b4;stroke-opacity:0.5;\" x=\"94.377876\" xlink:href=\"#m099be6a1d5\" y=\"214.756364\"/>\r\n     <use style=\"fill:#1f77b4;fill-opacity:0.5;stroke:#1f77b4;stroke-opacity:0.5;\" x=\"155.935082\" xlink:href=\"#m099be6a1d5\" y=\"134.674274\"/>\r\n     <use style=\"fill:#1f77b4;fill-opacity:0.5;stroke:#1f77b4;stroke-opacity:0.5;\" x=\"164.436471\" xlink:href=\"#m099be6a1d5\" y=\"60.495065\"/>\r\n     <use style=\"fill:#1f77b4;fill-opacity:0.5;stroke:#1f77b4;stroke-opacity:0.5;\" x=\"136.17529\" xlink:href=\"#m099be6a1d5\" y=\"178.204575\"/>\r\n     <use style=\"fill:#1f77b4;fill-opacity:0.5;stroke:#1f77b4;stroke-opacity:0.5;\" x=\"274.792224\" xlink:href=\"#m099be6a1d5\" y=\"172.266084\"/>\r\n     <use style=\"fill:#1f77b4;fill-opacity:0.5;stroke:#1f77b4;stroke-opacity:0.5;\" x=\"123.19325\" xlink:href=\"#m099be6a1d5\" y=\"159.649161\"/>\r\n     <use style=\"fill:#1f77b4;fill-opacity:0.5;stroke:#1f77b4;stroke-opacity:0.5;\" x=\"146.223492\" xlink:href=\"#m099be6a1d5\" y=\"175.828217\"/>\r\n     <use style=\"fill:#1f77b4;fill-opacity:0.5;stroke:#1f77b4;stroke-opacity:0.5;\" x=\"123.323595\" xlink:href=\"#m099be6a1d5\" y=\"143.205488\"/>\r\n     <use style=\"fill:#1f77b4;fill-opacity:0.5;stroke:#1f77b4;stroke-opacity:0.5;\" x=\"273.899319\" xlink:href=\"#m099be6a1d5\" y=\"154.001146\"/>\r\n     <use style=\"fill:#1f77b4;fill-opacity:0.5;stroke:#1f77b4;stroke-opacity:0.5;\" x=\"149.694744\" xlink:href=\"#m099be6a1d5\" y=\"140.890272\"/>\r\n     <use style=\"fill:#1f77b4;fill-opacity:0.5;stroke:#1f77b4;stroke-opacity:0.5;\" x=\"177.930359\" xlink:href=\"#m099be6a1d5\" y=\"168.058822\"/>\r\n     <use style=\"fill:#1f77b4;fill-opacity:0.5;stroke:#1f77b4;stroke-opacity:0.5;\" x=\"72.859551\" xlink:href=\"#m099be6a1d5\" y=\"160.948425\"/>\r\n     <use style=\"fill:#1f77b4;fill-opacity:0.5;stroke:#1f77b4;stroke-opacity:0.5;\" x=\"211.226457\" xlink:href=\"#m099be6a1d5\" y=\"111.732943\"/>\r\n     <use style=\"fill:#1f77b4;fill-opacity:0.5;stroke:#1f77b4;stroke-opacity:0.5;\" x=\"103.297135\" xlink:href=\"#m099be6a1d5\" y=\"155.520879\"/>\r\n     <use style=\"fill:#1f77b4;fill-opacity:0.5;stroke:#1f77b4;stroke-opacity:0.5;\" x=\"241.587967\" xlink:href=\"#m099be6a1d5\" y=\"143.938265\"/>\r\n     <use style=\"fill:#1f77b4;fill-opacity:0.5;stroke:#1f77b4;stroke-opacity:0.5;\" x=\"165.090828\" xlink:href=\"#m099be6a1d5\" y=\"84.255037\"/>\r\n     <use style=\"fill:#1f77b4;fill-opacity:0.5;stroke:#1f77b4;stroke-opacity:0.5;\" x=\"247.682893\" xlink:href=\"#m099be6a1d5\" y=\"112.630049\"/>\r\n     <use style=\"fill:#1f77b4;fill-opacity:0.5;stroke:#1f77b4;stroke-opacity:0.5;\" x=\"229.033276\" xlink:href=\"#m099be6a1d5\" y=\"122.081978\"/>\r\n     <use style=\"fill:#1f77b4;fill-opacity:0.5;stroke:#1f77b4;stroke-opacity:0.5;\" x=\"60.02615\" xlink:href=\"#m099be6a1d5\" y=\"214.611429\"/>\r\n     <use style=\"fill:#1f77b4;fill-opacity:0.5;stroke:#1f77b4;stroke-opacity:0.5;\" x=\"133.610309\" xlink:href=\"#m099be6a1d5\" y=\"144.88458\"/>\r\n     <use style=\"fill:#1f77b4;fill-opacity:0.5;stroke:#1f77b4;stroke-opacity:0.5;\" x=\"168.983058\" xlink:href=\"#m099be6a1d5\" y=\"204.64178\"/>\r\n     <use style=\"fill:#1f77b4;fill-opacity:0.5;stroke:#1f77b4;stroke-opacity:0.5;\" x=\"171.68056\" xlink:href=\"#m099be6a1d5\" y=\"96.839401\"/>\r\n     <use style=\"fill:#1f77b4;fill-opacity:0.5;stroke:#1f77b4;stroke-opacity:0.5;\" x=\"189.201833\" xlink:href=\"#m099be6a1d5\" y=\"99.646852\"/>\r\n     <use style=\"fill:#1f77b4;fill-opacity:0.5;stroke:#1f77b4;stroke-opacity:0.5;\" x=\"247.543635\" xlink:href=\"#m099be6a1d5\" y=\"99.989879\"/>\r\n     <use style=\"fill:#1f77b4;fill-opacity:0.5;stroke:#1f77b4;stroke-opacity:0.5;\" x=\"158.532671\" xlink:href=\"#m099be6a1d5\" y=\"112.431261\"/>\r\n     <use style=\"fill:#1f77b4;fill-opacity:0.5;stroke:#1f77b4;stroke-opacity:0.5;\" x=\"147.052237\" xlink:href=\"#m099be6a1d5\" y=\"83.531427\"/>\r\n     <use style=\"fill:#1f77b4;fill-opacity:0.5;stroke:#1f77b4;stroke-opacity:0.5;\" x=\"247.067242\" xlink:href=\"#m099be6a1d5\" y=\"143.011234\"/>\r\n     <use style=\"fill:#1f77b4;fill-opacity:0.5;stroke:#1f77b4;stroke-opacity:0.5;\" x=\"227.276977\" xlink:href=\"#m099be6a1d5\" y=\"122.609688\"/>\r\n     <use style=\"fill:#1f77b4;fill-opacity:0.5;stroke:#1f77b4;stroke-opacity:0.5;\" x=\"140.870635\" xlink:href=\"#m099be6a1d5\" y=\"157.943701\"/>\r\n     <use style=\"fill:#1f77b4;fill-opacity:0.5;stroke:#1f77b4;stroke-opacity:0.5;\" x=\"146.672753\" xlink:href=\"#m099be6a1d5\" y=\"143.306828\"/>\r\n     <use style=\"fill:#1f77b4;fill-opacity:0.5;stroke:#1f77b4;stroke-opacity:0.5;\" x=\"180.119736\" xlink:href=\"#m099be6a1d5\" y=\"135.403351\"/>\r\n     <use style=\"fill:#1f77b4;fill-opacity:0.5;stroke:#1f77b4;stroke-opacity:0.5;\" x=\"108.848046\" xlink:href=\"#m099be6a1d5\" y=\"96.709533\"/>\r\n     <use style=\"fill:#1f77b4;fill-opacity:0.5;stroke:#1f77b4;stroke-opacity:0.5;\" x=\"214.216484\" xlink:href=\"#m099be6a1d5\" y=\"126.146911\"/>\r\n     <use style=\"fill:#1f77b4;fill-opacity:0.5;stroke:#1f77b4;stroke-opacity:0.5;\" x=\"129.39209\" xlink:href=\"#m099be6a1d5\" y=\"113.120831\"/>\r\n     <use style=\"fill:#1f77b4;fill-opacity:0.5;stroke:#1f77b4;stroke-opacity:0.5;\" x=\"103.610604\" xlink:href=\"#m099be6a1d5\" y=\"69.965903\"/>\r\n     <use style=\"fill:#1f77b4;fill-opacity:0.5;stroke:#1f77b4;stroke-opacity:0.5;\" x=\"181.893912\" xlink:href=\"#m099be6a1d5\" y=\"134.815281\"/>\r\n     <use style=\"fill:#1f77b4;fill-opacity:0.5;stroke:#1f77b4;stroke-opacity:0.5;\" x=\"159.898674\" xlink:href=\"#m099be6a1d5\" y=\"79.847427\"/>\r\n     <use style=\"fill:#1f77b4;fill-opacity:0.5;stroke:#1f77b4;stroke-opacity:0.5;\" x=\"122.4226\" xlink:href=\"#m099be6a1d5\" y=\"142.616232\"/>\r\n     <use style=\"fill:#1f77b4;fill-opacity:0.5;stroke:#1f77b4;stroke-opacity:0.5;\" x=\"108.297886\" xlink:href=\"#m099be6a1d5\" y=\"102.05396\"/>\r\n     <use style=\"fill:#1f77b4;fill-opacity:0.5;stroke:#1f77b4;stroke-opacity:0.5;\" x=\"172.24037\" xlink:href=\"#m099be6a1d5\" y=\"130.826229\"/>\r\n     <use style=\"fill:#1f77b4;fill-opacity:0.5;stroke:#1f77b4;stroke-opacity:0.5;\" x=\"148.494869\" xlink:href=\"#m099be6a1d5\" y=\"197.767445\"/>\r\n     <use style=\"fill:#1f77b4;fill-opacity:0.5;stroke:#1f77b4;stroke-opacity:0.5;\" x=\"155.360872\" xlink:href=\"#m099be6a1d5\" y=\"119.914639\"/>\r\n     <use style=\"fill:#1f77b4;fill-opacity:0.5;stroke:#1f77b4;stroke-opacity:0.5;\" x=\"308.704044\" xlink:href=\"#m099be6a1d5\" y=\"115.662442\"/>\r\n     <use style=\"fill:#1f77b4;fill-opacity:0.5;stroke:#1f77b4;stroke-opacity:0.5;\" x=\"200.526621\" xlink:href=\"#m099be6a1d5\" y=\"88.936973\"/>\r\n     <use style=\"fill:#1f77b4;fill-opacity:0.5;stroke:#1f77b4;stroke-opacity:0.5;\" x=\"241.86073\" xlink:href=\"#m099be6a1d5\" y=\"128.779208\"/>\r\n     <use style=\"fill:#1f77b4;fill-opacity:0.5;stroke:#1f77b4;stroke-opacity:0.5;\" x=\"162.42171\" xlink:href=\"#m099be6a1d5\" y=\"161.990939\"/>\r\n     <use style=\"fill:#1f77b4;fill-opacity:0.5;stroke:#1f77b4;stroke-opacity:0.5;\" x=\"71.257428\" xlink:href=\"#m099be6a1d5\" y=\"157.691901\"/>\r\n     <use style=\"fill:#1f77b4;fill-opacity:0.5;stroke:#1f77b4;stroke-opacity:0.5;\" x=\"188.726906\" xlink:href=\"#m099be6a1d5\" y=\"79.214061\"/>\r\n     <use style=\"fill:#1f77b4;fill-opacity:0.5;stroke:#1f77b4;stroke-opacity:0.5;\" x=\"142.325855\" xlink:href=\"#m099be6a1d5\" y=\"102.911121\"/>\r\n     <use style=\"fill:#1f77b4;fill-opacity:0.5;stroke:#1f77b4;stroke-opacity:0.5;\" x=\"191.833673\" xlink:href=\"#m099be6a1d5\" y=\"75.498362\"/>\r\n     <use style=\"fill:#1f77b4;fill-opacity:0.5;stroke:#1f77b4;stroke-opacity:0.5;\" x=\"155.390956\" xlink:href=\"#m099be6a1d5\" y=\"121.426647\"/>\r\n     <use style=\"fill:#1f77b4;fill-opacity:0.5;stroke:#1f77b4;stroke-opacity:0.5;\" x=\"204.245614\" xlink:href=\"#m099be6a1d5\" y=\"150.003343\"/>\r\n     <use style=\"fill:#1f77b4;fill-opacity:0.5;stroke:#1f77b4;stroke-opacity:0.5;\" x=\"189.777378\" xlink:href=\"#m099be6a1d5\" y=\"77.087114\"/>\r\n     <use style=\"fill:#1f77b4;fill-opacity:0.5;stroke:#1f77b4;stroke-opacity:0.5;\" x=\"168.117026\" xlink:href=\"#m099be6a1d5\" y=\"196.653956\"/>\r\n     <use style=\"fill:#1f77b4;fill-opacity:0.5;stroke:#1f77b4;stroke-opacity:0.5;\" x=\"104.412309\" xlink:href=\"#m099be6a1d5\" y=\"174.773893\"/>\r\n     <use style=\"fill:#1f77b4;fill-opacity:0.5;stroke:#1f77b4;stroke-opacity:0.5;\" x=\"145.981878\" xlink:href=\"#m099be6a1d5\" y=\"148.499187\"/>\r\n     <use style=\"fill:#1f77b4;fill-opacity:0.5;stroke:#1f77b4;stroke-opacity:0.5;\" x=\"129.022069\" xlink:href=\"#m099be6a1d5\" y=\"97.239665\"/>\r\n     <use style=\"fill:#1f77b4;fill-opacity:0.5;stroke:#1f77b4;stroke-opacity:0.5;\" x=\"118.574401\" xlink:href=\"#m099be6a1d5\" y=\"115.679405\"/>\r\n     <use style=\"fill:#1f77b4;fill-opacity:0.5;stroke:#1f77b4;stroke-opacity:0.5;\" x=\"173.611102\" xlink:href=\"#m099be6a1d5\" y=\"96.395075\"/>\r\n     <use style=\"fill:#1f77b4;fill-opacity:0.5;stroke:#1f77b4;stroke-opacity:0.5;\" x=\"202.477581\" xlink:href=\"#m099be6a1d5\" y=\"164.140026\"/>\r\n     <use style=\"fill:#1f77b4;fill-opacity:0.5;stroke:#1f77b4;stroke-opacity:0.5;\" x=\"176.972834\" xlink:href=\"#m099be6a1d5\" y=\"107.190357\"/>\r\n     <use style=\"fill:#1f77b4;fill-opacity:0.5;stroke:#1f77b4;stroke-opacity:0.5;\" x=\"230.876105\" xlink:href=\"#m099be6a1d5\" y=\"107.579251\"/>\r\n     <use style=\"fill:#1f77b4;fill-opacity:0.5;stroke:#1f77b4;stroke-opacity:0.5;\" x=\"58.188931\" xlink:href=\"#m099be6a1d5\" y=\"164.423331\"/>\r\n     <use style=\"fill:#1f77b4;fill-opacity:0.5;stroke:#1f77b4;stroke-opacity:0.5;\" x=\"320.022127\" xlink:href=\"#m099be6a1d5\" y=\"140.772005\"/>\r\n     <use style=\"fill:#1f77b4;fill-opacity:0.5;stroke:#1f77b4;stroke-opacity:0.5;\" x=\"201.661139\" xlink:href=\"#m099be6a1d5\" y=\"116.405922\"/>\r\n     <use style=\"fill:#1f77b4;fill-opacity:0.5;stroke:#1f77b4;stroke-opacity:0.5;\" x=\"178.944895\" xlink:href=\"#m099be6a1d5\" y=\"113.316903\"/>\r\n     <use style=\"fill:#1f77b4;fill-opacity:0.5;stroke:#1f77b4;stroke-opacity:0.5;\" x=\"163.494355\" xlink:href=\"#m099be6a1d5\" y=\"102.137216\"/>\r\n     <use style=\"fill:#1f77b4;fill-opacity:0.5;stroke:#1f77b4;stroke-opacity:0.5;\" x=\"142.539602\" xlink:href=\"#m099be6a1d5\" y=\"148.00814\"/>\r\n     <use style=\"fill:#1f77b4;fill-opacity:0.5;stroke:#1f77b4;stroke-opacity:0.5;\" x=\"217.232718\" xlink:href=\"#m099be6a1d5\" y=\"159.089902\"/>\r\n     <use style=\"fill:#1f77b4;fill-opacity:0.5;stroke:#1f77b4;stroke-opacity:0.5;\" x=\"196.523334\" xlink:href=\"#m099be6a1d5\" y=\"107.996027\"/>\r\n     <use style=\"fill:#1f77b4;fill-opacity:0.5;stroke:#1f77b4;stroke-opacity:0.5;\" x=\"164.543132\" xlink:href=\"#m099be6a1d5\" y=\"113.43108\"/>\r\n     <use style=\"fill:#1f77b4;fill-opacity:0.5;stroke:#1f77b4;stroke-opacity:0.5;\" x=\"220.158827\" xlink:href=\"#m099be6a1d5\" y=\"122.526223\"/>\r\n     <use style=\"fill:#1f77b4;fill-opacity:0.5;stroke:#1f77b4;stroke-opacity:0.5;\" x=\"215.763494\" xlink:href=\"#m099be6a1d5\" y=\"145.939298\"/>\r\n     <use style=\"fill:#1f77b4;fill-opacity:0.5;stroke:#1f77b4;stroke-opacity:0.5;\" x=\"127.557733\" xlink:href=\"#m099be6a1d5\" y=\"117.660649\"/>\r\n     <use style=\"fill:#1f77b4;fill-opacity:0.5;stroke:#1f77b4;stroke-opacity:0.5;\" x=\"96.083064\" xlink:href=\"#m099be6a1d5\" y=\"109.302125\"/>\r\n     <use style=\"fill:#1f77b4;fill-opacity:0.5;stroke:#1f77b4;stroke-opacity:0.5;\" x=\"170.018041\" xlink:href=\"#m099be6a1d5\" y=\"107.629207\"/>\r\n     <use style=\"fill:#1f77b4;fill-opacity:0.5;stroke:#1f77b4;stroke-opacity:0.5;\" x=\"173.513757\" xlink:href=\"#m099be6a1d5\" y=\"58.766398\"/>\r\n     <use style=\"fill:#1f77b4;fill-opacity:0.5;stroke:#1f77b4;stroke-opacity:0.5;\" x=\"244.019666\" xlink:href=\"#m099be6a1d5\" y=\"140.33093\"/>\r\n     <use style=\"fill:#1f77b4;fill-opacity:0.5;stroke:#1f77b4;stroke-opacity:0.5;\" x=\"98.403467\" xlink:href=\"#m099be6a1d5\" y=\"108.303282\"/>\r\n     <use style=\"fill:#1f77b4;fill-opacity:0.5;stroke:#1f77b4;stroke-opacity:0.5;\" x=\"243.858051\" xlink:href=\"#m099be6a1d5\" y=\"133.260564\"/>\r\n     <use style=\"fill:#1f77b4;fill-opacity:0.5;stroke:#1f77b4;stroke-opacity:0.5;\" x=\"208.481784\" xlink:href=\"#m099be6a1d5\" y=\"141.592263\"/>\r\n     <use style=\"fill:#1f77b4;fill-opacity:0.5;stroke:#1f77b4;stroke-opacity:0.5;\" x=\"295.931443\" xlink:href=\"#m099be6a1d5\" y=\"156.110065\"/>\r\n     <use style=\"fill:#1f77b4;fill-opacity:0.5;stroke:#1f77b4;stroke-opacity:0.5;\" x=\"177.93702\" xlink:href=\"#m099be6a1d5\" y=\"108.000456\"/>\r\n     <use style=\"fill:#1f77b4;fill-opacity:0.5;stroke:#1f77b4;stroke-opacity:0.5;\" x=\"188.508451\" xlink:href=\"#m099be6a1d5\" y=\"106.759243\"/>\r\n     <use style=\"fill:#1f77b4;fill-opacity:0.5;stroke:#1f77b4;stroke-opacity:0.5;\" x=\"124.361997\" xlink:href=\"#m099be6a1d5\" y=\"124.410969\"/>\r\n     <use style=\"fill:#1f77b4;fill-opacity:0.5;stroke:#1f77b4;stroke-opacity:0.5;\" x=\"189.188491\" xlink:href=\"#m099be6a1d5\" y=\"160.384133\"/>\r\n     <use style=\"fill:#1f77b4;fill-opacity:0.5;stroke:#1f77b4;stroke-opacity:0.5;\" x=\"150.94957\" xlink:href=\"#m099be6a1d5\" y=\"148.974306\"/>\r\n     <use style=\"fill:#1f77b4;fill-opacity:0.5;stroke:#1f77b4;stroke-opacity:0.5;\" x=\"178.509936\" xlink:href=\"#m099be6a1d5\" y=\"114.641428\"/>\r\n     <use style=\"fill:#1f77b4;fill-opacity:0.5;stroke:#1f77b4;stroke-opacity:0.5;\" x=\"302.169374\" xlink:href=\"#m099be6a1d5\" y=\"68.90494\"/>\r\n     <use style=\"fill:#1f77b4;fill-opacity:0.5;stroke:#1f77b4;stroke-opacity:0.5;\" x=\"173.445375\" xlink:href=\"#m099be6a1d5\" y=\"117.624696\"/>\r\n     <use style=\"fill:#1f77b4;fill-opacity:0.5;stroke:#1f77b4;stroke-opacity:0.5;\" x=\"224.142112\" xlink:href=\"#m099be6a1d5\" y=\"133.034609\"/>\r\n     <use style=\"fill:#1f77b4;fill-opacity:0.5;stroke:#1f77b4;stroke-opacity:0.5;\" x=\"195.28881\" xlink:href=\"#m099be6a1d5\" y=\"101.22213\"/>\r\n     <use style=\"fill:#1f77b4;fill-opacity:0.5;stroke:#1f77b4;stroke-opacity:0.5;\" x=\"163.808414\" xlink:href=\"#m099be6a1d5\" y=\"110.359645\"/>\r\n     <use style=\"fill:#1f77b4;fill-opacity:0.5;stroke:#1f77b4;stroke-opacity:0.5;\" x=\"197.249319\" xlink:href=\"#m099be6a1d5\" y=\"124.804241\"/>\r\n     <use style=\"fill:#1f77b4;fill-opacity:0.5;stroke:#1f77b4;stroke-opacity:0.5;\" x=\"156.286187\" xlink:href=\"#m099be6a1d5\" y=\"89.433576\"/>\r\n     <use style=\"fill:#1f77b4;fill-opacity:0.5;stroke:#1f77b4;stroke-opacity:0.5;\" x=\"167.835391\" xlink:href=\"#m099be6a1d5\" y=\"129.074214\"/>\r\n     <use style=\"fill:#1f77b4;fill-opacity:0.5;stroke:#1f77b4;stroke-opacity:0.5;\" x=\"220.908035\" xlink:href=\"#m099be6a1d5\" y=\"124.929983\"/>\r\n     <use style=\"fill:#1f77b4;fill-opacity:0.5;stroke:#1f77b4;stroke-opacity:0.5;\" x=\"284.989476\" xlink:href=\"#m099be6a1d5\" y=\"126.150681\"/>\r\n     <use style=\"fill:#1f77b4;fill-opacity:0.5;stroke:#1f77b4;stroke-opacity:0.5;\" x=\"188.415828\" xlink:href=\"#m099be6a1d5\" y=\"72.805137\"/>\r\n     <use style=\"fill:#1f77b4;fill-opacity:0.5;stroke:#1f77b4;stroke-opacity:0.5;\" x=\"222.985405\" xlink:href=\"#m099be6a1d5\" y=\"81.894507\"/>\r\n     <use style=\"fill:#1f77b4;fill-opacity:0.5;stroke:#1f77b4;stroke-opacity:0.5;\" x=\"46.122882\" xlink:href=\"#m099be6a1d5\" y=\"138.096646\"/>\r\n     <use style=\"fill:#1f77b4;fill-opacity:0.5;stroke:#1f77b4;stroke-opacity:0.5;\" x=\"206.283458\" xlink:href=\"#m099be6a1d5\" y=\"115.575899\"/>\r\n     <use style=\"fill:#1f77b4;fill-opacity:0.5;stroke:#1f77b4;stroke-opacity:0.5;\" x=\"74.03488\" xlink:href=\"#m099be6a1d5\" y=\"146.827586\"/>\r\n     <use style=\"fill:#1f77b4;fill-opacity:0.5;stroke:#1f77b4;stroke-opacity:0.5;\" x=\"135.040343\" xlink:href=\"#m099be6a1d5\" y=\"120.800721\"/>\r\n     <use style=\"fill:#1f77b4;fill-opacity:0.5;stroke:#1f77b4;stroke-opacity:0.5;\" x=\"156.435392\" xlink:href=\"#m099be6a1d5\" y=\"144.702909\"/>\r\n     <use style=\"fill:#1f77b4;fill-opacity:0.5;stroke:#1f77b4;stroke-opacity:0.5;\" x=\"230.814724\" xlink:href=\"#m099be6a1d5\" y=\"145.234933\"/>\r\n     <use style=\"fill:#1f77b4;fill-opacity:0.5;stroke:#1f77b4;stroke-opacity:0.5;\" x=\"163.820656\" xlink:href=\"#m099be6a1d5\" y=\"124.476928\"/>\r\n     <use style=\"fill:#1f77b4;fill-opacity:0.5;stroke:#1f77b4;stroke-opacity:0.5;\" x=\"202.746189\" xlink:href=\"#m099be6a1d5\" y=\"168.45484\"/>\r\n     <use style=\"fill:#1f77b4;fill-opacity:0.5;stroke:#1f77b4;stroke-opacity:0.5;\" x=\"105.525883\" xlink:href=\"#m099be6a1d5\" y=\"100.802776\"/>\r\n     <use style=\"fill:#1f77b4;fill-opacity:0.5;stroke:#1f77b4;stroke-opacity:0.5;\" x=\"120.365533\" xlink:href=\"#m099be6a1d5\" y=\"122.051637\"/>\r\n     <use style=\"fill:#1f77b4;fill-opacity:0.5;stroke:#1f77b4;stroke-opacity:0.5;\" x=\"94.101131\" xlink:href=\"#m099be6a1d5\" y=\"135.076366\"/>\r\n     <use style=\"fill:#1f77b4;fill-opacity:0.5;stroke:#1f77b4;stroke-opacity:0.5;\" x=\"150.724683\" xlink:href=\"#m099be6a1d5\" y=\"164.875615\"/>\r\n     <use style=\"fill:#1f77b4;fill-opacity:0.5;stroke:#1f77b4;stroke-opacity:0.5;\" x=\"153.083188\" xlink:href=\"#m099be6a1d5\" y=\"136.689363\"/>\r\n     <use style=\"fill:#1f77b4;fill-opacity:0.5;stroke:#1f77b4;stroke-opacity:0.5;\" x=\"137.493087\" xlink:href=\"#m099be6a1d5\" y=\"138.488248\"/>\r\n     <use style=\"fill:#1f77b4;fill-opacity:0.5;stroke:#1f77b4;stroke-opacity:0.5;\" x=\"214.663225\" xlink:href=\"#m099be6a1d5\" y=\"135.371684\"/>\r\n     <use style=\"fill:#1f77b4;fill-opacity:0.5;stroke:#1f77b4;stroke-opacity:0.5;\" x=\"153.143366\" xlink:href=\"#m099be6a1d5\" y=\"140.481875\"/>\r\n     <use style=\"fill:#1f77b4;fill-opacity:0.5;stroke:#1f77b4;stroke-opacity:0.5;\" x=\"209.451181\" xlink:href=\"#m099be6a1d5\" y=\"186.445929\"/>\r\n     <use style=\"fill:#1f77b4;fill-opacity:0.5;stroke:#1f77b4;stroke-opacity:0.5;\" x=\"114.446629\" xlink:href=\"#m099be6a1d5\" y=\"99.388631\"/>\r\n     <use style=\"fill:#1f77b4;fill-opacity:0.5;stroke:#1f77b4;stroke-opacity:0.5;\" x=\"173.543404\" xlink:href=\"#m099be6a1d5\" y=\"113.770434\"/>\r\n     <use style=\"fill:#1f77b4;fill-opacity:0.5;stroke:#1f77b4;stroke-opacity:0.5;\" x=\"169.997626\" xlink:href=\"#m099be6a1d5\" y=\"120.199999\"/>\r\n     <use style=\"fill:#1f77b4;fill-opacity:0.5;stroke:#1f77b4;stroke-opacity:0.5;\" x=\"191.5734\" xlink:href=\"#m099be6a1d5\" y=\"133.116981\"/>\r\n     <use style=\"fill:#1f77b4;fill-opacity:0.5;stroke:#1f77b4;stroke-opacity:0.5;\" x=\"146.238624\" xlink:href=\"#m099be6a1d5\" y=\"101.290595\"/>\r\n     <use style=\"fill:#1f77b4;fill-opacity:0.5;stroke:#1f77b4;stroke-opacity:0.5;\" x=\"112.877293\" xlink:href=\"#m099be6a1d5\" y=\"102.99794\"/>\r\n     <use style=\"fill:#1f77b4;fill-opacity:0.5;stroke:#1f77b4;stroke-opacity:0.5;\" x=\"223.140518\" xlink:href=\"#m099be6a1d5\" y=\"129.82584\"/>\r\n     <use style=\"fill:#1f77b4;fill-opacity:0.5;stroke:#1f77b4;stroke-opacity:0.5;\" x=\"235.146122\" xlink:href=\"#m099be6a1d5\" y=\"129.664313\"/>\r\n     <use style=\"fill:#1f77b4;fill-opacity:0.5;stroke:#1f77b4;stroke-opacity:0.5;\" x=\"194.933497\" xlink:href=\"#m099be6a1d5\" y=\"164.14013\"/>\r\n     <use style=\"fill:#1f77b4;fill-opacity:0.5;stroke:#1f77b4;stroke-opacity:0.5;\" x=\"348.524006\" xlink:href=\"#m099be6a1d5\" y=\"124.128337\"/>\r\n     <use style=\"fill:#1f77b4;fill-opacity:0.5;stroke:#1f77b4;stroke-opacity:0.5;\" x=\"222.74263\" xlink:href=\"#m099be6a1d5\" y=\"149.927073\"/>\r\n     <use style=\"fill:#1f77b4;fill-opacity:0.5;stroke:#1f77b4;stroke-opacity:0.5;\" x=\"246.131507\" xlink:href=\"#m099be6a1d5\" y=\"141.882606\"/>\r\n     <use style=\"fill:#1f77b4;fill-opacity:0.5;stroke:#1f77b4;stroke-opacity:0.5;\" x=\"239.216831\" xlink:href=\"#m099be6a1d5\" y=\"100.505361\"/>\r\n     <use style=\"fill:#1f77b4;fill-opacity:0.5;stroke:#1f77b4;stroke-opacity:0.5;\" x=\"141.826841\" xlink:href=\"#m099be6a1d5\" y=\"120.419056\"/>\r\n     <use style=\"fill:#1f77b4;fill-opacity:0.5;stroke:#1f77b4;stroke-opacity:0.5;\" x=\"177.913186\" xlink:href=\"#m099be6a1d5\" y=\"35.391335\"/>\r\n     <use style=\"fill:#1f77b4;fill-opacity:0.5;stroke:#1f77b4;stroke-opacity:0.5;\" x=\"147.260815\" xlink:href=\"#m099be6a1d5\" y=\"102.53635\"/>\r\n     <use style=\"fill:#1f77b4;fill-opacity:0.5;stroke:#1f77b4;stroke-opacity:0.5;\" x=\"268.374841\" xlink:href=\"#m099be6a1d5\" y=\"142.575147\"/>\r\n     <use style=\"fill:#1f77b4;fill-opacity:0.5;stroke:#1f77b4;stroke-opacity:0.5;\" x=\"165.283412\" xlink:href=\"#m099be6a1d5\" y=\"152.155509\"/>\r\n     <use style=\"fill:#1f77b4;fill-opacity:0.5;stroke:#1f77b4;stroke-opacity:0.5;\" x=\"194.680296\" xlink:href=\"#m099be6a1d5\" y=\"121.429758\"/>\r\n     <use style=\"fill:#1f77b4;fill-opacity:0.5;stroke:#1f77b4;stroke-opacity:0.5;\" x=\"172.74074\" xlink:href=\"#m099be6a1d5\" y=\"92.514204\"/>\r\n     <use style=\"fill:#1f77b4;fill-opacity:0.5;stroke:#1f77b4;stroke-opacity:0.5;\" x=\"168.308288\" xlink:href=\"#m099be6a1d5\" y=\"117.39305\"/>\r\n     <use style=\"fill:#1f77b4;fill-opacity:0.5;stroke:#1f77b4;stroke-opacity:0.5;\" x=\"211.11017\" xlink:href=\"#m099be6a1d5\" y=\"89.930822\"/>\r\n     <use style=\"fill:#1f77b4;fill-opacity:0.5;stroke:#1f77b4;stroke-opacity:0.5;\" x=\"270.532731\" xlink:href=\"#m099be6a1d5\" y=\"99.722354\"/>\r\n     <use style=\"fill:#1f77b4;fill-opacity:0.5;stroke:#1f77b4;stroke-opacity:0.5;\" x=\"241.243882\" xlink:href=\"#m099be6a1d5\" y=\"130.153212\"/>\r\n     <use style=\"fill:#1f77b4;fill-opacity:0.5;stroke:#1f77b4;stroke-opacity:0.5;\" x=\"136.142561\" xlink:href=\"#m099be6a1d5\" y=\"91.463695\"/>\r\n     <use style=\"fill:#1f77b4;fill-opacity:0.5;stroke:#1f77b4;stroke-opacity:0.5;\" x=\"155.858277\" xlink:href=\"#m099be6a1d5\" y=\"172.769904\"/>\r\n     <use style=\"fill:#1f77b4;fill-opacity:0.5;stroke:#1f77b4;stroke-opacity:0.5;\" x=\"116.223181\" xlink:href=\"#m099be6a1d5\" y=\"113.958051\"/>\r\n     <use style=\"fill:#1f77b4;fill-opacity:0.5;stroke:#1f77b4;stroke-opacity:0.5;\" x=\"145.388419\" xlink:href=\"#m099be6a1d5\" y=\"95.698536\"/>\r\n     <use style=\"fill:#1f77b4;fill-opacity:0.5;stroke:#1f77b4;stroke-opacity:0.5;\" x=\"123.367433\" xlink:href=\"#m099be6a1d5\" y=\"113.89418\"/>\r\n     <use style=\"fill:#1f77b4;fill-opacity:0.5;stroke:#1f77b4;stroke-opacity:0.5;\" x=\"140.397828\" xlink:href=\"#m099be6a1d5\" y=\"136.472051\"/>\r\n     <use style=\"fill:#1f77b4;fill-opacity:0.5;stroke:#1f77b4;stroke-opacity:0.5;\" x=\"302.205168\" xlink:href=\"#m099be6a1d5\" y=\"141.307478\"/>\r\n     <use style=\"fill:#1f77b4;fill-opacity:0.5;stroke:#1f77b4;stroke-opacity:0.5;\" x=\"187.892735\" xlink:href=\"#m099be6a1d5\" y=\"95.037305\"/>\r\n     <use style=\"fill:#1f77b4;fill-opacity:0.5;stroke:#1f77b4;stroke-opacity:0.5;\" x=\"177.169746\" xlink:href=\"#m099be6a1d5\" y=\"97.503603\"/>\r\n     <use style=\"fill:#1f77b4;fill-opacity:0.5;stroke:#1f77b4;stroke-opacity:0.5;\" x=\"209.310137\" xlink:href=\"#m099be6a1d5\" y=\"177.469221\"/>\r\n     <use style=\"fill:#1f77b4;fill-opacity:0.5;stroke:#1f77b4;stroke-opacity:0.5;\" x=\"170.984103\" xlink:href=\"#m099be6a1d5\" y=\"129.392857\"/>\r\n    </g>\r\n   </g>\r\n   <g id=\"line2d_15\">\r\n    <defs>\r\n     <path d=\"M 0 5 \r\nC 1.326016 5 2.597899 4.473168 3.535534 3.535534 \r\nC 4.473168 2.597899 5 1.326016 5 0 \r\nC 5 -1.326016 4.473168 -2.597899 3.535534 -3.535534 \r\nC 2.597899 -4.473168 1.326016 -5 0 -5 \r\nC -1.326016 -5 -2.597899 -4.473168 -3.535534 -3.535534 \r\nC -4.473168 -2.597899 -5 -1.326016 -5 0 \r\nC -5 1.326016 -4.473168 2.597899 -3.535534 3.535534 \r\nC -2.597899 4.473168 -1.326016 5 0 5 \r\nz\r\n\" id=\"m4352327773\" style=\"stroke:#ff0000;\"/>\r\n    </defs>\r\n    <g clip-path=\"url(#p7ec7904a6f)\">\r\n     <use style=\"fill:#ff0000;stroke:#ff0000;\" x=\"178.923332\" xlink:href=\"#m4352327773\" y=\"125.762079\"/>\r\n    </g>\r\n   </g>\r\n   <g id=\"patch_3\">\r\n    <path d=\"M 28.942188 224.64 \r\nL 28.942188 7.2 \r\n\" style=\"fill:none;stroke:#000000;stroke-linecap:square;stroke-linejoin:miter;stroke-width:0.8;\"/>\r\n   </g>\r\n   <g id=\"patch_4\">\r\n    <path d=\"M 363.742188 224.64 \r\nL 363.742188 7.2 \r\n\" style=\"fill:none;stroke:#000000;stroke-linecap:square;stroke-linejoin:miter;stroke-width:0.8;\"/>\r\n   </g>\r\n   <g id=\"patch_5\">\r\n    <path d=\"M 28.942187 224.64 \r\nL 363.742188 224.64 \r\n\" style=\"fill:none;stroke:#000000;stroke-linecap:square;stroke-linejoin:miter;stroke-width:0.8;\"/>\r\n   </g>\r\n   <g id=\"patch_6\">\r\n    <path d=\"M 28.942187 7.2 \r\nL 363.742188 7.2 \r\n\" style=\"fill:none;stroke:#000000;stroke-linecap:square;stroke-linejoin:miter;stroke-width:0.8;\"/>\r\n   </g>\r\n  </g>\r\n </g>\r\n <defs>\r\n  <clipPath id=\"p7ec7904a6f\">\r\n   <rect height=\"217.44\" width=\"334.8\" x=\"28.942188\" y=\"7.2\"/>\r\n  </clipPath>\r\n </defs>\r\n</svg>\r\n",
      "image/png": "[encoded data removed]"
     },
     "metadata": {
      "needs_background": "light"
     }
    }
   ],
   "source": [
    "plt.plot(a[:,0], a[:,1], 'o', markersize=5, alpha=0.50)\n",
    "plt.plot(m[0], m[1], 'ro', markersize=10)\n",
    "plt.show()"
   ]
  },
  {
   "cell_type": "markdown",
   "metadata": {},
   "source": [
    "## Outras Operações com Arrays"
   ]
  },
  {
   "cell_type": "code",
   "execution_count": 88,
   "metadata": {},
   "outputs": [],
   "source": [
    "# Slicing\n",
    "a = np.diag(np.arange(3))"
   ]
  },
  {
   "cell_type": "code",
   "execution_count": 89,
   "metadata": {},
   "outputs": [
    {
     "output_type": "execute_result",
     "data": {
      "text/plain": [
       "array([[0, 0, 0],\n",
       "       [0, 1, 0],\n",
       "       [0, 0, 2]])"
      ]
     },
     "metadata": {},
     "execution_count": 89
    }
   ],
   "source": [
    "a"
   ]
  },
  {
   "cell_type": "code",
   "execution_count": 90,
   "metadata": {},
   "outputs": [
    {
     "output_type": "execute_result",
     "data": {
      "text/plain": [
       "1"
      ]
     },
     "metadata": {},
     "execution_count": 90
    }
   ],
   "source": [
    "a[1, 1]"
   ]
  },
  {
   "cell_type": "code",
   "execution_count": 91,
   "metadata": {},
   "outputs": [
    {
     "output_type": "execute_result",
     "data": {
      "text/plain": [
       "array([0, 1, 0])"
      ]
     },
     "metadata": {},
     "execution_count": 91
    }
   ],
   "source": [
    "a[1]"
   ]
  },
  {
   "cell_type": "code",
   "execution_count": 92,
   "metadata": {},
   "outputs": [],
   "source": [
    "b = np.arange(10)"
   ]
  },
  {
   "cell_type": "code",
   "execution_count": 93,
   "metadata": {},
   "outputs": [
    {
     "output_type": "execute_result",
     "data": {
      "text/plain": [
       "array([0, 1, 2, 3, 4, 5, 6, 7, 8, 9])"
      ]
     },
     "metadata": {},
     "execution_count": 93
    }
   ],
   "source": [
    "b"
   ]
  },
  {
   "cell_type": "code",
   "execution_count": 94,
   "metadata": {},
   "outputs": [
    {
     "output_type": "execute_result",
     "data": {
      "text/plain": [
       "array([2, 5, 8])"
      ]
     },
     "metadata": {},
     "execution_count": 94
    }
   ],
   "source": [
    "# [start:end:step]\n",
    "b[2:9:3]"
   ]
  },
  {
   "cell_type": "code",
   "execution_count": 95,
   "metadata": {},
   "outputs": [
    {
     "output_type": "execute_result",
     "data": {
      "text/plain": [
       "array([False,  True, False,  True])"
      ]
     },
     "metadata": {},
     "execution_count": 95
    }
   ],
   "source": [
    "# Comparação\n",
    "a = np.array([1, 2, 3, 4])\n",
    "b = np.array([4, 2, 2, 4])\n",
    "a == b"
   ]
  },
  {
   "cell_type": "code",
   "execution_count": 96,
   "metadata": {},
   "outputs": [
    {
     "output_type": "execute_result",
     "data": {
      "text/plain": [
       "False"
      ]
     },
     "metadata": {},
     "execution_count": 96
    }
   ],
   "source": [
    "np.array_equal(a, b)"
   ]
  },
  {
   "cell_type": "code",
   "execution_count": 97,
   "metadata": {},
   "outputs": [
    {
     "output_type": "execute_result",
     "data": {
      "text/plain": [
       "1"
      ]
     },
     "metadata": {},
     "execution_count": 97
    }
   ],
   "source": [
    "a.min()"
   ]
  },
  {
   "cell_type": "code",
   "execution_count": 98,
   "metadata": {},
   "outputs": [
    {
     "output_type": "execute_result",
     "data": {
      "text/plain": [
       "4"
      ]
     },
     "metadata": {},
     "execution_count": 98
    }
   ],
   "source": [
    "a.max()"
   ]
  },
  {
   "cell_type": "code",
   "execution_count": 99,
   "metadata": {},
   "outputs": [
    {
     "output_type": "execute_result",
     "data": {
      "text/plain": [
       "array([2.5, 3.5, 4.5])"
      ]
     },
     "metadata": {},
     "execution_count": 99
    }
   ],
   "source": [
    "# Somando um elemento ao array\n",
    "np.array([1, 2, 3]) + 1.5"
   ]
  },
  {
   "cell_type": "code",
   "execution_count": 100,
   "metadata": {},
   "outputs": [],
   "source": [
    "# Usando o método around\n",
    "a = np.array([1.2, 1.5, 1.6, 2.5, 3.5, 4.5])"
   ]
  },
  {
   "cell_type": "code",
   "execution_count": 101,
   "metadata": {},
   "outputs": [],
   "source": [
    "b = np.around(a)"
   ]
  },
  {
   "cell_type": "code",
   "execution_count": 102,
   "metadata": {},
   "outputs": [
    {
     "output_type": "execute_result",
     "data": {
      "text/plain": [
       "array([1., 2., 2., 2., 4., 4.])"
      ]
     },
     "metadata": {},
     "execution_count": 102
    }
   ],
   "source": [
    "b"
   ]
  },
  {
   "cell_type": "code",
   "execution_count": 103,
   "metadata": {},
   "outputs": [],
   "source": [
    "# Criando um array\n",
    "B = np.array([1, 2, 3, 4])"
   ]
  },
  {
   "cell_type": "code",
   "execution_count": 104,
   "metadata": {},
   "outputs": [
    {
     "output_type": "execute_result",
     "data": {
      "text/plain": [
       "array([1, 2, 3, 4])"
      ]
     },
     "metadata": {},
     "execution_count": 104
    }
   ],
   "source": [
    "B"
   ]
  },
  {
   "cell_type": "code",
   "execution_count": 105,
   "metadata": {},
   "outputs": [],
   "source": [
    "# Copiando um array\n",
    "C = B.flatten()"
   ]
  },
  {
   "cell_type": "code",
   "execution_count": 106,
   "metadata": {},
   "outputs": [
    {
     "output_type": "execute_result",
     "data": {
      "text/plain": [
       "array([1, 2, 3, 4])"
      ]
     },
     "metadata": {},
     "execution_count": 106
    }
   ],
   "source": [
    "C"
   ]
  },
  {
   "cell_type": "code",
   "execution_count": 107,
   "metadata": {},
   "outputs": [],
   "source": [
    "# Criando um array\n",
    "v = np.array([1, 2, 3])"
   ]
  },
  {
   "cell_type": "code",
   "execution_count": 108,
   "metadata": {},
   "outputs": [
    {
     "output_type": "execute_result",
     "data": {
      "text/plain": [
       "(array([[1],\n",
       "        [2],\n",
       "        [3]]),\n",
       " (3, 1),\n",
       " (1, 3))"
      ]
     },
     "metadata": {},
     "execution_count": 108
    }
   ],
   "source": [
    "# Adcionando uma dimensão ao array\n",
    "v[:, np.newaxis], v[:,np.newaxis].shape, v[np.newaxis,:].shape"
   ]
  },
  {
   "cell_type": "code",
   "execution_count": 109,
   "metadata": {},
   "outputs": [
    {
     "output_type": "execute_result",
     "data": {
      "text/plain": [
       "array([1, 1, 1, 2, 2, 2, 3, 3, 3])"
      ]
     },
     "metadata": {},
     "execution_count": 109
    }
   ],
   "source": [
    "# Repetindo os elementos de um array\n",
    "np.repeat(v, 3)"
   ]
  },
  {
   "cell_type": "code",
   "execution_count": 110,
   "metadata": {},
   "outputs": [
    {
     "output_type": "execute_result",
     "data": {
      "text/plain": [
       "array([1, 2, 3, 1, 2, 3, 1, 2, 3])"
      ]
     },
     "metadata": {},
     "execution_count": 110
    }
   ],
   "source": [
    "# Repetindo os elementos de um array\n",
    "np.tile(v, 3)"
   ]
  },
  {
   "cell_type": "code",
   "execution_count": 111,
   "metadata": {},
   "outputs": [],
   "source": [
    "# Criando um array\n",
    "w = np.array([5, 6])"
   ]
  },
  {
   "cell_type": "code",
   "execution_count": 112,
   "metadata": {},
   "outputs": [
    {
     "output_type": "execute_result",
     "data": {
      "text/plain": [
       "array([1, 2, 3, 5, 6])"
      ]
     },
     "metadata": {},
     "execution_count": 112
    }
   ],
   "source": [
    "# Concatenando\n",
    "np.concatenate((v, w), axis=0)"
   ]
  },
  {
   "cell_type": "code",
   "execution_count": 113,
   "metadata": {},
   "outputs": [],
   "source": [
    "# Copiando arrays\n",
    "r = np.copy(v)"
   ]
  },
  {
   "cell_type": "code",
   "execution_count": 114,
   "metadata": {},
   "outputs": [
    {
     "output_type": "execute_result",
     "data": {
      "text/plain": [
       "array([1, 2, 3])"
      ]
     },
     "metadata": {},
     "execution_count": 114
    }
   ],
   "source": [
    "r"
   ]
  },
  {
   "cell_type": "markdown",
   "metadata": {},
   "source": [
    "Conheça a Formação Cientista de Dados, um programa completo, 100% online e 100% em português, com mais de 400 horas de carga horária, mais de 1.200 aulas em vídeos e 26 projetos, que vão ajudá-lo a se tornar um dos profissionais mais cobiçados do mercado de análise de dados. Clique no link abaixo, faça sua inscrição, comece hoje mesmo e aumente sua empregabilidade:\n",
    "\n",
    "https://www.datascienceacademy.com.br/pages/formacao-cientista-de-dados"
   ]
  },
  {
   "cell_type": "markdown",
   "metadata": {},
   "source": [
    "# Fim"
   ]
  },
  {
   "cell_type": "markdown",
   "metadata": {},
   "source": [
    "### Obrigado - Data Science Academy - <a href=\"http://facebook.com/dsacademybr\">facebook.com/dsacademybr</a>"
   ]
  }
 ],
 "metadata": {
  "kernelspec": {
   "name": "python3",
   "display_name": "Python 3.8.5 64-bit ('base': conda)"
  },
  "language_info": {
   "codemirror_mode": {
    "name": "ipython",
    "version": 3
   },
   "file_extension": ".py",
   "mimetype": "text/x-python",
   "name": "python",
   "nbconvert_exporter": "python",
   "pygments_lexer": "ipython3",
   "version": "3.8.5"
  },
  "interpreter": {
   "hash": "37b864667c87a838126dae16aee321d7eb448b1869c9bbd772bfcbc64f82a685"
  }
 },
 "nbformat": 4,
 "nbformat_minor": 1
}